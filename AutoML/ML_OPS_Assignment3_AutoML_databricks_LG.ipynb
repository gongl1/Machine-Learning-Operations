{
 "cells": [
  {
   "cell_type": "markdown",
   "metadata": {
    "application/vnd.databricks.v1+cell": {
     "cellMetadata": {},
     "inputWidgets": {},
     "nuid": "8d1549f3-ae13-4221-9a2a-6af637983bd4",
     "showTitle": false,
     "tableResultSettingsMap": {},
     "title": ""
    }
   },
   "source": [
    "Use your chosen MLOps platform for the following -\n",
    "\n",
    "1. Load the (same) athletes dataset.\n",
    "2. With your dataset use AutoML to find the best model (if it is no-code, submit screenshots).\n",
    "3. Report any data insights from AutoML run.\n",
    "4. What are the reported top 5 features?\n",
    "5. What are the top 3 models per validation score when using\n",
    "\n",
    "   5.1 all features\n",
    "\n",
    "   5.2 only the top features (if you have to choose a number put in 3)\n",
    "6. What are the top 3 models per speed when using\n",
    "\n",
    "   6.1 all features\n",
    "   \n",
    "   6.2 only the top features (if you have to choose a number put in 3)\n",
    "7. How does the top models compare to your previously developed model (assignments 1 and 2) in terms of validation score and speed?\n",
    "8. Is your platform AutoML no-code/low-code/full-code and why?\n",
    "9. Repeat 2 - 5 using H2O AutoML (https://docs.h2o.ai/h2o/latest-stable/h2o-docs/automl.htmlLinks to an external site.). Submit code."
   ]
  },
  {
   "cell_type": "markdown",
   "metadata": {
    "application/vnd.databricks.v1+cell": {
     "cellMetadata": {},
     "inputWidgets": {},
     "nuid": "3f33e0c5-9db3-48e5-b175-1113716c05a2",
     "showTitle": false,
     "tableResultSettingsMap": {},
     "title": ""
    }
   },
   "source": [
    "I used ChatGTP 4o to help me understand key concepts and debug codes."
   ]
  },
  {
   "cell_type": "markdown",
   "metadata": {
    "application/vnd.databricks.v1+cell": {
     "cellMetadata": {},
     "inputWidgets": {},
     "nuid": "84b4d7c7-e590-4c35-a137-f0c428fa89d8",
     "showTitle": false,
     "tableResultSettingsMap": {},
     "title": ""
    }
   },
   "source": [
    "### Load Data"
   ]
  },
  {
   "cell_type": "markdown",
   "metadata": {
    "application/vnd.databricks.v1+cell": {
     "cellMetadata": {},
     "inputWidgets": {},
     "nuid": "02bdc61f-9d34-49e2-b435-35ac38b69fdb",
     "showTitle": false,
     "tableResultSettingsMap": {},
     "title": ""
    }
   },
   "source": [
    "My athletes_cleaned dataframe from assginment 2 is saved under workspace->default->athletes_cleaned in databricks. Since I will need to compare results with assginment 2, I will road the same athletes_cleaned from databricks."
   ]
  },
  {
   "cell_type": "code",
   "execution_count": 0,
   "metadata": {
    "application/vnd.databricks.v1+cell": {
     "cellMetadata": {
      "byteLimit": 2048000,
      "rowLimit": 10000
     },
     "inputWidgets": {},
     "nuid": "9239fea3-15cc-4c0e-be6d-ffbe6461e3a3",
     "showTitle": false,
     "tableResultSettingsMap": {},
     "title": ""
    }
   },
   "outputs": [
    {
     "output_type": "execute_result",
     "data": {
      "text/plain": [
       "<dbruntime.UserNamespaceInitializer.TripWire at 0xff23de318850>"
      ]
     },
     "execution_count": 2,
     "metadata": {},
     "output_type": "execute_result"
    }
   ],
   "source": [
    "# Force Spark session to initialize\n",
    "spark"
   ]
  },
  {
   "cell_type": "code",
   "execution_count": 0,
   "metadata": {
    "application/vnd.databricks.v1+cell": {
     "cellMetadata": {
      "byteLimit": 2048000,
      "rowLimit": 10000
     },
     "inputWidgets": {},
     "nuid": "3c9990e4-a693-4f80-9b43-8673bf4e4101",
     "showTitle": false,
     "tableResultSettingsMap": {},
     "title": ""
    }
   },
   "outputs": [
    {
     "output_type": "display_data",
     "data": {
      "text/plain": [
       "\u001B[0;31m---------------------------------------------------------------------------\u001B[0m\n",
       "\u001B[0;31mSystemError\u001B[0m                               Traceback (most recent call last)\n",
       "File \u001B[0;32m<command-5507547720733480>, line 2\u001B[0m\n",
       "\u001B[1;32m      1\u001B[0m \u001B[38;5;66;03m# Reload cleaned table from assginment 2. \u001B[39;00m\n",
       "\u001B[0;32m----> 2\u001B[0m athletes_df \u001B[38;5;241m=\u001B[39m spark\u001B[38;5;241m.\u001B[39mtable(\u001B[38;5;124m\"\u001B[39m\u001B[38;5;124mworkspace.default.athletes_cleaned\u001B[39m\u001B[38;5;124m\"\u001B[39m)\n",
       "\n",
       "File \u001B[0;32m/databricks/python_shell/lib/dbruntime/UserNamespaceInitializer.py:43\u001B[0m, in \u001B[0;36mTripWire.__getattr__\u001B[0;34m(self, item)\u001B[0m\n",
       "\u001B[1;32m     42\u001B[0m \u001B[38;5;28;01mdef\u001B[39;00m \u001B[38;5;21m__getattr__\u001B[39m(\u001B[38;5;28mself\u001B[39m, item):\n",
       "\u001B[0;32m---> 43\u001B[0m     \u001B[38;5;28mself\u001B[39m\u001B[38;5;241m.\u001B[39m_raise()\n",
       "\n",
       "File \u001B[0;32m/databricks/python_shell/lib/dbruntime/UserNamespaceInitializer.py:33\u001B[0m, in \u001B[0;36mTripWire._raise\u001B[0;34m(self)\u001B[0m\n",
       "\u001B[1;32m     31\u001B[0m     \u001B[38;5;28;01mraise\u001B[39;00m \u001B[38;5;28mself\u001B[39m\u001B[38;5;241m.\u001B[39m_exc \u001B[38;5;28;01mfrom\u001B[39;00m \u001B[38;5;21;01mself\u001B[39;00m\u001B[38;5;21;01m.\u001B[39;00m\u001B[38;5;21;01m_exc\u001B[39;00m\u001B[38;5;21;01m.\u001B[39;00m\u001B[38;5;21;01mreason\u001B[39;00m\n",
       "\u001B[1;32m     32\u001B[0m \u001B[38;5;28;01mif\u001B[39;00m \u001B[38;5;28mself\u001B[39m\u001B[38;5;241m.\u001B[39mmsg \u001B[38;5;241m==\u001B[39m \u001B[38;5;124m'\u001B[39m\u001B[38;5;124mnot_implemented\u001B[39m\u001B[38;5;124m'\u001B[39m \u001B[38;5;129;01mand\u001B[39;00m \u001B[38;5;28mself\u001B[39m\u001B[38;5;241m.\u001B[39mname \u001B[38;5;241m==\u001B[39m \u001B[38;5;124m'\u001B[39m\u001B[38;5;124mspark\u001B[39m\u001B[38;5;124m'\u001B[39m:\n",
       "\u001B[0;32m---> 33\u001B[0m     \u001B[38;5;28;01mraise\u001B[39;00m \u001B[38;5;167;01mSystemError\u001B[39;00m(\u001B[38;5;28mself\u001B[39m\u001B[38;5;241m.\u001B[39m_UNINITIALIZED_INTERNAL_ERROR\u001B[38;5;241m.\u001B[39mformat(\u001B[38;5;28mself\u001B[39m\u001B[38;5;241m.\u001B[39mname))\n",
       "\u001B[1;32m     34\u001B[0m \u001B[38;5;28;01mif\u001B[39;00m \u001B[38;5;28mself\u001B[39m\u001B[38;5;241m.\u001B[39mmsg \u001B[38;5;241m==\u001B[39m \u001B[38;5;124m'\u001B[39m\u001B[38;5;124mnot_implemented\u001B[39m\u001B[38;5;124m'\u001B[39m:\n",
       "\u001B[1;32m     35\u001B[0m     \u001B[38;5;28;01mraise\u001B[39;00m \u001B[38;5;167;01mNotImplementedError\u001B[39;00m(\u001B[38;5;28mself\u001B[39m\u001B[38;5;241m.\u001B[39m_UNSUPPORTED_SERVERLESS\u001B[38;5;241m.\u001B[39mformat(\u001B[38;5;28mself\u001B[39m\u001B[38;5;241m.\u001B[39mname))\n",
       "\n",
       "\u001B[0;31mSystemError\u001B[0m: Internal error: spark should be initialized with the first notebook command."
      ]
     },
     "metadata": {
      "application/vnd.databricks.v1+output": {
       "addedWidgets": {},
       "arguments": {},
       "datasetInfos": [],
       "jupyterProps": {
        "ename": "SystemError",
        "evalue": "Internal error: spark should be initialized with the first notebook command."
       },
       "metadata": {
        "errorSummary": "<span class='ansi-red-fg'>SystemError</span>: Internal error: spark should be initialized with the first notebook command."
       },
       "removedWidgets": [],
       "sqlProps": null,
       "stackFrames": [
        "\u001B[0;31m---------------------------------------------------------------------------\u001B[0m",
        "\u001B[0;31mSystemError\u001B[0m                               Traceback (most recent call last)",
        "File \u001B[0;32m<command-5507547720733480>, line 2\u001B[0m\n\u001B[1;32m      1\u001B[0m \u001B[38;5;66;03m# Reload cleaned table from assginment 2. \u001B[39;00m\n\u001B[0;32m----> 2\u001B[0m athletes_df \u001B[38;5;241m=\u001B[39m spark\u001B[38;5;241m.\u001B[39mtable(\u001B[38;5;124m\"\u001B[39m\u001B[38;5;124mworkspace.default.athletes_cleaned\u001B[39m\u001B[38;5;124m\"\u001B[39m)\n",
        "File \u001B[0;32m/databricks/python_shell/lib/dbruntime/UserNamespaceInitializer.py:43\u001B[0m, in \u001B[0;36mTripWire.__getattr__\u001B[0;34m(self, item)\u001B[0m\n\u001B[1;32m     42\u001B[0m \u001B[38;5;28;01mdef\u001B[39;00m \u001B[38;5;21m__getattr__\u001B[39m(\u001B[38;5;28mself\u001B[39m, item):\n\u001B[0;32m---> 43\u001B[0m     \u001B[38;5;28mself\u001B[39m\u001B[38;5;241m.\u001B[39m_raise()\n",
        "File \u001B[0;32m/databricks/python_shell/lib/dbruntime/UserNamespaceInitializer.py:33\u001B[0m, in \u001B[0;36mTripWire._raise\u001B[0;34m(self)\u001B[0m\n\u001B[1;32m     31\u001B[0m     \u001B[38;5;28;01mraise\u001B[39;00m \u001B[38;5;28mself\u001B[39m\u001B[38;5;241m.\u001B[39m_exc \u001B[38;5;28;01mfrom\u001B[39;00m \u001B[38;5;21;01mself\u001B[39;00m\u001B[38;5;21;01m.\u001B[39;00m\u001B[38;5;21;01m_exc\u001B[39;00m\u001B[38;5;21;01m.\u001B[39;00m\u001B[38;5;21;01mreason\u001B[39;00m\n\u001B[1;32m     32\u001B[0m \u001B[38;5;28;01mif\u001B[39;00m \u001B[38;5;28mself\u001B[39m\u001B[38;5;241m.\u001B[39mmsg \u001B[38;5;241m==\u001B[39m \u001B[38;5;124m'\u001B[39m\u001B[38;5;124mnot_implemented\u001B[39m\u001B[38;5;124m'\u001B[39m \u001B[38;5;129;01mand\u001B[39;00m \u001B[38;5;28mself\u001B[39m\u001B[38;5;241m.\u001B[39mname \u001B[38;5;241m==\u001B[39m \u001B[38;5;124m'\u001B[39m\u001B[38;5;124mspark\u001B[39m\u001B[38;5;124m'\u001B[39m:\n\u001B[0;32m---> 33\u001B[0m     \u001B[38;5;28;01mraise\u001B[39;00m \u001B[38;5;167;01mSystemError\u001B[39;00m(\u001B[38;5;28mself\u001B[39m\u001B[38;5;241m.\u001B[39m_UNINITIALIZED_INTERNAL_ERROR\u001B[38;5;241m.\u001B[39mformat(\u001B[38;5;28mself\u001B[39m\u001B[38;5;241m.\u001B[39mname))\n\u001B[1;32m     34\u001B[0m \u001B[38;5;28;01mif\u001B[39;00m \u001B[38;5;28mself\u001B[39m\u001B[38;5;241m.\u001B[39mmsg \u001B[38;5;241m==\u001B[39m \u001B[38;5;124m'\u001B[39m\u001B[38;5;124mnot_implemented\u001B[39m\u001B[38;5;124m'\u001B[39m:\n\u001B[1;32m     35\u001B[0m     \u001B[38;5;28;01mraise\u001B[39;00m \u001B[38;5;167;01mNotImplementedError\u001B[39;00m(\u001B[38;5;28mself\u001B[39m\u001B[38;5;241m.\u001B[39m_UNSUPPORTED_SERVERLESS\u001B[38;5;241m.\u001B[39mformat(\u001B[38;5;28mself\u001B[39m\u001B[38;5;241m.\u001B[39mname))\n",
        "\u001B[0;31mSystemError\u001B[0m: Internal error: spark should be initialized with the first notebook command."
       ],
       "type": "baseError"
      }
     },
     "output_type": "display_data"
    }
   ],
   "source": [
    "# Reload cleaned table from assginment 2. \n",
    "athletes_df = spark.table(\"workspace.default.athletes_cleaned\")"
   ]
  },
  {
   "cell_type": "code",
   "execution_count": 0,
   "metadata": {
    "application/vnd.databricks.v1+cell": {
     "cellMetadata": {
      "byteLimit": 2048000,
      "rowLimit": 10000
     },
     "inputWidgets": {},
     "nuid": "4fa05f6f-263b-40f0-893e-1229cf55dd1d",
     "showTitle": false,
     "tableResultSettingsMap": {},
     "title": ""
    }
   },
   "outputs": [
    {
     "output_type": "display_data",
     "data": {
      "text/html": [
       "<style scoped>\n",
       "  .table-result-container {\n",
       "    max-height: 300px;\n",
       "    overflow: auto;\n",
       "  }\n",
       "  table, th, td {\n",
       "    border: 1px solid black;\n",
       "    border-collapse: collapse;\n",
       "  }\n",
       "  th, td {\n",
       "    padding: 5px;\n",
       "  }\n",
       "  th {\n",
       "    text-align: left;\n",
       "  }\n",
       "</style><div class='table-result-container'><table class='table-result'><thead style='background-color: white'><tr><th>athlete_id</th><th>name</th><th>region</th><th>affiliate</th><th>gender</th><th>age</th><th>height</th><th>weight</th><th>eat</th><th>train</th><th>background</th><th>howlong</th><th>total_lift</th></tr></thead><tbody><tr><td>21269.0</td><td>Erik Acevedo</td><td>Southern California</td><td>CrossFit Training Yard</td><td>Male</td><td>30.0</td><td>71.0</td><td>200.0</td><td>I eat whatever is convenient|</td><td>I workout mostly at a CrossFit Affiliate|I incorporate CrossFit.com workouts|</td><td>College sports</td><td>1-2 years|</td><td>1110.0</td></tr><tr><td>21685.0</td><td>Richard Ablett</td><td>Africa</td><td>Cape CrossFit</td><td>Male</td><td>28.0</td><td>70.0</td><td>176.0</td><td>I eat 1-3 full cheat meals per week|</td><td>I workout mostly at a CrossFit Affiliate|</td><td>No athletic background</td><td>2-4 years|</td><td>910.0</td></tr><tr><td>25464.0</td><td>Joe Abruzzo</td><td>North East</td><td>CrossFit Rapture</td><td>Male</td><td>35.0</td><td>68.0</td><td>225.0</td><td>I eat quality foods but don't measure the amount|</td><td>I workout mostly at a CrossFit Affiliate|I record my workouts|</td><td>Other</td><td>2-4 years|</td><td>1335.0</td></tr><tr><td>43767.0</td><td>Brigham Abbott</td><td>North Central</td><td>River North CrossFit</td><td>Male</td><td>36.0</td><td>71.0</td><td>199.0</td><td>I eat quality foods but don't measure the amount|</td><td>I workout mostly at a CrossFit Affiliate|I have a coach who determines my programming|I record my workouts|</td><td>College sports</td><td>1-2 years|</td><td>1354.0</td></tr><tr><td>55504.0</td><td>Jason Ackerman</td><td>North East</td><td>CrossFit Soulshine</td><td>Male</td><td>36.0</td><td>64.0</td><td>155.0</td><td>I eat strict Paleo|</td><td>I workout mostly at home, work, or a traditional gym|I incorporate CrossFit.com workouts|I record my workouts|</td><td>College sports</td><td>4+ years|</td><td>1225.0</td></tr><tr><td>71305.0</td><td>Jerad Abbott</td><td>North Central</td><td>Koda CrossFit</td><td>Male</td><td>29.0</td><td>69.0</td><td>190.0</td><td>I eat quality foods but don't measure the amount|I eat 1-3 full cheat meals per week|</td><td>I workout mostly at a CrossFit Affiliate|I have a coach who determines my programming|</td><td>College sports</td><td>6-12 months|</td><td>1440.0</td></tr><tr><td>2414.0</td><td>Bill Adams</td><td>South East</td><td>First Coast CrossFit</td><td>Male</td><td>44.0</td><td>69.0</td><td>168.0</td><td>I eat quality foods but don't measure the amount|</td><td>I workout mostly at a CrossFit Affiliate|</td><td>Other</td><td>4+ years|</td><td>1270.0</td></tr><tr><td>2720.0</td><td>Justin Adams</td><td>South Central</td><td>Woodward CrossFit</td><td>Male</td><td>24.0</td><td>68.0</td><td>180.0</td><td>I eat quality foods but don't measure the amount|</td><td>I workout mostly at a CrossFit Affiliate|I have a coach who determines my programming|I record my workouts|</td><td>Other</td><td>2-4 years|</td><td>1435.0</td></tr><tr><td>2818.0</td><td>Andy Adams</td><td>South Central</td><td>Brenham CrossFit</td><td>Male</td><td>26.0</td><td>70.0</td><td>197.0</td><td>I eat quality foods but don't measure the amount|</td><td>I workout mostly at a CrossFit Affiliate|I have a coach who determines my programming|</td><td>Other</td><td>4+ years|</td><td>1500.0</td></tr><tr><td>6922.0</td><td>Daniel Adamson</td><td>South West</td><td>CrossFit The Point</td><td>Male</td><td>31.0</td><td>67.0</td><td>150.0</td><td>I eat quality foods but don't measure the amount|</td><td>I workout mostly at a CrossFit Affiliate|I incorporate CrossFit.com workouts|I write my own programming|I record my workouts|</td><td>College sports</td><td>2-4 years|</td><td>1145.0</td></tr></tbody></table></div>"
      ]
     },
     "metadata": {
      "application/vnd.databricks.v1+output": {
       "addedWidgets": {},
       "aggData": [],
       "aggError": "",
       "aggOverflow": false,
       "aggSchema": [],
       "aggSeriesLimitReached": false,
       "aggType": "",
       "arguments": {},
       "columnCustomDisplayInfos": {},
       "data": [
        [
         21269.0,
         "Erik Acevedo",
         "Southern California",
         "CrossFit Training Yard",
         "Male",
         30.0,
         71.0,
         200.0,
         "I eat whatever is convenient|",
         "I workout mostly at a CrossFit Affiliate|I incorporate CrossFit.com workouts|",
         "College sports",
         "1-2 years|",
         1110.0
        ],
        [
         21685.0,
         "Richard Ablett",
         "Africa",
         "Cape CrossFit",
         "Male",
         28.0,
         70.0,
         176.0,
         "I eat 1-3 full cheat meals per week|",
         "I workout mostly at a CrossFit Affiliate|",
         "No athletic background",
         "2-4 years|",
         910.0
        ],
        [
         25464.0,
         "Joe Abruzzo",
         "North East",
         "CrossFit Rapture",
         "Male",
         35.0,
         68.0,
         225.0,
         "I eat quality foods but don't measure the amount|",
         "I workout mostly at a CrossFit Affiliate|I record my workouts|",
         "Other",
         "2-4 years|",
         1335.0
        ],
        [
         43767.0,
         "Brigham Abbott",
         "North Central",
         "River North CrossFit",
         "Male",
         36.0,
         71.0,
         199.0,
         "I eat quality foods but don't measure the amount|",
         "I workout mostly at a CrossFit Affiliate|I have a coach who determines my programming|I record my workouts|",
         "College sports",
         "1-2 years|",
         1354.0
        ],
        [
         55504.0,
         "Jason Ackerman",
         "North East",
         "CrossFit Soulshine",
         "Male",
         36.0,
         64.0,
         155.0,
         "I eat strict Paleo|",
         "I workout mostly at home, work, or a traditional gym|I incorporate CrossFit.com workouts|I record my workouts|",
         "College sports",
         "4+ years|",
         1225.0
        ],
        [
         71305.0,
         "Jerad Abbott",
         "North Central",
         "Koda CrossFit",
         "Male",
         29.0,
         69.0,
         190.0,
         "I eat quality foods but don't measure the amount|I eat 1-3 full cheat meals per week|",
         "I workout mostly at a CrossFit Affiliate|I have a coach who determines my programming|",
         "College sports",
         "6-12 months|",
         1440.0
        ],
        [
         2414.0,
         "Bill Adams",
         "South East",
         "First Coast CrossFit",
         "Male",
         44.0,
         69.0,
         168.0,
         "I eat quality foods but don't measure the amount|",
         "I workout mostly at a CrossFit Affiliate|",
         "Other",
         "4+ years|",
         1270.0
        ],
        [
         2720.0,
         "Justin Adams",
         "South Central",
         "Woodward CrossFit",
         "Male",
         24.0,
         68.0,
         180.0,
         "I eat quality foods but don't measure the amount|",
         "I workout mostly at a CrossFit Affiliate|I have a coach who determines my programming|I record my workouts|",
         "Other",
         "2-4 years|",
         1435.0
        ],
        [
         2818.0,
         "Andy Adams",
         "South Central",
         "Brenham CrossFit",
         "Male",
         26.0,
         70.0,
         197.0,
         "I eat quality foods but don't measure the amount|",
         "I workout mostly at a CrossFit Affiliate|I have a coach who determines my programming|",
         "Other",
         "4+ years|",
         1500.0
        ],
        [
         6922.0,
         "Daniel Adamson",
         "South West",
         "CrossFit The Point",
         "Male",
         31.0,
         67.0,
         150.0,
         "I eat quality foods but don't measure the amount|",
         "I workout mostly at a CrossFit Affiliate|I incorporate CrossFit.com workouts|I write my own programming|I record my workouts|",
         "College sports",
         "2-4 years|",
         1145.0
        ]
       ],
       "datasetInfos": [],
       "dbfsResultPath": null,
       "isJsonSchema": true,
       "metadata": {},
       "overflow": false,
       "plotOptions": {
        "customPlotOptions": {},
        "displayType": "table",
        "pivotAggregation": null,
        "pivotColumns": null,
        "xColumns": null,
        "yColumns": null
       },
       "removedWidgets": [],
       "schema": [
        {
         "metadata": "{}",
         "name": "athlete_id",
         "type": "\"double\""
        },
        {
         "metadata": "{}",
         "name": "name",
         "type": "\"string\""
        },
        {
         "metadata": "{}",
         "name": "region",
         "type": "\"string\""
        },
        {
         "metadata": "{}",
         "name": "affiliate",
         "type": "\"string\""
        },
        {
         "metadata": "{}",
         "name": "gender",
         "type": "\"string\""
        },
        {
         "metadata": "{}",
         "name": "age",
         "type": "\"double\""
        },
        {
         "metadata": "{}",
         "name": "height",
         "type": "\"double\""
        },
        {
         "metadata": "{}",
         "name": "weight",
         "type": "\"double\""
        },
        {
         "metadata": "{}",
         "name": "eat",
         "type": "\"string\""
        },
        {
         "metadata": "{}",
         "name": "train",
         "type": "\"string\""
        },
        {
         "metadata": "{}",
         "name": "background",
         "type": "\"string\""
        },
        {
         "metadata": "{}",
         "name": "howlong",
         "type": "\"string\""
        },
        {
         "metadata": "{}",
         "name": "total_lift",
         "type": "\"double\""
        }
       ],
       "type": "table"
      }
     },
     "output_type": "display_data"
    }
   ],
   "source": [
    "athletes_df.limit(10).display()"
   ]
  },
  {
   "cell_type": "code",
   "execution_count": 0,
   "metadata": {
    "application/vnd.databricks.v1+cell": {
     "cellMetadata": {
      "byteLimit": 2048000,
      "rowLimit": 10000
     },
     "inputWidgets": {},
     "nuid": "ff735bef-8afb-42e7-a794-fdc05d49d9f7",
     "showTitle": false,
     "tableResultSettingsMap": {},
     "title": ""
    }
   },
   "outputs": [
    {
     "output_type": "stream",
     "name": "stdout",
     "output_type": "stream",
     "text": [
      "root\n |-- athlete_id: double (nullable = true)\n |-- name: string (nullable = true)\n |-- region: string (nullable = true)\n |-- affiliate: string (nullable = true)\n |-- gender: string (nullable = true)\n |-- age: double (nullable = true)\n |-- height: double (nullable = true)\n |-- weight: double (nullable = true)\n |-- eat: string (nullable = true)\n |-- train: string (nullable = true)\n |-- background: string (nullable = true)\n |-- howlong: string (nullable = true)\n |-- total_lift: double (nullable = true)\n\n"
     ]
    }
   ],
   "source": [
    "athletes_df.printSchema()"
   ]
  },
  {
   "cell_type": "code",
   "execution_count": 0,
   "metadata": {
    "application/vnd.databricks.v1+cell": {
     "cellMetadata": {
      "byteLimit": 2048000,
      "rowLimit": 10000
     },
     "inputWidgets": {},
     "nuid": "2bd053b8-a77d-4dea-b04d-8f513444a23f",
     "showTitle": false,
     "tableResultSettingsMap": {},
     "title": ""
    }
   },
   "outputs": [
    {
     "output_type": "stream",
     "name": "stdout",
     "output_type": "stream",
     "text": [
      "Rows: 30015, Columns: 13\n"
     ]
    }
   ],
   "source": [
    "print(f\"Rows: {athletes_df.count()}, Columns: {len(athletes_df.columns)}\")"
   ]
  },
  {
   "cell_type": "code",
   "execution_count": 0,
   "metadata": {
    "application/vnd.databricks.v1+cell": {
     "cellMetadata": {
      "byteLimit": 2048000,
      "rowLimit": 10000
     },
     "inputWidgets": {},
     "nuid": "2bbbf860-7268-4bda-b068-90f82ce81bbe",
     "showTitle": false,
     "tableResultSettingsMap": {},
     "title": ""
    }
   },
   "outputs": [
    {
     "output_type": "execute_result",
     "data": {
      "text/plain": [
       "pyspark.sql.connect.dataframe.DataFrame"
      ]
     },
     "execution_count": 21,
     "metadata": {},
     "output_type": "execute_result"
    }
   ],
   "source": [
    "type(athletes_df)"
   ]
  },
  {
   "cell_type": "code",
   "execution_count": 0,
   "metadata": {
    "application/vnd.databricks.v1+cell": {
     "cellMetadata": {
      "byteLimit": 2048000,
      "rowLimit": 10000
     },
     "inputWidgets": {},
     "nuid": "2eba128e-ccd3-41cf-99cb-1009add37f78",
     "showTitle": false,
     "tableResultSettingsMap": {},
     "title": ""
    }
   },
   "outputs": [
    {
     "output_type": "stream",
     "name": "stdout",
     "output_type": "stream",
     "text": [
      "+-------+------------------+---------------+-------------------+--------------------+------+-----------------+-----------------+------------------+--------------------+--------------------+-------------------+--------------------+------------------+\n|summary|        athlete_id|           name|             region|           affiliate|gender|              age|           height|            weight|                 eat|               train|         background|             howlong|        total_lift|\n+-------+------------------+---------------+-------------------+--------------------+------+-----------------+-----------------+------------------+--------------------+--------------------+-------------------+--------------------+------------------+\n|  count|             30015|          30015|              30015|               29062| 30015|            30015|            30015|             30015|               30015|               30015|              30015|               30015|             30015|\n|   mean| 214677.5191071131|           NULL|               NULL|                NULL|  NULL|32.12527069798434|68.87339663501582|177.14666000333168|                NULL|                NULL|               NULL|                NULL|1017.8499416958188|\n| stddev|166073.24888422288|           NULL|               NULL|                NULL|  NULL|7.436255356166545|3.774808686915321| 32.39773542344042|                NULL|                NULL|               NULL|                NULL|  277.579793125969|\n|    min|              84.0|   Bill Sheehan|             Africa|100 Pourcent Cros...|Female|             18.0|             52.0|               5.0|I eat 1-3 full ch...|I have a coach wh...|     College sports|          1-2 years||               4.0|\n|    max|          630117.0|Ľudovít Czókoly|Southern California|         e8 CrossFit|  Male|             56.0|             83.0|             474.0|I weigh and measu...|I write my own pr...|Professional sports|Less than 6 month...|            2135.0|\n+-------+------------------+---------------+-------------------+--------------------+------+-----------------+-----------------+------------------+--------------------+--------------------+-------------------+--------------------+------------------+\n\n"
     ]
    }
   ],
   "source": [
    "athletes_df.describe().show()"
   ]
  },
  {
   "cell_type": "code",
   "execution_count": 0,
   "metadata": {
    "application/vnd.databricks.v1+cell": {
     "cellMetadata": {
      "byteLimit": 2048000,
      "rowLimit": 10000
     },
     "inputWidgets": {},
     "nuid": "f69390ab-2fd2-45fe-8b2c-3825d6762c8c",
     "showTitle": false,
     "tableResultSettingsMap": {},
     "title": ""
    }
   },
   "outputs": [
    {
     "output_type": "stream",
     "name": "stdout",
     "output_type": "stream",
     "text": [
      "\nColumn: 'name' | Distinct values: 29533\n+---------------------+\n|name                 |\n+---------------------+\n|john bennett         |\n|Greg Burt            |\n|David Eisen          |\n|erik gundersen       |\n|josh anderson        |\n|Rich Borucki         |\n|Jared Ziesmer        |\n|Mario Duarte         |\n|Gregory Koehler      |\n|Drew McKenna         |\n|Will Richardson      |\n|Terry Anderson       |\n|Tom Diehl            |\n|Justin Flagg         |\n|Aaron Harrell        |\n|James Macdonald      |\n|Pierre-André Paquette|\n|Dylan Frantz         |\n|Drew Rykert          |\n|Michael Davis        |\n+---------------------+\nonly showing top 20 rows\n\nColumn: 'region' | Distinct values: 17\n+-------------------+\n|region             |\n+-------------------+\n|Asia               |\n|Mid Atlantic       |\n|South East         |\n|Africa             |\n|Europe             |\n|South West         |\n|North West         |\n|Canada West        |\n|North East         |\n|Australia          |\n|Central East       |\n|Northern California|\n|Canada East        |\n|South Central      |\n|Southern California|\n|North Central      |\n|Latin America      |\n+-------------------+\n\n\nColumn: 'affiliate' | Distinct values: 7245\n+-------------------------+\n|affiliate                |\n+-------------------------+\n|CrossFit Fire            |\n|La Playa CrossFit        |\n|CrossFit Urban Jungle    |\n|Queiron CrossFit         |\n|CrossFit Connection      |\n|Body Armor CrossFit      |\n|CrossFit CS              |\n|CrossFit Northland       |\n|CrossFit Velox           |\n|CrossFit Port Royal Sound|\n|CrossFit Rebound         |\n|Bat City CrossFit        |\n|Verdant CrossFit         |\n|CrossFit Belleville      |\n|CrossFit DSC             |\n|CrossFit No'Ala          |\n|CrossFit Reebok 306      |\n|CrossFit 718             |\n|CrossFit Crux            |\n|CrossFit T-Town          |\n+-------------------------+\nonly showing top 20 rows\n\nColumn: 'gender' | Distinct values: 2\n+------+\n|gender|\n+------+\n|Female|\n|Male  |\n+------+\n\n\nColumn: 'eat' | Distinct values: 40\n+-----------------------------------------------------------------------------------------------------------------------------------------------------------------------------------+\n|eat                                                                                                                                                                                |\n+-----------------------------------------------------------------------------------------------------------------------------------------------------------------------------------+\n|I eat strict Paleo|I eat whatever is convenient|                                                                                                                                   |\n|I weigh and measure my food|I eat whatever is convenient|I eat 1-3 full cheat meals per week|                                                                                      |\n|I eat whatever is convenient|Decline to answer|                                                                                                                                    |\n|I weigh and measure my food|I eat strict Paleo|I eat quality foods but don't measure the amount|I eat 1-3 full cheat meals per week|                                               |\n|I weigh and measure my food|                                                                                                                                                       |\n|I eat strict Paleo|I eat quality foods but don't measure the amount|I eat whatever is convenient|I eat 1-3 full cheat meals per week|                                              |\n|I weigh and measure my food|Decline to answer|                                                                                                                                     |\n|I weigh and measure my food|I eat 1-3 full cheat meals per week|                                                                                                                   |\n|I eat 1-3 full cheat meals per week|Decline to answer|                                                                                                                             |\n|I weigh and measure my food|I eat strict Paleo|I eat whatever is convenient|                                                                                                       |\n|I eat whatever is convenient|I eat 1-3 full cheat meals per week|                                                                                                                  |\n|I weigh and measure my food|I eat strict Paleo|I eat quality foods but don't measure the amount|I eat whatever is convenient|I eat 1-3 full cheat meals per week|Decline to answer||\n|I eat quality foods but don't measure the amount|I eat 1-3 full cheat meals per week|Decline to answer|                                                                            |\n|I eat quality foods but don't measure the amount|I eat whatever is convenient|                                                                                                     |\n|I eat whatever is convenient|                                                                                                                                                      |\n|I eat 1-3 full cheat meals per week|                                                                                                                                               |\n|I weigh and measure my food|I eat quality foods but don't measure the amount|I eat 1-3 full cheat meals per week|                                                                  |\n|I eat strict Paleo|I eat quality foods but don't measure the amount|I eat 1-3 full cheat meals per week|                                                                           |\n|I weigh and measure my food|I eat quality foods but don't measure the amount|                                                                                                      |\n|I eat quality foods but don't measure the amount|I eat 1-3 full cheat meals per week|                                                                                              |\n+-----------------------------------------------------------------------------------------------------------------------------------------------------------------------------------+\nonly showing top 20 rows\n\nColumn: 'train' | Distinct values: 72\n+-----------------------------------------------------------------------------------------------------------------------------------------------------------------------------------+\n|train                                                                                                                                                                              |\n+-----------------------------------------------------------------------------------------------------------------------------------------------------------------------------------+\n|I workout mostly at home, work, or a traditional gym|I incorporate CrossFit.com workouts|I write my own programming|I record my workouts|Decline to answer|                        |\n|I workout mostly at a CrossFit Affiliate|I have a coach who determines my programming|I record my workouts|                                                                        |\n|I workout mostly at a CrossFit Affiliate|Decline to answer|                                                                                                                        |\n|I workout mostly at home, work, or a traditional gym|I record my workouts|                                                                                                         |\n|I workout mostly at a CrossFit Affiliate|I have a coach who determines my programming|I write my own programming|I record my workouts|                                             |\n|I workout mostly at a CrossFit Affiliate|I workout mostly at home, work, or a traditional gym|I have a coach who determines my programming|I incorporate CrossFit.com workouts|    |\n|I workout mostly at a CrossFit Affiliate|I have a coach who determines my programming|I incorporate CrossFit.com workouts|I write my own programming|Decline to answer|            |\n|I have a coach who determines my programming|I record my workouts|                                                                                                                 |\n|I workout mostly at a CrossFit Affiliate|I workout mostly at home, work, or a traditional gym|I incorporate CrossFit.com workouts|I write my own programming|                      |\n|I workout mostly at home, work, or a traditional gym|I write my own programming|                                                                                                   |\n|I incorporate CrossFit.com workouts|I record my workouts|                                                                                                                          |\n|I have a coach who determines my programming|I incorporate CrossFit.com workouts|I write my own programming|                                                                       |\n|I workout mostly at a CrossFit Affiliate|I workout mostly at home, work, or a traditional gym|I write my own programming|                                                          |\n|I workout mostly at a CrossFit Affiliate|I incorporate CrossFit.com workouts|I write my own programming|                                                                           |\n|I workout mostly at a CrossFit Affiliate|I have a coach who determines my programming|I write my own programming|                                                                  |\n|I workout mostly at a CrossFit Affiliate|                                                                                                                                          |\n|I have a coach who determines my programming|I write my own programming|I record my workouts|                                                                                      |\n|I workout mostly at home, work, or a traditional gym|I have a coach who determines my programming|I incorporate CrossFit.com workouts|I write my own programming|Decline to answer||\n|I workout mostly at home, work, or a traditional gym|I incorporate CrossFit.com workouts|I write my own programming|I record my workouts|                                          |\n|I workout mostly at a CrossFit Affiliate|I have a coach who determines my programming|I incorporate CrossFit.com workouts|                                                         |\n+-----------------------------------------------------------------------------------------------------------------------------------------------------------------------------------+\nonly showing top 20 rows\n\nColumn: 'background' | Distinct values: 4\n+----------------------+\n|background            |\n+----------------------+\n|No athletic background|\n|College sports        |\n|Other                 |\n|Professional sports   |\n+----------------------+\n\n\nColumn: 'howlong' | Distinct values: 25\n+------------------------------------------------------------------------------+\n|howlong                                                                       |\n+------------------------------------------------------------------------------+\n|Less than 6 months|4+ years|                                                  |\n|6-12 months|1-2 years|                                                        |\n|Less than 6 months|6-12 months|1-2 years|2-4 years|4+ years|Decline to answer||\n|1-2 years|2-4 years|                                                          |\n|6-12 months|1-2 years|Decline to answer|                                      |\n|2-4 years|Decline to answer|                                                  |\n|1-2 years|2-4 years|4+ years|                                                 |\n|Less than 6 months|2-4 years|                                                 |\n|6-12 months|4+ years|                                                         |\n|1-2 years|                                                                    |\n|6-12 months|                                                                  |\n|1-2 years|4+ years|                                                           |\n|Less than 6 months|6-12 months|1-2 years|                                     |\n|Less than 6 months|                                                           |\n|Less than 6 months|Decline to answer|                                         |\n|Less than 6 months|6-12 months|                                               |\n|Less than 6 months|6-12 months|1-2 years|2-4 years|                           |\n|Less than 6 months|6-12 months|1-2 years|2-4 years|4+ years|                  |\n|2-4 years|4+ years|                                                           |\n|6-12 months|1-2 years|2-4 years|                                              |\n+------------------------------------------------------------------------------+\nonly showing top 20 rows\n"
     ]
    }
   ],
   "source": [
    "# Identify categorical (string) columns\n",
    "categorical_columns = [field.name for field in athletes_df.schema.fields if field.dataType.simpleString() == 'string']\n",
    "\n",
    "# Loop through and show count of unique values and the values themselves\n",
    "for col in categorical_columns:\n",
    "    count = athletes_df.select(col).distinct().count()\n",
    "    print(f\"\\nColumn: '{col}' | Distinct values: {count}\")\n",
    "    athletes_df.select(col).distinct().show(truncate=False)"
   ]
  },
  {
   "cell_type": "markdown",
   "metadata": {
    "application/vnd.databricks.v1+cell": {
     "cellMetadata": {},
     "inputWidgets": {},
     "nuid": "461a90a0-61b9-4ead-9216-3f4f222cafa2",
     "showTitle": false,
     "tableResultSettingsMap": {},
     "title": ""
    }
   },
   "source": [
    "### Use Databricks AutoML to predict total_lift (a regression problem)"
   ]
  },
  {
   "cell_type": "code",
   "execution_count": 0,
   "metadata": {
    "application/vnd.databricks.v1+cell": {
     "cellMetadata": {
      "byteLimit": 2048000,
      "rowLimit": 10000
     },
     "inputWidgets": {},
     "nuid": "630ee80c-6c25-4656-8857-e019b1586ba1",
     "showTitle": false,
     "tableResultSettingsMap": {},
     "title": ""
    }
   },
   "outputs": [],
   "source": [
    "# Register athletes_df as a temporary SQL view:\n",
    "athletes_df.createOrReplaceTempView(\"athletes_cleaned\")"
   ]
  },
  {
   "cell_type": "markdown",
   "metadata": {
    "application/vnd.databricks.v1+cell": {
     "cellMetadata": {},
     "inputWidgets": {},
     "nuid": "61c16327-45db-4944-b0cd-d816d846c212",
     "showTitle": false,
     "tableResultSettingsMap": {},
     "title": ""
    }
   },
   "source": [
    "Since I am using databricks free edition, which does not support no-code AutoML UI, I will  run AutoML via code below. "
   ]
  },
  {
   "cell_type": "code",
   "execution_count": 0,
   "metadata": {
    "application/vnd.databricks.v1+cell": {
     "cellMetadata": {
      "byteLimit": 2048000,
      "rowLimit": 10000
     },
     "inputWidgets": {},
     "nuid": "6616a3c7-add8-4aa6-bb95-612ff5403c26",
     "showTitle": false,
     "tableResultSettingsMap": {},
     "title": ""
    }
   },
   "outputs": [
    {
     "output_type": "display_data",
     "data": {
      "text/plain": [
       "\u001B[0;31m---------------------------------------------------------------------------\u001B[0m\n",
       "\u001B[0;31mImportError\u001B[0m                               Traceback (most recent call last)\n",
       "File \u001B[0;32m<command-5507547720733494>, line 1\u001B[0m\n",
       "\u001B[0;32m----> 1\u001B[0m \u001B[38;5;28;01mfrom\u001B[39;00m \u001B[38;5;21;01mdatabricks\u001B[39;00m \u001B[38;5;28;01mimport\u001B[39;00m automl\n",
       "\n",
       "\u001B[0;31mImportError\u001B[0m: cannot import name 'automl' from 'databricks' (/databricks/python_shell/lib/databricks/__init__.py)"
      ]
     },
     "metadata": {
      "application/vnd.databricks.v1+output": {
       "addedWidgets": {},
       "arguments": {},
       "datasetInfos": [],
       "jupyterProps": {
        "ename": "ImportError",
        "evalue": "cannot import name 'automl' from 'databricks' (/databricks/python_shell/lib/databricks/__init__.py)"
       },
       "metadata": {
        "errorSummary": "<span class='ansi-red-fg'>ImportError</span>: cannot import name 'automl' from 'databricks' (/databricks/python_shell/lib/databricks/__init__.py)"
       },
       "removedWidgets": [],
       "sqlProps": null,
       "stackFrames": [
        "\u001B[0;31m---------------------------------------------------------------------------\u001B[0m",
        "\u001B[0;31mImportError\u001B[0m                               Traceback (most recent call last)",
        "File \u001B[0;32m<command-5507547720733494>, line 1\u001B[0m\n\u001B[0;32m----> 1\u001B[0m \u001B[38;5;28;01mfrom\u001B[39;00m \u001B[38;5;21;01mdatabricks\u001B[39;00m \u001B[38;5;28;01mimport\u001B[39;00m automl\n",
        "\u001B[0;31mImportError\u001B[0m: cannot import name 'automl' from 'databricks' (/databricks/python_shell/lib/databricks/__init__.py)"
       ],
       "type": "baseError"
      }
     },
     "output_type": "display_data"
    }
   ],
   "source": [
    "from databricks import automl"
   ]
  },
  {
   "cell_type": "markdown",
   "metadata": {
    "application/vnd.databricks.v1+cell": {
     "cellMetadata": {},
     "inputWidgets": {},
     "nuid": "81de50b4-3184-4c19-9663-99e86bd71d34",
     "showTitle": false,
     "tableResultSettingsMap": {},
     "title": ""
    }
   },
   "source": [
    "Since I do not have the paid version of databricks to use its AutoML, I will run FLAML AutoML step-by-step in Databricks Free Edition. "
   ]
  },
  {
   "cell_type": "code",
   "execution_count": 0,
   "metadata": {
    "application/vnd.databricks.v1+cell": {
     "cellMetadata": {
      "byteLimit": 2048000,
      "rowLimit": 10000
     },
     "inputWidgets": {},
     "nuid": "d4b74069-af34-4289-a67f-ddd20b7d9efc",
     "showTitle": false,
     "tableResultSettingsMap": {},
     "title": ""
    }
   },
   "outputs": [
    {
     "output_type": "stream",
     "name": "stdout",
     "output_type": "stream",
     "text": [
      "Requirement already satisfied: flaml in /local_disk0/.ephemeral_nfs/envs/pythonEnv-e1df9765-991e-484c-b8fd-999d2ee0f4c6/lib/python3.11/site-packages (2.3.5)\nRequirement already satisfied: NumPy>=1.17 in /databricks/python3/lib/python3.11/site-packages (from flaml) (1.23.5)\n\u001B[43mNote: you may need to restart the kernel using %restart_python or dbutils.library.restartPython() to use updated packages.\u001B[0m\n"
     ]
    }
   ],
   "source": [
    "%pip install flaml"
   ]
  },
  {
   "cell_type": "code",
   "execution_count": 0,
   "metadata": {
    "application/vnd.databricks.v1+cell": {
     "cellMetadata": {
      "byteLimit": 2048000,
      "rowLimit": 10000
     },
     "inputWidgets": {},
     "nuid": "31a99017-7327-4003-99b3-4c9ecc7cfc0f",
     "showTitle": false,
     "tableResultSettingsMap": {},
     "title": ""
    }
   },
   "outputs": [
    {
     "output_type": "stream",
     "name": "stdout",
     "output_type": "stream",
     "text": [
      "Collecting flaml==2.3.5\n  Using cached FLAML-2.3.5-py3-none-any.whl.metadata (16 kB)\nCollecting NumPy>=1.17 (from flaml==2.3.5)\n  Downloading numpy-2.3.1-cp311-cp311-manylinux_2_28_aarch64.whl.metadata (62 kB)\nUsing cached FLAML-2.3.5-py3-none-any.whl (322 kB)\nDownloading numpy-2.3.1-cp311-cp311-manylinux_2_28_aarch64.whl (14.6 MB)\n\u001B[?25l   \u001B[90m━━━━━━━━━━━━━━━━━━━━━━━━━━━━━━━━━━━━━━━━\u001B[0m \u001B[32m0.0/14.6 MB\u001B[0m \u001B[31m?\u001B[0m eta \u001B[36m-:--:--\u001B[0m\r\u001B[2K   \u001B[90m━━━━━━━━━━━━━━━━━━━━━━━━━━━━━━━━━━━━━━━━\u001B[0m \u001B[32m14.6/14.6 MB\u001B[0m \u001B[31m126.3 MB/s\u001B[0m eta \u001B[36m0:00:00\u001B[0m\n\u001B[?25hInstalling collected packages: NumPy, flaml\n  Attempting uninstall: NumPy\n    Found existing installation: numpy 1.23.5\n    Not uninstalling numpy at /databricks/python3/lib/python3.11/site-packages, outside environment /local_disk0/.ephemeral_nfs/envs/pythonEnv-e1df9765-991e-484c-b8fd-999d2ee0f4c6\n    Can't uninstall 'numpy'. No files were found to uninstall.\n  Attempting uninstall: flaml\n    Found existing installation: FLAML 2.3.5\n    Uninstalling FLAML-2.3.5:\n      Successfully uninstalled FLAML-2.3.5\n\u001B[31mERROR: pip's dependency resolver does not currently take into account all the packages that are installed. This behaviour is the source of the following dependency conflicts.\ndatabricks-connect 15.4.5 requires numpy<2,>=1.15, but you have numpy 2.3.1 which is incompatible.\nscipy 1.11.1 requires numpy<1.28.0,>=1.21.6, but you have numpy 2.3.1 which is incompatible.\u001B[0m\u001B[31m\n\u001B[0mSuccessfully installed NumPy-2.3.1 flaml-2.3.5\n\u001B[43mNote: you may need to restart the kernel using %restart_python or dbutils.library.restartPython() to use updated packages.\u001B[0m\n"
     ]
    }
   ],
   "source": [
    "%pip install --upgrade --force-reinstall flaml==2.3.5"
   ]
  },
  {
   "cell_type": "code",
   "execution_count": 0,
   "metadata": {
    "application/vnd.databricks.v1+cell": {
     "cellMetadata": {
      "byteLimit": 2048000,
      "rowLimit": 10000
     },
     "inputWidgets": {},
     "nuid": "c4645a18-9e0d-45d2-9a96-60e95b9f1fe7",
     "showTitle": false,
     "tableResultSettingsMap": {},
     "title": ""
    }
   },
   "outputs": [],
   "source": [
    "dbutils.library.restartPython()"
   ]
  },
  {
   "cell_type": "code",
   "execution_count": 0,
   "metadata": {
    "application/vnd.databricks.v1+cell": {
     "cellMetadata": {
      "byteLimit": 2048000,
      "rowLimit": 10000
     },
     "inputWidgets": {},
     "nuid": "a2864132-3c84-4e70-aea1-35947f7722bf",
     "showTitle": false,
     "tableResultSettingsMap": {},
     "title": ""
    }
   },
   "outputs": [
    {
     "output_type": "stream",
     "name": "stderr",
     "output_type": "stream",
     "text": [
      "/databricks/python/lib/python3.11/site-packages/mlflow/protos/service_pb2.py:11: UserWarning: google.protobuf.service module is deprecated. RPC implementations should provide code generator plugins which generate code specific to the RPC implementation. service.py will be removed in Jan 2025\n  from google.protobuf import service as _service\n"
     ]
    },
    {
     "output_type": "display_data",
     "data": {
      "text/plain": [
       "\u001B[0;31m---------------------------------------------------------------------------\u001B[0m\n",
       "\u001B[0;31mValueError\u001B[0m                                Traceback (most recent call last)\n",
       "File \u001B[0;32m<command-5507547720733496>, line 1\u001B[0m\n",
       "\u001B[0;32m----> 1\u001B[0m \u001B[38;5;28;01mfrom\u001B[39;00m \u001B[38;5;21;01mflaml\u001B[39;00m \u001B[38;5;28;01mimport\u001B[39;00m AutoML\n",
       "\u001B[1;32m      2\u001B[0m \u001B[38;5;28;01mfrom\u001B[39;00m \u001B[38;5;21;01msklearn\u001B[39;00m\u001B[38;5;21;01m.\u001B[39;00m\u001B[38;5;21;01mmodel_selection\u001B[39;00m \u001B[38;5;28;01mimport\u001B[39;00m train_test_split\n",
       "\u001B[1;32m      3\u001B[0m \u001B[38;5;28;01mfrom\u001B[39;00m \u001B[38;5;21;01msklearn\u001B[39;00m\u001B[38;5;21;01m.\u001B[39;00m\u001B[38;5;21;01mmetrics\u001B[39;00m \u001B[38;5;28;01mimport\u001B[39;00m mean_squared_error, r2_score\n",
       "\n",
       "File \u001B[0;32m/databricks/python_shell/lib/dbruntime/autoreload/discoverability/hook.py:71\u001B[0m, in \u001B[0;36mAutoreloadDiscoverabilityHook._patched_import\u001B[0;34m(self, name, *args, **kwargs)\u001B[0m\n",
       "\u001B[1;32m     65\u001B[0m \u001B[38;5;28;01mif\u001B[39;00m \u001B[38;5;129;01mnot\u001B[39;00m \u001B[38;5;28mself\u001B[39m\u001B[38;5;241m.\u001B[39m_should_hint \u001B[38;5;129;01mand\u001B[39;00m (\n",
       "\u001B[1;32m     66\u001B[0m     (module \u001B[38;5;241m:=\u001B[39m sys\u001B[38;5;241m.\u001B[39mmodules\u001B[38;5;241m.\u001B[39mget(absolute_name)) \u001B[38;5;129;01mis\u001B[39;00m \u001B[38;5;129;01mnot\u001B[39;00m \u001B[38;5;28;01mNone\u001B[39;00m \u001B[38;5;129;01mand\u001B[39;00m\n",
       "\u001B[1;32m     67\u001B[0m     (fname \u001B[38;5;241m:=\u001B[39m get_allowed_file_name_or_none(module)) \u001B[38;5;129;01mis\u001B[39;00m \u001B[38;5;129;01mnot\u001B[39;00m \u001B[38;5;28;01mNone\u001B[39;00m \u001B[38;5;129;01mand\u001B[39;00m\n",
       "\u001B[1;32m     68\u001B[0m     (mtime \u001B[38;5;241m:=\u001B[39m os\u001B[38;5;241m.\u001B[39mstat(fname)\u001B[38;5;241m.\u001B[39mst_mtime) \u001B[38;5;241m>\u001B[39m \u001B[38;5;28mself\u001B[39m\u001B[38;5;241m.\u001B[39mlast_mtime_by_modname\u001B[38;5;241m.\u001B[39mget(\n",
       "\u001B[1;32m     69\u001B[0m         absolute_name, \u001B[38;5;28mfloat\u001B[39m(\u001B[38;5;124m\"\u001B[39m\u001B[38;5;124minf\u001B[39m\u001B[38;5;124m\"\u001B[39m)) \u001B[38;5;129;01mand\u001B[39;00m \u001B[38;5;129;01mnot\u001B[39;00m \u001B[38;5;28mself\u001B[39m\u001B[38;5;241m.\u001B[39m_should_hint):\n",
       "\u001B[1;32m     70\u001B[0m     \u001B[38;5;28mself\u001B[39m\u001B[38;5;241m.\u001B[39m_should_hint \u001B[38;5;241m=\u001B[39m \u001B[38;5;28;01mTrue\u001B[39;00m\n",
       "\u001B[0;32m---> 71\u001B[0m module \u001B[38;5;241m=\u001B[39m \u001B[38;5;28mself\u001B[39m\u001B[38;5;241m.\u001B[39m_original_builtins_import(name, \u001B[38;5;241m*\u001B[39margs, \u001B[38;5;241m*\u001B[39m\u001B[38;5;241m*\u001B[39mkwargs)\n",
       "\u001B[1;32m     72\u001B[0m \u001B[38;5;28;01mif\u001B[39;00m (fname \u001B[38;5;241m:=\u001B[39m fname \u001B[38;5;129;01mor\u001B[39;00m get_allowed_file_name_or_none(module)) \u001B[38;5;129;01mis\u001B[39;00m \u001B[38;5;129;01mnot\u001B[39;00m \u001B[38;5;28;01mNone\u001B[39;00m:\n",
       "\u001B[1;32m     73\u001B[0m     mtime \u001B[38;5;241m=\u001B[39m mtime \u001B[38;5;129;01mor\u001B[39;00m os\u001B[38;5;241m.\u001B[39mstat(fname)\u001B[38;5;241m.\u001B[39mst_mtime\n",
       "\n",
       "File \u001B[0;32m/local_disk0/.ephemeral_nfs/envs/pythonEnv-e1df9765-991e-484c-b8fd-999d2ee0f4c6/lib/python3.11/site-packages/flaml/__init__.py:5\u001B[0m\n",
       "\u001B[1;32m      2\u001B[0m \u001B[38;5;28;01mimport\u001B[39;00m \u001B[38;5;21;01mwarnings\u001B[39;00m\n",
       "\u001B[1;32m      4\u001B[0m \u001B[38;5;28;01mtry\u001B[39;00m:\n",
       "\u001B[0;32m----> 5\u001B[0m     \u001B[38;5;28;01mfrom\u001B[39;00m \u001B[38;5;21;01mflaml\u001B[39;00m\u001B[38;5;21;01m.\u001B[39;00m\u001B[38;5;21;01mautoml\u001B[39;00m \u001B[38;5;28;01mimport\u001B[39;00m AutoML, logger_formatter\n",
       "\u001B[1;32m      7\u001B[0m     has_automl \u001B[38;5;241m=\u001B[39m \u001B[38;5;28;01mTrue\u001B[39;00m\n",
       "\u001B[1;32m      8\u001B[0m \u001B[38;5;28;01mexcept\u001B[39;00m \u001B[38;5;167;01mImportError\u001B[39;00m:\n",
       "\n",
       "File \u001B[0;32m/local_disk0/.ephemeral_nfs/envs/pythonEnv-e1df9765-991e-484c-b8fd-999d2ee0f4c6/lib/python3.11/site-packages/flaml/automl/__init__.py:4\u001B[0m\n",
       "\u001B[1;32m      1\u001B[0m \u001B[38;5;28;01mfrom\u001B[39;00m \u001B[38;5;21;01mflaml\u001B[39;00m\u001B[38;5;21;01m.\u001B[39;00m\u001B[38;5;21;01mautoml\u001B[39;00m\u001B[38;5;21;01m.\u001B[39;00m\u001B[38;5;21;01mlogger\u001B[39;00m \u001B[38;5;28;01mimport\u001B[39;00m logger_formatter\n",
       "\u001B[1;32m      3\u001B[0m \u001B[38;5;28;01mtry\u001B[39;00m:\n",
       "\u001B[0;32m----> 4\u001B[0m     \u001B[38;5;28;01mfrom\u001B[39;00m \u001B[38;5;21;01mflaml\u001B[39;00m\u001B[38;5;21;01m.\u001B[39;00m\u001B[38;5;21;01mautoml\u001B[39;00m\u001B[38;5;21;01m.\u001B[39;00m\u001B[38;5;21;01mautoml\u001B[39;00m \u001B[38;5;28;01mimport\u001B[39;00m AutoML, size\n",
       "\u001B[1;32m      5\u001B[0m     \u001B[38;5;28;01mfrom\u001B[39;00m \u001B[38;5;21;01mflaml\u001B[39;00m\u001B[38;5;21;01m.\u001B[39;00m\u001B[38;5;21;01mautoml\u001B[39;00m\u001B[38;5;21;01m.\u001B[39;00m\u001B[38;5;21;01mstate\u001B[39;00m \u001B[38;5;28;01mimport\u001B[39;00m AutoMLState, SearchState\n",
       "\u001B[1;32m      7\u001B[0m     __all__ \u001B[38;5;241m=\u001B[39m [\u001B[38;5;124m\"\u001B[39m\u001B[38;5;124mAutoML\u001B[39m\u001B[38;5;124m\"\u001B[39m, \u001B[38;5;124m\"\u001B[39m\u001B[38;5;124mAutoMLState\u001B[39m\u001B[38;5;124m\"\u001B[39m, \u001B[38;5;124m\"\u001B[39m\u001B[38;5;124mSearchState\u001B[39m\u001B[38;5;124m\"\u001B[39m, \u001B[38;5;124m\"\u001B[39m\u001B[38;5;124mlogger_formatter\u001B[39m\u001B[38;5;124m\"\u001B[39m, \u001B[38;5;124m\"\u001B[39m\u001B[38;5;124msize\u001B[39m\u001B[38;5;124m\"\u001B[39m]\n",
       "\n",
       "File \u001B[0;32m/local_disk0/.ephemeral_nfs/envs/pythonEnv-e1df9765-991e-484c-b8fd-999d2ee0f4c6/lib/python3.11/site-packages/flaml/automl/automl.py:19\u001B[0m\n",
       "\u001B[1;32m     15\u001B[0m \u001B[38;5;28;01mfrom\u001B[39;00m \u001B[38;5;21;01mtyping\u001B[39;00m \u001B[38;5;28;01mimport\u001B[39;00m Callable, List, Optional, Union\n",
       "\u001B[1;32m     17\u001B[0m \u001B[38;5;28;01mimport\u001B[39;00m \u001B[38;5;21;01mnumpy\u001B[39;00m \u001B[38;5;28;01mas\u001B[39;00m \u001B[38;5;21;01mnp\u001B[39;00m\n",
       "\u001B[0;32m---> 19\u001B[0m \u001B[38;5;28;01mfrom\u001B[39;00m \u001B[38;5;21;01mflaml\u001B[39;00m \u001B[38;5;28;01mimport\u001B[39;00m tune\n",
       "\u001B[1;32m     20\u001B[0m \u001B[38;5;28;01mfrom\u001B[39;00m \u001B[38;5;21;01mflaml\u001B[39;00m\u001B[38;5;21;01m.\u001B[39;00m\u001B[38;5;21;01mautoml\u001B[39;00m\u001B[38;5;21;01m.\u001B[39;00m\u001B[38;5;21;01mlogger\u001B[39;00m \u001B[38;5;28;01mimport\u001B[39;00m logger, logger_formatter\n",
       "\u001B[1;32m     21\u001B[0m \u001B[38;5;28;01mfrom\u001B[39;00m \u001B[38;5;21;01mflaml\u001B[39;00m\u001B[38;5;21;01m.\u001B[39;00m\u001B[38;5;21;01mautoml\u001B[39;00m\u001B[38;5;21;01m.\u001B[39;00m\u001B[38;5;21;01mml\u001B[39;00m \u001B[38;5;28;01mimport\u001B[39;00m huggingface_metric_to_mode, sklearn_metric_name_set, spark_metric_name_dict, train_estimator\n",
       "\n",
       "File \u001B[0;32m/local_disk0/.ephemeral_nfs/envs/pythonEnv-e1df9765-991e-484c-b8fd-999d2ee0f4c6/lib/python3.11/site-packages/flaml/tune/__init__.py:38\u001B[0m\n",
       "\u001B[1;32m     36\u001B[0m \u001B[38;5;28;01mfrom\u001B[39;00m \u001B[38;5;21;01m.\u001B[39;00m\u001B[38;5;21;01msample\u001B[39;00m \u001B[38;5;28;01mimport\u001B[39;00m Categorical, Float, PolynomialExpansionSet, polynomial_expansion_set\n",
       "\u001B[1;32m     37\u001B[0m \u001B[38;5;28;01mfrom\u001B[39;00m \u001B[38;5;21;01m.\u001B[39;00m\u001B[38;5;21;01mtrial\u001B[39;00m \u001B[38;5;28;01mimport\u001B[39;00m Trial\n",
       "\u001B[0;32m---> 38\u001B[0m \u001B[38;5;28;01mfrom\u001B[39;00m \u001B[38;5;21;01m.\u001B[39;00m\u001B[38;5;21;01mtune\u001B[39;00m \u001B[38;5;28;01mimport\u001B[39;00m INCUMBENT_RESULT, report, run\n",
       "\u001B[1;32m     39\u001B[0m \u001B[38;5;28;01mfrom\u001B[39;00m \u001B[38;5;21;01m.\u001B[39;00m\u001B[38;5;21;01mutils\u001B[39;00m \u001B[38;5;28;01mimport\u001B[39;00m choice\n",
       "\n",
       "File \u001B[0;32m/local_disk0/.ephemeral_nfs/envs/pythonEnv-e1df9765-991e-484c-b8fd-999d2ee0f4c6/lib/python3.11/site-packages/flaml/tune/tune.py:33\u001B[0m\n",
       "\u001B[1;32m     30\u001B[0m \u001B[38;5;28;01mfrom\u001B[39;00m \u001B[38;5;21;01m.\u001B[39;00m\u001B[38;5;21;01mtrial\u001B[39;00m \u001B[38;5;28;01mimport\u001B[39;00m Trial\n",
       "\u001B[1;32m     32\u001B[0m \u001B[38;5;28;01mtry\u001B[39;00m:\n",
       "\u001B[0;32m---> 33\u001B[0m     \u001B[38;5;28;01mimport\u001B[39;00m \u001B[38;5;21;01mmlflow\u001B[39;00m\n",
       "\u001B[1;32m     34\u001B[0m \u001B[38;5;28;01mexcept\u001B[39;00m \u001B[38;5;167;01mImportError\u001B[39;00m:\n",
       "\u001B[1;32m     35\u001B[0m     mlflow \u001B[38;5;241m=\u001B[39m \u001B[38;5;28;01mNone\u001B[39;00m\n",
       "\n",
       "File \u001B[0;32m<frozen importlib._bootstrap>:1176\u001B[0m, in \u001B[0;36m_find_and_load\u001B[0;34m(name, import_)\u001B[0m\n",
       "\n",
       "File \u001B[0;32m<frozen importlib._bootstrap>:1147\u001B[0m, in \u001B[0;36m_find_and_load_unlocked\u001B[0;34m(name, import_)\u001B[0m\n",
       "\n",
       "File \u001B[0;32m<frozen importlib._bootstrap>:690\u001B[0m, in \u001B[0;36m_load_unlocked\u001B[0;34m(spec)\u001B[0m\n",
       "\n",
       "File \u001B[0;32m/databricks/python_shell/lib/dbruntime/PostImportHook.py:239\u001B[0m, in \u001B[0;36mmake_patched_exec_module.<locals>.patched_exec_module\u001B[0;34m(module)\u001B[0m\n",
       "\u001B[1;32m    236\u001B[0m \u001B[38;5;129m@functools\u001B[39m\u001B[38;5;241m.\u001B[39mwraps(exec_module)\n",
       "\u001B[1;32m    237\u001B[0m \u001B[38;5;28;01mdef\u001B[39;00m \u001B[38;5;21mpatched_exec_module\u001B[39m(module: ModuleType) \u001B[38;5;241m-\u001B[39m\u001B[38;5;241m>\u001B[39m \u001B[38;5;28;01mNone\u001B[39;00m:\n",
       "\u001B[1;32m    238\u001B[0m     \u001B[38;5;28;01mtry\u001B[39;00m:\n",
       "\u001B[0;32m--> 239\u001B[0m         exec_module(module)\n",
       "\u001B[1;32m    240\u001B[0m         notify_module_loaded(module)\n",
       "\u001B[1;32m    241\u001B[0m     \u001B[38;5;28;01mexcept\u001B[39;00m (\u001B[38;5;167;01mImportError\u001B[39;00m, \u001B[38;5;167;01mAttributeError\u001B[39;00m):\n",
       "\n",
       "File \u001B[0;32m/databricks/python/lib/python3.11/site-packages/mlflow/__init__.py:34\u001B[0m\n",
       "\u001B[1;32m     31\u001B[0m \u001B[38;5;28;01mfrom\u001B[39;00m \u001B[38;5;21;01mmlflow\u001B[39;00m\u001B[38;5;21;01m.\u001B[39;00m\u001B[38;5;21;01mversion\u001B[39;00m \u001B[38;5;28;01mimport\u001B[39;00m VERSION\n",
       "\u001B[1;32m     33\u001B[0m __version__ \u001B[38;5;241m=\u001B[39m VERSION\n",
       "\u001B[0;32m---> 34\u001B[0m \u001B[38;5;28;01mfrom\u001B[39;00m \u001B[38;5;21;01mmlflow\u001B[39;00m \u001B[38;5;28;01mimport\u001B[39;00m (\n",
       "\u001B[1;32m     35\u001B[0m     artifacts,  \u001B[38;5;66;03m# noqa: F401\u001B[39;00m\n",
       "\u001B[1;32m     36\u001B[0m     client,  \u001B[38;5;66;03m# noqa: F401\u001B[39;00m\n",
       "\u001B[1;32m     37\u001B[0m     config,  \u001B[38;5;66;03m# noqa: F401\u001B[39;00m\n",
       "\u001B[1;32m     38\u001B[0m     data,  \u001B[38;5;66;03m# noqa: F401\u001B[39;00m\n",
       "\u001B[1;32m     39\u001B[0m     exceptions,  \u001B[38;5;66;03m# noqa: F401\u001B[39;00m\n",
       "\u001B[1;32m     40\u001B[0m     models,  \u001B[38;5;66;03m# noqa: F401\u001B[39;00m\n",
       "\u001B[1;32m     41\u001B[0m     projects,  \u001B[38;5;66;03m# noqa: F401\u001B[39;00m\n",
       "\u001B[1;32m     42\u001B[0m     tracking,  \u001B[38;5;66;03m# noqa: F401\u001B[39;00m\n",
       "\u001B[1;32m     43\u001B[0m )\n",
       "\u001B[1;32m     44\u001B[0m \u001B[38;5;28;01mfrom\u001B[39;00m \u001B[38;5;21;01mmlflow\u001B[39;00m\u001B[38;5;21;01m.\u001B[39;00m\u001B[38;5;21;01menvironment_variables\u001B[39;00m \u001B[38;5;28;01mimport\u001B[39;00m MLFLOW_CONFIGURE_LOGGING\n",
       "\u001B[1;32m     45\u001B[0m \u001B[38;5;28;01mfrom\u001B[39;00m \u001B[38;5;21;01mmlflow\u001B[39;00m\u001B[38;5;21;01m.\u001B[39;00m\u001B[38;5;21;01mutils\u001B[39;00m\u001B[38;5;21;01m.\u001B[39;00m\u001B[38;5;21;01mlazy_load\u001B[39;00m \u001B[38;5;28;01mimport\u001B[39;00m LazyLoader\n",
       "\n",
       "File \u001B[0;32m/databricks/python/lib/python3.11/site-packages/mlflow/data/__init__.py:5\u001B[0m\n",
       "\u001B[1;32m      2\u001B[0m \u001B[38;5;28;01mfrom\u001B[39;00m \u001B[38;5;21;01mcontextlib\u001B[39;00m \u001B[38;5;28;01mimport\u001B[39;00m suppress\n",
       "\u001B[1;32m      3\u001B[0m \u001B[38;5;28;01mfrom\u001B[39;00m \u001B[38;5;21;01mtyping\u001B[39;00m \u001B[38;5;28;01mimport\u001B[39;00m Union\n",
       "\u001B[0;32m----> 5\u001B[0m \u001B[38;5;28;01mfrom\u001B[39;00m \u001B[38;5;21;01mmlflow\u001B[39;00m\u001B[38;5;21;01m.\u001B[39;00m\u001B[38;5;21;01mdata\u001B[39;00m \u001B[38;5;28;01mimport\u001B[39;00m dataset_registry\n",
       "\u001B[1;32m      6\u001B[0m \u001B[38;5;28;01mfrom\u001B[39;00m \u001B[38;5;21;01mmlflow\u001B[39;00m\u001B[38;5;21;01m.\u001B[39;00m\u001B[38;5;21;01mdata\u001B[39;00m \u001B[38;5;28;01mimport\u001B[39;00m sources \u001B[38;5;28;01mas\u001B[39;00m mlflow_data_sources\n",
       "\u001B[1;32m      7\u001B[0m \u001B[38;5;28;01mfrom\u001B[39;00m \u001B[38;5;21;01mmlflow\u001B[39;00m\u001B[38;5;21;01m.\u001B[39;00m\u001B[38;5;21;01mdata\u001B[39;00m\u001B[38;5;21;01m.\u001B[39;00m\u001B[38;5;21;01mdataset\u001B[39;00m \u001B[38;5;28;01mimport\u001B[39;00m Dataset\n",
       "\n",
       "File \u001B[0;32m/databricks/python/lib/python3.11/site-packages/mlflow/data/dataset_registry.py:138\u001B[0m\n",
       "\u001B[1;32m    136\u001B[0m \u001B[38;5;66;03m# use contextlib suppress to ignore import errors\u001B[39;00m\n",
       "\u001B[1;32m    137\u001B[0m \u001B[38;5;28;01mwith\u001B[39;00m suppress(\u001B[38;5;167;01mImportError\u001B[39;00m):\n",
       "\u001B[0;32m--> 138\u001B[0m     \u001B[38;5;28;01mfrom\u001B[39;00m \u001B[38;5;21;01mmlflow\u001B[39;00m\u001B[38;5;21;01m.\u001B[39;00m\u001B[38;5;21;01mdata\u001B[39;00m\u001B[38;5;21;01m.\u001B[39;00m\u001B[38;5;21;01mpandas_dataset\u001B[39;00m \u001B[38;5;28;01mimport\u001B[39;00m from_pandas\n",
       "\u001B[1;32m    140\u001B[0m     _dataset_registry\u001B[38;5;241m.\u001B[39mregister_constructor(from_pandas)\n",
       "\u001B[1;32m    141\u001B[0m \u001B[38;5;28;01mwith\u001B[39;00m suppress(\u001B[38;5;167;01mImportError\u001B[39;00m):\n",
       "\n",
       "File \u001B[0;32m/databricks/python/lib/python3.11/site-packages/mlflow/data/pandas_dataset.py:6\u001B[0m\n",
       "\u001B[1;32m      3\u001B[0m \u001B[38;5;28;01mfrom\u001B[39;00m \u001B[38;5;21;01mfunctools\u001B[39;00m \u001B[38;5;28;01mimport\u001B[39;00m cached_property\n",
       "\u001B[1;32m      4\u001B[0m \u001B[38;5;28;01mfrom\u001B[39;00m \u001B[38;5;21;01mtyping\u001B[39;00m \u001B[38;5;28;01mimport\u001B[39;00m Any, Dict, Optional, Union\n",
       "\u001B[0;32m----> 6\u001B[0m \u001B[38;5;28;01mimport\u001B[39;00m \u001B[38;5;21;01mpandas\u001B[39;00m \u001B[38;5;28;01mas\u001B[39;00m \u001B[38;5;21;01mpd\u001B[39;00m\n",
       "\u001B[1;32m      8\u001B[0m \u001B[38;5;28;01mfrom\u001B[39;00m \u001B[38;5;21;01mmlflow\u001B[39;00m\u001B[38;5;21;01m.\u001B[39;00m\u001B[38;5;21;01mdata\u001B[39;00m\u001B[38;5;21;01m.\u001B[39;00m\u001B[38;5;21;01mdataset\u001B[39;00m \u001B[38;5;28;01mimport\u001B[39;00m Dataset\n",
       "\u001B[1;32m      9\u001B[0m \u001B[38;5;28;01mfrom\u001B[39;00m \u001B[38;5;21;01mmlflow\u001B[39;00m\u001B[38;5;21;01m.\u001B[39;00m\u001B[38;5;21;01mdata\u001B[39;00m\u001B[38;5;21;01m.\u001B[39;00m\u001B[38;5;21;01mdataset_source\u001B[39;00m \u001B[38;5;28;01mimport\u001B[39;00m DatasetSource\n",
       "\n",
       "File \u001B[0;32m<frozen importlib._bootstrap>:1176\u001B[0m, in \u001B[0;36m_find_and_load\u001B[0;34m(name, import_)\u001B[0m\n",
       "\n",
       "File \u001B[0;32m<frozen importlib._bootstrap>:1147\u001B[0m, in \u001B[0;36m_find_and_load_unlocked\u001B[0;34m(name, import_)\u001B[0m\n",
       "\n",
       "File \u001B[0;32m<frozen importlib._bootstrap>:690\u001B[0m, in \u001B[0;36m_load_unlocked\u001B[0;34m(spec)\u001B[0m\n",
       "\n",
       "File \u001B[0;32m/databricks/python_shell/lib/dbruntime/PostImportHook.py:239\u001B[0m, in \u001B[0;36mmake_patched_exec_module.<locals>.patched_exec_module\u001B[0;34m(module)\u001B[0m\n",
       "\u001B[1;32m    236\u001B[0m \u001B[38;5;129m@functools\u001B[39m\u001B[38;5;241m.\u001B[39mwraps(exec_module)\n",
       "\u001B[1;32m    237\u001B[0m \u001B[38;5;28;01mdef\u001B[39;00m \u001B[38;5;21mpatched_exec_module\u001B[39m(module: ModuleType) \u001B[38;5;241m-\u001B[39m\u001B[38;5;241m>\u001B[39m \u001B[38;5;28;01mNone\u001B[39;00m:\n",
       "\u001B[1;32m    238\u001B[0m     \u001B[38;5;28;01mtry\u001B[39;00m:\n",
       "\u001B[0;32m--> 239\u001B[0m         exec_module(module)\n",
       "\u001B[1;32m    240\u001B[0m         notify_module_loaded(module)\n",
       "\u001B[1;32m    241\u001B[0m     \u001B[38;5;28;01mexcept\u001B[39;00m (\u001B[38;5;167;01mImportError\u001B[39;00m, \u001B[38;5;167;01mAttributeError\u001B[39;00m):\n",
       "\n",
       "File \u001B[0;32m/databricks/python/lib/python3.11/site-packages/pandas/__init__.py:22\u001B[0m\n",
       "\u001B[1;32m     19\u001B[0m \u001B[38;5;28;01mdel\u001B[39;00m _hard_dependencies, _dependency, _missing_dependencies\n",
       "\u001B[1;32m     21\u001B[0m \u001B[38;5;66;03m# numpy compat\u001B[39;00m\n",
       "\u001B[0;32m---> 22\u001B[0m \u001B[38;5;28;01mfrom\u001B[39;00m \u001B[38;5;21;01mpandas\u001B[39;00m\u001B[38;5;21;01m.\u001B[39;00m\u001B[38;5;21;01mcompat\u001B[39;00m \u001B[38;5;28;01mimport\u001B[39;00m is_numpy_dev \u001B[38;5;28;01mas\u001B[39;00m _is_numpy_dev  \u001B[38;5;66;03m# pyright: ignore # noqa:F401\u001B[39;00m\n",
       "\u001B[1;32m     24\u001B[0m \u001B[38;5;28;01mtry\u001B[39;00m:\n",
       "\u001B[1;32m     25\u001B[0m     \u001B[38;5;28;01mfrom\u001B[39;00m \u001B[38;5;21;01mpandas\u001B[39;00m\u001B[38;5;21;01m.\u001B[39;00m\u001B[38;5;21;01m_libs\u001B[39;00m \u001B[38;5;28;01mimport\u001B[39;00m hashtable \u001B[38;5;28;01mas\u001B[39;00m _hashtable, lib \u001B[38;5;28;01mas\u001B[39;00m _lib, tslib \u001B[38;5;28;01mas\u001B[39;00m _tslib\n",
       "\n",
       "File \u001B[0;32m/databricks/python/lib/python3.11/site-packages/pandas/compat/__init__.py:18\u001B[0m\n",
       "\u001B[1;32m     15\u001B[0m \u001B[38;5;28;01mfrom\u001B[39;00m \u001B[38;5;21;01mtyping\u001B[39;00m \u001B[38;5;28;01mimport\u001B[39;00m TYPE_CHECKING\n",
       "\u001B[1;32m     17\u001B[0m \u001B[38;5;28;01mfrom\u001B[39;00m \u001B[38;5;21;01mpandas\u001B[39;00m\u001B[38;5;21;01m.\u001B[39;00m\u001B[38;5;21;01m_typing\u001B[39;00m \u001B[38;5;28;01mimport\u001B[39;00m F\n",
       "\u001B[0;32m---> 18\u001B[0m \u001B[38;5;28;01mfrom\u001B[39;00m \u001B[38;5;21;01mpandas\u001B[39;00m\u001B[38;5;21;01m.\u001B[39;00m\u001B[38;5;21;01mcompat\u001B[39;00m\u001B[38;5;21;01m.\u001B[39;00m\u001B[38;5;21;01mnumpy\u001B[39;00m \u001B[38;5;28;01mimport\u001B[39;00m (\n",
       "\u001B[1;32m     19\u001B[0m     is_numpy_dev,\n",
       "\u001B[1;32m     20\u001B[0m     np_version_under1p21,\n",
       "\u001B[1;32m     21\u001B[0m )\n",
       "\u001B[1;32m     22\u001B[0m \u001B[38;5;28;01mfrom\u001B[39;00m \u001B[38;5;21;01mpandas\u001B[39;00m\u001B[38;5;21;01m.\u001B[39;00m\u001B[38;5;21;01mcompat\u001B[39;00m\u001B[38;5;21;01m.\u001B[39;00m\u001B[38;5;21;01mpyarrow\u001B[39;00m \u001B[38;5;28;01mimport\u001B[39;00m (\n",
       "\u001B[1;32m     23\u001B[0m     pa_version_under1p01,\n",
       "\u001B[1;32m     24\u001B[0m     pa_version_under2p0,\n",
       "\u001B[0;32m   (...)\u001B[0m\n",
       "\u001B[1;32m     31\u001B[0m     pa_version_under9p0,\n",
       "\u001B[1;32m     32\u001B[0m )\n",
       "\u001B[1;32m     34\u001B[0m \u001B[38;5;28;01mif\u001B[39;00m TYPE_CHECKING:\n",
       "\n",
       "File \u001B[0;32m/databricks/python/lib/python3.11/site-packages/pandas/compat/numpy/__init__.py:4\u001B[0m\n",
       "\u001B[1;32m      1\u001B[0m \u001B[38;5;124;03m\"\"\" support numpy compatibility across versions \"\"\"\u001B[39;00m\n",
       "\u001B[1;32m      2\u001B[0m \u001B[38;5;28;01mimport\u001B[39;00m \u001B[38;5;21;01mnumpy\u001B[39;00m \u001B[38;5;28;01mas\u001B[39;00m \u001B[38;5;21;01mnp\u001B[39;00m\n",
       "\u001B[0;32m----> 4\u001B[0m \u001B[38;5;28;01mfrom\u001B[39;00m \u001B[38;5;21;01mpandas\u001B[39;00m\u001B[38;5;21;01m.\u001B[39;00m\u001B[38;5;21;01mutil\u001B[39;00m\u001B[38;5;21;01m.\u001B[39;00m\u001B[38;5;21;01mversion\u001B[39;00m \u001B[38;5;28;01mimport\u001B[39;00m Version\n",
       "\u001B[1;32m      6\u001B[0m \u001B[38;5;66;03m# numpy versioning\u001B[39;00m\n",
       "\u001B[1;32m      7\u001B[0m _np_version \u001B[38;5;241m=\u001B[39m np\u001B[38;5;241m.\u001B[39m__version__\n",
       "\n",
       "File \u001B[0;32m/databricks/python/lib/python3.11/site-packages/pandas/util/__init__.py:2\u001B[0m\n",
       "\u001B[1;32m      1\u001B[0m \u001B[38;5;66;03m# pyright: reportUnusedImport = false\u001B[39;00m\n",
       "\u001B[0;32m----> 2\u001B[0m \u001B[38;5;28;01mfrom\u001B[39;00m \u001B[38;5;21;01mpandas\u001B[39;00m\u001B[38;5;21;01m.\u001B[39;00m\u001B[38;5;21;01mutil\u001B[39;00m\u001B[38;5;21;01m.\u001B[39;00m\u001B[38;5;21;01m_decorators\u001B[39;00m \u001B[38;5;28;01mimport\u001B[39;00m (  \u001B[38;5;66;03m# noqa:F401\u001B[39;00m\n",
       "\u001B[1;32m      3\u001B[0m     Appender,\n",
       "\u001B[1;32m      4\u001B[0m     Substitution,\n",
       "\u001B[1;32m      5\u001B[0m     cache_readonly,\n",
       "\u001B[1;32m      6\u001B[0m )\n",
       "\u001B[1;32m      8\u001B[0m \u001B[38;5;28;01mfrom\u001B[39;00m \u001B[38;5;21;01mpandas\u001B[39;00m\u001B[38;5;21;01m.\u001B[39;00m\u001B[38;5;21;01mcore\u001B[39;00m\u001B[38;5;21;01m.\u001B[39;00m\u001B[38;5;21;01mutil\u001B[39;00m\u001B[38;5;21;01m.\u001B[39;00m\u001B[38;5;21;01mhashing\u001B[39;00m \u001B[38;5;28;01mimport\u001B[39;00m (  \u001B[38;5;66;03m# noqa:F401\u001B[39;00m\n",
       "\u001B[1;32m      9\u001B[0m     hash_array,\n",
       "\u001B[1;32m     10\u001B[0m     hash_pandas_object,\n",
       "\u001B[1;32m     11\u001B[0m )\n",
       "\u001B[1;32m     14\u001B[0m \u001B[38;5;28;01mdef\u001B[39;00m \u001B[38;5;21m__getattr__\u001B[39m(name):\n",
       "\n",
       "File \u001B[0;32m/databricks/python/lib/python3.11/site-packages/pandas/util/_decorators.py:14\u001B[0m\n",
       "\u001B[1;32m      6\u001B[0m \u001B[38;5;28;01mfrom\u001B[39;00m \u001B[38;5;21;01mtyping\u001B[39;00m \u001B[38;5;28;01mimport\u001B[39;00m (\n",
       "\u001B[1;32m      7\u001B[0m     Any,\n",
       "\u001B[1;32m      8\u001B[0m     Callable,\n",
       "\u001B[1;32m      9\u001B[0m     Mapping,\n",
       "\u001B[1;32m     10\u001B[0m     cast,\n",
       "\u001B[1;32m     11\u001B[0m )\n",
       "\u001B[1;32m     12\u001B[0m \u001B[38;5;28;01mimport\u001B[39;00m \u001B[38;5;21;01mwarnings\u001B[39;00m\n",
       "\u001B[0;32m---> 14\u001B[0m \u001B[38;5;28;01mfrom\u001B[39;00m \u001B[38;5;21;01mpandas\u001B[39;00m\u001B[38;5;21;01m.\u001B[39;00m\u001B[38;5;21;01m_libs\u001B[39;00m\u001B[38;5;21;01m.\u001B[39;00m\u001B[38;5;21;01mproperties\u001B[39;00m \u001B[38;5;28;01mimport\u001B[39;00m cache_readonly\n",
       "\u001B[1;32m     15\u001B[0m \u001B[38;5;28;01mfrom\u001B[39;00m \u001B[38;5;21;01mpandas\u001B[39;00m\u001B[38;5;21;01m.\u001B[39;00m\u001B[38;5;21;01m_typing\u001B[39;00m \u001B[38;5;28;01mimport\u001B[39;00m (\n",
       "\u001B[1;32m     16\u001B[0m     F,\n",
       "\u001B[1;32m     17\u001B[0m     T,\n",
       "\u001B[1;32m     18\u001B[0m )\n",
       "\u001B[1;32m     19\u001B[0m \u001B[38;5;28;01mfrom\u001B[39;00m \u001B[38;5;21;01mpandas\u001B[39;00m\u001B[38;5;21;01m.\u001B[39;00m\u001B[38;5;21;01mutil\u001B[39;00m\u001B[38;5;21;01m.\u001B[39;00m\u001B[38;5;21;01m_exceptions\u001B[39;00m \u001B[38;5;28;01mimport\u001B[39;00m find_stack_level\n",
       "\n",
       "File \u001B[0;32m/databricks/python/lib/python3.11/site-packages/pandas/_libs/__init__.py:13\u001B[0m\n",
       "\u001B[1;32m      1\u001B[0m __all__ \u001B[38;5;241m=\u001B[39m [\n",
       "\u001B[1;32m      2\u001B[0m     \u001B[38;5;124m\"\u001B[39m\u001B[38;5;124mNaT\u001B[39m\u001B[38;5;124m\"\u001B[39m,\n",
       "\u001B[1;32m      3\u001B[0m     \u001B[38;5;124m\"\u001B[39m\u001B[38;5;124mNaTType\u001B[39m\u001B[38;5;124m\"\u001B[39m,\n",
       "\u001B[0;32m   (...)\u001B[0m\n",
       "\u001B[1;32m      9\u001B[0m     \u001B[38;5;124m\"\u001B[39m\u001B[38;5;124mInterval\u001B[39m\u001B[38;5;124m\"\u001B[39m,\n",
       "\u001B[1;32m     10\u001B[0m ]\n",
       "\u001B[0;32m---> 13\u001B[0m \u001B[38;5;28;01mfrom\u001B[39;00m \u001B[38;5;21;01mpandas\u001B[39;00m\u001B[38;5;21;01m.\u001B[39;00m\u001B[38;5;21;01m_libs\u001B[39;00m\u001B[38;5;21;01m.\u001B[39;00m\u001B[38;5;21;01minterval\u001B[39;00m \u001B[38;5;28;01mimport\u001B[39;00m Interval\n",
       "\u001B[1;32m     14\u001B[0m \u001B[38;5;28;01mfrom\u001B[39;00m \u001B[38;5;21;01mpandas\u001B[39;00m\u001B[38;5;21;01m.\u001B[39;00m\u001B[38;5;21;01m_libs\u001B[39;00m\u001B[38;5;21;01m.\u001B[39;00m\u001B[38;5;21;01mtslibs\u001B[39;00m \u001B[38;5;28;01mimport\u001B[39;00m (\n",
       "\u001B[1;32m     15\u001B[0m     NaT,\n",
       "\u001B[1;32m     16\u001B[0m     NaTType,\n",
       "\u001B[0;32m   (...)\u001B[0m\n",
       "\u001B[1;32m     21\u001B[0m     iNaT,\n",
       "\u001B[1;32m     22\u001B[0m )\n",
       "\n",
       "File \u001B[0;32m/databricks/python/lib/python3.11/site-packages/pandas/_libs/interval.pyx:1\u001B[0m, in \u001B[0;36minit pandas._libs.interval\u001B[0;34m()\u001B[0m\n",
       "\n",
       "\u001B[0;31mValueError\u001B[0m: numpy.dtype size changed, may indicate binary incompatibility. Expected 96 from C header, got 88 from PyObject"
      ]
     },
     "metadata": {
      "application/vnd.databricks.v1+output": {
       "addedWidgets": {},
       "arguments": {},
       "datasetInfos": [],
       "jupyterProps": {
        "ename": "ValueError",
        "evalue": "numpy.dtype size changed, may indicate binary incompatibility. Expected 96 from C header, got 88 from PyObject"
       },
       "metadata": {
        "errorSummary": "<span class='ansi-red-fg'>ValueError</span>: numpy.dtype size changed, may indicate binary incompatibility. Expected 96 from C header, got 88 from PyObject"
       },
       "removedWidgets": [],
       "sqlProps": null,
       "stackFrames": [
        "\u001B[0;31m---------------------------------------------------------------------------\u001B[0m",
        "\u001B[0;31mValueError\u001B[0m                                Traceback (most recent call last)",
        "File \u001B[0;32m<command-5507547720733496>, line 1\u001B[0m\n\u001B[0;32m----> 1\u001B[0m \u001B[38;5;28;01mfrom\u001B[39;00m \u001B[38;5;21;01mflaml\u001B[39;00m \u001B[38;5;28;01mimport\u001B[39;00m AutoML\n\u001B[1;32m      2\u001B[0m \u001B[38;5;28;01mfrom\u001B[39;00m \u001B[38;5;21;01msklearn\u001B[39;00m\u001B[38;5;21;01m.\u001B[39;00m\u001B[38;5;21;01mmodel_selection\u001B[39;00m \u001B[38;5;28;01mimport\u001B[39;00m train_test_split\n\u001B[1;32m      3\u001B[0m \u001B[38;5;28;01mfrom\u001B[39;00m \u001B[38;5;21;01msklearn\u001B[39;00m\u001B[38;5;21;01m.\u001B[39;00m\u001B[38;5;21;01mmetrics\u001B[39;00m \u001B[38;5;28;01mimport\u001B[39;00m mean_squared_error, r2_score\n",
        "File \u001B[0;32m/databricks/python_shell/lib/dbruntime/autoreload/discoverability/hook.py:71\u001B[0m, in \u001B[0;36mAutoreloadDiscoverabilityHook._patched_import\u001B[0;34m(self, name, *args, **kwargs)\u001B[0m\n\u001B[1;32m     65\u001B[0m \u001B[38;5;28;01mif\u001B[39;00m \u001B[38;5;129;01mnot\u001B[39;00m \u001B[38;5;28mself\u001B[39m\u001B[38;5;241m.\u001B[39m_should_hint \u001B[38;5;129;01mand\u001B[39;00m (\n\u001B[1;32m     66\u001B[0m     (module \u001B[38;5;241m:=\u001B[39m sys\u001B[38;5;241m.\u001B[39mmodules\u001B[38;5;241m.\u001B[39mget(absolute_name)) \u001B[38;5;129;01mis\u001B[39;00m \u001B[38;5;129;01mnot\u001B[39;00m \u001B[38;5;28;01mNone\u001B[39;00m \u001B[38;5;129;01mand\u001B[39;00m\n\u001B[1;32m     67\u001B[0m     (fname \u001B[38;5;241m:=\u001B[39m get_allowed_file_name_or_none(module)) \u001B[38;5;129;01mis\u001B[39;00m \u001B[38;5;129;01mnot\u001B[39;00m \u001B[38;5;28;01mNone\u001B[39;00m \u001B[38;5;129;01mand\u001B[39;00m\n\u001B[1;32m     68\u001B[0m     (mtime \u001B[38;5;241m:=\u001B[39m os\u001B[38;5;241m.\u001B[39mstat(fname)\u001B[38;5;241m.\u001B[39mst_mtime) \u001B[38;5;241m>\u001B[39m \u001B[38;5;28mself\u001B[39m\u001B[38;5;241m.\u001B[39mlast_mtime_by_modname\u001B[38;5;241m.\u001B[39mget(\n\u001B[1;32m     69\u001B[0m         absolute_name, \u001B[38;5;28mfloat\u001B[39m(\u001B[38;5;124m\"\u001B[39m\u001B[38;5;124minf\u001B[39m\u001B[38;5;124m\"\u001B[39m)) \u001B[38;5;129;01mand\u001B[39;00m \u001B[38;5;129;01mnot\u001B[39;00m \u001B[38;5;28mself\u001B[39m\u001B[38;5;241m.\u001B[39m_should_hint):\n\u001B[1;32m     70\u001B[0m     \u001B[38;5;28mself\u001B[39m\u001B[38;5;241m.\u001B[39m_should_hint \u001B[38;5;241m=\u001B[39m \u001B[38;5;28;01mTrue\u001B[39;00m\n\u001B[0;32m---> 71\u001B[0m module \u001B[38;5;241m=\u001B[39m \u001B[38;5;28mself\u001B[39m\u001B[38;5;241m.\u001B[39m_original_builtins_import(name, \u001B[38;5;241m*\u001B[39margs, \u001B[38;5;241m*\u001B[39m\u001B[38;5;241m*\u001B[39mkwargs)\n\u001B[1;32m     72\u001B[0m \u001B[38;5;28;01mif\u001B[39;00m (fname \u001B[38;5;241m:=\u001B[39m fname \u001B[38;5;129;01mor\u001B[39;00m get_allowed_file_name_or_none(module)) \u001B[38;5;129;01mis\u001B[39;00m \u001B[38;5;129;01mnot\u001B[39;00m \u001B[38;5;28;01mNone\u001B[39;00m:\n\u001B[1;32m     73\u001B[0m     mtime \u001B[38;5;241m=\u001B[39m mtime \u001B[38;5;129;01mor\u001B[39;00m os\u001B[38;5;241m.\u001B[39mstat(fname)\u001B[38;5;241m.\u001B[39mst_mtime\n",
        "File \u001B[0;32m/local_disk0/.ephemeral_nfs/envs/pythonEnv-e1df9765-991e-484c-b8fd-999d2ee0f4c6/lib/python3.11/site-packages/flaml/__init__.py:5\u001B[0m\n\u001B[1;32m      2\u001B[0m \u001B[38;5;28;01mimport\u001B[39;00m \u001B[38;5;21;01mwarnings\u001B[39;00m\n\u001B[1;32m      4\u001B[0m \u001B[38;5;28;01mtry\u001B[39;00m:\n\u001B[0;32m----> 5\u001B[0m     \u001B[38;5;28;01mfrom\u001B[39;00m \u001B[38;5;21;01mflaml\u001B[39;00m\u001B[38;5;21;01m.\u001B[39;00m\u001B[38;5;21;01mautoml\u001B[39;00m \u001B[38;5;28;01mimport\u001B[39;00m AutoML, logger_formatter\n\u001B[1;32m      7\u001B[0m     has_automl \u001B[38;5;241m=\u001B[39m \u001B[38;5;28;01mTrue\u001B[39;00m\n\u001B[1;32m      8\u001B[0m \u001B[38;5;28;01mexcept\u001B[39;00m \u001B[38;5;167;01mImportError\u001B[39;00m:\n",
        "File \u001B[0;32m/local_disk0/.ephemeral_nfs/envs/pythonEnv-e1df9765-991e-484c-b8fd-999d2ee0f4c6/lib/python3.11/site-packages/flaml/automl/__init__.py:4\u001B[0m\n\u001B[1;32m      1\u001B[0m \u001B[38;5;28;01mfrom\u001B[39;00m \u001B[38;5;21;01mflaml\u001B[39;00m\u001B[38;5;21;01m.\u001B[39;00m\u001B[38;5;21;01mautoml\u001B[39;00m\u001B[38;5;21;01m.\u001B[39;00m\u001B[38;5;21;01mlogger\u001B[39;00m \u001B[38;5;28;01mimport\u001B[39;00m logger_formatter\n\u001B[1;32m      3\u001B[0m \u001B[38;5;28;01mtry\u001B[39;00m:\n\u001B[0;32m----> 4\u001B[0m     \u001B[38;5;28;01mfrom\u001B[39;00m \u001B[38;5;21;01mflaml\u001B[39;00m\u001B[38;5;21;01m.\u001B[39;00m\u001B[38;5;21;01mautoml\u001B[39;00m\u001B[38;5;21;01m.\u001B[39;00m\u001B[38;5;21;01mautoml\u001B[39;00m \u001B[38;5;28;01mimport\u001B[39;00m AutoML, size\n\u001B[1;32m      5\u001B[0m     \u001B[38;5;28;01mfrom\u001B[39;00m \u001B[38;5;21;01mflaml\u001B[39;00m\u001B[38;5;21;01m.\u001B[39;00m\u001B[38;5;21;01mautoml\u001B[39;00m\u001B[38;5;21;01m.\u001B[39;00m\u001B[38;5;21;01mstate\u001B[39;00m \u001B[38;5;28;01mimport\u001B[39;00m AutoMLState, SearchState\n\u001B[1;32m      7\u001B[0m     __all__ \u001B[38;5;241m=\u001B[39m [\u001B[38;5;124m\"\u001B[39m\u001B[38;5;124mAutoML\u001B[39m\u001B[38;5;124m\"\u001B[39m, \u001B[38;5;124m\"\u001B[39m\u001B[38;5;124mAutoMLState\u001B[39m\u001B[38;5;124m\"\u001B[39m, \u001B[38;5;124m\"\u001B[39m\u001B[38;5;124mSearchState\u001B[39m\u001B[38;5;124m\"\u001B[39m, \u001B[38;5;124m\"\u001B[39m\u001B[38;5;124mlogger_formatter\u001B[39m\u001B[38;5;124m\"\u001B[39m, \u001B[38;5;124m\"\u001B[39m\u001B[38;5;124msize\u001B[39m\u001B[38;5;124m\"\u001B[39m]\n",
        "File \u001B[0;32m/local_disk0/.ephemeral_nfs/envs/pythonEnv-e1df9765-991e-484c-b8fd-999d2ee0f4c6/lib/python3.11/site-packages/flaml/automl/automl.py:19\u001B[0m\n\u001B[1;32m     15\u001B[0m \u001B[38;5;28;01mfrom\u001B[39;00m \u001B[38;5;21;01mtyping\u001B[39;00m \u001B[38;5;28;01mimport\u001B[39;00m Callable, List, Optional, Union\n\u001B[1;32m     17\u001B[0m \u001B[38;5;28;01mimport\u001B[39;00m \u001B[38;5;21;01mnumpy\u001B[39;00m \u001B[38;5;28;01mas\u001B[39;00m \u001B[38;5;21;01mnp\u001B[39;00m\n\u001B[0;32m---> 19\u001B[0m \u001B[38;5;28;01mfrom\u001B[39;00m \u001B[38;5;21;01mflaml\u001B[39;00m \u001B[38;5;28;01mimport\u001B[39;00m tune\n\u001B[1;32m     20\u001B[0m \u001B[38;5;28;01mfrom\u001B[39;00m \u001B[38;5;21;01mflaml\u001B[39;00m\u001B[38;5;21;01m.\u001B[39;00m\u001B[38;5;21;01mautoml\u001B[39;00m\u001B[38;5;21;01m.\u001B[39;00m\u001B[38;5;21;01mlogger\u001B[39;00m \u001B[38;5;28;01mimport\u001B[39;00m logger, logger_formatter\n\u001B[1;32m     21\u001B[0m \u001B[38;5;28;01mfrom\u001B[39;00m \u001B[38;5;21;01mflaml\u001B[39;00m\u001B[38;5;21;01m.\u001B[39;00m\u001B[38;5;21;01mautoml\u001B[39;00m\u001B[38;5;21;01m.\u001B[39;00m\u001B[38;5;21;01mml\u001B[39;00m \u001B[38;5;28;01mimport\u001B[39;00m huggingface_metric_to_mode, sklearn_metric_name_set, spark_metric_name_dict, train_estimator\n",
        "File \u001B[0;32m/local_disk0/.ephemeral_nfs/envs/pythonEnv-e1df9765-991e-484c-b8fd-999d2ee0f4c6/lib/python3.11/site-packages/flaml/tune/__init__.py:38\u001B[0m\n\u001B[1;32m     36\u001B[0m \u001B[38;5;28;01mfrom\u001B[39;00m \u001B[38;5;21;01m.\u001B[39;00m\u001B[38;5;21;01msample\u001B[39;00m \u001B[38;5;28;01mimport\u001B[39;00m Categorical, Float, PolynomialExpansionSet, polynomial_expansion_set\n\u001B[1;32m     37\u001B[0m \u001B[38;5;28;01mfrom\u001B[39;00m \u001B[38;5;21;01m.\u001B[39;00m\u001B[38;5;21;01mtrial\u001B[39;00m \u001B[38;5;28;01mimport\u001B[39;00m Trial\n\u001B[0;32m---> 38\u001B[0m \u001B[38;5;28;01mfrom\u001B[39;00m \u001B[38;5;21;01m.\u001B[39;00m\u001B[38;5;21;01mtune\u001B[39;00m \u001B[38;5;28;01mimport\u001B[39;00m INCUMBENT_RESULT, report, run\n\u001B[1;32m     39\u001B[0m \u001B[38;5;28;01mfrom\u001B[39;00m \u001B[38;5;21;01m.\u001B[39;00m\u001B[38;5;21;01mutils\u001B[39;00m \u001B[38;5;28;01mimport\u001B[39;00m choice\n",
        "File \u001B[0;32m/local_disk0/.ephemeral_nfs/envs/pythonEnv-e1df9765-991e-484c-b8fd-999d2ee0f4c6/lib/python3.11/site-packages/flaml/tune/tune.py:33\u001B[0m\n\u001B[1;32m     30\u001B[0m \u001B[38;5;28;01mfrom\u001B[39;00m \u001B[38;5;21;01m.\u001B[39;00m\u001B[38;5;21;01mtrial\u001B[39;00m \u001B[38;5;28;01mimport\u001B[39;00m Trial\n\u001B[1;32m     32\u001B[0m \u001B[38;5;28;01mtry\u001B[39;00m:\n\u001B[0;32m---> 33\u001B[0m     \u001B[38;5;28;01mimport\u001B[39;00m \u001B[38;5;21;01mmlflow\u001B[39;00m\n\u001B[1;32m     34\u001B[0m \u001B[38;5;28;01mexcept\u001B[39;00m \u001B[38;5;167;01mImportError\u001B[39;00m:\n\u001B[1;32m     35\u001B[0m     mlflow \u001B[38;5;241m=\u001B[39m \u001B[38;5;28;01mNone\u001B[39;00m\n",
        "File \u001B[0;32m<frozen importlib._bootstrap>:1176\u001B[0m, in \u001B[0;36m_find_and_load\u001B[0;34m(name, import_)\u001B[0m\n",
        "File \u001B[0;32m<frozen importlib._bootstrap>:1147\u001B[0m, in \u001B[0;36m_find_and_load_unlocked\u001B[0;34m(name, import_)\u001B[0m\n",
        "File \u001B[0;32m<frozen importlib._bootstrap>:690\u001B[0m, in \u001B[0;36m_load_unlocked\u001B[0;34m(spec)\u001B[0m\n",
        "File \u001B[0;32m/databricks/python_shell/lib/dbruntime/PostImportHook.py:239\u001B[0m, in \u001B[0;36mmake_patched_exec_module.<locals>.patched_exec_module\u001B[0;34m(module)\u001B[0m\n\u001B[1;32m    236\u001B[0m \u001B[38;5;129m@functools\u001B[39m\u001B[38;5;241m.\u001B[39mwraps(exec_module)\n\u001B[1;32m    237\u001B[0m \u001B[38;5;28;01mdef\u001B[39;00m \u001B[38;5;21mpatched_exec_module\u001B[39m(module: ModuleType) \u001B[38;5;241m-\u001B[39m\u001B[38;5;241m>\u001B[39m \u001B[38;5;28;01mNone\u001B[39;00m:\n\u001B[1;32m    238\u001B[0m     \u001B[38;5;28;01mtry\u001B[39;00m:\n\u001B[0;32m--> 239\u001B[0m         exec_module(module)\n\u001B[1;32m    240\u001B[0m         notify_module_loaded(module)\n\u001B[1;32m    241\u001B[0m     \u001B[38;5;28;01mexcept\u001B[39;00m (\u001B[38;5;167;01mImportError\u001B[39;00m, \u001B[38;5;167;01mAttributeError\u001B[39;00m):\n",
        "File \u001B[0;32m/databricks/python/lib/python3.11/site-packages/mlflow/__init__.py:34\u001B[0m\n\u001B[1;32m     31\u001B[0m \u001B[38;5;28;01mfrom\u001B[39;00m \u001B[38;5;21;01mmlflow\u001B[39;00m\u001B[38;5;21;01m.\u001B[39;00m\u001B[38;5;21;01mversion\u001B[39;00m \u001B[38;5;28;01mimport\u001B[39;00m VERSION\n\u001B[1;32m     33\u001B[0m __version__ \u001B[38;5;241m=\u001B[39m VERSION\n\u001B[0;32m---> 34\u001B[0m \u001B[38;5;28;01mfrom\u001B[39;00m \u001B[38;5;21;01mmlflow\u001B[39;00m \u001B[38;5;28;01mimport\u001B[39;00m (\n\u001B[1;32m     35\u001B[0m     artifacts,  \u001B[38;5;66;03m# noqa: F401\u001B[39;00m\n\u001B[1;32m     36\u001B[0m     client,  \u001B[38;5;66;03m# noqa: F401\u001B[39;00m\n\u001B[1;32m     37\u001B[0m     config,  \u001B[38;5;66;03m# noqa: F401\u001B[39;00m\n\u001B[1;32m     38\u001B[0m     data,  \u001B[38;5;66;03m# noqa: F401\u001B[39;00m\n\u001B[1;32m     39\u001B[0m     exceptions,  \u001B[38;5;66;03m# noqa: F401\u001B[39;00m\n\u001B[1;32m     40\u001B[0m     models,  \u001B[38;5;66;03m# noqa: F401\u001B[39;00m\n\u001B[1;32m     41\u001B[0m     projects,  \u001B[38;5;66;03m# noqa: F401\u001B[39;00m\n\u001B[1;32m     42\u001B[0m     tracking,  \u001B[38;5;66;03m# noqa: F401\u001B[39;00m\n\u001B[1;32m     43\u001B[0m )\n\u001B[1;32m     44\u001B[0m \u001B[38;5;28;01mfrom\u001B[39;00m \u001B[38;5;21;01mmlflow\u001B[39;00m\u001B[38;5;21;01m.\u001B[39;00m\u001B[38;5;21;01menvironment_variables\u001B[39;00m \u001B[38;5;28;01mimport\u001B[39;00m MLFLOW_CONFIGURE_LOGGING\n\u001B[1;32m     45\u001B[0m \u001B[38;5;28;01mfrom\u001B[39;00m \u001B[38;5;21;01mmlflow\u001B[39;00m\u001B[38;5;21;01m.\u001B[39;00m\u001B[38;5;21;01mutils\u001B[39;00m\u001B[38;5;21;01m.\u001B[39;00m\u001B[38;5;21;01mlazy_load\u001B[39;00m \u001B[38;5;28;01mimport\u001B[39;00m LazyLoader\n",
        "File \u001B[0;32m/databricks/python/lib/python3.11/site-packages/mlflow/data/__init__.py:5\u001B[0m\n\u001B[1;32m      2\u001B[0m \u001B[38;5;28;01mfrom\u001B[39;00m \u001B[38;5;21;01mcontextlib\u001B[39;00m \u001B[38;5;28;01mimport\u001B[39;00m suppress\n\u001B[1;32m      3\u001B[0m \u001B[38;5;28;01mfrom\u001B[39;00m \u001B[38;5;21;01mtyping\u001B[39;00m \u001B[38;5;28;01mimport\u001B[39;00m Union\n\u001B[0;32m----> 5\u001B[0m \u001B[38;5;28;01mfrom\u001B[39;00m \u001B[38;5;21;01mmlflow\u001B[39;00m\u001B[38;5;21;01m.\u001B[39;00m\u001B[38;5;21;01mdata\u001B[39;00m \u001B[38;5;28;01mimport\u001B[39;00m dataset_registry\n\u001B[1;32m      6\u001B[0m \u001B[38;5;28;01mfrom\u001B[39;00m \u001B[38;5;21;01mmlflow\u001B[39;00m\u001B[38;5;21;01m.\u001B[39;00m\u001B[38;5;21;01mdata\u001B[39;00m \u001B[38;5;28;01mimport\u001B[39;00m sources \u001B[38;5;28;01mas\u001B[39;00m mlflow_data_sources\n\u001B[1;32m      7\u001B[0m \u001B[38;5;28;01mfrom\u001B[39;00m \u001B[38;5;21;01mmlflow\u001B[39;00m\u001B[38;5;21;01m.\u001B[39;00m\u001B[38;5;21;01mdata\u001B[39;00m\u001B[38;5;21;01m.\u001B[39;00m\u001B[38;5;21;01mdataset\u001B[39;00m \u001B[38;5;28;01mimport\u001B[39;00m Dataset\n",
        "File \u001B[0;32m/databricks/python/lib/python3.11/site-packages/mlflow/data/dataset_registry.py:138\u001B[0m\n\u001B[1;32m    136\u001B[0m \u001B[38;5;66;03m# use contextlib suppress to ignore import errors\u001B[39;00m\n\u001B[1;32m    137\u001B[0m \u001B[38;5;28;01mwith\u001B[39;00m suppress(\u001B[38;5;167;01mImportError\u001B[39;00m):\n\u001B[0;32m--> 138\u001B[0m     \u001B[38;5;28;01mfrom\u001B[39;00m \u001B[38;5;21;01mmlflow\u001B[39;00m\u001B[38;5;21;01m.\u001B[39;00m\u001B[38;5;21;01mdata\u001B[39;00m\u001B[38;5;21;01m.\u001B[39;00m\u001B[38;5;21;01mpandas_dataset\u001B[39;00m \u001B[38;5;28;01mimport\u001B[39;00m from_pandas\n\u001B[1;32m    140\u001B[0m     _dataset_registry\u001B[38;5;241m.\u001B[39mregister_constructor(from_pandas)\n\u001B[1;32m    141\u001B[0m \u001B[38;5;28;01mwith\u001B[39;00m suppress(\u001B[38;5;167;01mImportError\u001B[39;00m):\n",
        "File \u001B[0;32m/databricks/python/lib/python3.11/site-packages/mlflow/data/pandas_dataset.py:6\u001B[0m\n\u001B[1;32m      3\u001B[0m \u001B[38;5;28;01mfrom\u001B[39;00m \u001B[38;5;21;01mfunctools\u001B[39;00m \u001B[38;5;28;01mimport\u001B[39;00m cached_property\n\u001B[1;32m      4\u001B[0m \u001B[38;5;28;01mfrom\u001B[39;00m \u001B[38;5;21;01mtyping\u001B[39;00m \u001B[38;5;28;01mimport\u001B[39;00m Any, Dict, Optional, Union\n\u001B[0;32m----> 6\u001B[0m \u001B[38;5;28;01mimport\u001B[39;00m \u001B[38;5;21;01mpandas\u001B[39;00m \u001B[38;5;28;01mas\u001B[39;00m \u001B[38;5;21;01mpd\u001B[39;00m\n\u001B[1;32m      8\u001B[0m \u001B[38;5;28;01mfrom\u001B[39;00m \u001B[38;5;21;01mmlflow\u001B[39;00m\u001B[38;5;21;01m.\u001B[39;00m\u001B[38;5;21;01mdata\u001B[39;00m\u001B[38;5;21;01m.\u001B[39;00m\u001B[38;5;21;01mdataset\u001B[39;00m \u001B[38;5;28;01mimport\u001B[39;00m Dataset\n\u001B[1;32m      9\u001B[0m \u001B[38;5;28;01mfrom\u001B[39;00m \u001B[38;5;21;01mmlflow\u001B[39;00m\u001B[38;5;21;01m.\u001B[39;00m\u001B[38;5;21;01mdata\u001B[39;00m\u001B[38;5;21;01m.\u001B[39;00m\u001B[38;5;21;01mdataset_source\u001B[39;00m \u001B[38;5;28;01mimport\u001B[39;00m DatasetSource\n",
        "File \u001B[0;32m<frozen importlib._bootstrap>:1176\u001B[0m, in \u001B[0;36m_find_and_load\u001B[0;34m(name, import_)\u001B[0m\n",
        "File \u001B[0;32m<frozen importlib._bootstrap>:1147\u001B[0m, in \u001B[0;36m_find_and_load_unlocked\u001B[0;34m(name, import_)\u001B[0m\n",
        "File \u001B[0;32m<frozen importlib._bootstrap>:690\u001B[0m, in \u001B[0;36m_load_unlocked\u001B[0;34m(spec)\u001B[0m\n",
        "File \u001B[0;32m/databricks/python_shell/lib/dbruntime/PostImportHook.py:239\u001B[0m, in \u001B[0;36mmake_patched_exec_module.<locals>.patched_exec_module\u001B[0;34m(module)\u001B[0m\n\u001B[1;32m    236\u001B[0m \u001B[38;5;129m@functools\u001B[39m\u001B[38;5;241m.\u001B[39mwraps(exec_module)\n\u001B[1;32m    237\u001B[0m \u001B[38;5;28;01mdef\u001B[39;00m \u001B[38;5;21mpatched_exec_module\u001B[39m(module: ModuleType) \u001B[38;5;241m-\u001B[39m\u001B[38;5;241m>\u001B[39m \u001B[38;5;28;01mNone\u001B[39;00m:\n\u001B[1;32m    238\u001B[0m     \u001B[38;5;28;01mtry\u001B[39;00m:\n\u001B[0;32m--> 239\u001B[0m         exec_module(module)\n\u001B[1;32m    240\u001B[0m         notify_module_loaded(module)\n\u001B[1;32m    241\u001B[0m     \u001B[38;5;28;01mexcept\u001B[39;00m (\u001B[38;5;167;01mImportError\u001B[39;00m, \u001B[38;5;167;01mAttributeError\u001B[39;00m):\n",
        "File \u001B[0;32m/databricks/python/lib/python3.11/site-packages/pandas/__init__.py:22\u001B[0m\n\u001B[1;32m     19\u001B[0m \u001B[38;5;28;01mdel\u001B[39;00m _hard_dependencies, _dependency, _missing_dependencies\n\u001B[1;32m     21\u001B[0m \u001B[38;5;66;03m# numpy compat\u001B[39;00m\n\u001B[0;32m---> 22\u001B[0m \u001B[38;5;28;01mfrom\u001B[39;00m \u001B[38;5;21;01mpandas\u001B[39;00m\u001B[38;5;21;01m.\u001B[39;00m\u001B[38;5;21;01mcompat\u001B[39;00m \u001B[38;5;28;01mimport\u001B[39;00m is_numpy_dev \u001B[38;5;28;01mas\u001B[39;00m _is_numpy_dev  \u001B[38;5;66;03m# pyright: ignore # noqa:F401\u001B[39;00m\n\u001B[1;32m     24\u001B[0m \u001B[38;5;28;01mtry\u001B[39;00m:\n\u001B[1;32m     25\u001B[0m     \u001B[38;5;28;01mfrom\u001B[39;00m \u001B[38;5;21;01mpandas\u001B[39;00m\u001B[38;5;21;01m.\u001B[39;00m\u001B[38;5;21;01m_libs\u001B[39;00m \u001B[38;5;28;01mimport\u001B[39;00m hashtable \u001B[38;5;28;01mas\u001B[39;00m _hashtable, lib \u001B[38;5;28;01mas\u001B[39;00m _lib, tslib \u001B[38;5;28;01mas\u001B[39;00m _tslib\n",
        "File \u001B[0;32m/databricks/python/lib/python3.11/site-packages/pandas/compat/__init__.py:18\u001B[0m\n\u001B[1;32m     15\u001B[0m \u001B[38;5;28;01mfrom\u001B[39;00m \u001B[38;5;21;01mtyping\u001B[39;00m \u001B[38;5;28;01mimport\u001B[39;00m TYPE_CHECKING\n\u001B[1;32m     17\u001B[0m \u001B[38;5;28;01mfrom\u001B[39;00m \u001B[38;5;21;01mpandas\u001B[39;00m\u001B[38;5;21;01m.\u001B[39;00m\u001B[38;5;21;01m_typing\u001B[39;00m \u001B[38;5;28;01mimport\u001B[39;00m F\n\u001B[0;32m---> 18\u001B[0m \u001B[38;5;28;01mfrom\u001B[39;00m \u001B[38;5;21;01mpandas\u001B[39;00m\u001B[38;5;21;01m.\u001B[39;00m\u001B[38;5;21;01mcompat\u001B[39;00m\u001B[38;5;21;01m.\u001B[39;00m\u001B[38;5;21;01mnumpy\u001B[39;00m \u001B[38;5;28;01mimport\u001B[39;00m (\n\u001B[1;32m     19\u001B[0m     is_numpy_dev,\n\u001B[1;32m     20\u001B[0m     np_version_under1p21,\n\u001B[1;32m     21\u001B[0m )\n\u001B[1;32m     22\u001B[0m \u001B[38;5;28;01mfrom\u001B[39;00m \u001B[38;5;21;01mpandas\u001B[39;00m\u001B[38;5;21;01m.\u001B[39;00m\u001B[38;5;21;01mcompat\u001B[39;00m\u001B[38;5;21;01m.\u001B[39;00m\u001B[38;5;21;01mpyarrow\u001B[39;00m \u001B[38;5;28;01mimport\u001B[39;00m (\n\u001B[1;32m     23\u001B[0m     pa_version_under1p01,\n\u001B[1;32m     24\u001B[0m     pa_version_under2p0,\n\u001B[0;32m   (...)\u001B[0m\n\u001B[1;32m     31\u001B[0m     pa_version_under9p0,\n\u001B[1;32m     32\u001B[0m )\n\u001B[1;32m     34\u001B[0m \u001B[38;5;28;01mif\u001B[39;00m TYPE_CHECKING:\n",
        "File \u001B[0;32m/databricks/python/lib/python3.11/site-packages/pandas/compat/numpy/__init__.py:4\u001B[0m\n\u001B[1;32m      1\u001B[0m \u001B[38;5;124;03m\"\"\" support numpy compatibility across versions \"\"\"\u001B[39;00m\n\u001B[1;32m      2\u001B[0m \u001B[38;5;28;01mimport\u001B[39;00m \u001B[38;5;21;01mnumpy\u001B[39;00m \u001B[38;5;28;01mas\u001B[39;00m \u001B[38;5;21;01mnp\u001B[39;00m\n\u001B[0;32m----> 4\u001B[0m \u001B[38;5;28;01mfrom\u001B[39;00m \u001B[38;5;21;01mpandas\u001B[39;00m\u001B[38;5;21;01m.\u001B[39;00m\u001B[38;5;21;01mutil\u001B[39;00m\u001B[38;5;21;01m.\u001B[39;00m\u001B[38;5;21;01mversion\u001B[39;00m \u001B[38;5;28;01mimport\u001B[39;00m Version\n\u001B[1;32m      6\u001B[0m \u001B[38;5;66;03m# numpy versioning\u001B[39;00m\n\u001B[1;32m      7\u001B[0m _np_version \u001B[38;5;241m=\u001B[39m np\u001B[38;5;241m.\u001B[39m__version__\n",
        "File \u001B[0;32m/databricks/python/lib/python3.11/site-packages/pandas/util/__init__.py:2\u001B[0m\n\u001B[1;32m      1\u001B[0m \u001B[38;5;66;03m# pyright: reportUnusedImport = false\u001B[39;00m\n\u001B[0;32m----> 2\u001B[0m \u001B[38;5;28;01mfrom\u001B[39;00m \u001B[38;5;21;01mpandas\u001B[39;00m\u001B[38;5;21;01m.\u001B[39;00m\u001B[38;5;21;01mutil\u001B[39;00m\u001B[38;5;21;01m.\u001B[39;00m\u001B[38;5;21;01m_decorators\u001B[39;00m \u001B[38;5;28;01mimport\u001B[39;00m (  \u001B[38;5;66;03m# noqa:F401\u001B[39;00m\n\u001B[1;32m      3\u001B[0m     Appender,\n\u001B[1;32m      4\u001B[0m     Substitution,\n\u001B[1;32m      5\u001B[0m     cache_readonly,\n\u001B[1;32m      6\u001B[0m )\n\u001B[1;32m      8\u001B[0m \u001B[38;5;28;01mfrom\u001B[39;00m \u001B[38;5;21;01mpandas\u001B[39;00m\u001B[38;5;21;01m.\u001B[39;00m\u001B[38;5;21;01mcore\u001B[39;00m\u001B[38;5;21;01m.\u001B[39;00m\u001B[38;5;21;01mutil\u001B[39;00m\u001B[38;5;21;01m.\u001B[39;00m\u001B[38;5;21;01mhashing\u001B[39;00m \u001B[38;5;28;01mimport\u001B[39;00m (  \u001B[38;5;66;03m# noqa:F401\u001B[39;00m\n\u001B[1;32m      9\u001B[0m     hash_array,\n\u001B[1;32m     10\u001B[0m     hash_pandas_object,\n\u001B[1;32m     11\u001B[0m )\n\u001B[1;32m     14\u001B[0m \u001B[38;5;28;01mdef\u001B[39;00m \u001B[38;5;21m__getattr__\u001B[39m(name):\n",
        "File \u001B[0;32m/databricks/python/lib/python3.11/site-packages/pandas/util/_decorators.py:14\u001B[0m\n\u001B[1;32m      6\u001B[0m \u001B[38;5;28;01mfrom\u001B[39;00m \u001B[38;5;21;01mtyping\u001B[39;00m \u001B[38;5;28;01mimport\u001B[39;00m (\n\u001B[1;32m      7\u001B[0m     Any,\n\u001B[1;32m      8\u001B[0m     Callable,\n\u001B[1;32m      9\u001B[0m     Mapping,\n\u001B[1;32m     10\u001B[0m     cast,\n\u001B[1;32m     11\u001B[0m )\n\u001B[1;32m     12\u001B[0m \u001B[38;5;28;01mimport\u001B[39;00m \u001B[38;5;21;01mwarnings\u001B[39;00m\n\u001B[0;32m---> 14\u001B[0m \u001B[38;5;28;01mfrom\u001B[39;00m \u001B[38;5;21;01mpandas\u001B[39;00m\u001B[38;5;21;01m.\u001B[39;00m\u001B[38;5;21;01m_libs\u001B[39;00m\u001B[38;5;21;01m.\u001B[39;00m\u001B[38;5;21;01mproperties\u001B[39;00m \u001B[38;5;28;01mimport\u001B[39;00m cache_readonly\n\u001B[1;32m     15\u001B[0m \u001B[38;5;28;01mfrom\u001B[39;00m \u001B[38;5;21;01mpandas\u001B[39;00m\u001B[38;5;21;01m.\u001B[39;00m\u001B[38;5;21;01m_typing\u001B[39;00m \u001B[38;5;28;01mimport\u001B[39;00m (\n\u001B[1;32m     16\u001B[0m     F,\n\u001B[1;32m     17\u001B[0m     T,\n\u001B[1;32m     18\u001B[0m )\n\u001B[1;32m     19\u001B[0m \u001B[38;5;28;01mfrom\u001B[39;00m \u001B[38;5;21;01mpandas\u001B[39;00m\u001B[38;5;21;01m.\u001B[39;00m\u001B[38;5;21;01mutil\u001B[39;00m\u001B[38;5;21;01m.\u001B[39;00m\u001B[38;5;21;01m_exceptions\u001B[39;00m \u001B[38;5;28;01mimport\u001B[39;00m find_stack_level\n",
        "File \u001B[0;32m/databricks/python/lib/python3.11/site-packages/pandas/_libs/__init__.py:13\u001B[0m\n\u001B[1;32m      1\u001B[0m __all__ \u001B[38;5;241m=\u001B[39m [\n\u001B[1;32m      2\u001B[0m     \u001B[38;5;124m\"\u001B[39m\u001B[38;5;124mNaT\u001B[39m\u001B[38;5;124m\"\u001B[39m,\n\u001B[1;32m      3\u001B[0m     \u001B[38;5;124m\"\u001B[39m\u001B[38;5;124mNaTType\u001B[39m\u001B[38;5;124m\"\u001B[39m,\n\u001B[0;32m   (...)\u001B[0m\n\u001B[1;32m      9\u001B[0m     \u001B[38;5;124m\"\u001B[39m\u001B[38;5;124mInterval\u001B[39m\u001B[38;5;124m\"\u001B[39m,\n\u001B[1;32m     10\u001B[0m ]\n\u001B[0;32m---> 13\u001B[0m \u001B[38;5;28;01mfrom\u001B[39;00m \u001B[38;5;21;01mpandas\u001B[39;00m\u001B[38;5;21;01m.\u001B[39;00m\u001B[38;5;21;01m_libs\u001B[39;00m\u001B[38;5;21;01m.\u001B[39;00m\u001B[38;5;21;01minterval\u001B[39;00m \u001B[38;5;28;01mimport\u001B[39;00m Interval\n\u001B[1;32m     14\u001B[0m \u001B[38;5;28;01mfrom\u001B[39;00m \u001B[38;5;21;01mpandas\u001B[39;00m\u001B[38;5;21;01m.\u001B[39;00m\u001B[38;5;21;01m_libs\u001B[39;00m\u001B[38;5;21;01m.\u001B[39;00m\u001B[38;5;21;01mtslibs\u001B[39;00m \u001B[38;5;28;01mimport\u001B[39;00m (\n\u001B[1;32m     15\u001B[0m     NaT,\n\u001B[1;32m     16\u001B[0m     NaTType,\n\u001B[0;32m   (...)\u001B[0m\n\u001B[1;32m     21\u001B[0m     iNaT,\n\u001B[1;32m     22\u001B[0m )\n",
        "File \u001B[0;32m/databricks/python/lib/python3.11/site-packages/pandas/_libs/interval.pyx:1\u001B[0m, in \u001B[0;36minit pandas._libs.interval\u001B[0;34m()\u001B[0m\n",
        "\u001B[0;31mValueError\u001B[0m: numpy.dtype size changed, may indicate binary incompatibility. Expected 96 from C header, got 88 from PyObject"
       ],
       "type": "baseError"
      }
     },
     "output_type": "display_data"
    }
   ],
   "source": [
    "from flaml import AutoML\n",
    "from sklearn.model_selection import train_test_split\n",
    "from sklearn.metrics import mean_squared_error, r2_score\n",
    "import pandas as pd"
   ]
  },
  {
   "cell_type": "markdown",
   "metadata": {
    "application/vnd.databricks.v1+cell": {
     "cellMetadata": {},
     "inputWidgets": {},
     "nuid": "eec5b931-5e51-4181-8a38-fc11afb02810",
     "showTitle": false,
     "tableResultSettingsMap": {},
     "title": ""
    }
   },
   "source": [
    "### Initialize H2O and Convert DataFrame"
   ]
  },
  {
   "cell_type": "code",
   "execution_count": 0,
   "metadata": {
    "application/vnd.databricks.v1+cell": {
     "cellMetadata": {
      "byteLimit": 2048000,
      "rowLimit": 10000
     },
     "inputWidgets": {},
     "nuid": "0b3ed832-3cd1-4180-969d-c3dc9ef4574f",
     "showTitle": false,
     "tableResultSettingsMap": {},
     "title": ""
    }
   },
   "outputs": [
    {
     "output_type": "stream",
     "name": "stdout",
     "output_type": "stream",
     "text": [
      "Checking whether there is an H2O instance running at http://localhost:54321..... not found.\nAttempting to start a local H2O server...\n  Java Version: openjdk version \"17.0.13\" 2024-10-15 LTS; OpenJDK Runtime Environment Zulu17.54+21-CA (build 17.0.13+11-LTS); OpenJDK 64-Bit Server VM Zulu17.54+21-CA (build 17.0.13+11-LTS, mixed mode, sharing)\n  Starting server from /local_disk0/.ephemeral_nfs/envs/pythonEnv-e1df9765-991e-484c-b8fd-999d2ee0f4c6/lib/python3.11/site-packages/h2o/backend/bin/h2o.jar\n  Ice root: /tmp/tmp0do4u1vj\n  JVM stdout: /tmp/tmp0do4u1vj/h2o_spark_e1df9765_991e_484c_b8fd_99_started_from_python.out\n  JVM stderr: /tmp/tmp0do4u1vj/h2o_spark_e1df9765_991e_484c_b8fd_99_started_from_python.err\n  Server is running at http://127.0.0.1:54321\nConnecting to H2O server at http://127.0.0.1:54321 ...................... failed.\n"
     ]
    },
    {
     "output_type": "display_data",
     "data": {
      "text/plain": [
       "\u001B[0;31m---------------------------------------------------------------------------\u001B[0m\n",
       "\u001B[0;31mH2OConnectionError\u001B[0m                        Traceback (most recent call last)\n",
       "File \u001B[0;32m/local_disk0/.ephemeral_nfs/envs/pythonEnv-e1df9765-991e-484c-b8fd-999d2ee0f4c6/lib/python3.11/site-packages/h2o/h2o.py:270\u001B[0m, in \u001B[0;36minit\u001B[0;34m(url, ip, port, name, https, cacert, insecure, username, password, cookies, proxy, start_h2o, nthreads, ice_root, log_dir, log_level, max_log_file_size, enable_assertions, max_mem_size, min_mem_size, strict_version_check, ignore_config, extra_classpath, jvm_custom_args, bind_to_localhost, verbose, **kwargs)\u001B[0m\n",
       "\u001B[1;32m    269\u001B[0m \u001B[38;5;28;01mtry\u001B[39;00m:\n",
       "\u001B[0;32m--> 270\u001B[0m     h2oconn \u001B[38;5;241m=\u001B[39m H2OConnection\u001B[38;5;241m.\u001B[39mopen(url\u001B[38;5;241m=\u001B[39murl, ip\u001B[38;5;241m=\u001B[39mip, port\u001B[38;5;241m=\u001B[39mport, name\u001B[38;5;241m=\u001B[39mname, https\u001B[38;5;241m=\u001B[39mhttps,\n",
       "\u001B[1;32m    271\u001B[0m                                  verify_ssl_certificates\u001B[38;5;241m=\u001B[39mverify_ssl_certificates, cacert\u001B[38;5;241m=\u001B[39mcacert,\n",
       "\u001B[1;32m    272\u001B[0m                                  auth\u001B[38;5;241m=\u001B[39mauth, proxy\u001B[38;5;241m=\u001B[39mproxy, cookies\u001B[38;5;241m=\u001B[39mcookies, verbose\u001B[38;5;241m=\u001B[39mverbose,\n",
       "\u001B[1;32m    273\u001B[0m                                  msgs\u001B[38;5;241m=\u001B[39m(\u001B[38;5;124m\"\u001B[39m\u001B[38;5;124mChecking whether there is an H2O instance running at \u001B[39m\u001B[38;5;132;01m{url}\u001B[39;00m\u001B[38;5;124m\"\u001B[39m,\n",
       "\u001B[1;32m    274\u001B[0m                                        \u001B[38;5;124m\"\u001B[39m\u001B[38;5;124mconnected.\u001B[39m\u001B[38;5;124m\"\u001B[39m, \u001B[38;5;124m\"\u001B[39m\u001B[38;5;124mnot found.\u001B[39m\u001B[38;5;124m\"\u001B[39m),\n",
       "\u001B[1;32m    275\u001B[0m                                  strict_version_check\u001B[38;5;241m=\u001B[39msvc)\n",
       "\u001B[1;32m    276\u001B[0m \u001B[38;5;28;01mexcept\u001B[39;00m H2OConnectionError:\n",
       "\u001B[1;32m    277\u001B[0m     \u001B[38;5;66;03m# Backward compatibility: in init() port parameter really meant \"baseport\" when starting a local server...\u001B[39;00m\n",
       "\n",
       "File \u001B[0;32m/local_disk0/.ephemeral_nfs/envs/pythonEnv-e1df9765-991e-484c-b8fd-999d2ee0f4c6/lib/python3.11/site-packages/h2o/backend/connection.py:406\u001B[0m, in \u001B[0;36mH2OConnection.open\u001B[0;34m(server, url, ip, port, name, https, auth, verify_ssl_certificates, cacert, proxy, cookies, verbose, msgs, strict_version_check)\u001B[0m\n",
       "\u001B[1;32m    405\u001B[0m conn\u001B[38;5;241m.\u001B[39m_timeout \u001B[38;5;241m=\u001B[39m \u001B[38;5;241m3.0\u001B[39m\n",
       "\u001B[0;32m--> 406\u001B[0m conn\u001B[38;5;241m.\u001B[39m_cluster \u001B[38;5;241m=\u001B[39m conn\u001B[38;5;241m.\u001B[39m_test_connection(retries, messages\u001B[38;5;241m=\u001B[39mmsgs)\n",
       "\u001B[1;32m    407\u001B[0m \u001B[38;5;66;03m# If a server is unable to respond within 1s, it should be considered a bug. However we disable this\u001B[39;00m\n",
       "\u001B[1;32m    408\u001B[0m \u001B[38;5;66;03m# setting for now, for no good reason other than to ignore all those bugs :(\u001B[39;00m\n",
       "\n",
       "File \u001B[0;32m/local_disk0/.ephemeral_nfs/envs/pythonEnv-e1df9765-991e-484c-b8fd-999d2ee0f4c6/lib/python3.11/site-packages/h2o/backend/connection.py:713\u001B[0m, in \u001B[0;36mH2OConnection._test_connection\u001B[0;34m(self, max_retries, messages)\u001B[0m\n",
       "\u001B[1;32m    712\u001B[0m \u001B[38;5;28;01melse\u001B[39;00m:\n",
       "\u001B[0;32m--> 713\u001B[0m     \u001B[38;5;28;01mraise\u001B[39;00m H2OConnectionError(\u001B[38;5;124m\"\u001B[39m\u001B[38;5;124mCould not establish link to the H2O cloud \u001B[39m\u001B[38;5;132;01m%s\u001B[39;00m\u001B[38;5;124m after \u001B[39m\u001B[38;5;132;01m%d\u001B[39;00m\u001B[38;5;124m retries\u001B[39m\u001B[38;5;130;01m\\n\u001B[39;00m\u001B[38;5;132;01m%s\u001B[39;00m\u001B[38;5;124m\"\u001B[39m\n",
       "\u001B[1;32m    714\u001B[0m                              \u001B[38;5;241m%\u001B[39m (\u001B[38;5;28mself\u001B[39m\u001B[38;5;241m.\u001B[39m_base_url, max_retries, \u001B[38;5;124m\"\u001B[39m\u001B[38;5;130;01m\\n\u001B[39;00m\u001B[38;5;124m\"\u001B[39m\u001B[38;5;241m.\u001B[39mjoin(errors)))\n",
       "\n",
       "\u001B[0;31mH2OConnectionError\u001B[0m: Could not establish link to the H2O cloud http://localhost:54321 after 5 retries\n",
       "[09:48.48] H2OConnectionError: Unexpected HTTP error: HTTPConnectionPool(host='localhost', port=54321): Max retries exceeded with url: /3/Metadata/schemas/CloudV3 (Caused by NewConnectionError('<urllib3.connection.HTTPConnection object at 0xff92e3a82f90>: Failed to establish a new connection: [Errno 111] Connection refused'))\n",
       "[09:48.68] H2OConnectionError: Unexpected HTTP error: HTTPConnectionPool(host='localhost', port=54321): Max retries exceeded with url: /3/Metadata/schemas/CloudV3 (Caused by NewConnectionError('<urllib3.connection.HTTPConnection object at 0xff927cd6da10>: Failed to establish a new connection: [Errno 111] Connection refused'))\n",
       "[09:48.89] H2OConnectionError: Unexpected HTTP error: HTTPConnectionPool(host='localhost', port=54321): Max retries exceeded with url: /3/Metadata/schemas/CloudV3 (Caused by NewConnectionError('<urllib3.connection.HTTPConnection object at 0xff927cc20650>: Failed to establish a new connection: [Errno 111] Connection refused'))\n",
       "[09:49.09] H2OConnectionError: Unexpected HTTP error: HTTPConnectionPool(host='localhost', port=54321): Max retries exceeded with url: /3/Metadata/schemas/CloudV3 (Caused by NewConnectionError('<urllib3.connection.HTTPConnection object at 0xff927cbfffd0>: Failed to establish a new connection: [Errno 111] Connection refused'))\n",
       "[09:49.29] H2OConnectionError: Unexpected HTTP error: HTTPConnectionPool(host='localhost', port=54321): Max retries exceeded with url: /3/Metadata/schemas/CloudV3 (Caused by NewConnectionError('<urllib3.connection.HTTPConnection object at 0xff927e2bcd10>: Failed to establish a new connection: [Errno 111] Connection refused'))\n",
       "\n",
       "During handling of the above exception, another exception occurred:\n",
       "\n",
       "\u001B[0;31mH2OConnectionError\u001B[0m                        Traceback (most recent call last)\n",
       "File \u001B[0;32m<command-5507547720733497>, line 2\u001B[0m\n",
       "\u001B[1;32m      1\u001B[0m \u001B[38;5;66;03m# Start H2O\u001B[39;00m\n",
       "\u001B[0;32m----> 2\u001B[0m h2o\u001B[38;5;241m.\u001B[39minit()\n",
       "\u001B[1;32m      4\u001B[0m \u001B[38;5;66;03m# Convert Spark DataFrame to Pandas\u001B[39;00m\n",
       "\u001B[1;32m      5\u001B[0m athletes_pd \u001B[38;5;241m=\u001B[39m athletes_df\u001B[38;5;241m.\u001B[39mtoPandas()\n",
       "\n",
       "File \u001B[0;32m/local_disk0/.ephemeral_nfs/envs/pythonEnv-e1df9765-991e-484c-b8fd-999d2ee0f4c6/lib/python3.11/site-packages/h2o/h2o.py:292\u001B[0m, in \u001B[0;36minit\u001B[0;34m(url, ip, port, name, https, cacert, insecure, username, password, cookies, proxy, start_h2o, nthreads, ice_root, log_dir, log_level, max_log_file_size, enable_assertions, max_mem_size, min_mem_size, strict_version_check, ignore_config, extra_classpath, jvm_custom_args, bind_to_localhost, verbose, **kwargs)\u001B[0m\n",
       "\u001B[1;32m    284\u001B[0m         \u001B[38;5;28;01mraise\u001B[39;00m H2OConnectionError(\u001B[38;5;124m'\u001B[39m\u001B[38;5;124mStarting local server is not available with https enabled. You may start local\u001B[39m\u001B[38;5;124m'\u001B[39m\n",
       "\u001B[1;32m    285\u001B[0m                                  \u001B[38;5;124m'\u001B[39m\u001B[38;5;124m instance of H2O with https manually \u001B[39m\u001B[38;5;124m'\u001B[39m\n",
       "\u001B[1;32m    286\u001B[0m                                  \u001B[38;5;124m'\u001B[39m\u001B[38;5;124m(https://docs.h2o.ai/h2o/latest-stable/h2o-docs/welcome.html#new-user-quick-start).\u001B[39m\u001B[38;5;124m'\u001B[39m)\n",
       "\u001B[1;32m    287\u001B[0m     hs \u001B[38;5;241m=\u001B[39m H2OLocalServer\u001B[38;5;241m.\u001B[39mstart(nthreads\u001B[38;5;241m=\u001B[39mnthreads, enable_assertions\u001B[38;5;241m=\u001B[39menable_assertions, max_mem_size\u001B[38;5;241m=\u001B[39mmmax,\n",
       "\u001B[1;32m    288\u001B[0m                               min_mem_size\u001B[38;5;241m=\u001B[39mmmin, ice_root\u001B[38;5;241m=\u001B[39mice_root, log_dir\u001B[38;5;241m=\u001B[39mlog_dir, log_level\u001B[38;5;241m=\u001B[39mlog_level,\n",
       "\u001B[1;32m    289\u001B[0m                               max_log_file_size\u001B[38;5;241m=\u001B[39mmax_log_file_size, port\u001B[38;5;241m=\u001B[39mport, name\u001B[38;5;241m=\u001B[39mname,\n",
       "\u001B[1;32m    290\u001B[0m                               extra_classpath\u001B[38;5;241m=\u001B[39mextra_classpath, jvm_custom_args\u001B[38;5;241m=\u001B[39mjvm_custom_args,\n",
       "\u001B[1;32m    291\u001B[0m                               bind_to_localhost\u001B[38;5;241m=\u001B[39mbind_to_localhost,verbose\u001B[38;5;241m=\u001B[39mverbose)\n",
       "\u001B[0;32m--> 292\u001B[0m     h2oconn \u001B[38;5;241m=\u001B[39m H2OConnection\u001B[38;5;241m.\u001B[39mopen(server\u001B[38;5;241m=\u001B[39mhs, https\u001B[38;5;241m=\u001B[39mhttps, verify_ssl_certificates\u001B[38;5;241m=\u001B[39mverify_ssl_certificates,\n",
       "\u001B[1;32m    293\u001B[0m                                  cacert\u001B[38;5;241m=\u001B[39mcacert, auth\u001B[38;5;241m=\u001B[39mauth, proxy\u001B[38;5;241m=\u001B[39mproxy, cookies\u001B[38;5;241m=\u001B[39mcookies, verbose\u001B[38;5;241m=\u001B[39mverbose,\n",
       "\u001B[1;32m    294\u001B[0m                                  strict_version_check\u001B[38;5;241m=\u001B[39msvc)\n",
       "\u001B[1;32m    295\u001B[0m h2oconn\u001B[38;5;241m.\u001B[39mcluster\u001B[38;5;241m.\u001B[39mtimezone \u001B[38;5;241m=\u001B[39m \u001B[38;5;124m\"\u001B[39m\u001B[38;5;124mUTC\u001B[39m\u001B[38;5;124m\"\u001B[39m\n",
       "\u001B[1;32m    296\u001B[0m \u001B[38;5;28;01mif\u001B[39;00m verbose:\n",
       "\n",
       "File \u001B[0;32m/local_disk0/.ephemeral_nfs/envs/pythonEnv-e1df9765-991e-484c-b8fd-999d2ee0f4c6/lib/python3.11/site-packages/h2o/backend/connection.py:406\u001B[0m, in \u001B[0;36mH2OConnection.open\u001B[0;34m(server, url, ip, port, name, https, auth, verify_ssl_certificates, cacert, proxy, cookies, verbose, msgs, strict_version_check)\u001B[0m\n",
       "\u001B[1;32m    404\u001B[0m conn\u001B[38;5;241m.\u001B[39m_stage \u001B[38;5;241m=\u001B[39m \u001B[38;5;241m1\u001B[39m\n",
       "\u001B[1;32m    405\u001B[0m conn\u001B[38;5;241m.\u001B[39m_timeout \u001B[38;5;241m=\u001B[39m \u001B[38;5;241m3.0\u001B[39m\n",
       "\u001B[0;32m--> 406\u001B[0m conn\u001B[38;5;241m.\u001B[39m_cluster \u001B[38;5;241m=\u001B[39m conn\u001B[38;5;241m.\u001B[39m_test_connection(retries, messages\u001B[38;5;241m=\u001B[39mmsgs)\n",
       "\u001B[1;32m    407\u001B[0m \u001B[38;5;66;03m# If a server is unable to respond within 1s, it should be considered a bug. However we disable this\u001B[39;00m\n",
       "\u001B[1;32m    408\u001B[0m \u001B[38;5;66;03m# setting for now, for no good reason other than to ignore all those bugs :(\u001B[39;00m\n",
       "\u001B[1;32m    409\u001B[0m conn\u001B[38;5;241m.\u001B[39m_timeout \u001B[38;5;241m=\u001B[39m \u001B[38;5;28;01mNone\u001B[39;00m\n",
       "\n",
       "File \u001B[0;32m/local_disk0/.ephemeral_nfs/envs/pythonEnv-e1df9765-991e-484c-b8fd-999d2ee0f4c6/lib/python3.11/site-packages/h2o/backend/connection.py:713\u001B[0m, in \u001B[0;36mH2OConnection._test_connection\u001B[0;34m(self, max_retries, messages)\u001B[0m\n",
       "\u001B[1;32m    711\u001B[0m     \u001B[38;5;28;01mraise\u001B[39;00m H2OServerError(\u001B[38;5;124m\"\u001B[39m\u001B[38;5;124mCluster cannot reach consensus\u001B[39m\u001B[38;5;124m\"\u001B[39m)\n",
       "\u001B[1;32m    712\u001B[0m \u001B[38;5;28;01melse\u001B[39;00m:\n",
       "\u001B[0;32m--> 713\u001B[0m     \u001B[38;5;28;01mraise\u001B[39;00m H2OConnectionError(\u001B[38;5;124m\"\u001B[39m\u001B[38;5;124mCould not establish link to the H2O cloud \u001B[39m\u001B[38;5;132;01m%s\u001B[39;00m\u001B[38;5;124m after \u001B[39m\u001B[38;5;132;01m%d\u001B[39;00m\u001B[38;5;124m retries\u001B[39m\u001B[38;5;130;01m\\n\u001B[39;00m\u001B[38;5;132;01m%s\u001B[39;00m\u001B[38;5;124m\"\u001B[39m\n",
       "\u001B[1;32m    714\u001B[0m                              \u001B[38;5;241m%\u001B[39m (\u001B[38;5;28mself\u001B[39m\u001B[38;5;241m.\u001B[39m_base_url, max_retries, \u001B[38;5;124m\"\u001B[39m\u001B[38;5;130;01m\\n\u001B[39;00m\u001B[38;5;124m\"\u001B[39m\u001B[38;5;241m.\u001B[39mjoin(errors)))\n",
       "\n",
       "\u001B[0;31mH2OConnectionError\u001B[0m: Could not establish link to the H2O cloud http://127.0.0.1:54321 after 20 retries\n",
       "[09:55.33] H2OConnectionError: Unexpected HTTP error: HTTPConnectionPool(host='127.0.0.1', port=54321): Max retries exceeded with url: /3/Metadata/schemas/CloudV3 (Caused by NewConnectionError('<urllib3.connection.HTTPConnection object at 0xff927cdbfb10>: Failed to establish a new connection: [Errno 111] Connection refused'))\n",
       "[09:55.54] H2OConnectionError: Unexpected HTTP error: HTTPConnectionPool(host='127.0.0.1', port=54321): Max retries exceeded with url: /3/Metadata/schemas/CloudV3 (Caused by NewConnectionError('<urllib3.connection.HTTPConnection object at 0xff927cdc3010>: Failed to establish a new connection: [Errno 111] Connection refused'))\n",
       "[09:55.74] H2OConnectionError: Unexpected HTTP error: HTTPConnectionPool(host='127.0.0.1', port=54321): Max retries exceeded with url: /3/Metadata/schemas/CloudV3 (Caused by NewConnectionError('<urllib3.connection.HTTPConnection object at 0xff927cdbd1d0>: Failed to establish a new connection: [Errno 111] Connection refused'))\n",
       "[09:55.94] H2OConnectionError: Unexpected HTTP error: HTTPConnectionPool(host='127.0.0.1', port=54321): Max retries exceeded with url: /3/Metadata/schemas/CloudV3 (Caused by NewConnectionError('<urllib3.connection.HTTPConnection object at 0xff927cbfd890>: Failed to establish a new connection: [Errno 111] Connection refused'))\n",
       "[09:56.15] H2OConnectionError: Unexpected HTTP error: HTTPConnectionPool(host='127.0.0.1', port=54321): Max retries exceeded with url: /3/Metadata/schemas/CloudV3 (Caused by NewConnectionError('<urllib3.connection.HTTPConnection object at 0xff927cbfcd10>: Failed to establish a new connection: [Errno 111] Connection refused'))\n",
       "[09:56.35] H2OConnectionError: Unexpected HTTP error: HTTPConnectionPool(host='127.0.0.1', port=54321): Max retries exceeded with url: /3/Metadata/schemas/CloudV3 (Caused by NewConnectionError('<urllib3.connection.HTTPConnection object at 0xff927cdc2110>: Failed to establish a new connection: [Errno 111] Connection refused'))\n",
       "[09:56.55] H2OConnectionError: Unexpected HTTP error: HTTPConnectionPool(host='127.0.0.1', port=54321): Max retries exceeded with url: /3/Metadata/schemas/CloudV3 (Caused by NewConnectionError('<urllib3.connection.HTTPConnection object at 0xff927cbe37d0>: Failed to establish a new connection: [Errno 111] Connection refused'))\n",
       "[09:56.75] H2OConnectionError: Unexpected HTTP error: HTTPConnectionPool(host='127.0.0.1', port=54321): Max retries exceeded with url: /3/Metadata/schemas/CloudV3 (Caused by NewConnectionError('<urllib3.connection.HTTPConnection object at 0xff92e39f8a90>: Failed to establish a new connection: [Errno 111] Connection refused'))\n",
       "[09:56.96] H2OConnectionError: Unexpected HTTP error: HTTPConnectionPool(host='127.0.0.1', port=54321): Max retries exceeded with url: /3/Metadata/schemas/CloudV3 (Caused by NewConnectionError('<urllib3.connection.HTTPConnection object at 0xff927ce29090>: Failed to establish a new connection: [Errno 111] Connection refused'))\n",
       "[09:57.16] H2OConnectionError: Unexpected HTTP error: HTTPConnectionPool(host='127.0.0.1', port=54321): Max retries exceeded with url: /3/Metadata/schemas/CloudV3 (Caused by NewConnectionError('<urllib3.connection.HTTPConnection object at 0xff927cc21f50>: Failed to establish a new connection: [Errno 111] Connection refused'))\n",
       "[09:57.36] H2OConnectionError: Unexpected HTTP error: HTTPConnectionPool(host='127.0.0.1', port=54321): Max retries exceeded with url: /3/Metadata/schemas/CloudV3 (Caused by NewConnectionError('<urllib3.connection.HTTPConnection object at 0xff927cbfea10>: Failed to establish a new connection: [Errno 111] Connection refused'))\n",
       "[09:57.56] H2OConnectionError: Unexpected HTTP error: HTTPConnectionPool(host='127.0.0.1', port=54321): Max retries exceeded with url: /3/Metadata/schemas/CloudV3 (Caused by NewConnectionError('<urllib3.connection.HTTPConnection object at 0xff927cdbf290>: Failed to establish a new connection: [Errno 111] Connection refused'))\n",
       "[09:57.76] H2OConnectionError: Unexpected HTTP error: HTTPConnectionPool(host='127.0.0.1', port=54321): Max retries exceeded with url: /3/Metadata/schemas/CloudV3 (Caused by NewConnectionError('<urllib3.connection.HTTPConnection object at 0xff927cdd3350>: Failed to establish a new connection: [Errno 111] Connection refused'))\n",
       "[09:57.97] H2OConnectionError: Unexpected HTTP error: HTTPConnectionPool(host='127.0.0.1', port=54321): Max retries exceeded with url: /3/Metadata/schemas/CloudV3 (Caused by NewConnectionError('<urllib3.connection.HTTPConnection object at 0xff927cd9a590>: Failed to establish a new connection: [Errno 111] Connection refused'))\n",
       "[09:58.17] H2OConnectionError: Unexpected HTTP error: HTTPConnectionPool(host='127.0.0.1', port=54321): Max retries exceeded with url: /3/Metadata/schemas/CloudV3 (Caused by NewConnectionError('<urllib3.connection.HTTPConnection object at 0xff927cdbe210>: Failed to establish a new connection: [Errno 111] Connection refused'))\n",
       "[09:58.37] H2OConnectionError: Unexpected HTTP error: HTTPConnectionPool(host='127.0.0.1', port=54321): Max retries exceeded with url: /3/Metadata/schemas/CloudV3 (Caused by NewConnectionError('<urllib3.connection.HTTPConnection object at 0xff927defed50>: Failed to establish a new connection: [Errno 111] Connection refused'))\n",
       "[09:58.58] H2OConnectionError: Unexpected HTTP error: HTTPConnectionPool(host='127.0.0.1', port=54321): Max retries exceeded with url: /3/Metadata/schemas/CloudV3 (Caused by NewConnectionError('<urllib3.connection.HTTPConnection object at 0xff927cbfe190>: Failed to establish a new connection: [Errno 111] Connection refused'))\n",
       "[09:58.78] H2OConnectionError: Unexpected HTTP error: HTTPConnectionPool(host='127.0.0.1', port=54321): Max retries exceeded with url: /3/Metadata/schemas/CloudV3 (Caused by NewConnectionError('<urllib3.connection.HTTPConnection object at 0xff927cd6f590>: Failed to establish a new connection: [Errno 111] Connection refused'))\n",
       "[09:58.98] H2OConnectionError: Unexpected HTTP error: HTTPConnectionPool(host='127.0.0.1', port=54321): Max retries exceeded with url: /3/Metadata/schemas/CloudV3 (Caused by NewConnectionError('<urllib3.connection.HTTPConnection object at 0xff927cbe3ed0>: Failed to establish a new connection: [Errno 111] Connection refused'))\n",
       "[09:59.19] H2OConnectionError: Unexpected HTTP error: HTTPConnectionPool(host='127.0.0.1', port=54321): Max retries exceeded with url: /3/Metadata/schemas/CloudV3 (Caused by NewConnectionError('<urllib3.connection.HTTPConnection object at 0xff927cdc6c90>: Failed to establish a new connection: [Errno 111] Connection refused'))"
      ]
     },
     "metadata": {
      "application/vnd.databricks.v1+output": {
       "addedWidgets": {},
       "arguments": {},
       "datasetInfos": [],
       "jupyterProps": {
        "ename": "H2OConnectionError",
        "evalue": "Could not establish link to the H2O cloud http://127.0.0.1:54321 after 20 retries\n[09:55.33] H2OConnectionError: Unexpected HTTP error: HTTPConnectionPool(host='127.0.0.1', port=54321): Max retries exceeded with url: /3/Metadata/schemas/CloudV3 (Caused by NewConnectionError('<urllib3.connection.HTTPConnection object at 0xff927cdbfb10>: Failed to establish a new connection: [Errno 111] Connection refused'))\n[09:55.54] H2OConnectionError: Unexpected HTTP error: HTTPConnectionPool(host='127.0.0.1', port=54321): Max retries exceeded with url: /3/Metadata/schemas/CloudV3 (Caused by NewConnectionError('<urllib3.connection.HTTPConnection object at 0xff927cdc3010>: Failed to establish a new connection: [Errno 111] Connection refused'))\n[09:55.74] H2OConnectionError: Unexpected HTTP error: HTTPConnectionPool(host='127.0.0.1', port=54321): Max retries exceeded with url: /3/Metadata/schemas/CloudV3 (Caused by NewConnectionError('<urllib3.connection.HTTPConnection object at 0xff927cdbd1d0>: Failed to establish a new connection: [Errno 111] Connection refused'))\n[09:55.94] H2OConnectionError: Unexpected HTTP error: HTTPConnectionPool(host='127.0.0.1', port=54321): Max retries exceeded with url: /3/Metadata/schemas/CloudV3 (Caused by NewConnectionError('<urllib3.connection.HTTPConnection object at 0xff927cbfd890>: Failed to establish a new connection: [Errno 111] Connection refused'))\n[09:56.15] H2OConnectionError: Unexpected HTTP error: HTTPConnectionPool(host='127.0.0.1', port=54321): Max retries exceeded with url: /3/Metadata/schemas/CloudV3 (Caused by NewConnectionError('<urllib3.connection.HTTPConnection object at 0xff927cbfcd10>: Failed to establish a new connection: [Errno 111] Connection refused'))\n[09:56.35] H2OConnectionError: Unexpected HTTP error: HTTPConnectionPool(host='127.0.0.1', port=54321): Max retries exceeded with url: /3/Metadata/schemas/CloudV3 (Caused by NewConnectionError('<urllib3.connection.HTTPConnection object at 0xff927cdc2110>: Failed to establish a new connection: [Errno 111] Connection refused'))\n[09:56.55] H2OConnectionError: Unexpected HTTP error: HTTPConnectionPool(host='127.0.0.1', port=54321): Max retries exceeded with url: /3/Metadata/schemas/CloudV3 (Caused by NewConnectionError('<urllib3.connection.HTTPConnection object at 0xff927cbe37d0>: Failed to establish a new connection: [Errno 111] Connection refused'))\n[09:56.75] H2OConnectionError: Unexpected HTTP error: HTTPConnectionPool(host='127.0.0.1', port=54321): Max retries exceeded with url: /3/Metadata/schemas/CloudV3 (Caused by NewConnectionError('<urllib3.connection.HTTPConnection object at 0xff92e39f8a90>: Failed to establish a new connection: [Errno 111] Connection refused'))\n[09:56.96] H2OConnectionError: Unexpected HTTP error: HTTPConnectionPool(host='127.0.0.1', port=54321): Max retries exceeded with url: /3/Metadata/schemas/CloudV3 (Caused by NewConnectionError('<urllib3.connection.HTTPConnection object at 0xff927ce29090>: Failed to establish a new connection: [Errno 111] Connection refused'))\n[09:57.16] H2OConnectionError: Unexpected HTTP error: HTTPConnectionPool(host='127.0.0.1', port=54321): Max retries exceeded with url: /3/Metadata/schemas/CloudV3 (Caused by NewConnectionError('<urllib3.connection.HTTPConnection object at 0xff927cc21f50>: Failed to establish a new connection: [Errno 111] Connection refused'))\n[09:57.36] H2OConnectionError: Unexpected HTTP error: HTTPConnectionPool(host='127.0.0.1', port=54321): Max retries exceeded with url: /3/Metadata/schemas/CloudV3 (Caused by NewConnectionError('<urllib3.connection.HTTPConnection object at 0xff927cbfea10>: Failed to establish a new connection: [Errno 111] Connection refused'))\n[09:57.56] H2OConnectionError: Unexpected HTTP error: HTTPConnectionPool(host='127.0.0.1', port=54321): Max retries exceeded with url: /3/Metadata/schemas/CloudV3 (Caused by NewConnectionError('<urllib3.connection.HTTPConnection object at 0xff927cdbf290>: Failed to establish a new connection: [Errno 111] Connection refused'))\n[09:57.76] H2OConnectionError: Unexpected HTTP error: HTTPConnectionPool(host='127.0.0.1', port=54321): Max retries exceeded with url: /3/Metadata/schemas/CloudV3 (Caused by NewConnectionError('<urllib3.connection.HTTPConnection object at 0xff927cdd3350>: Failed to establish a new connection: [Errno 111] Connection refused'))\n[09:57.97] H2OConnectionError: Unexpected HTTP error: HTTPConnectionPool(host='127.0.0.1', port=54321): Max retries exceeded with url: /3/Metadata/schemas/CloudV3 (Caused by NewConnectionError('<urllib3.connection.HTTPConnection object at 0xff927cd9a590>: Failed to establish a new connection: [Errno 111] Connection refused'))\n[09:58.17] H2OConnectionError: Unexpected HTTP error: HTTPConnectionPool(host='127.0.0.1', port=54321): Max retries exceeded with url: /3/Metadata/schemas/CloudV3 (Caused by NewConnectionError('<urllib3.connection.HTTPConnection object at 0xff927cdbe210>: Failed to establish a new connection: [Errno 111] Connection refused'))\n[09:58.37] H2OConnectionError: Unexpected HTTP error: HTTPConnectionPool(host='127.0.0.1', port=54321): Max retries exceeded with url: /3/Metadata/schemas/CloudV3 (Caused by NewConnectionError('<urllib3.connection.HTTPConnection object at 0xff927defed50>: Failed to establish a new connection: [Errno 111] Connection refused'))\n[09:58.58] H2OConnectionError: Unexpected HTTP error: HTTPConnectionPool(host='127.0.0.1', port=54321): Max retries exceeded with url: /3/Metadata/schemas/CloudV3 (Caused by NewConnectionError('<urllib3.connection.HTTPConnection object at 0xff927cbfe190>: Failed to establish a new connection: [Errno 111] Connection refused'))\n[09:58.78] H2OConnectionError: Unexpected HTTP error: HTTPConnectionPool(host='127.0.0.1', port=54321): Max retries exceeded with url: /3/Metadata/schemas/CloudV3 (Caused by NewConnectionError('<urllib3.connection.HTTPConnection object at 0xff927cd6f590>: Failed to establish a new connection: [Errno 111] Connection refused'))\n[09:58.98] H2OConnectionError: Unexpected HTTP error: HTTPConnectionPool(host='127.0.0.1', port=54321): Max retries exceeded with url: /3/Metadata/schemas/CloudV3 (Caused by NewConnectionError('<urllib3.connection.HTTPConnection object at 0xff927cbe3ed0>: Failed to establish a new connection: [Errno 111] Connection refused'))\n[09:59.19] H2OConnectionError: Unexpected HTTP error: HTTPConnectionPool(host='127.0.0.1', port=54321): Max retries exceeded with url: /3/Metadata/schemas/CloudV3 (Caused by NewConnectionError('<urllib3.connection.HTTPConnection object at 0xff927cdc6c90>: Failed to establish a new connection: [Errno 111] Connection refused'))"
       },
       "metadata": {
        "errorSummary": "<span class='ansi-red-fg'>H2OConnectionError</span>: Could not establish link to the H2O cloud http://127.0.0.1:54321 after 20 retries\n[09:55.33] H2OConnectionError: Unexpected HTTP error: HTTPConnectionPool(host='127.0.0.1', port=54321): Max retries exceeded with url: /3/Metadata/schemas/CloudV3 (Caused by NewConnectionError('<urllib3.connection.HTTPConnection object at 0xff927cdbfb10>: Failed to establish a new connection: [Errno 111] Connection refused'))\n[09:55.54] H2OConnectionError: Unexpected HTTP error: HTTPConnectionPool(host='127.0.0.1', port=54321): Max retries exceeded with url: /3/Metadata/schemas/CloudV3 (Caused by NewConnectionError('<urllib3.connection.HTTPConnection object at 0xff927cdc3010>: Failed to establish a new connection: [Errno 111] Connection refused'))\n[09:55.74] H2OConnectionError: Unexpected HTTP error: HTTPConnectionPool(host='127.0.0.1', port=54321): Max retries exceeded with url: /3/Metadata/schemas/CloudV3 (Caused by NewConnectionError('<urllib3.connection.HTTPConnection object at 0xff927cdbd1d0>: Failed to establish a new connection: [Errno 111] Connection refused'))\n[09:55.94] H2OConnectionError: Unexpected HTTP error: HTTPConnectionPool(host='127.0.0.1', port=54321): Max retries exceeded with url: /3/Metadata/schemas/CloudV3 (Caused by NewConnectionError('<urllib3.connection.HTTPConnection object at 0xff927cbfd890>: Failed to establish a new connection: [Errno 111] Connection refused'))\n[09:56.15] H2OConnectionError: Unexpected HTTP error: HTTPConnectionPool(host='127.0.0.1', port=54321): Max retries exceeded with url: /3/Metadata/schemas/CloudV3 (Caused by NewConnectionError('<urllib3.connection.HTTPConnection object at 0xff927cbfcd10>: Failed to establish a new connection: [Errno 111] Connection refused'))\n[09:56.35] H2OConnectionError: Unexpected HTTP error: HTTPConnectionPool(host='127.0.0.1', port=54321): Max retries exceeded with url: /3/Metadata/schemas/CloudV3 (Caused by NewConnectionError('<urllib3.connection.HTTPConnection object at 0xff927cdc2110>: Failed to establish a new connection: [Errno 111] Connection refused'))\n[09:56.55] H2OConnectionError: Unexpected HTTP error: HTTPConnectionPool(host='127.0.0.1', port=54321): Max retries exceeded with url: /3/Metadata/schemas/CloudV3 (Caused by NewConnectionError('<urllib3.connection.HTTPConnection object at 0xff927cbe37d0>: Failed to establish a new connection: [Errno 111] Connection refused'))\n[09:56.75] H2OConnectionError: Unexpected HTTP error: HTTPConnectionPool(host='127.0.0.1', port=54321): Max retries exceeded with url: /3/Metadata/schemas/CloudV3 (Caused by NewConnectionError('<urllib3.connection.HTTPConnection object at 0xff92e39f8a90>: Failed to establish a new connection: [Errno 111] Connection refused'))\n[09:56.96] H2OConnectionError: Unexpected HTTP error: HTTPConnectionPool(host='127.0.0.1', port=54321): Max retries exceeded with url: /3/Metadata/schemas/CloudV3 (Caused by NewConnectionError('<urllib3.connection.HTTPConnection object at 0xff927ce29090>: Failed to establish a new connection: [Errno 111] Connection refused'))\n[09:57.16] H2OConnectionError: Unexpected HTTP error: HTTPConnectionPool(host='127.0.0.1', port=54321): Max retries exceeded with url: /3/Metadata/schemas/CloudV3 (Caused by NewConnectionError('<urllib3.connection.HTTPConnection object at 0xff927cc21f50>: Failed to establish a new connection: [Errno 111] Connection refused'))\n[09:57.36] H2OConnectionError: Unexpected HTTP error: HTTPConnectionPool(host='127.0.0.1', port=54321): Max retries exceeded with url: /3/Metadata/schemas/CloudV3 (Caused by NewConnectionError('<urllib3.connection.HTTPConnection object at 0xff927cbfea10>: Failed to establish a new connection: [Errno 111] Connection refused'))\n[09:57.56] H2OConnectionError: Unexpected HTTP error: HTTPConnectionPool(host='127.0.0.1', port=54321): Max retries exceeded with url: /3/Metadata/schemas/CloudV3 (Caused by NewConnectionError('<urllib3.connection.HTTPConnection object at 0xff927cdbf290>: Failed to establish a new connection: [Errno 111] Connection refused'))\n[09:57.76] H2OConnectionError: Unexpected HTTP error: HTTPConnectionPool(host='127.0.0.1', port=54321): Max retries exceeded with url: /3/Metadata/schemas/CloudV3 (Caused by NewConnectionError('<urllib3.connection.HTTPConnection object at 0xff927cdd3350>: Failed to establish a new connection: [Errno 111] Connection refused'))\n[09:57.97] H2OConnectionError: Unexpected HTTP error: HTTPConnectionPool(host='127.0.0.1', port=54321): Max retries exceeded with url: /3/Metadata/schemas/CloudV3 (Caused by NewConnectionError('<urllib3.connection.HTTPConnection object at 0xff927cd9a590>: Failed to establish a new connection: [Errno 111] Connection refused'))\n[09:58.17] H2OConnectionError: Unexpected HTTP error: HTTPConnectionPool(host='127.0.0.1', port=54321): Max retries exceeded with url: /3/Metadata/schemas/CloudV3 (Caused by NewConnectionError('<urllib3.connection.HTTPConnection object at 0xff927cdbe210>: Failed to establish a new connection: [Errno 111] Connection refused'))\n[09:58.37] H2OConnectionError: Unexpected HTTP error: HTTPConnectionPool(host='127.0.0.1', port=54321): Max retries exceeded with url: /3/Metadata/schemas/CloudV3 (Caused by NewConnectionError('<urllib3.connection.HTTPConnection object at 0xff927defed50>: Failed to establish a new connection: [Errno 111] Connection refused'))\n[09:58.58] H2OConnectionError: Unexpected HTTP error: HTTPConnectionPool(host='127.0.0.1', port=54321): Max retries exceeded with url: /3/Metadata/schemas/CloudV3 (Caused by NewConnectionError('<urllib3.connection.HTTPConnection object at 0xff927cbfe190>: Failed to establish a new connection: [Errno 111] Connection refused'))\n[09:58.78] H2OConnectionError: Unexpected HTTP error: HTTPConnectionPool(host='127.0.0.1', port=54321): Max retries exceeded with url: /3/Metadata/schemas/CloudV3 (Caused by NewConnectionError('<urllib3.connection.HTTPConnection object at 0xff927cd6f590>: Failed to establish a new connection: [Errno 111] Connection refused'))\n[09:58.98] H2OConnectionError: Unexpected HTTP error: HTTPConnectionPool(host='127.0.0.1', port=54321): Max retries exceeded with url: /3/Metadata/schemas/CloudV3 (Caused by NewConnectionError('<urllib3.connection.HTTPConnection object at 0xff927cbe3ed0>: Failed to establish a new connection: [Errno 111] Connection refused'))\n[09:59.19] H2OConnectionError: Unexpected HTTP error: HTTPConnectionPool(host='127.0.0.1', port=54321): Max retries exceeded with url: /3/Metadata/schemas/CloudV3 (Caused by NewConnectionError('<urllib3.connection.HTTPConnection object at 0xff927cdc6c90>: Failed to establish a new connection: [Errno 111] Connection refused'))"
       },
       "removedWidgets": [],
       "sqlProps": null,
       "stackFrames": [
        "\u001B[0;31m---------------------------------------------------------------------------\u001B[0m",
        "\u001B[0;31mH2OConnectionError\u001B[0m                        Traceback (most recent call last)",
        "File \u001B[0;32m/local_disk0/.ephemeral_nfs/envs/pythonEnv-e1df9765-991e-484c-b8fd-999d2ee0f4c6/lib/python3.11/site-packages/h2o/h2o.py:270\u001B[0m, in \u001B[0;36minit\u001B[0;34m(url, ip, port, name, https, cacert, insecure, username, password, cookies, proxy, start_h2o, nthreads, ice_root, log_dir, log_level, max_log_file_size, enable_assertions, max_mem_size, min_mem_size, strict_version_check, ignore_config, extra_classpath, jvm_custom_args, bind_to_localhost, verbose, **kwargs)\u001B[0m\n\u001B[1;32m    269\u001B[0m \u001B[38;5;28;01mtry\u001B[39;00m:\n\u001B[0;32m--> 270\u001B[0m     h2oconn \u001B[38;5;241m=\u001B[39m H2OConnection\u001B[38;5;241m.\u001B[39mopen(url\u001B[38;5;241m=\u001B[39murl, ip\u001B[38;5;241m=\u001B[39mip, port\u001B[38;5;241m=\u001B[39mport, name\u001B[38;5;241m=\u001B[39mname, https\u001B[38;5;241m=\u001B[39mhttps,\n\u001B[1;32m    271\u001B[0m                                  verify_ssl_certificates\u001B[38;5;241m=\u001B[39mverify_ssl_certificates, cacert\u001B[38;5;241m=\u001B[39mcacert,\n\u001B[1;32m    272\u001B[0m                                  auth\u001B[38;5;241m=\u001B[39mauth, proxy\u001B[38;5;241m=\u001B[39mproxy, cookies\u001B[38;5;241m=\u001B[39mcookies, verbose\u001B[38;5;241m=\u001B[39mverbose,\n\u001B[1;32m    273\u001B[0m                                  msgs\u001B[38;5;241m=\u001B[39m(\u001B[38;5;124m\"\u001B[39m\u001B[38;5;124mChecking whether there is an H2O instance running at \u001B[39m\u001B[38;5;132;01m{url}\u001B[39;00m\u001B[38;5;124m\"\u001B[39m,\n\u001B[1;32m    274\u001B[0m                                        \u001B[38;5;124m\"\u001B[39m\u001B[38;5;124mconnected.\u001B[39m\u001B[38;5;124m\"\u001B[39m, \u001B[38;5;124m\"\u001B[39m\u001B[38;5;124mnot found.\u001B[39m\u001B[38;5;124m\"\u001B[39m),\n\u001B[1;32m    275\u001B[0m                                  strict_version_check\u001B[38;5;241m=\u001B[39msvc)\n\u001B[1;32m    276\u001B[0m \u001B[38;5;28;01mexcept\u001B[39;00m H2OConnectionError:\n\u001B[1;32m    277\u001B[0m     \u001B[38;5;66;03m# Backward compatibility: in init() port parameter really meant \"baseport\" when starting a local server...\u001B[39;00m\n",
        "File \u001B[0;32m/local_disk0/.ephemeral_nfs/envs/pythonEnv-e1df9765-991e-484c-b8fd-999d2ee0f4c6/lib/python3.11/site-packages/h2o/backend/connection.py:406\u001B[0m, in \u001B[0;36mH2OConnection.open\u001B[0;34m(server, url, ip, port, name, https, auth, verify_ssl_certificates, cacert, proxy, cookies, verbose, msgs, strict_version_check)\u001B[0m\n\u001B[1;32m    405\u001B[0m conn\u001B[38;5;241m.\u001B[39m_timeout \u001B[38;5;241m=\u001B[39m \u001B[38;5;241m3.0\u001B[39m\n\u001B[0;32m--> 406\u001B[0m conn\u001B[38;5;241m.\u001B[39m_cluster \u001B[38;5;241m=\u001B[39m conn\u001B[38;5;241m.\u001B[39m_test_connection(retries, messages\u001B[38;5;241m=\u001B[39mmsgs)\n\u001B[1;32m    407\u001B[0m \u001B[38;5;66;03m# If a server is unable to respond within 1s, it should be considered a bug. However we disable this\u001B[39;00m\n\u001B[1;32m    408\u001B[0m \u001B[38;5;66;03m# setting for now, for no good reason other than to ignore all those bugs :(\u001B[39;00m\n",
        "File \u001B[0;32m/local_disk0/.ephemeral_nfs/envs/pythonEnv-e1df9765-991e-484c-b8fd-999d2ee0f4c6/lib/python3.11/site-packages/h2o/backend/connection.py:713\u001B[0m, in \u001B[0;36mH2OConnection._test_connection\u001B[0;34m(self, max_retries, messages)\u001B[0m\n\u001B[1;32m    712\u001B[0m \u001B[38;5;28;01melse\u001B[39;00m:\n\u001B[0;32m--> 713\u001B[0m     \u001B[38;5;28;01mraise\u001B[39;00m H2OConnectionError(\u001B[38;5;124m\"\u001B[39m\u001B[38;5;124mCould not establish link to the H2O cloud \u001B[39m\u001B[38;5;132;01m%s\u001B[39;00m\u001B[38;5;124m after \u001B[39m\u001B[38;5;132;01m%d\u001B[39;00m\u001B[38;5;124m retries\u001B[39m\u001B[38;5;130;01m\\n\u001B[39;00m\u001B[38;5;132;01m%s\u001B[39;00m\u001B[38;5;124m\"\u001B[39m\n\u001B[1;32m    714\u001B[0m                              \u001B[38;5;241m%\u001B[39m (\u001B[38;5;28mself\u001B[39m\u001B[38;5;241m.\u001B[39m_base_url, max_retries, \u001B[38;5;124m\"\u001B[39m\u001B[38;5;130;01m\\n\u001B[39;00m\u001B[38;5;124m\"\u001B[39m\u001B[38;5;241m.\u001B[39mjoin(errors)))\n",
        "\u001B[0;31mH2OConnectionError\u001B[0m: Could not establish link to the H2O cloud http://localhost:54321 after 5 retries\n[09:48.48] H2OConnectionError: Unexpected HTTP error: HTTPConnectionPool(host='localhost', port=54321): Max retries exceeded with url: /3/Metadata/schemas/CloudV3 (Caused by NewConnectionError('<urllib3.connection.HTTPConnection object at 0xff92e3a82f90>: Failed to establish a new connection: [Errno 111] Connection refused'))\n[09:48.68] H2OConnectionError: Unexpected HTTP error: HTTPConnectionPool(host='localhost', port=54321): Max retries exceeded with url: /3/Metadata/schemas/CloudV3 (Caused by NewConnectionError('<urllib3.connection.HTTPConnection object at 0xff927cd6da10>: Failed to establish a new connection: [Errno 111] Connection refused'))\n[09:48.89] H2OConnectionError: Unexpected HTTP error: HTTPConnectionPool(host='localhost', port=54321): Max retries exceeded with url: /3/Metadata/schemas/CloudV3 (Caused by NewConnectionError('<urllib3.connection.HTTPConnection object at 0xff927cc20650>: Failed to establish a new connection: [Errno 111] Connection refused'))\n[09:49.09] H2OConnectionError: Unexpected HTTP error: HTTPConnectionPool(host='localhost', port=54321): Max retries exceeded with url: /3/Metadata/schemas/CloudV3 (Caused by NewConnectionError('<urllib3.connection.HTTPConnection object at 0xff927cbfffd0>: Failed to establish a new connection: [Errno 111] Connection refused'))\n[09:49.29] H2OConnectionError: Unexpected HTTP error: HTTPConnectionPool(host='localhost', port=54321): Max retries exceeded with url: /3/Metadata/schemas/CloudV3 (Caused by NewConnectionError('<urllib3.connection.HTTPConnection object at 0xff927e2bcd10>: Failed to establish a new connection: [Errno 111] Connection refused'))",
        "\nDuring handling of the above exception, another exception occurred:\n",
        "\u001B[0;31mH2OConnectionError\u001B[0m                        Traceback (most recent call last)",
        "File \u001B[0;32m<command-5507547720733497>, line 2\u001B[0m\n\u001B[1;32m      1\u001B[0m \u001B[38;5;66;03m# Start H2O\u001B[39;00m\n\u001B[0;32m----> 2\u001B[0m h2o\u001B[38;5;241m.\u001B[39minit()\n\u001B[1;32m      4\u001B[0m \u001B[38;5;66;03m# Convert Spark DataFrame to Pandas\u001B[39;00m\n\u001B[1;32m      5\u001B[0m athletes_pd \u001B[38;5;241m=\u001B[39m athletes_df\u001B[38;5;241m.\u001B[39mtoPandas()\n",
        "File \u001B[0;32m/local_disk0/.ephemeral_nfs/envs/pythonEnv-e1df9765-991e-484c-b8fd-999d2ee0f4c6/lib/python3.11/site-packages/h2o/h2o.py:292\u001B[0m, in \u001B[0;36minit\u001B[0;34m(url, ip, port, name, https, cacert, insecure, username, password, cookies, proxy, start_h2o, nthreads, ice_root, log_dir, log_level, max_log_file_size, enable_assertions, max_mem_size, min_mem_size, strict_version_check, ignore_config, extra_classpath, jvm_custom_args, bind_to_localhost, verbose, **kwargs)\u001B[0m\n\u001B[1;32m    284\u001B[0m         \u001B[38;5;28;01mraise\u001B[39;00m H2OConnectionError(\u001B[38;5;124m'\u001B[39m\u001B[38;5;124mStarting local server is not available with https enabled. You may start local\u001B[39m\u001B[38;5;124m'\u001B[39m\n\u001B[1;32m    285\u001B[0m                                  \u001B[38;5;124m'\u001B[39m\u001B[38;5;124m instance of H2O with https manually \u001B[39m\u001B[38;5;124m'\u001B[39m\n\u001B[1;32m    286\u001B[0m                                  \u001B[38;5;124m'\u001B[39m\u001B[38;5;124m(https://docs.h2o.ai/h2o/latest-stable/h2o-docs/welcome.html#new-user-quick-start).\u001B[39m\u001B[38;5;124m'\u001B[39m)\n\u001B[1;32m    287\u001B[0m     hs \u001B[38;5;241m=\u001B[39m H2OLocalServer\u001B[38;5;241m.\u001B[39mstart(nthreads\u001B[38;5;241m=\u001B[39mnthreads, enable_assertions\u001B[38;5;241m=\u001B[39menable_assertions, max_mem_size\u001B[38;5;241m=\u001B[39mmmax,\n\u001B[1;32m    288\u001B[0m                               min_mem_size\u001B[38;5;241m=\u001B[39mmmin, ice_root\u001B[38;5;241m=\u001B[39mice_root, log_dir\u001B[38;5;241m=\u001B[39mlog_dir, log_level\u001B[38;5;241m=\u001B[39mlog_level,\n\u001B[1;32m    289\u001B[0m                               max_log_file_size\u001B[38;5;241m=\u001B[39mmax_log_file_size, port\u001B[38;5;241m=\u001B[39mport, name\u001B[38;5;241m=\u001B[39mname,\n\u001B[1;32m    290\u001B[0m                               extra_classpath\u001B[38;5;241m=\u001B[39mextra_classpath, jvm_custom_args\u001B[38;5;241m=\u001B[39mjvm_custom_args,\n\u001B[1;32m    291\u001B[0m                               bind_to_localhost\u001B[38;5;241m=\u001B[39mbind_to_localhost,verbose\u001B[38;5;241m=\u001B[39mverbose)\n\u001B[0;32m--> 292\u001B[0m     h2oconn \u001B[38;5;241m=\u001B[39m H2OConnection\u001B[38;5;241m.\u001B[39mopen(server\u001B[38;5;241m=\u001B[39mhs, https\u001B[38;5;241m=\u001B[39mhttps, verify_ssl_certificates\u001B[38;5;241m=\u001B[39mverify_ssl_certificates,\n\u001B[1;32m    293\u001B[0m                                  cacert\u001B[38;5;241m=\u001B[39mcacert, auth\u001B[38;5;241m=\u001B[39mauth, proxy\u001B[38;5;241m=\u001B[39mproxy, cookies\u001B[38;5;241m=\u001B[39mcookies, verbose\u001B[38;5;241m=\u001B[39mverbose,\n\u001B[1;32m    294\u001B[0m                                  strict_version_check\u001B[38;5;241m=\u001B[39msvc)\n\u001B[1;32m    295\u001B[0m h2oconn\u001B[38;5;241m.\u001B[39mcluster\u001B[38;5;241m.\u001B[39mtimezone \u001B[38;5;241m=\u001B[39m \u001B[38;5;124m\"\u001B[39m\u001B[38;5;124mUTC\u001B[39m\u001B[38;5;124m\"\u001B[39m\n\u001B[1;32m    296\u001B[0m \u001B[38;5;28;01mif\u001B[39;00m verbose:\n",
        "File \u001B[0;32m/local_disk0/.ephemeral_nfs/envs/pythonEnv-e1df9765-991e-484c-b8fd-999d2ee0f4c6/lib/python3.11/site-packages/h2o/backend/connection.py:406\u001B[0m, in \u001B[0;36mH2OConnection.open\u001B[0;34m(server, url, ip, port, name, https, auth, verify_ssl_certificates, cacert, proxy, cookies, verbose, msgs, strict_version_check)\u001B[0m\n\u001B[1;32m    404\u001B[0m conn\u001B[38;5;241m.\u001B[39m_stage \u001B[38;5;241m=\u001B[39m \u001B[38;5;241m1\u001B[39m\n\u001B[1;32m    405\u001B[0m conn\u001B[38;5;241m.\u001B[39m_timeout \u001B[38;5;241m=\u001B[39m \u001B[38;5;241m3.0\u001B[39m\n\u001B[0;32m--> 406\u001B[0m conn\u001B[38;5;241m.\u001B[39m_cluster \u001B[38;5;241m=\u001B[39m conn\u001B[38;5;241m.\u001B[39m_test_connection(retries, messages\u001B[38;5;241m=\u001B[39mmsgs)\n\u001B[1;32m    407\u001B[0m \u001B[38;5;66;03m# If a server is unable to respond within 1s, it should be considered a bug. However we disable this\u001B[39;00m\n\u001B[1;32m    408\u001B[0m \u001B[38;5;66;03m# setting for now, for no good reason other than to ignore all those bugs :(\u001B[39;00m\n\u001B[1;32m    409\u001B[0m conn\u001B[38;5;241m.\u001B[39m_timeout \u001B[38;5;241m=\u001B[39m \u001B[38;5;28;01mNone\u001B[39;00m\n",
        "File \u001B[0;32m/local_disk0/.ephemeral_nfs/envs/pythonEnv-e1df9765-991e-484c-b8fd-999d2ee0f4c6/lib/python3.11/site-packages/h2o/backend/connection.py:713\u001B[0m, in \u001B[0;36mH2OConnection._test_connection\u001B[0;34m(self, max_retries, messages)\u001B[0m\n\u001B[1;32m    711\u001B[0m     \u001B[38;5;28;01mraise\u001B[39;00m H2OServerError(\u001B[38;5;124m\"\u001B[39m\u001B[38;5;124mCluster cannot reach consensus\u001B[39m\u001B[38;5;124m\"\u001B[39m)\n\u001B[1;32m    712\u001B[0m \u001B[38;5;28;01melse\u001B[39;00m:\n\u001B[0;32m--> 713\u001B[0m     \u001B[38;5;28;01mraise\u001B[39;00m H2OConnectionError(\u001B[38;5;124m\"\u001B[39m\u001B[38;5;124mCould not establish link to the H2O cloud \u001B[39m\u001B[38;5;132;01m%s\u001B[39;00m\u001B[38;5;124m after \u001B[39m\u001B[38;5;132;01m%d\u001B[39;00m\u001B[38;5;124m retries\u001B[39m\u001B[38;5;130;01m\\n\u001B[39;00m\u001B[38;5;132;01m%s\u001B[39;00m\u001B[38;5;124m\"\u001B[39m\n\u001B[1;32m    714\u001B[0m                              \u001B[38;5;241m%\u001B[39m (\u001B[38;5;28mself\u001B[39m\u001B[38;5;241m.\u001B[39m_base_url, max_retries, \u001B[38;5;124m\"\u001B[39m\u001B[38;5;130;01m\\n\u001B[39;00m\u001B[38;5;124m\"\u001B[39m\u001B[38;5;241m.\u001B[39mjoin(errors)))\n",
        "\u001B[0;31mH2OConnectionError\u001B[0m: Could not establish link to the H2O cloud http://127.0.0.1:54321 after 20 retries\n[09:55.33] H2OConnectionError: Unexpected HTTP error: HTTPConnectionPool(host='127.0.0.1', port=54321): Max retries exceeded with url: /3/Metadata/schemas/CloudV3 (Caused by NewConnectionError('<urllib3.connection.HTTPConnection object at 0xff927cdbfb10>: Failed to establish a new connection: [Errno 111] Connection refused'))\n[09:55.54] H2OConnectionError: Unexpected HTTP error: HTTPConnectionPool(host='127.0.0.1', port=54321): Max retries exceeded with url: /3/Metadata/schemas/CloudV3 (Caused by NewConnectionError('<urllib3.connection.HTTPConnection object at 0xff927cdc3010>: Failed to establish a new connection: [Errno 111] Connection refused'))\n[09:55.74] H2OConnectionError: Unexpected HTTP error: HTTPConnectionPool(host='127.0.0.1', port=54321): Max retries exceeded with url: /3/Metadata/schemas/CloudV3 (Caused by NewConnectionError('<urllib3.connection.HTTPConnection object at 0xff927cdbd1d0>: Failed to establish a new connection: [Errno 111] Connection refused'))\n[09:55.94] H2OConnectionError: Unexpected HTTP error: HTTPConnectionPool(host='127.0.0.1', port=54321): Max retries exceeded with url: /3/Metadata/schemas/CloudV3 (Caused by NewConnectionError('<urllib3.connection.HTTPConnection object at 0xff927cbfd890>: Failed to establish a new connection: [Errno 111] Connection refused'))\n[09:56.15] H2OConnectionError: Unexpected HTTP error: HTTPConnectionPool(host='127.0.0.1', port=54321): Max retries exceeded with url: /3/Metadata/schemas/CloudV3 (Caused by NewConnectionError('<urllib3.connection.HTTPConnection object at 0xff927cbfcd10>: Failed to establish a new connection: [Errno 111] Connection refused'))\n[09:56.35] H2OConnectionError: Unexpected HTTP error: HTTPConnectionPool(host='127.0.0.1', port=54321): Max retries exceeded with url: /3/Metadata/schemas/CloudV3 (Caused by NewConnectionError('<urllib3.connection.HTTPConnection object at 0xff927cdc2110>: Failed to establish a new connection: [Errno 111] Connection refused'))\n[09:56.55] H2OConnectionError: Unexpected HTTP error: HTTPConnectionPool(host='127.0.0.1', port=54321): Max retries exceeded with url: /3/Metadata/schemas/CloudV3 (Caused by NewConnectionError('<urllib3.connection.HTTPConnection object at 0xff927cbe37d0>: Failed to establish a new connection: [Errno 111] Connection refused'))\n[09:56.75] H2OConnectionError: Unexpected HTTP error: HTTPConnectionPool(host='127.0.0.1', port=54321): Max retries exceeded with url: /3/Metadata/schemas/CloudV3 (Caused by NewConnectionError('<urllib3.connection.HTTPConnection object at 0xff92e39f8a90>: Failed to establish a new connection: [Errno 111] Connection refused'))\n[09:56.96] H2OConnectionError: Unexpected HTTP error: HTTPConnectionPool(host='127.0.0.1', port=54321): Max retries exceeded with url: /3/Metadata/schemas/CloudV3 (Caused by NewConnectionError('<urllib3.connection.HTTPConnection object at 0xff927ce29090>: Failed to establish a new connection: [Errno 111] Connection refused'))\n[09:57.16] H2OConnectionError: Unexpected HTTP error: HTTPConnectionPool(host='127.0.0.1', port=54321): Max retries exceeded with url: /3/Metadata/schemas/CloudV3 (Caused by NewConnectionError('<urllib3.connection.HTTPConnection object at 0xff927cc21f50>: Failed to establish a new connection: [Errno 111] Connection refused'))\n[09:57.36] H2OConnectionError: Unexpected HTTP error: HTTPConnectionPool(host='127.0.0.1', port=54321): Max retries exceeded with url: /3/Metadata/schemas/CloudV3 (Caused by NewConnectionError('<urllib3.connection.HTTPConnection object at 0xff927cbfea10>: Failed to establish a new connection: [Errno 111] Connection refused'))\n[09:57.56] H2OConnectionError: Unexpected HTTP error: HTTPConnectionPool(host='127.0.0.1', port=54321): Max retries exceeded with url: /3/Metadata/schemas/CloudV3 (Caused by NewConnectionError('<urllib3.connection.HTTPConnection object at 0xff927cdbf290>: Failed to establish a new connection: [Errno 111] Connection refused'))\n[09:57.76] H2OConnectionError: Unexpected HTTP error: HTTPConnectionPool(host='127.0.0.1', port=54321): Max retries exceeded with url: /3/Metadata/schemas/CloudV3 (Caused by NewConnectionError('<urllib3.connection.HTTPConnection object at 0xff927cdd3350>: Failed to establish a new connection: [Errno 111] Connection refused'))\n[09:57.97] H2OConnectionError: Unexpected HTTP error: HTTPConnectionPool(host='127.0.0.1', port=54321): Max retries exceeded with url: /3/Metadata/schemas/CloudV3 (Caused by NewConnectionError('<urllib3.connection.HTTPConnection object at 0xff927cd9a590>: Failed to establish a new connection: [Errno 111] Connection refused'))\n[09:58.17] H2OConnectionError: Unexpected HTTP error: HTTPConnectionPool(host='127.0.0.1', port=54321): Max retries exceeded with url: /3/Metadata/schemas/CloudV3 (Caused by NewConnectionError('<urllib3.connection.HTTPConnection object at 0xff927cdbe210>: Failed to establish a new connection: [Errno 111] Connection refused'))\n[09:58.37] H2OConnectionError: Unexpected HTTP error: HTTPConnectionPool(host='127.0.0.1', port=54321): Max retries exceeded with url: /3/Metadata/schemas/CloudV3 (Caused by NewConnectionError('<urllib3.connection.HTTPConnection object at 0xff927defed50>: Failed to establish a new connection: [Errno 111] Connection refused'))\n[09:58.58] H2OConnectionError: Unexpected HTTP error: HTTPConnectionPool(host='127.0.0.1', port=54321): Max retries exceeded with url: /3/Metadata/schemas/CloudV3 (Caused by NewConnectionError('<urllib3.connection.HTTPConnection object at 0xff927cbfe190>: Failed to establish a new connection: [Errno 111] Connection refused'))\n[09:58.78] H2OConnectionError: Unexpected HTTP error: HTTPConnectionPool(host='127.0.0.1', port=54321): Max retries exceeded with url: /3/Metadata/schemas/CloudV3 (Caused by NewConnectionError('<urllib3.connection.HTTPConnection object at 0xff927cd6f590>: Failed to establish a new connection: [Errno 111] Connection refused'))\n[09:58.98] H2OConnectionError: Unexpected HTTP error: HTTPConnectionPool(host='127.0.0.1', port=54321): Max retries exceeded with url: /3/Metadata/schemas/CloudV3 (Caused by NewConnectionError('<urllib3.connection.HTTPConnection object at 0xff927cbe3ed0>: Failed to establish a new connection: [Errno 111] Connection refused'))\n[09:59.19] H2OConnectionError: Unexpected HTTP error: HTTPConnectionPool(host='127.0.0.1', port=54321): Max retries exceeded with url: /3/Metadata/schemas/CloudV3 (Caused by NewConnectionError('<urllib3.connection.HTTPConnection object at 0xff927cdc6c90>: Failed to establish a new connection: [Errno 111] Connection refused'))"
       ],
       "type": "baseError"
      }
     },
     "output_type": "display_data"
    }
   ],
   "source": [
    "# Start H2O\n",
    "h2o.init()\n",
    "\n",
    "# Convert Spark DataFrame to Pandas\n",
    "athletes_pd = athletes_df.toPandas()\n",
    "\n",
    "# Convert Pandas DataFrame to H2O Frame\n",
    "athletes_h2o = h2o.H2OFrame(athletes_pd)"
   ]
  },
  {
   "cell_type": "markdown",
   "metadata": {
    "application/vnd.databricks.v1+cell": {
     "cellMetadata": {},
     "inputWidgets": {},
     "nuid": "7240395e-718e-4db2-8a65-1325c6b456f6",
     "showTitle": false,
     "tableResultSettingsMap": {},
     "title": ""
    }
   },
   "source": [
    "Can not use databricks free edition to finish the tasks at all. I will switch to Colab. "
   ]
  },
  {
   "cell_type": "code",
   "execution_count": 0,
   "metadata": {
    "application/vnd.databricks.v1+cell": {
     "cellMetadata": {},
     "inputWidgets": {},
     "nuid": "64833a59-c0fa-4491-92d1-4c891a5aaa6a",
     "showTitle": false,
     "tableResultSettingsMap": {},
     "title": ""
    }
   },
   "outputs": [],
   "source": []
  }
 ],
 "metadata": {
  "application/vnd.databricks.v1+notebook": {
   "computePreferences": null,
   "dashboards": [],
   "environmentMetadata": {
    "base_environment": "",
    "environment_version": "2"
   },
   "inputWidgetPreferences": null,
   "language": "python",
   "notebookMetadata": {
    "pythonIndentUnit": 4
   },
   "notebookName": "ML_OPS_Assignment3_AutoML_databricks_LG",
   "widgets": {}
  },
  "language_info": {
   "name": "python"
  }
 },
 "nbformat": 4,
 "nbformat_minor": 0
}