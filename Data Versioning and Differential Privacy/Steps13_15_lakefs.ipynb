{
 "cells": [
  {
   "cell_type": "code",
   "execution_count": null,
   "metadata": {
    "id": "KMQFaDbTozNk"
   },
   "outputs": [],
   "source": [
    "# I used ChatGTP 3.5 and 4 for assistance"
   ]
  },
  {
   "cell_type": "code",
   "execution_count": 2,
   "metadata": {
    "colab": {
     "base_uri": "https://localhost:8080/"
    },
    "id": "uPGlvQqYm4eP",
    "outputId": "5abef3a0-553a-4faa-a049-70c574d5f382"
   },
   "outputs": [
    {
     "name": "stdout",
     "output_type": "stream",
     "text": [
      "Requirement already satisfied: tensorflow_privacy in /usr/local/lib/python3.11/dist-packages (0.9.0)\n",
      "Requirement already satisfied: absl-py==1.*,>=1.0 in /usr/local/lib/python3.11/dist-packages (from tensorflow_privacy) (1.4.0)\n",
      "Requirement already satisfied: dm-tree==0.1.8 in /usr/local/lib/python3.11/dist-packages (from tensorflow_privacy) (0.1.8)\n",
      "Requirement already satisfied: dp-accounting==0.4.3 in /usr/local/lib/python3.11/dist-packages (from tensorflow_privacy) (0.4.3)\n",
      "Requirement already satisfied: numpy~=1.21 in /usr/local/lib/python3.11/dist-packages (from tensorflow_privacy) (1.26.4)\n",
      "Requirement already satisfied: packaging~=22.0 in /usr/local/lib/python3.11/dist-packages (from tensorflow_privacy) (22.0)\n",
      "Requirement already satisfied: scikit-learn==1.*,>=1.0 in /usr/local/lib/python3.11/dist-packages (from tensorflow_privacy) (1.6.1)\n",
      "Requirement already satisfied: scipy~=1.9 in /usr/local/lib/python3.11/dist-packages (from tensorflow_privacy) (1.15.3)\n",
      "Requirement already satisfied: tensorflow-estimator~=2.4 in /usr/local/lib/python3.11/dist-packages (from tensorflow_privacy) (2.15.0)\n",
      "Requirement already satisfied: tensorflow-probability~=0.22.0 in /usr/local/lib/python3.11/dist-packages (from tensorflow_privacy) (0.22.1)\n",
      "Requirement already satisfied: tensorflow~=2.4 in /usr/local/lib/python3.11/dist-packages (from tensorflow_privacy) (2.18.0)\n",
      "Requirement already satisfied: attrs>=22 in /usr/local/lib/python3.11/dist-packages (from dp-accounting==0.4.3->tensorflow_privacy) (25.3.0)\n",
      "Requirement already satisfied: mpmath~=1.2 in /usr/local/lib/python3.11/dist-packages (from dp-accounting==0.4.3->tensorflow_privacy) (1.3.0)\n",
      "Requirement already satisfied: joblib>=1.2.0 in /usr/local/lib/python3.11/dist-packages (from scikit-learn==1.*,>=1.0->tensorflow_privacy) (1.5.1)\n",
      "Requirement already satisfied: threadpoolctl>=3.1.0 in /usr/local/lib/python3.11/dist-packages (from scikit-learn==1.*,>=1.0->tensorflow_privacy) (3.6.0)\n",
      "Requirement already satisfied: astunparse>=1.6.0 in /usr/local/lib/python3.11/dist-packages (from tensorflow~=2.4->tensorflow_privacy) (1.6.3)\n",
      "Requirement already satisfied: flatbuffers>=24.3.25 in /usr/local/lib/python3.11/dist-packages (from tensorflow~=2.4->tensorflow_privacy) (25.2.10)\n",
      "Requirement already satisfied: gast!=0.5.0,!=0.5.1,!=0.5.2,>=0.2.1 in /usr/local/lib/python3.11/dist-packages (from tensorflow~=2.4->tensorflow_privacy) (0.6.0)\n",
      "Requirement already satisfied: google-pasta>=0.1.1 in /usr/local/lib/python3.11/dist-packages (from tensorflow~=2.4->tensorflow_privacy) (0.2.0)\n",
      "Requirement already satisfied: libclang>=13.0.0 in /usr/local/lib/python3.11/dist-packages (from tensorflow~=2.4->tensorflow_privacy) (18.1.1)\n",
      "Requirement already satisfied: opt-einsum>=2.3.2 in /usr/local/lib/python3.11/dist-packages (from tensorflow~=2.4->tensorflow_privacy) (3.4.0)\n",
      "Requirement already satisfied: protobuf!=4.21.0,!=4.21.1,!=4.21.2,!=4.21.3,!=4.21.4,!=4.21.5,<6.0.0dev,>=3.20.3 in /usr/local/lib/python3.11/dist-packages (from tensorflow~=2.4->tensorflow_privacy) (5.29.5)\n",
      "Requirement already satisfied: requests<3,>=2.21.0 in /usr/local/lib/python3.11/dist-packages (from tensorflow~=2.4->tensorflow_privacy) (2.32.3)\n",
      "Requirement already satisfied: setuptools in /usr/local/lib/python3.11/dist-packages (from tensorflow~=2.4->tensorflow_privacy) (75.2.0)\n",
      "Requirement already satisfied: six>=1.12.0 in /usr/local/lib/python3.11/dist-packages (from tensorflow~=2.4->tensorflow_privacy) (1.17.0)\n",
      "Requirement already satisfied: termcolor>=1.1.0 in /usr/local/lib/python3.11/dist-packages (from tensorflow~=2.4->tensorflow_privacy) (3.1.0)\n",
      "Requirement already satisfied: typing-extensions>=3.6.6 in /usr/local/lib/python3.11/dist-packages (from tensorflow~=2.4->tensorflow_privacy) (4.14.0)\n",
      "Requirement already satisfied: wrapt>=1.11.0 in /usr/local/lib/python3.11/dist-packages (from tensorflow~=2.4->tensorflow_privacy) (1.17.2)\n",
      "Requirement already satisfied: grpcio<2.0,>=1.24.3 in /usr/local/lib/python3.11/dist-packages (from tensorflow~=2.4->tensorflow_privacy) (1.73.0)\n",
      "Requirement already satisfied: tensorboard<2.19,>=2.18 in /usr/local/lib/python3.11/dist-packages (from tensorflow~=2.4->tensorflow_privacy) (2.18.0)\n",
      "Requirement already satisfied: keras>=3.5.0 in /usr/local/lib/python3.11/dist-packages (from tensorflow~=2.4->tensorflow_privacy) (3.8.0)\n",
      "Requirement already satisfied: h5py>=3.11.0 in /usr/local/lib/python3.11/dist-packages (from tensorflow~=2.4->tensorflow_privacy) (3.14.0)\n",
      "Requirement already satisfied: ml-dtypes<0.5.0,>=0.4.0 in /usr/local/lib/python3.11/dist-packages (from tensorflow~=2.4->tensorflow_privacy) (0.4.1)\n",
      "Requirement already satisfied: tensorflow-io-gcs-filesystem>=0.23.1 in /usr/local/lib/python3.11/dist-packages (from tensorflow~=2.4->tensorflow_privacy) (0.37.1)\n",
      "Requirement already satisfied: decorator in /usr/local/lib/python3.11/dist-packages (from tensorflow-probability~=0.22.0->tensorflow_privacy) (4.4.2)\n",
      "Requirement already satisfied: cloudpickle>=1.3 in /usr/local/lib/python3.11/dist-packages (from tensorflow-probability~=0.22.0->tensorflow_privacy) (3.1.1)\n",
      "Requirement already satisfied: wheel<1.0,>=0.23.0 in /usr/local/lib/python3.11/dist-packages (from astunparse>=1.6.0->tensorflow~=2.4->tensorflow_privacy) (0.45.1)\n",
      "Requirement already satisfied: rich in /usr/local/lib/python3.11/dist-packages (from keras>=3.5.0->tensorflow~=2.4->tensorflow_privacy) (13.9.4)\n",
      "Requirement already satisfied: namex in /usr/local/lib/python3.11/dist-packages (from keras>=3.5.0->tensorflow~=2.4->tensorflow_privacy) (0.1.0)\n",
      "Requirement already satisfied: optree in /usr/local/lib/python3.11/dist-packages (from keras>=3.5.0->tensorflow~=2.4->tensorflow_privacy) (0.16.0)\n",
      "Requirement already satisfied: charset-normalizer<4,>=2 in /usr/local/lib/python3.11/dist-packages (from requests<3,>=2.21.0->tensorflow~=2.4->tensorflow_privacy) (3.4.2)\n",
      "Requirement already satisfied: idna<4,>=2.5 in /usr/local/lib/python3.11/dist-packages (from requests<3,>=2.21.0->tensorflow~=2.4->tensorflow_privacy) (3.10)\n",
      "Requirement already satisfied: urllib3<3,>=1.21.1 in /usr/local/lib/python3.11/dist-packages (from requests<3,>=2.21.0->tensorflow~=2.4->tensorflow_privacy) (2.4.0)\n",
      "Requirement already satisfied: certifi>=2017.4.17 in /usr/local/lib/python3.11/dist-packages (from requests<3,>=2.21.0->tensorflow~=2.4->tensorflow_privacy) (2025.6.15)\n",
      "Requirement already satisfied: markdown>=2.6.8 in /usr/local/lib/python3.11/dist-packages (from tensorboard<2.19,>=2.18->tensorflow~=2.4->tensorflow_privacy) (3.8.2)\n",
      "Requirement already satisfied: tensorboard-data-server<0.8.0,>=0.7.0 in /usr/local/lib/python3.11/dist-packages (from tensorboard<2.19,>=2.18->tensorflow~=2.4->tensorflow_privacy) (0.7.2)\n",
      "Requirement already satisfied: werkzeug>=1.0.1 in /usr/local/lib/python3.11/dist-packages (from tensorboard<2.19,>=2.18->tensorflow~=2.4->tensorflow_privacy) (3.1.3)\n",
      "Requirement already satisfied: MarkupSafe>=2.1.1 in /usr/local/lib/python3.11/dist-packages (from werkzeug>=1.0.1->tensorboard<2.19,>=2.18->tensorflow~=2.4->tensorflow_privacy) (3.0.2)\n",
      "Requirement already satisfied: markdown-it-py>=2.2.0 in /usr/local/lib/python3.11/dist-packages (from rich->keras>=3.5.0->tensorflow~=2.4->tensorflow_privacy) (3.0.0)\n",
      "Requirement already satisfied: pygments<3.0.0,>=2.13.0 in /usr/local/lib/python3.11/dist-packages (from rich->keras>=3.5.0->tensorflow~=2.4->tensorflow_privacy) (2.19.2)\n",
      "Requirement already satisfied: mdurl~=0.1 in /usr/local/lib/python3.11/dist-packages (from markdown-it-py>=2.2.0->rich->keras>=3.5.0->tensorflow~=2.4->tensorflow_privacy) (0.1.2)\n"
     ]
    }
   ],
   "source": [
    "!pip install tensorflow_privacy"
   ]
  },
  {
   "cell_type": "code",
   "execution_count": 3,
   "metadata": {
    "colab": {
     "base_uri": "https://localhost:8080/",
     "height": 301
    },
    "id": "7WfoQQtBm4gz",
    "outputId": "17bd338a-323b-4d6b-bbe8-e2e634a19dd0"
   },
   "outputs": [
    {
     "ename": "AttributeError",
     "evalue": "module 'tensorflow.python.util.tf_export' has no attribute 'ESTIMATOR_API_NAME'",
     "output_type": "error",
     "traceback": [
      "\u001b[0;31m---------------------------------------------------------------------------\u001b[0m",
      "\u001b[0;31mAttributeError\u001b[0m                            Traceback (most recent call last)",
      "\u001b[0;32m/tmp/ipython-input-3-2248401796.py\u001b[0m in \u001b[0;36m<cell line: 0>\u001b[0;34m()\u001b[0m\n\u001b[0;32m----> 1\u001b[0;31m \u001b[0;32mfrom\u001b[0m \u001b[0mtensorflow_privacy\u001b[0m\u001b[0;34m.\u001b[0m\u001b[0mprivacy\u001b[0m\u001b[0;34m.\u001b[0m\u001b[0moptimizers\u001b[0m\u001b[0;34m.\u001b[0m\u001b[0mdp_optimizer_keras\u001b[0m \u001b[0;32mimport\u001b[0m \u001b[0mDPKerasSGDOptimizer\u001b[0m\u001b[0;34m\u001b[0m\u001b[0;34m\u001b[0m\u001b[0m\n\u001b[0m",
      "\u001b[0;32m/usr/local/lib/python3.11/dist-packages/tensorflow_privacy/__init__.py\u001b[0m in \u001b[0;36m<module>\u001b[0;34m\u001b[0m\n\u001b[1;32m     24\u001b[0m \u001b[0;32melse\u001b[0m\u001b[0;34m:\u001b[0m\u001b[0;34m\u001b[0m\u001b[0;34m\u001b[0m\u001b[0m\n\u001b[1;32m     25\u001b[0m   \u001b[0;31m# TensorFlow v1 imports\u001b[0m\u001b[0;34m\u001b[0m\u001b[0;34m\u001b[0m\u001b[0m\n\u001b[0;32m---> 26\u001b[0;31m   \u001b[0;32mfrom\u001b[0m \u001b[0mtensorflow_privacy\u001b[0m \u001b[0;32mimport\u001b[0m \u001b[0mv1\u001b[0m\u001b[0;34m\u001b[0m\u001b[0;34m\u001b[0m\u001b[0m\n\u001b[0m\u001b[1;32m     27\u001b[0m \u001b[0;34m\u001b[0m\u001b[0m\n\u001b[1;32m     28\u001b[0m   \u001b[0;31m# Analysis\u001b[0m\u001b[0;34m\u001b[0m\u001b[0;34m\u001b[0m\u001b[0m\n",
      "\u001b[0;32m/usr/local/lib/python3.11/dist-packages/tensorflow_privacy/v1/__init__.py\u001b[0m in \u001b[0;36m<module>\u001b[0;34m\u001b[0m\n\u001b[1;32m     26\u001b[0m \u001b[0;32melse\u001b[0m\u001b[0;34m:\u001b[0m\u001b[0;34m\u001b[0m\u001b[0;34m\u001b[0m\u001b[0m\n\u001b[1;32m     27\u001b[0m   \u001b[0;31m# Estimators\u001b[0m\u001b[0;34m\u001b[0m\u001b[0;34m\u001b[0m\u001b[0m\n\u001b[0;32m---> 28\u001b[0;31m   \u001b[0;32mfrom\u001b[0m \u001b[0mtensorflow_privacy\u001b[0m\u001b[0;34m.\u001b[0m\u001b[0mprivacy\u001b[0m\u001b[0;34m.\u001b[0m\u001b[0mestimators\u001b[0m\u001b[0;34m.\u001b[0m\u001b[0mv1\u001b[0m\u001b[0;34m.\u001b[0m\u001b[0mdnn\u001b[0m \u001b[0;32mimport\u001b[0m \u001b[0mDNNClassifier\u001b[0m \u001b[0;32mas\u001b[0m \u001b[0mDNNClassifierV1\u001b[0m\u001b[0;34m\u001b[0m\u001b[0;34m\u001b[0m\u001b[0m\n\u001b[0m\u001b[1;32m     29\u001b[0m \u001b[0;34m\u001b[0m\u001b[0m\n\u001b[1;32m     30\u001b[0m   \u001b[0;31m# Optimizers\u001b[0m\u001b[0;34m\u001b[0m\u001b[0;34m\u001b[0m\u001b[0m\n",
      "\u001b[0;32m/usr/local/lib/python3.11/dist-packages/tensorflow_privacy/privacy/estimators/v1/dnn.py\u001b[0m in \u001b[0;36m<module>\u001b[0;34m\u001b[0m\n\u001b[1;32m     17\u001b[0m \u001b[0;32mimport\u001b[0m \u001b[0mtensorflow\u001b[0m \u001b[0;32mas\u001b[0m \u001b[0mtf\u001b[0m\u001b[0;34m\u001b[0m\u001b[0;34m\u001b[0m\u001b[0m\n\u001b[1;32m     18\u001b[0m \u001b[0;34m\u001b[0m\u001b[0m\n\u001b[0;32m---> 19\u001b[0;31m \u001b[0;32mfrom\u001b[0m \u001b[0mtensorflow_privacy\u001b[0m\u001b[0;34m.\u001b[0m\u001b[0mprivacy\u001b[0m\u001b[0;34m.\u001b[0m\u001b[0mestimators\u001b[0m\u001b[0;34m.\u001b[0m\u001b[0mv1\u001b[0m \u001b[0;32mimport\u001b[0m \u001b[0mhead\u001b[0m \u001b[0;32mas\u001b[0m \u001b[0mhead_lib\u001b[0m\u001b[0;34m\u001b[0m\u001b[0;34m\u001b[0m\u001b[0m\n\u001b[0m\u001b[1;32m     20\u001b[0m \u001b[0;32mfrom\u001b[0m \u001b[0mtensorflow_estimator\u001b[0m\u001b[0;34m.\u001b[0m\u001b[0mpython\u001b[0m\u001b[0;34m.\u001b[0m\u001b[0mestimator\u001b[0m \u001b[0;32mimport\u001b[0m \u001b[0mestimator\u001b[0m\u001b[0;34m\u001b[0m\u001b[0;34m\u001b[0m\u001b[0m\n\u001b[1;32m     21\u001b[0m \u001b[0;32mfrom\u001b[0m \u001b[0mtensorflow_estimator\u001b[0m\u001b[0;34m.\u001b[0m\u001b[0mpython\u001b[0m\u001b[0;34m.\u001b[0m\u001b[0mestimator\u001b[0m\u001b[0;34m.\u001b[0m\u001b[0mcanned\u001b[0m \u001b[0;32mimport\u001b[0m \u001b[0mdnn\u001b[0m\u001b[0;34m\u001b[0m\u001b[0;34m\u001b[0m\u001b[0m\n",
      "\u001b[0;32m/usr/local/lib/python3.11/dist-packages/tensorflow_privacy/privacy/estimators/v1/head.py\u001b[0m in \u001b[0;36m<module>\u001b[0;34m\u001b[0m\n\u001b[1;32m     18\u001b[0m \u001b[0;32mfrom\u001b[0m \u001b[0mtensorflow\u001b[0m\u001b[0;34m.\u001b[0m\u001b[0mpython\u001b[0m\u001b[0;34m.\u001b[0m\u001b[0mops\u001b[0m \u001b[0;32mimport\u001b[0m \u001b[0mlookup_ops\u001b[0m  \u001b[0;31m# pylint: disable=g-direct-tensorflow-import\u001b[0m\u001b[0;34m\u001b[0m\u001b[0;34m\u001b[0m\u001b[0m\n\u001b[1;32m     19\u001b[0m \u001b[0;31m# pylint: disable=g-deprecated-tf-checker\u001b[0m\u001b[0;34m\u001b[0m\u001b[0;34m\u001b[0m\u001b[0m\n\u001b[0;32m---> 20\u001b[0;31m \u001b[0;32mfrom\u001b[0m \u001b[0mtensorflow_estimator\u001b[0m\u001b[0;34m.\u001b[0m\u001b[0mpython\u001b[0m\u001b[0;34m.\u001b[0m\u001b[0mestimator\u001b[0m \u001b[0;32mimport\u001b[0m \u001b[0mmodel_fn\u001b[0m\u001b[0;34m\u001b[0m\u001b[0;34m\u001b[0m\u001b[0m\n\u001b[0m\u001b[1;32m     21\u001b[0m \u001b[0;32mfrom\u001b[0m \u001b[0mtensorflow_estimator\u001b[0m\u001b[0;34m.\u001b[0m\u001b[0mpython\u001b[0m\u001b[0;34m.\u001b[0m\u001b[0mestimator\u001b[0m\u001b[0;34m.\u001b[0m\u001b[0mcanned\u001b[0m \u001b[0;32mimport\u001b[0m \u001b[0mhead\u001b[0m \u001b[0;32mas\u001b[0m \u001b[0mhead_lib\u001b[0m\u001b[0;34m\u001b[0m\u001b[0;34m\u001b[0m\u001b[0m\n\u001b[1;32m     22\u001b[0m \u001b[0;32mfrom\u001b[0m \u001b[0mtensorflow_estimator\u001b[0m\u001b[0;34m.\u001b[0m\u001b[0mpython\u001b[0m\u001b[0;34m.\u001b[0m\u001b[0mestimator\u001b[0m\u001b[0;34m.\u001b[0m\u001b[0mcanned\u001b[0m \u001b[0;32mimport\u001b[0m \u001b[0mmetric_keys\u001b[0m\u001b[0;34m\u001b[0m\u001b[0;34m\u001b[0m\u001b[0m\n",
      "\u001b[0;32m/usr/local/lib/python3.11/dist-packages/tensorflow_estimator/python/estimator/model_fn.py\u001b[0m in \u001b[0;36m<module>\u001b[0;34m\u001b[0m\n\u001b[1;32m     27\u001b[0m \u001b[0;32mfrom\u001b[0m \u001b[0mtensorflow\u001b[0m\u001b[0;34m.\u001b[0m\u001b[0mpython\u001b[0m\u001b[0;34m.\u001b[0m\u001b[0mutil\u001b[0m \u001b[0;32mimport\u001b[0m \u001b[0mfunction_utils\u001b[0m\u001b[0;34m\u001b[0m\u001b[0;34m\u001b[0m\u001b[0m\n\u001b[1;32m     28\u001b[0m \u001b[0;32mfrom\u001b[0m \u001b[0mtensorflow_estimator\u001b[0m\u001b[0;34m.\u001b[0m\u001b[0mpython\u001b[0m\u001b[0;34m.\u001b[0m\u001b[0mestimator\u001b[0m\u001b[0;34m.\u001b[0m\u001b[0mestimator_export\u001b[0m \u001b[0;32mimport\u001b[0m \u001b[0mestimator_export\u001b[0m\u001b[0;34m\u001b[0m\u001b[0;34m\u001b[0m\u001b[0m\n\u001b[0;32m---> 29\u001b[0;31m \u001b[0;32mfrom\u001b[0m \u001b[0mtensorflow_estimator\u001b[0m\u001b[0;34m.\u001b[0m\u001b[0mpython\u001b[0m\u001b[0;34m.\u001b[0m\u001b[0mestimator\u001b[0m\u001b[0;34m.\u001b[0m\u001b[0mmode_keys\u001b[0m \u001b[0;32mimport\u001b[0m \u001b[0mModeKeys\u001b[0m\u001b[0;34m\u001b[0m\u001b[0;34m\u001b[0m\u001b[0m\n\u001b[0m\u001b[1;32m     30\u001b[0m \u001b[0;34m\u001b[0m\u001b[0m\n\u001b[1;32m     31\u001b[0m \u001b[0mLOSS_METRIC_KEY\u001b[0m \u001b[0;34m=\u001b[0m \u001b[0;34m'loss'\u001b[0m\u001b[0;34m\u001b[0m\u001b[0;34m\u001b[0m\u001b[0m\n",
      "\u001b[0;32m/usr/local/lib/python3.11/dist-packages/tensorflow_estimator/python/estimator/mode_keys.py\u001b[0m in \u001b[0;36m<module>\u001b[0;34m\u001b[0m\n\u001b[1;32m     22\u001b[0m \u001b[0;32mfrom\u001b[0m \u001b[0mtensorflow_estimator\u001b[0m\u001b[0;34m.\u001b[0m\u001b[0mpython\u001b[0m\u001b[0;34m.\u001b[0m\u001b[0mestimator\u001b[0m\u001b[0;34m.\u001b[0m\u001b[0mestimator_export\u001b[0m \u001b[0;32mimport\u001b[0m \u001b[0mestimator_export\u001b[0m\u001b[0;34m\u001b[0m\u001b[0;34m\u001b[0m\u001b[0m\n\u001b[1;32m     23\u001b[0m \u001b[0;34m\u001b[0m\u001b[0m\n\u001b[0;32m---> 24\u001b[0;31m \u001b[0mestimator_export\u001b[0m\u001b[0;34m(\u001b[0m\u001b[0;34m'estimator.ModeKeys'\u001b[0m\u001b[0;34m)\u001b[0m\u001b[0;34m(\u001b[0m\u001b[0mModeKeys\u001b[0m\u001b[0;34m)\u001b[0m\u001b[0;34m\u001b[0m\u001b[0;34m\u001b[0m\u001b[0m\n\u001b[0m",
      "\u001b[0;32m/usr/local/lib/python3.11/dist-packages/tensorflow_estimator/python/estimator/estimator_export.py\u001b[0m in \u001b[0;36m__init__\u001b[0;34m(self, v1, *args)\u001b[0m\n\u001b[1;32m     61\u001b[0m         \u001b[0mboth\u001b[0m \u001b[0;32mfor\u001b[0m \u001b[0mTensorFlow\u001b[0m \u001b[0mV1\u001b[0m \u001b[0;32mand\u001b[0m \u001b[0mV2\u001b[0m \u001b[0mAPIs\u001b[0m\u001b[0;34m.\u001b[0m\u001b[0;34m\u001b[0m\u001b[0;34m\u001b[0m\u001b[0m\n\u001b[1;32m     62\u001b[0m     \"\"\"\n\u001b[0;32m---> 63\u001b[0;31m     \u001b[0msuper\u001b[0m\u001b[0;34m(\u001b[0m\u001b[0;34m)\u001b[0m\u001b[0;34m.\u001b[0m\u001b[0m__init__\u001b[0m\u001b[0;34m(\u001b[0m\u001b[0;34m*\u001b[0m\u001b[0margs\u001b[0m\u001b[0;34m,\u001b[0m \u001b[0mapi_name\u001b[0m\u001b[0;34m=\u001b[0m\u001b[0mtf_export\u001b[0m\u001b[0;34m.\u001b[0m\u001b[0mESTIMATOR_API_NAME\u001b[0m\u001b[0;34m,\u001b[0m \u001b[0mv1\u001b[0m\u001b[0;34m=\u001b[0m\u001b[0mv1\u001b[0m\u001b[0;34m)\u001b[0m\u001b[0;34m\u001b[0m\u001b[0;34m\u001b[0m\u001b[0m\n\u001b[0m\u001b[1;32m     64\u001b[0m \u001b[0;34m\u001b[0m\u001b[0m\n\u001b[1;32m     65\u001b[0m   \u001b[0;32mdef\u001b[0m \u001b[0m__call__\u001b[0m\u001b[0;34m(\u001b[0m\u001b[0mself\u001b[0m\u001b[0;34m,\u001b[0m \u001b[0mfunc\u001b[0m\u001b[0;34m:\u001b[0m \u001b[0mT\u001b[0m\u001b[0;34m)\u001b[0m \u001b[0;34m->\u001b[0m \u001b[0mT\u001b[0m\u001b[0;34m:\u001b[0m\u001b[0;34m\u001b[0m\u001b[0;34m\u001b[0m\u001b[0m\n",
      "\u001b[0;31mAttributeError\u001b[0m: module 'tensorflow.python.util.tf_export' has no attribute 'ESTIMATOR_API_NAME'"
     ]
    }
   ],
   "source": [
    "from tensorflow_privacy.privacy.optimizers.dp_optimizer_keras import DPKerasSGDOptimizer"
   ]
  },
  {
   "cell_type": "code",
   "execution_count": 4,
   "metadata": {
    "colab": {
     "base_uri": "https://localhost:8080/"
    },
    "id": "USqk5Akym4jg",
    "outputId": "3a2fb22c-dd74-4b6b-cd5b-acb0086d616a"
   },
   "outputs": [
    {
     "name": "stdout",
     "output_type": "stream",
     "text": [
      "\u001b[31mERROR: Ignored the following yanked versions: 1.11.0, 1.14.0rc1\u001b[0m\u001b[31m\n",
      "\u001b[0m\u001b[31mERROR: Ignored the following versions that require a different python version: 1.6.2 Requires-Python >=3.7,<3.10; 1.6.3 Requires-Python >=3.7,<3.10; 1.7.0 Requires-Python >=3.7,<3.10; 1.7.1 Requires-Python >=3.7,<3.10; 1.7.2 Requires-Python >=3.7,<3.11; 1.7.3 Requires-Python >=3.7,<3.11; 1.8.0 Requires-Python >=3.8,<3.11; 1.8.0rc1 Requires-Python >=3.8,<3.11; 1.8.0rc2 Requires-Python >=3.8,<3.11; 1.8.0rc3 Requires-Python >=3.8,<3.11; 1.8.0rc4 Requires-Python >=3.8,<3.11; 1.8.1 Requires-Python >=3.8,<3.11\u001b[0m\u001b[31m\n",
      "\u001b[0m\u001b[31mERROR: Could not find a version that satisfies the requirement scipy==1.7.3 (from versions: 0.8.0, 0.9.0, 0.10.0, 0.10.1, 0.11.0, 0.12.0, 0.12.1, 0.13.0, 0.13.1, 0.13.2, 0.13.3, 0.14.0, 0.14.1, 0.15.0, 0.15.1, 0.16.0, 0.16.1, 0.17.0, 0.17.1, 0.18.0, 0.18.1, 0.19.0, 0.19.1, 1.0.0, 1.0.1, 1.1.0, 1.2.0, 1.2.1, 1.2.2, 1.2.3, 1.3.0, 1.3.1, 1.3.2, 1.3.3, 1.4.0, 1.4.1, 1.5.0, 1.5.1, 1.5.2, 1.5.3, 1.5.4, 1.6.0, 1.6.1, 1.9.0rc1, 1.9.0rc2, 1.9.0rc3, 1.9.0, 1.9.1, 1.9.2, 1.9.3, 1.10.0rc1, 1.10.0rc2, 1.10.0, 1.10.1, 1.11.0rc1, 1.11.0rc2, 1.11.1, 1.11.2, 1.11.3, 1.11.4, 1.12.0rc1, 1.12.0rc2, 1.12.0, 1.13.0rc1, 1.13.0, 1.13.1, 1.14.0rc2, 1.14.0, 1.14.1, 1.15.0rc1, 1.15.0rc2, 1.15.0, 1.15.1, 1.15.2, 1.15.3, 1.16.0rc1, 1.16.0rc2, 1.16.0)\u001b[0m\u001b[31m\n",
      "\u001b[0m\u001b[31mERROR: No matching distribution found for scipy==1.7.3\u001b[0m\u001b[31m\n",
      "\u001b[0m  Preparing metadata (setup.py) ... \u001b[?25l\u001b[?25hdone\n",
      "\u001b[31mERROR: Cannot install tensorflow-privacy and tensorflow-privacy==0.8.7 because these package versions have conflicting dependencies.\u001b[0m\u001b[31m\n",
      "\u001b[0m\u001b[31mERROR: ResolutionImpossible: for help visit https://pip.pypa.io/en/latest/topics/dependency-resolution/#dealing-with-dependency-conflicts\u001b[0m\u001b[31m\n",
      "\u001b[0m"
     ]
    }
   ],
   "source": [
    "# Downgrade to compatible versions\n",
    "!pip install -U \"tensorflow==2.13.0\" \"tensorflow-estimator==2.13.0\" \"scipy==1.7.3\" --quiet\n",
    "!pip install \"tensorflow-privacy==0.8.7\" --quiet\n",
    "\n",
    "# Restart the runtime after this step"
   ]
  },
  {
   "cell_type": "code",
   "execution_count": 5,
   "metadata": {
    "colab": {
     "base_uri": "https://localhost:8080/"
    },
    "id": "1gvT8fR-nZoO",
    "outputId": "c6814712-4e4c-4bab-8d45-a28e197c4605"
   },
   "outputs": [
    {
     "name": "stdout",
     "output_type": "stream",
     "text": [
      "Found existing installation: tensorflow_privacy 0.9.0\n",
      "Uninstalling tensorflow_privacy-0.9.0:\n",
      "  Successfully uninstalled tensorflow_privacy-0.9.0\n"
     ]
    }
   ],
   "source": [
    "!pip uninstall -y tensorflow-privacy"
   ]
  },
  {
   "cell_type": "code",
   "execution_count": 6,
   "metadata": {
    "colab": {
     "base_uri": "https://localhost:8080/"
    },
    "id": "xgmD4zjgnjxa",
    "outputId": "82343b83-93b6-4b0c-f5b9-103e2be4238e"
   },
   "outputs": [
    {
     "name": "stdout",
     "output_type": "stream",
     "text": [
      "Collecting git+https://github.com/tensorflow/privacy.git@main\n",
      "  Cloning https://github.com/tensorflow/privacy.git (to revision main) to /tmp/pip-req-build-nvfy5w1x\n",
      "  Running command git clone --filter=blob:none --quiet https://github.com/tensorflow/privacy.git /tmp/pip-req-build-nvfy5w1x\n",
      "\u001b[33m  WARNING: Did not find branch or tag 'main', assuming revision or ref.\u001b[0m\u001b[33m\n",
      "\u001b[0m  Running command git checkout -q main\n",
      "  error: pathspec 'main' did not match any file(s) known to git\n",
      "  \u001b[1;31merror\u001b[0m: \u001b[1msubprocess-exited-with-error\u001b[0m\n",
      "  \n",
      "  \u001b[31m×\u001b[0m \u001b[32mgit checkout -q main\u001b[0m did not run successfully.\n",
      "  \u001b[31m│\u001b[0m exit code: \u001b[1;36m1\u001b[0m\n",
      "  \u001b[31m╰─>\u001b[0m See above for output.\n",
      "  \n",
      "  \u001b[1;35mnote\u001b[0m: This error originates from a subprocess, and is likely not a problem with pip.\n",
      "\u001b[1;31merror\u001b[0m: \u001b[1msubprocess-exited-with-error\u001b[0m\n",
      "\n",
      "\u001b[31m×\u001b[0m \u001b[32mgit checkout -q main\u001b[0m did not run successfully.\n",
      "\u001b[31m│\u001b[0m exit code: \u001b[1;36m1\u001b[0m\n",
      "\u001b[31m╰─>\u001b[0m See above for output.\n",
      "\n",
      "\u001b[1;35mnote\u001b[0m: This error originates from a subprocess, and is likely not a problem with pip.\n"
     ]
    }
   ],
   "source": [
    "!pip install git+https://github.com/tensorflow/privacy.git@main"
   ]
  },
  {
   "cell_type": "code",
   "execution_count": 1,
   "metadata": {
    "colab": {
     "base_uri": "https://localhost:8080/"
    },
    "id": "jhSFnBSdnlJ2",
    "outputId": "88a916df-3a4b-4370-d490-c297bc4f3781"
   },
   "outputs": [
    {
     "name": "stdout",
     "output_type": "stream",
     "text": [
      "Collecting git+https://github.com/tensorflow/privacy.git@master\n",
      "  Cloning https://github.com/tensorflow/privacy.git (to revision master) to /tmp/pip-req-build-bjly6npr\n",
      "  Running command git clone --filter=blob:none --quiet https://github.com/tensorflow/privacy.git /tmp/pip-req-build-bjly6npr\n",
      "  Resolved https://github.com/tensorflow/privacy.git to commit f27d79d505e3734ec38df688666d48f025132b92\n",
      "  Preparing metadata (setup.py) ... \u001b[?25l\u001b[?25hdone\n",
      "Requirement already satisfied: absl-py==1.*,>=1.0 in /usr/local/lib/python3.11/dist-packages (from tensorflow_privacy==0.9.0) (1.4.0)\n",
      "Requirement already satisfied: dm-tree==0.1.8 in /usr/local/lib/python3.11/dist-packages (from tensorflow_privacy==0.9.0) (0.1.8)\n",
      "Requirement already satisfied: dp-accounting==0.4.4 in /usr/local/lib/python3.11/dist-packages (from tensorflow_privacy==0.9.0) (0.4.4)\n",
      "Requirement already satisfied: numpy~=1.21 in /usr/local/lib/python3.11/dist-packages (from tensorflow_privacy==0.9.0) (1.26.4)\n",
      "Requirement already satisfied: packaging~=22.0 in /usr/local/lib/python3.11/dist-packages (from tensorflow_privacy==0.9.0) (22.0)\n",
      "Requirement already satisfied: scikit-learn==1.*,>=1.0 in /usr/local/lib/python3.11/dist-packages (from tensorflow_privacy==0.9.0) (1.6.1)\n",
      "Requirement already satisfied: scipy~=1.9 in /usr/local/lib/python3.11/dist-packages (from tensorflow_privacy==0.9.0) (1.15.3)\n",
      "Requirement already satisfied: tensorflow<=2.15.0,>=2.4.0 in /usr/local/lib/python3.11/dist-packages (from tensorflow_privacy==0.9.0) (2.15.0)\n",
      "Requirement already satisfied: tensorflow-probability~=0.22.0 in /usr/local/lib/python3.11/dist-packages (from tensorflow_privacy==0.9.0) (0.22.1)\n",
      "Requirement already satisfied: attrs>=22 in /usr/local/lib/python3.11/dist-packages (from dp-accounting==0.4.4->tensorflow_privacy==0.9.0) (25.3.0)\n",
      "Requirement already satisfied: mpmath~=1.2 in /usr/local/lib/python3.11/dist-packages (from dp-accounting==0.4.4->tensorflow_privacy==0.9.0) (1.3.0)\n",
      "Requirement already satisfied: joblib>=1.2.0 in /usr/local/lib/python3.11/dist-packages (from scikit-learn==1.*,>=1.0->tensorflow_privacy==0.9.0) (1.5.1)\n",
      "Requirement already satisfied: threadpoolctl>=3.1.0 in /usr/local/lib/python3.11/dist-packages (from scikit-learn==1.*,>=1.0->tensorflow_privacy==0.9.0) (3.6.0)\n",
      "Requirement already satisfied: astunparse>=1.6.0 in /usr/local/lib/python3.11/dist-packages (from tensorflow<=2.15.0,>=2.4.0->tensorflow_privacy==0.9.0) (1.6.3)\n",
      "Requirement already satisfied: flatbuffers>=23.5.26 in /usr/local/lib/python3.11/dist-packages (from tensorflow<=2.15.0,>=2.4.0->tensorflow_privacy==0.9.0) (25.2.10)\n",
      "Requirement already satisfied: gast!=0.5.0,!=0.5.1,!=0.5.2,>=0.2.1 in /usr/local/lib/python3.11/dist-packages (from tensorflow<=2.15.0,>=2.4.0->tensorflow_privacy==0.9.0) (0.6.0)\n",
      "Requirement already satisfied: google-pasta>=0.1.1 in /usr/local/lib/python3.11/dist-packages (from tensorflow<=2.15.0,>=2.4.0->tensorflow_privacy==0.9.0) (0.2.0)\n",
      "Requirement already satisfied: h5py>=2.9.0 in /usr/local/lib/python3.11/dist-packages (from tensorflow<=2.15.0,>=2.4.0->tensorflow_privacy==0.9.0) (3.14.0)\n",
      "Requirement already satisfied: libclang>=13.0.0 in /usr/local/lib/python3.11/dist-packages (from tensorflow<=2.15.0,>=2.4.0->tensorflow_privacy==0.9.0) (18.1.1)\n",
      "Requirement already satisfied: ml-dtypes~=0.2.0 in /usr/local/lib/python3.11/dist-packages (from tensorflow<=2.15.0,>=2.4.0->tensorflow_privacy==0.9.0) (0.2.0)\n",
      "Requirement already satisfied: opt-einsum>=2.3.2 in /usr/local/lib/python3.11/dist-packages (from tensorflow<=2.15.0,>=2.4.0->tensorflow_privacy==0.9.0) (3.4.0)\n",
      "Requirement already satisfied: protobuf!=4.21.0,!=4.21.1,!=4.21.2,!=4.21.3,!=4.21.4,!=4.21.5,<5.0.0dev,>=3.20.3 in /usr/local/lib/python3.11/dist-packages (from tensorflow<=2.15.0,>=2.4.0->tensorflow_privacy==0.9.0) (4.25.8)\n",
      "Requirement already satisfied: setuptools in /usr/local/lib/python3.11/dist-packages (from tensorflow<=2.15.0,>=2.4.0->tensorflow_privacy==0.9.0) (75.2.0)\n",
      "Requirement already satisfied: six>=1.12.0 in /usr/local/lib/python3.11/dist-packages (from tensorflow<=2.15.0,>=2.4.0->tensorflow_privacy==0.9.0) (1.17.0)\n",
      "Requirement already satisfied: termcolor>=1.1.0 in /usr/local/lib/python3.11/dist-packages (from tensorflow<=2.15.0,>=2.4.0->tensorflow_privacy==0.9.0) (3.1.0)\n",
      "Requirement already satisfied: typing-extensions>=3.6.6 in /usr/local/lib/python3.11/dist-packages (from tensorflow<=2.15.0,>=2.4.0->tensorflow_privacy==0.9.0) (4.14.0)\n",
      "Requirement already satisfied: wrapt<1.15,>=1.11.0 in /usr/local/lib/python3.11/dist-packages (from tensorflow<=2.15.0,>=2.4.0->tensorflow_privacy==0.9.0) (1.14.1)\n",
      "Requirement already satisfied: tensorflow-io-gcs-filesystem>=0.23.1 in /usr/local/lib/python3.11/dist-packages (from tensorflow<=2.15.0,>=2.4.0->tensorflow_privacy==0.9.0) (0.37.1)\n",
      "Requirement already satisfied: grpcio<2.0,>=1.24.3 in /usr/local/lib/python3.11/dist-packages (from tensorflow<=2.15.0,>=2.4.0->tensorflow_privacy==0.9.0) (1.73.0)\n",
      "Requirement already satisfied: tensorboard<2.16,>=2.15 in /usr/local/lib/python3.11/dist-packages (from tensorflow<=2.15.0,>=2.4.0->tensorflow_privacy==0.9.0) (2.15.2)\n",
      "Requirement already satisfied: tensorflow-estimator<2.16,>=2.15.0 in /usr/local/lib/python3.11/dist-packages (from tensorflow<=2.15.0,>=2.4.0->tensorflow_privacy==0.9.0) (2.15.0)\n",
      "Requirement already satisfied: keras<2.16,>=2.15.0 in /usr/local/lib/python3.11/dist-packages (from tensorflow<=2.15.0,>=2.4.0->tensorflow_privacy==0.9.0) (2.15.0)\n",
      "Requirement already satisfied: decorator in /usr/local/lib/python3.11/dist-packages (from tensorflow-probability~=0.22.0->tensorflow_privacy==0.9.0) (4.4.2)\n",
      "Requirement already satisfied: cloudpickle>=1.3 in /usr/local/lib/python3.11/dist-packages (from tensorflow-probability~=0.22.0->tensorflow_privacy==0.9.0) (3.1.1)\n",
      "Requirement already satisfied: wheel<1.0,>=0.23.0 in /usr/local/lib/python3.11/dist-packages (from astunparse>=1.6.0->tensorflow<=2.15.0,>=2.4.0->tensorflow_privacy==0.9.0) (0.45.1)\n",
      "Requirement already satisfied: google-auth<3,>=1.6.3 in /usr/local/lib/python3.11/dist-packages (from tensorboard<2.16,>=2.15->tensorflow<=2.15.0,>=2.4.0->tensorflow_privacy==0.9.0) (2.38.0)\n",
      "Requirement already satisfied: google-auth-oauthlib<2,>=0.5 in /usr/local/lib/python3.11/dist-packages (from tensorboard<2.16,>=2.15->tensorflow<=2.15.0,>=2.4.0->tensorflow_privacy==0.9.0) (1.2.2)\n",
      "Requirement already satisfied: markdown>=2.6.8 in /usr/local/lib/python3.11/dist-packages (from tensorboard<2.16,>=2.15->tensorflow<=2.15.0,>=2.4.0->tensorflow_privacy==0.9.0) (3.8.2)\n",
      "Requirement already satisfied: requests<3,>=2.21.0 in /usr/local/lib/python3.11/dist-packages (from tensorboard<2.16,>=2.15->tensorflow<=2.15.0,>=2.4.0->tensorflow_privacy==0.9.0) (2.32.3)\n",
      "Requirement already satisfied: tensorboard-data-server<0.8.0,>=0.7.0 in /usr/local/lib/python3.11/dist-packages (from tensorboard<2.16,>=2.15->tensorflow<=2.15.0,>=2.4.0->tensorflow_privacy==0.9.0) (0.7.2)\n",
      "Requirement already satisfied: werkzeug>=1.0.1 in /usr/local/lib/python3.11/dist-packages (from tensorboard<2.16,>=2.15->tensorflow<=2.15.0,>=2.4.0->tensorflow_privacy==0.9.0) (3.1.3)\n",
      "Requirement already satisfied: cachetools<6.0,>=2.0.0 in /usr/local/lib/python3.11/dist-packages (from google-auth<3,>=1.6.3->tensorboard<2.16,>=2.15->tensorflow<=2.15.0,>=2.4.0->tensorflow_privacy==0.9.0) (5.5.2)\n",
      "Requirement already satisfied: pyasn1-modules>=0.2.1 in /usr/local/lib/python3.11/dist-packages (from google-auth<3,>=1.6.3->tensorboard<2.16,>=2.15->tensorflow<=2.15.0,>=2.4.0->tensorflow_privacy==0.9.0) (0.4.2)\n",
      "Requirement already satisfied: rsa<5,>=3.1.4 in /usr/local/lib/python3.11/dist-packages (from google-auth<3,>=1.6.3->tensorboard<2.16,>=2.15->tensorflow<=2.15.0,>=2.4.0->tensorflow_privacy==0.9.0) (4.9.1)\n",
      "Requirement already satisfied: requests-oauthlib>=0.7.0 in /usr/local/lib/python3.11/dist-packages (from google-auth-oauthlib<2,>=0.5->tensorboard<2.16,>=2.15->tensorflow<=2.15.0,>=2.4.0->tensorflow_privacy==0.9.0) (2.0.0)\n",
      "Requirement already satisfied: charset-normalizer<4,>=2 in /usr/local/lib/python3.11/dist-packages (from requests<3,>=2.21.0->tensorboard<2.16,>=2.15->tensorflow<=2.15.0,>=2.4.0->tensorflow_privacy==0.9.0) (3.4.2)\n",
      "Requirement already satisfied: idna<4,>=2.5 in /usr/local/lib/python3.11/dist-packages (from requests<3,>=2.21.0->tensorboard<2.16,>=2.15->tensorflow<=2.15.0,>=2.4.0->tensorflow_privacy==0.9.0) (3.10)\n",
      "Requirement already satisfied: urllib3<3,>=1.21.1 in /usr/local/lib/python3.11/dist-packages (from requests<3,>=2.21.0->tensorboard<2.16,>=2.15->tensorflow<=2.15.0,>=2.4.0->tensorflow_privacy==0.9.0) (2.4.0)\n",
      "Requirement already satisfied: certifi>=2017.4.17 in /usr/local/lib/python3.11/dist-packages (from requests<3,>=2.21.0->tensorboard<2.16,>=2.15->tensorflow<=2.15.0,>=2.4.0->tensorflow_privacy==0.9.0) (2025.6.15)\n",
      "Requirement already satisfied: MarkupSafe>=2.1.1 in /usr/local/lib/python3.11/dist-packages (from werkzeug>=1.0.1->tensorboard<2.16,>=2.15->tensorflow<=2.15.0,>=2.4.0->tensorflow_privacy==0.9.0) (3.0.2)\n",
      "Requirement already satisfied: pyasn1<0.7.0,>=0.6.1 in /usr/local/lib/python3.11/dist-packages (from pyasn1-modules>=0.2.1->google-auth<3,>=1.6.3->tensorboard<2.16,>=2.15->tensorflow<=2.15.0,>=2.4.0->tensorflow_privacy==0.9.0) (0.6.1)\n",
      "Requirement already satisfied: oauthlib>=3.0.0 in /usr/local/lib/python3.11/dist-packages (from requests-oauthlib>=0.7.0->google-auth-oauthlib<2,>=0.5->tensorboard<2.16,>=2.15->tensorflow<=2.15.0,>=2.4.0->tensorflow_privacy==0.9.0) (3.3.1)\n"
     ]
    }
   ],
   "source": [
    "!pip install git+https://github.com/tensorflow/privacy.git@master"
   ]
  },
  {
   "cell_type": "code",
   "execution_count": 2,
   "metadata": {
    "colab": {
     "base_uri": "https://localhost:8080/",
     "height": 483
    },
    "id": "hXd0lgLDnrbR",
    "outputId": "224d14c9-066f-4265-a699-93d7db8f5e5f"
   },
   "outputs": [
    {
     "ename": "ModuleNotFoundError",
     "errorDetails": {
      "actions": [
       {
        "action": "open_url",
        "actionText": "Open Examples",
        "url": "/notebooks/snippets/importing_libraries.ipynb"
       }
      ]
     },
     "evalue": "No module named 'tensorflow_privacy.privacy.sparsity_preserving_noise'",
     "output_type": "error",
     "traceback": [
      "\u001b[0;31m---------------------------------------------------------------------------\u001b[0m",
      "\u001b[0;31mModuleNotFoundError\u001b[0m                       Traceback (most recent call last)",
      "\u001b[0;32m/tmp/ipython-input-2-2248401796.py\u001b[0m in \u001b[0;36m<cell line: 0>\u001b[0;34m()\u001b[0m\n\u001b[0;32m----> 1\u001b[0;31m \u001b[0;32mfrom\u001b[0m \u001b[0mtensorflow_privacy\u001b[0m\u001b[0;34m.\u001b[0m\u001b[0mprivacy\u001b[0m\u001b[0;34m.\u001b[0m\u001b[0moptimizers\u001b[0m\u001b[0;34m.\u001b[0m\u001b[0mdp_optimizer_keras\u001b[0m \u001b[0;32mimport\u001b[0m \u001b[0mDPKerasSGDOptimizer\u001b[0m\u001b[0;34m\u001b[0m\u001b[0;34m\u001b[0m\u001b[0m\n\u001b[0m",
      "\u001b[0;32m/usr/local/lib/python3.11/dist-packages/tensorflow_privacy/__init__.py\u001b[0m in \u001b[0;36m<module>\u001b[0;34m\u001b[0m\n\u001b[1;32m     59\u001b[0m \u001b[0;34m\u001b[0m\u001b[0m\n\u001b[1;32m     60\u001b[0m   \u001b[0;31m# Keras Models\u001b[0m\u001b[0;34m\u001b[0m\u001b[0;34m\u001b[0m\u001b[0m\n\u001b[0;32m---> 61\u001b[0;31m   \u001b[0;32mfrom\u001b[0m \u001b[0mtensorflow_privacy\u001b[0m\u001b[0;34m.\u001b[0m\u001b[0mprivacy\u001b[0m\u001b[0;34m.\u001b[0m\u001b[0mkeras_models\u001b[0m\u001b[0;34m.\u001b[0m\u001b[0mdp_keras_model\u001b[0m \u001b[0;32mimport\u001b[0m \u001b[0mDPModel\u001b[0m\u001b[0;34m\u001b[0m\u001b[0;34m\u001b[0m\u001b[0m\n\u001b[0m\u001b[1;32m     62\u001b[0m   \u001b[0;32mfrom\u001b[0m \u001b[0mtensorflow_privacy\u001b[0m\u001b[0;34m.\u001b[0m\u001b[0mprivacy\u001b[0m\u001b[0;34m.\u001b[0m\u001b[0mkeras_models\u001b[0m\u001b[0;34m.\u001b[0m\u001b[0mdp_keras_model\u001b[0m \u001b[0;32mimport\u001b[0m \u001b[0mDPSequential\u001b[0m\u001b[0;34m\u001b[0m\u001b[0;34m\u001b[0m\u001b[0m\n\u001b[1;32m     63\u001b[0m   \u001b[0;32mfrom\u001b[0m \u001b[0mtensorflow_privacy\u001b[0m\u001b[0;34m.\u001b[0m\u001b[0mprivacy\u001b[0m\u001b[0;34m.\u001b[0m\u001b[0mkeras_models\u001b[0m\u001b[0;34m.\u001b[0m\u001b[0mdp_keras_model\u001b[0m \u001b[0;32mimport\u001b[0m \u001b[0mmake_dp_model_class\u001b[0m\u001b[0;34m\u001b[0m\u001b[0;34m\u001b[0m\u001b[0m\n",
      "\u001b[0;32m/usr/local/lib/python3.11/dist-packages/tensorflow_privacy/privacy/keras_models/dp_keras_model.py\u001b[0m in \u001b[0;36m<module>\u001b[0;34m\u001b[0m\n\u001b[1;32m     18\u001b[0m \u001b[0;32mfrom\u001b[0m \u001b[0mabsl\u001b[0m \u001b[0;32mimport\u001b[0m \u001b[0mlogging\u001b[0m\u001b[0;34m\u001b[0m\u001b[0;34m\u001b[0m\u001b[0m\n\u001b[1;32m     19\u001b[0m \u001b[0;32mimport\u001b[0m \u001b[0mtensorflow\u001b[0m \u001b[0;32mas\u001b[0m \u001b[0mtf\u001b[0m\u001b[0;34m\u001b[0m\u001b[0;34m\u001b[0m\u001b[0m\n\u001b[0;32m---> 20\u001b[0;31m \u001b[0;32mfrom\u001b[0m \u001b[0mtensorflow_privacy\u001b[0m\u001b[0;34m.\u001b[0m\u001b[0mprivacy\u001b[0m\u001b[0;34m.\u001b[0m\u001b[0mfast_gradient_clipping\u001b[0m \u001b[0;32mimport\u001b[0m \u001b[0mclip_grads\u001b[0m\u001b[0;34m\u001b[0m\u001b[0;34m\u001b[0m\u001b[0m\n\u001b[0m\u001b[1;32m     21\u001b[0m \u001b[0;32mfrom\u001b[0m \u001b[0mtensorflow_privacy\u001b[0m\u001b[0;34m.\u001b[0m\u001b[0mprivacy\u001b[0m\u001b[0;34m.\u001b[0m\u001b[0mfast_gradient_clipping\u001b[0m \u001b[0;32mimport\u001b[0m \u001b[0mcommon_manip_utils\u001b[0m\u001b[0;34m\u001b[0m\u001b[0;34m\u001b[0m\u001b[0m\n\u001b[1;32m     22\u001b[0m \u001b[0;32mfrom\u001b[0m \u001b[0mtensorflow_privacy\u001b[0m\u001b[0;34m.\u001b[0m\u001b[0mprivacy\u001b[0m\u001b[0;34m.\u001b[0m\u001b[0mfast_gradient_clipping\u001b[0m \u001b[0;32mimport\u001b[0m \u001b[0mgradient_clipping_utils\u001b[0m\u001b[0;34m\u001b[0m\u001b[0;34m\u001b[0m\u001b[0m\n",
      "\u001b[0;32m/usr/local/lib/python3.11/dist-packages/tensorflow_privacy/privacy/fast_gradient_clipping/clip_grads.py\u001b[0m in \u001b[0;36m<module>\u001b[0;34m\u001b[0m\n\u001b[1;32m     28\u001b[0m \u001b[0;32mimport\u001b[0m \u001b[0mtensorflow\u001b[0m \u001b[0;32mas\u001b[0m \u001b[0mtf\u001b[0m\u001b[0;34m\u001b[0m\u001b[0;34m\u001b[0m\u001b[0m\n\u001b[1;32m     29\u001b[0m \u001b[0;32mfrom\u001b[0m \u001b[0mtensorflow_privacy\u001b[0m\u001b[0;34m.\u001b[0m\u001b[0mprivacy\u001b[0m\u001b[0;34m.\u001b[0m\u001b[0mfast_gradient_clipping\u001b[0m \u001b[0;32mimport\u001b[0m \u001b[0mcommon_manip_utils\u001b[0m\u001b[0;34m\u001b[0m\u001b[0;34m\u001b[0m\u001b[0m\n\u001b[0;32m---> 30\u001b[0;31m \u001b[0;32mfrom\u001b[0m \u001b[0mtensorflow_privacy\u001b[0m\u001b[0;34m.\u001b[0m\u001b[0mprivacy\u001b[0m\u001b[0;34m.\u001b[0m\u001b[0mfast_gradient_clipping\u001b[0m \u001b[0;32mimport\u001b[0m \u001b[0mgradient_clipping_utils\u001b[0m\u001b[0;34m\u001b[0m\u001b[0;34m\u001b[0m\u001b[0m\n\u001b[0m\u001b[1;32m     31\u001b[0m \u001b[0;32mfrom\u001b[0m \u001b[0mtensorflow_privacy\u001b[0m\u001b[0;34m.\u001b[0m\u001b[0mprivacy\u001b[0m\u001b[0;34m.\u001b[0m\u001b[0mfast_gradient_clipping\u001b[0m \u001b[0;32mimport\u001b[0m \u001b[0mlayer_registry\u001b[0m \u001b[0;32mas\u001b[0m \u001b[0mlr\u001b[0m\u001b[0;34m\u001b[0m\u001b[0;34m\u001b[0m\u001b[0m\n\u001b[1;32m     32\u001b[0m \u001b[0;32mfrom\u001b[0m \u001b[0mtensorflow_privacy\u001b[0m\u001b[0;34m.\u001b[0m\u001b[0mprivacy\u001b[0m\u001b[0;34m.\u001b[0m\u001b[0mfast_gradient_clipping\u001b[0m \u001b[0;32mimport\u001b[0m \u001b[0mtype_aliases\u001b[0m\u001b[0;34m\u001b[0m\u001b[0;34m\u001b[0m\u001b[0m\n",
      "\u001b[0;32m/usr/local/lib/python3.11/dist-packages/tensorflow_privacy/privacy/fast_gradient_clipping/gradient_clipping_utils.py\u001b[0m in \u001b[0;36m<module>\u001b[0;34m\u001b[0m\n\u001b[1;32m     23\u001b[0m \u001b[0;32mfrom\u001b[0m \u001b[0mtensorflow_privacy\u001b[0m\u001b[0;34m.\u001b[0m\u001b[0mprivacy\u001b[0m\u001b[0;34m.\u001b[0m\u001b[0mfast_gradient_clipping\u001b[0m \u001b[0;32mimport\u001b[0m \u001b[0mlayer_registry\u001b[0m \u001b[0;32mas\u001b[0m \u001b[0mlr\u001b[0m\u001b[0;34m\u001b[0m\u001b[0;34m\u001b[0m\u001b[0m\n\u001b[1;32m     24\u001b[0m \u001b[0;32mfrom\u001b[0m \u001b[0mtensorflow_privacy\u001b[0m\u001b[0;34m.\u001b[0m\u001b[0mprivacy\u001b[0m\u001b[0;34m.\u001b[0m\u001b[0mfast_gradient_clipping\u001b[0m \u001b[0;32mimport\u001b[0m \u001b[0mtype_aliases\u001b[0m\u001b[0;34m\u001b[0m\u001b[0;34m\u001b[0m\u001b[0m\n\u001b[0;32m---> 25\u001b[0;31m \u001b[0;32mfrom\u001b[0m \u001b[0mtensorflow_privacy\u001b[0m\u001b[0;34m.\u001b[0m\u001b[0mprivacy\u001b[0m\u001b[0;34m.\u001b[0m\u001b[0msparsity_preserving_noise\u001b[0m \u001b[0;32mimport\u001b[0m \u001b[0mlayer_registry\u001b[0m \u001b[0;32mas\u001b[0m \u001b[0msnlr\u001b[0m\u001b[0;34m\u001b[0m\u001b[0;34m\u001b[0m\u001b[0m\n\u001b[0m\u001b[1;32m     26\u001b[0m \u001b[0;32mfrom\u001b[0m \u001b[0mtensorflow_privacy\u001b[0m\u001b[0;34m.\u001b[0m\u001b[0mprivacy\u001b[0m\u001b[0;34m.\u001b[0m\u001b[0msparsity_preserving_noise\u001b[0m \u001b[0;32mimport\u001b[0m \u001b[0mtype_aliases\u001b[0m \u001b[0;32mas\u001b[0m \u001b[0msn_type_aliases\u001b[0m\u001b[0;34m\u001b[0m\u001b[0;34m\u001b[0m\u001b[0m\n\u001b[1;32m     27\u001b[0m \u001b[0;34m\u001b[0m\u001b[0m\n",
      "\u001b[0;31mModuleNotFoundError\u001b[0m: No module named 'tensorflow_privacy.privacy.sparsity_preserving_noise'",
      "",
      "\u001b[0;31m---------------------------------------------------------------------------\u001b[0;32m\nNOTE: If your import is failing due to a missing package, you can\nmanually install dependencies using either !pip or !apt.\n\nTo view examples of installing some common dependencies, click the\n\"Open Examples\" button below.\n\u001b[0;31m---------------------------------------------------------------------------\u001b[0m\n"
     ]
    }
   ],
   "source": [
    "from tensorflow_privacy.privacy.optimizers.dp_optimizer_keras import DPKerasSGDOptimizer"
   ]
  },
  {
   "cell_type": "code",
   "execution_count": 3,
   "metadata": {
    "colab": {
     "base_uri": "https://localhost:8080/"
    },
    "id": "nhOz11PyoHMV",
    "outputId": "9b9afe24-7911-48f5-d0f2-0f394f02e6dd"
   },
   "outputs": [
    {
     "name": "stdout",
     "output_type": "stream",
     "text": [
      "2.15.0\n"
     ]
    }
   ],
   "source": [
    "import tensorflow as tf\n",
    "print(tf.__version__)"
   ]
  },
  {
   "cell_type": "code",
   "execution_count": 4,
   "metadata": {
    "colab": {
     "base_uri": "https://localhost:8080/"
    },
    "id": "CJ2Ce7QAoTk4",
    "outputId": "183c32bd-cf9b-41cd-f48f-06d531386161"
   },
   "outputs": [
    {
     "name": "stdout",
     "output_type": "stream",
     "text": [
      "Collecting tensorflow-privacy==0.8.12\n",
      "  Downloading tensorflow_privacy-0.8.12-py3-none-any.whl.metadata (962 bytes)\n",
      "Requirement already satisfied: absl-py==1.*,>=1.0 in /usr/local/lib/python3.11/dist-packages (from tensorflow-privacy==0.8.12) (1.4.0)\n",
      "Requirement already satisfied: attrs>=21.4 in /usr/local/lib/python3.11/dist-packages (from tensorflow-privacy==0.8.12) (25.3.0)\n",
      "Requirement already satisfied: dm-tree==0.1.8 in /usr/local/lib/python3.11/dist-packages (from tensorflow-privacy==0.8.12) (0.1.8)\n",
      "Collecting dp-accounting==0.4.3 (from tensorflow-privacy==0.8.12)\n",
      "  Using cached dp_accounting-0.4.3-py3-none-any.whl.metadata (1.8 kB)\n",
      "Collecting immutabledict~=2.2 (from tensorflow-privacy==0.8.12)\n",
      "  Downloading immutabledict-2.2.5-py3-none-any.whl.metadata (3.2 kB)\n",
      "Requirement already satisfied: matplotlib~=3.3 in /usr/local/lib/python3.11/dist-packages (from tensorflow-privacy==0.8.12) (3.10.0)\n",
      "Requirement already satisfied: numpy~=1.21 in /usr/local/lib/python3.11/dist-packages (from tensorflow-privacy==0.8.12) (1.26.4)\n",
      "Requirement already satisfied: packaging~=22.0 in /usr/local/lib/python3.11/dist-packages (from tensorflow-privacy==0.8.12) (22.0)\n",
      "Collecting pandas~=1.4 (from tensorflow-privacy==0.8.12)\n",
      "  Using cached pandas-1.5.3-cp311-cp311-manylinux_2_17_x86_64.manylinux2014_x86_64.whl.metadata (11 kB)\n",
      "Requirement already satisfied: scikit-learn==1.*,>=1.0 in /usr/local/lib/python3.11/dist-packages (from tensorflow-privacy==0.8.12) (1.6.1)\n",
      "Requirement already satisfied: scipy~=1.9 in /usr/local/lib/python3.11/dist-packages (from tensorflow-privacy==0.8.12) (1.15.3)\n",
      "Requirement already satisfied: statsmodels~=0.13 in /usr/local/lib/python3.11/dist-packages (from tensorflow-privacy==0.8.12) (0.14.4)\n",
      "Requirement already satisfied: tensorflow-estimator~=2.4 in /usr/local/lib/python3.11/dist-packages (from tensorflow-privacy==0.8.12) (2.15.0)\n",
      "Requirement already satisfied: tensorflow-probability~=0.22.0 in /usr/local/lib/python3.11/dist-packages (from tensorflow-privacy==0.8.12) (0.22.1)\n",
      "Requirement already satisfied: tensorflow~=2.4 in /usr/local/lib/python3.11/dist-packages (from tensorflow-privacy==0.8.12) (2.15.0)\n",
      "Collecting tf-models-official~=2.13 (from tensorflow-privacy==0.8.12)\n",
      "  Downloading tf_models_official-2.19.1-py2.py3-none-any.whl.metadata (1.6 kB)\n",
      "Requirement already satisfied: mpmath~=1.2 in /usr/local/lib/python3.11/dist-packages (from dp-accounting==0.4.3->tensorflow-privacy==0.8.12) (1.3.0)\n",
      "Requirement already satisfied: joblib>=1.2.0 in /usr/local/lib/python3.11/dist-packages (from scikit-learn==1.*,>=1.0->tensorflow-privacy==0.8.12) (1.5.1)\n",
      "Requirement already satisfied: threadpoolctl>=3.1.0 in /usr/local/lib/python3.11/dist-packages (from scikit-learn==1.*,>=1.0->tensorflow-privacy==0.8.12) (3.6.0)\n",
      "Requirement already satisfied: contourpy>=1.0.1 in /usr/local/lib/python3.11/dist-packages (from matplotlib~=3.3->tensorflow-privacy==0.8.12) (1.3.2)\n",
      "Requirement already satisfied: cycler>=0.10 in /usr/local/lib/python3.11/dist-packages (from matplotlib~=3.3->tensorflow-privacy==0.8.12) (0.12.1)\n",
      "Requirement already satisfied: fonttools>=4.22.0 in /usr/local/lib/python3.11/dist-packages (from matplotlib~=3.3->tensorflow-privacy==0.8.12) (4.58.4)\n",
      "Requirement already satisfied: kiwisolver>=1.3.1 in /usr/local/lib/python3.11/dist-packages (from matplotlib~=3.3->tensorflow-privacy==0.8.12) (1.4.8)\n",
      "Requirement already satisfied: pillow>=8 in /usr/local/lib/python3.11/dist-packages (from matplotlib~=3.3->tensorflow-privacy==0.8.12) (11.2.1)\n",
      "Requirement already satisfied: pyparsing>=2.3.1 in /usr/local/lib/python3.11/dist-packages (from matplotlib~=3.3->tensorflow-privacy==0.8.12) (3.2.3)\n",
      "Requirement already satisfied: python-dateutil>=2.7 in /usr/local/lib/python3.11/dist-packages (from matplotlib~=3.3->tensorflow-privacy==0.8.12) (2.9.0.post0)\n",
      "Requirement already satisfied: pytz>=2020.1 in /usr/local/lib/python3.11/dist-packages (from pandas~=1.4->tensorflow-privacy==0.8.12) (2025.2)\n",
      "Requirement already satisfied: patsy>=0.5.6 in /usr/local/lib/python3.11/dist-packages (from statsmodels~=0.13->tensorflow-privacy==0.8.12) (1.0.1)\n",
      "Requirement already satisfied: astunparse>=1.6.0 in /usr/local/lib/python3.11/dist-packages (from tensorflow~=2.4->tensorflow-privacy==0.8.12) (1.6.3)\n",
      "Requirement already satisfied: flatbuffers>=23.5.26 in /usr/local/lib/python3.11/dist-packages (from tensorflow~=2.4->tensorflow-privacy==0.8.12) (25.2.10)\n",
      "Requirement already satisfied: gast!=0.5.0,!=0.5.1,!=0.5.2,>=0.2.1 in /usr/local/lib/python3.11/dist-packages (from tensorflow~=2.4->tensorflow-privacy==0.8.12) (0.6.0)\n",
      "Requirement already satisfied: google-pasta>=0.1.1 in /usr/local/lib/python3.11/dist-packages (from tensorflow~=2.4->tensorflow-privacy==0.8.12) (0.2.0)\n",
      "Requirement already satisfied: h5py>=2.9.0 in /usr/local/lib/python3.11/dist-packages (from tensorflow~=2.4->tensorflow-privacy==0.8.12) (3.14.0)\n",
      "Requirement already satisfied: libclang>=13.0.0 in /usr/local/lib/python3.11/dist-packages (from tensorflow~=2.4->tensorflow-privacy==0.8.12) (18.1.1)\n",
      "Requirement already satisfied: ml-dtypes~=0.2.0 in /usr/local/lib/python3.11/dist-packages (from tensorflow~=2.4->tensorflow-privacy==0.8.12) (0.2.0)\n",
      "Requirement already satisfied: opt-einsum>=2.3.2 in /usr/local/lib/python3.11/dist-packages (from tensorflow~=2.4->tensorflow-privacy==0.8.12) (3.4.0)\n",
      "Requirement already satisfied: protobuf!=4.21.0,!=4.21.1,!=4.21.2,!=4.21.3,!=4.21.4,!=4.21.5,<5.0.0dev,>=3.20.3 in /usr/local/lib/python3.11/dist-packages (from tensorflow~=2.4->tensorflow-privacy==0.8.12) (4.25.8)\n",
      "Requirement already satisfied: setuptools in /usr/local/lib/python3.11/dist-packages (from tensorflow~=2.4->tensorflow-privacy==0.8.12) (75.2.0)\n",
      "Requirement already satisfied: six>=1.12.0 in /usr/local/lib/python3.11/dist-packages (from tensorflow~=2.4->tensorflow-privacy==0.8.12) (1.17.0)\n",
      "Requirement already satisfied: termcolor>=1.1.0 in /usr/local/lib/python3.11/dist-packages (from tensorflow~=2.4->tensorflow-privacy==0.8.12) (3.1.0)\n",
      "Requirement already satisfied: typing-extensions>=3.6.6 in /usr/local/lib/python3.11/dist-packages (from tensorflow~=2.4->tensorflow-privacy==0.8.12) (4.14.0)\n",
      "Requirement already satisfied: wrapt<1.15,>=1.11.0 in /usr/local/lib/python3.11/dist-packages (from tensorflow~=2.4->tensorflow-privacy==0.8.12) (1.14.1)\n",
      "Requirement already satisfied: tensorflow-io-gcs-filesystem>=0.23.1 in /usr/local/lib/python3.11/dist-packages (from tensorflow~=2.4->tensorflow-privacy==0.8.12) (0.37.1)\n",
      "Requirement already satisfied: grpcio<2.0,>=1.24.3 in /usr/local/lib/python3.11/dist-packages (from tensorflow~=2.4->tensorflow-privacy==0.8.12) (1.73.0)\n",
      "Requirement already satisfied: tensorboard<2.16,>=2.15 in /usr/local/lib/python3.11/dist-packages (from tensorflow~=2.4->tensorflow-privacy==0.8.12) (2.15.2)\n",
      "Requirement already satisfied: keras<2.16,>=2.15.0 in /usr/local/lib/python3.11/dist-packages (from tensorflow~=2.4->tensorflow-privacy==0.8.12) (2.15.0)\n",
      "Requirement already satisfied: decorator in /usr/local/lib/python3.11/dist-packages (from tensorflow-probability~=0.22.0->tensorflow-privacy==0.8.12) (4.4.2)\n",
      "Requirement already satisfied: cloudpickle>=1.3 in /usr/local/lib/python3.11/dist-packages (from tensorflow-probability~=0.22.0->tensorflow-privacy==0.8.12) (3.1.1)\n",
      "Requirement already satisfied: google-api-python-client>=1.6.7 in /usr/local/lib/python3.11/dist-packages (from tf-models-official~=2.13->tensorflow-privacy==0.8.12) (2.173.0)\n",
      "Requirement already satisfied: kaggle>=1.3.9 in /usr/local/lib/python3.11/dist-packages (from tf-models-official~=2.13->tensorflow-privacy==0.8.12) (1.7.4.5)\n",
      "Requirement already satisfied: oauth2client in /usr/local/lib/python3.11/dist-packages (from tf-models-official~=2.13->tensorflow-privacy==0.8.12) (4.1.3)\n",
      "Requirement already satisfied: psutil>=5.4.3 in /usr/local/lib/python3.11/dist-packages (from tf-models-official~=2.13->tensorflow-privacy==0.8.12) (5.9.5)\n",
      "Requirement already satisfied: py-cpuinfo>=3.3.0 in /usr/local/lib/python3.11/dist-packages (from tf-models-official~=2.13->tensorflow-privacy==0.8.12) (9.0.0)\n",
      "Requirement already satisfied: tensorflow-hub>=0.6.0 in /usr/local/lib/python3.11/dist-packages (from tf-models-official~=2.13->tensorflow-privacy==0.8.12) (0.16.1)\n",
      "Collecting tensorflow-model-optimization>=0.4.1 (from tf-models-official~=2.13->tensorflow-privacy==0.8.12)\n",
      "  Downloading tensorflow_model_optimization-0.8.0-py2.py3-none-any.whl.metadata (904 bytes)\n",
      "Requirement already satisfied: tensorflow-datasets in /usr/local/lib/python3.11/dist-packages (from tf-models-official~=2.13->tensorflow-privacy==0.8.12) (4.9.9)\n",
      "Requirement already satisfied: tf-keras>=2.16.0 in /usr/local/lib/python3.11/dist-packages (from tf-models-official~=2.13->tensorflow-privacy==0.8.12) (2.18.0)\n",
      "Requirement already satisfied: gin-config in /usr/local/lib/python3.11/dist-packages (from tf-models-official~=2.13->tensorflow-privacy==0.8.12) (0.5.0)\n",
      "Requirement already satisfied: tf_slim>=1.1.0 in /usr/local/lib/python3.11/dist-packages (from tf-models-official~=2.13->tensorflow-privacy==0.8.12) (1.1.0)\n",
      "Requirement already satisfied: Cython in /usr/local/lib/python3.11/dist-packages (from tf-models-official~=2.13->tensorflow-privacy==0.8.12) (3.0.12)\n",
      "Requirement already satisfied: pyyaml>=6.0.0 in /usr/local/lib/python3.11/dist-packages (from tf-models-official~=2.13->tensorflow-privacy==0.8.12) (6.0.2)\n",
      "Requirement already satisfied: opencv-python-headless in /usr/local/lib/python3.11/dist-packages (from tf-models-official~=2.13->tensorflow-privacy==0.8.12) (4.11.0.86)\n",
      "Requirement already satisfied: pycocotools in /usr/local/lib/python3.11/dist-packages (from tf-models-official~=2.13->tensorflow-privacy==0.8.12) (2.0.10)\n",
      "Collecting seqeval (from tf-models-official~=2.13->tensorflow-privacy==0.8.12)\n",
      "  Downloading seqeval-1.2.2.tar.gz (43 kB)\n",
      "\u001b[2K     \u001b[90m━━━━━━━━━━━━━━━━━━━━━━━━━━━━━━━━━━━━━━━━\u001b[0m \u001b[32m43.6/43.6 kB\u001b[0m \u001b[31m1.7 MB/s\u001b[0m eta \u001b[36m0:00:00\u001b[0m\n",
      "\u001b[?25h  \u001b[1;31merror\u001b[0m: \u001b[1msubprocess-exited-with-error\u001b[0m\n",
      "  \n",
      "  \u001b[31m×\u001b[0m \u001b[32mpython setup.py egg_info\u001b[0m did not run successfully.\n",
      "  \u001b[31m│\u001b[0m exit code: \u001b[1;36m1\u001b[0m\n",
      "  \u001b[31m╰─>\u001b[0m See above for output.\n",
      "  \n",
      "  \u001b[1;35mnote\u001b[0m: This error originates from a subprocess, and is likely not a problem with pip.\n",
      "  Preparing metadata (setup.py) ... \u001b[?25l\u001b[?25herror\n",
      "\u001b[1;31merror\u001b[0m: \u001b[1mmetadata-generation-failed\u001b[0m\n",
      "\n",
      "\u001b[31m×\u001b[0m Encountered error while generating package metadata.\n",
      "\u001b[31m╰─>\u001b[0m See above for output.\n",
      "\n",
      "\u001b[1;35mnote\u001b[0m: This is an issue with the package mentioned above, not pip.\n",
      "\u001b[1;36mhint\u001b[0m: See above for details.\n"
     ]
    }
   ],
   "source": [
    "!pip install tensorflow-privacy==0.8.12"
   ]
  },
  {
   "cell_type": "code",
   "execution_count": 5,
   "metadata": {
    "colab": {
     "base_uri": "https://localhost:8080/"
    },
    "id": "XofRmYVIoZaA",
    "outputId": "12349790-8b5a-4dde-fd3f-5d11f82f427c"
   },
   "outputs": [
    {
     "name": "stdout",
     "output_type": "stream",
     "text": [
      "Collecting tensorflow-privacy==0.8.12\n",
      "  Using cached tensorflow_privacy-0.8.12-py3-none-any.whl.metadata (962 bytes)\n",
      "Downloading tensorflow_privacy-0.8.12-py3-none-any.whl (405 kB)\n",
      "\u001b[?25l   \u001b[90m━━━━━━━━━━━━━━━━━━━━━━━━━━━━━━━━━━━━━━━━\u001b[0m \u001b[32m0.0/405.5 kB\u001b[0m \u001b[31m?\u001b[0m eta \u001b[36m-:--:--\u001b[0m\r",
      "\u001b[2K   \u001b[91m━━━━━━━━━━━━━━━━━━━━━━━━━━━━━━\u001b[0m\u001b[90m╺\u001b[0m\u001b[90m━━━━━━━━━\u001b[0m \u001b[32m307.2/405.5 kB\u001b[0m \u001b[31m9.4 MB/s\u001b[0m eta \u001b[36m0:00:01\u001b[0m\r",
      "\u001b[2K   \u001b[90m━━━━━━━━━━━━━━━━━━━━━━━━━━━━━━━━━━━━━━━━\u001b[0m \u001b[32m405.5/405.5 kB\u001b[0m \u001b[31m7.8 MB/s\u001b[0m eta \u001b[36m0:00:00\u001b[0m\n",
      "\u001b[?25hInstalling collected packages: tensorflow-privacy\n",
      "  Attempting uninstall: tensorflow-privacy\n",
      "    Found existing installation: tensorflow_privacy 0.9.0\n",
      "    Uninstalling tensorflow_privacy-0.9.0:\n",
      "      Successfully uninstalled tensorflow_privacy-0.9.0\n",
      "Successfully installed tensorflow-privacy-0.8.12\n"
     ]
    }
   ],
   "source": [
    "!pip install tensorflow-privacy==0.8.12 --no-deps"
   ]
  },
  {
   "cell_type": "code",
   "execution_count": 6,
   "metadata": {
    "id": "dWje-q6Nofnv"
   },
   "outputs": [],
   "source": [
    "from tensorflow_privacy.privacy.optimizers.dp_optimizer_keras import DPKerasSGDOptimizer"
   ]
  },
  {
   "cell_type": "code",
   "execution_count": 7,
   "metadata": {
    "id": "pZTcnybUoiQK"
   },
   "outputs": [],
   "source": [
    "from tensorflow.keras import layers"
   ]
  },
  {
   "cell_type": "code",
   "execution_count": null,
   "metadata": {
    "id": "jStYFeNdoj1l"
   },
   "outputs": [],
   "source": []
  },
  {
   "cell_type": "code",
   "execution_count": null,
   "metadata": {
    "id": "-ucB1-veup4J"
   },
   "outputs": [],
   "source": []
  },
  {
   "cell_type": "code",
   "execution_count": null,
   "metadata": {
    "id": "WNC87xqUup1P"
   },
   "outputs": [],
   "source": []
  },
  {
   "cell_type": "markdown",
   "metadata": {
    "id": "3GRxCCvRurVG"
   },
   "source": [
    "### Use tensor flow privacy library with the dataset v2 and calculate the metrics for the new DP model."
   ]
  },
  {
   "cell_type": "code",
   "execution_count": 8,
   "metadata": {
    "colab": {
     "base_uri": "https://localhost:8080/",
     "height": 180
    },
    "id": "UwQnczAioj36",
    "outputId": "648ace5a-1e4a-4f8a-9d0e-4fd7ef0d8b0d"
   },
   "outputs": [
    {
     "data": {
      "text/html": [
       "\n",
       "     <input type=\"file\" id=\"files-8eb55567-cfce-4f03-85bb-ba67a96b9941\" name=\"files[]\" multiple disabled\n",
       "        style=\"border:none\" />\n",
       "     <output id=\"result-8eb55567-cfce-4f03-85bb-ba67a96b9941\">\n",
       "      Upload widget is only available when the cell has been executed in the\n",
       "      current browser session. Please rerun this cell to enable.\n",
       "      </output>\n",
       "      <script>// Copyright 2017 Google LLC\n",
       "//\n",
       "// Licensed under the Apache License, Version 2.0 (the \"License\");\n",
       "// you may not use this file except in compliance with the License.\n",
       "// You may obtain a copy of the License at\n",
       "//\n",
       "//      http://www.apache.org/licenses/LICENSE-2.0\n",
       "//\n",
       "// Unless required by applicable law or agreed to in writing, software\n",
       "// distributed under the License is distributed on an \"AS IS\" BASIS,\n",
       "// WITHOUT WARRANTIES OR CONDITIONS OF ANY KIND, either express or implied.\n",
       "// See the License for the specific language governing permissions and\n",
       "// limitations under the License.\n",
       "\n",
       "/**\n",
       " * @fileoverview Helpers for google.colab Python module.\n",
       " */\n",
       "(function(scope) {\n",
       "function span(text, styleAttributes = {}) {\n",
       "  const element = document.createElement('span');\n",
       "  element.textContent = text;\n",
       "  for (const key of Object.keys(styleAttributes)) {\n",
       "    element.style[key] = styleAttributes[key];\n",
       "  }\n",
       "  return element;\n",
       "}\n",
       "\n",
       "// Max number of bytes which will be uploaded at a time.\n",
       "const MAX_PAYLOAD_SIZE = 100 * 1024;\n",
       "\n",
       "function _uploadFiles(inputId, outputId) {\n",
       "  const steps = uploadFilesStep(inputId, outputId);\n",
       "  const outputElement = document.getElementById(outputId);\n",
       "  // Cache steps on the outputElement to make it available for the next call\n",
       "  // to uploadFilesContinue from Python.\n",
       "  outputElement.steps = steps;\n",
       "\n",
       "  return _uploadFilesContinue(outputId);\n",
       "}\n",
       "\n",
       "// This is roughly an async generator (not supported in the browser yet),\n",
       "// where there are multiple asynchronous steps and the Python side is going\n",
       "// to poll for completion of each step.\n",
       "// This uses a Promise to block the python side on completion of each step,\n",
       "// then passes the result of the previous step as the input to the next step.\n",
       "function _uploadFilesContinue(outputId) {\n",
       "  const outputElement = document.getElementById(outputId);\n",
       "  const steps = outputElement.steps;\n",
       "\n",
       "  const next = steps.next(outputElement.lastPromiseValue);\n",
       "  return Promise.resolve(next.value.promise).then((value) => {\n",
       "    // Cache the last promise value to make it available to the next\n",
       "    // step of the generator.\n",
       "    outputElement.lastPromiseValue = value;\n",
       "    return next.value.response;\n",
       "  });\n",
       "}\n",
       "\n",
       "/**\n",
       " * Generator function which is called between each async step of the upload\n",
       " * process.\n",
       " * @param {string} inputId Element ID of the input file picker element.\n",
       " * @param {string} outputId Element ID of the output display.\n",
       " * @return {!Iterable<!Object>} Iterable of next steps.\n",
       " */\n",
       "function* uploadFilesStep(inputId, outputId) {\n",
       "  const inputElement = document.getElementById(inputId);\n",
       "  inputElement.disabled = false;\n",
       "\n",
       "  const outputElement = document.getElementById(outputId);\n",
       "  outputElement.innerHTML = '';\n",
       "\n",
       "  const pickedPromise = new Promise((resolve) => {\n",
       "    inputElement.addEventListener('change', (e) => {\n",
       "      resolve(e.target.files);\n",
       "    });\n",
       "  });\n",
       "\n",
       "  const cancel = document.createElement('button');\n",
       "  inputElement.parentElement.appendChild(cancel);\n",
       "  cancel.textContent = 'Cancel upload';\n",
       "  const cancelPromise = new Promise((resolve) => {\n",
       "    cancel.onclick = () => {\n",
       "      resolve(null);\n",
       "    };\n",
       "  });\n",
       "\n",
       "  // Wait for the user to pick the files.\n",
       "  const files = yield {\n",
       "    promise: Promise.race([pickedPromise, cancelPromise]),\n",
       "    response: {\n",
       "      action: 'starting',\n",
       "    }\n",
       "  };\n",
       "\n",
       "  cancel.remove();\n",
       "\n",
       "  // Disable the input element since further picks are not allowed.\n",
       "  inputElement.disabled = true;\n",
       "\n",
       "  if (!files) {\n",
       "    return {\n",
       "      response: {\n",
       "        action: 'complete',\n",
       "      }\n",
       "    };\n",
       "  }\n",
       "\n",
       "  for (const file of files) {\n",
       "    const li = document.createElement('li');\n",
       "    li.append(span(file.name, {fontWeight: 'bold'}));\n",
       "    li.append(span(\n",
       "        `(${file.type || 'n/a'}) - ${file.size} bytes, ` +\n",
       "        `last modified: ${\n",
       "            file.lastModifiedDate ? file.lastModifiedDate.toLocaleDateString() :\n",
       "                                    'n/a'} - `));\n",
       "    const percent = span('0% done');\n",
       "    li.appendChild(percent);\n",
       "\n",
       "    outputElement.appendChild(li);\n",
       "\n",
       "    const fileDataPromise = new Promise((resolve) => {\n",
       "      const reader = new FileReader();\n",
       "      reader.onload = (e) => {\n",
       "        resolve(e.target.result);\n",
       "      };\n",
       "      reader.readAsArrayBuffer(file);\n",
       "    });\n",
       "    // Wait for the data to be ready.\n",
       "    let fileData = yield {\n",
       "      promise: fileDataPromise,\n",
       "      response: {\n",
       "        action: 'continue',\n",
       "      }\n",
       "    };\n",
       "\n",
       "    // Use a chunked sending to avoid message size limits. See b/62115660.\n",
       "    let position = 0;\n",
       "    do {\n",
       "      const length = Math.min(fileData.byteLength - position, MAX_PAYLOAD_SIZE);\n",
       "      const chunk = new Uint8Array(fileData, position, length);\n",
       "      position += length;\n",
       "\n",
       "      const base64 = btoa(String.fromCharCode.apply(null, chunk));\n",
       "      yield {\n",
       "        response: {\n",
       "          action: 'append',\n",
       "          file: file.name,\n",
       "          data: base64,\n",
       "        },\n",
       "      };\n",
       "\n",
       "      let percentDone = fileData.byteLength === 0 ?\n",
       "          100 :\n",
       "          Math.round((position / fileData.byteLength) * 100);\n",
       "      percent.textContent = `${percentDone}% done`;\n",
       "\n",
       "    } while (position < fileData.byteLength);\n",
       "  }\n",
       "\n",
       "  // All done.\n",
       "  yield {\n",
       "    response: {\n",
       "      action: 'complete',\n",
       "    }\n",
       "  };\n",
       "}\n",
       "\n",
       "scope.google = scope.google || {};\n",
       "scope.google.colab = scope.google.colab || {};\n",
       "scope.google.colab._files = {\n",
       "  _uploadFiles,\n",
       "  _uploadFilesContinue,\n",
       "};\n",
       "})(self);\n",
       "</script> "
      ],
      "text/plain": [
       "<IPython.core.display.HTML object>"
      ]
     },
     "metadata": {},
     "output_type": "display_data"
    },
    {
     "name": "stdout",
     "output_type": "stream",
     "text": [
      "Saving X_test_v2.npy to X_test_v2.npy\n",
      "Saving X_train_v2.npy to X_train_v2.npy\n",
      "Saving y_test_v2.npy to y_test_v2.npy\n",
      "Saving y_train_v2.npy to y_train_v2.npy\n"
     ]
    }
   ],
   "source": [
    "from google.colab import files\n",
    "uploaded = files.upload()"
   ]
  },
  {
   "cell_type": "code",
   "execution_count": 9,
   "metadata": {
    "id": "KMfjEzuGoj6e"
   },
   "outputs": [],
   "source": [
    "import numpy as np\n",
    "\n",
    "X_train_v2 = np.load(\"X_train_v2.npy\")\n",
    "y_train_v2 = np.load(\"y_train_v2.npy\")\n",
    "X_test_v2 = np.load(\"X_test_v2.npy\")\n",
    "y_test_v2 = np.load(\"y_test_v2.npy\")"
   ]
  },
  {
   "cell_type": "code",
   "execution_count": 10,
   "metadata": {
    "id": "58vbeobgpRQG"
   },
   "outputs": [],
   "source": [
    "import tensorflow as tf\n",
    "from tensorflow.keras import layers\n",
    "from tensorflow.keras.regularizers import l2\n",
    "from tensorflow.keras.callbacks import EarlyStopping, ModelCheckpoint\n",
    "from tensorflow_privacy.privacy.optimizers.dp_optimizer_keras import DPKerasSGDOptimizer"
   ]
  },
  {
   "cell_type": "markdown",
   "metadata": {
    "id": "ILcwiZF9v6k6"
   },
   "source": [
    "Next I will train a **differentially private neural network** for a **regression task** using TensorFlow and TensorFlow Privacy.\n",
    "\n",
    "---\n",
    "\n",
    "### **Model Architecture**\n",
    "* A 3-layer neural network using `tf.keras.Sequential`.\n",
    "* Uses ReLU activations and dropout for regularization.\n",
    "* Output layer has 1 neuron for regression output (no activation).\n",
    "\n",
    "---\n",
    "\n",
    "### **Differential Privacy**\n",
    "* Uses **DP-SGD** optimizer (`DPKerasSGDOptimizer`) for training with:\n",
    "  * Gradient clipping (`l2_norm_clip = 1.0`)\n",
    "  * Gaussian noise added to gradients (`noise_multiplier = 1.1`)\n",
    "  * Single microbatch (`num_microbatches = 1`)\n",
    "\n",
    "---\n",
    "\n",
    "### **Training Setup**\n",
    "* Compiles the model with **MAE loss and metric**.\n",
    "* Uses callbacks for:\n",
    "  * **Early stopping** to prevent overfitting.\n",
    "  * **Model checkpoint** to save the best model.\n",
    "\n",
    "---\n",
    "\n",
    "### **Execution**\n",
    "* Trains the model on `X_train_v2`/`y_train_v2` for 10 epochs.\n",
    "* Evaluates it on `X_test_v2`/`y_test_v2`.\n",
    "* Makes predictions on the test set."
   ]
  },
  {
   "cell_type": "code",
   "execution_count": 11,
   "metadata": {
    "colab": {
     "base_uri": "https://localhost:8080/"
    },
    "id": "bgtvMXalpMHu",
    "outputId": "aabbe545-c106-4baa-edb6-0d24a41747b6"
   },
   "outputs": [
    {
     "name": "stdout",
     "output_type": "stream",
     "text": [
      "Epoch 1/10\n",
      "301/301 [==============================] - 3s 4ms/step - loss: 1004.2930 - mean_absolute_error: 998.8682 - val_loss: 969.2645 - val_mean_absolute_error: 959.7885\n",
      "Epoch 2/10\n",
      " 52/301 [====>.........................] - ETA: 0s - loss: 961.9612 - mean_absolute_error: 951.7985"
     ]
    },
    {
     "name": "stderr",
     "output_type": "stream",
     "text": [
      "/usr/local/lib/python3.11/dist-packages/keras/src/engine/training.py:3103: UserWarning: You are saving your model as an HDF5 file via `model.save()`. This file format is considered legacy. We recommend using instead the native Keras format, e.g. `model.save('my_model.keras')`.\n",
      "  saving_api.save_model(\n"
     ]
    },
    {
     "name": "stdout",
     "output_type": "stream",
     "text": [
      "301/301 [==============================] - 1s 4ms/step - loss: 922.7004 - mean_absolute_error: 909.2204 - val_loss: 862.9843 - val_mean_absolute_error: 845.3981\n",
      "Epoch 3/10\n",
      "301/301 [==============================] - 1s 4ms/step - loss: 778.9604 - mean_absolute_error: 757.4383 - val_loss: 682.5384 - val_mean_absolute_error: 656.8938\n",
      "Epoch 4/10\n",
      " 50/301 [===>..........................] - ETA: 0s - loss: 677.3073 - mean_absolute_error: 651.0719"
     ]
    },
    {
     "name": "stderr",
     "output_type": "stream",
     "text": [
      "/usr/local/lib/python3.11/dist-packages/keras/src/engine/training.py:3103: UserWarning: You are saving your model as an HDF5 file via `model.save()`. This file format is considered legacy. We recommend using instead the native Keras format, e.g. `model.save('my_model.keras')`.\n",
      "  saving_api.save_model(\n"
     ]
    },
    {
     "name": "stdout",
     "output_type": "stream",
     "text": [
      "301/301 [==============================] - 1s 4ms/step - loss: 633.0504 - mean_absolute_error: 603.5307 - val_loss: 541.5652 - val_mean_absolute_error: 507.8631\n",
      "Epoch 5/10\n",
      " 49/301 [===>..........................] - ETA: 0s - loss: 561.6304 - mean_absolute_error: 527.2552"
     ]
    },
    {
     "name": "stderr",
     "output_type": "stream",
     "text": [
      "/usr/local/lib/python3.11/dist-packages/keras/src/engine/training.py:3103: UserWarning: You are saving your model as an HDF5 file via `model.save()`. This file format is considered legacy. We recommend using instead the native Keras format, e.g. `model.save('my_model.keras')`.\n",
      "  saving_api.save_model(\n"
     ]
    },
    {
     "name": "stdout",
     "output_type": "stream",
     "text": [
      "301/301 [==============================] - 1s 4ms/step - loss: 565.1189 - mean_absolute_error: 527.2490 - val_loss: 493.3242 - val_mean_absolute_error: 451.2807\n",
      "Epoch 6/10\n",
      " 50/301 [===>..........................] - ETA: 0s - loss: 539.8043 - mean_absolute_error: 497.0181"
     ]
    },
    {
     "name": "stderr",
     "output_type": "stream",
     "text": [
      "/usr/local/lib/python3.11/dist-packages/keras/src/engine/training.py:3103: UserWarning: You are saving your model as an HDF5 file via `model.save()`. This file format is considered legacy. We recommend using instead the native Keras format, e.g. `model.save('my_model.keras')`.\n",
      "  saving_api.save_model(\n"
     ]
    },
    {
     "name": "stdout",
     "output_type": "stream",
     "text": [
      "301/301 [==============================] - 2s 6ms/step - loss: 558.9742 - mean_absolute_error: 512.7139 - val_loss: 477.9831 - val_mean_absolute_error: 427.6160\n",
      "Epoch 7/10\n",
      " 19/301 [>.............................] - ETA: 1s - loss: 537.7669 - mean_absolute_error: 487.1372"
     ]
    },
    {
     "name": "stderr",
     "output_type": "stream",
     "text": [
      "/usr/local/lib/python3.11/dist-packages/keras/src/engine/training.py:3103: UserWarning: You are saving your model as an HDF5 file via `model.save()`. This file format is considered legacy. We recommend using instead the native Keras format, e.g. `model.save('my_model.keras')`.\n",
      "  saving_api.save_model(\n"
     ]
    },
    {
     "name": "stdout",
     "output_type": "stream",
     "text": [
      "301/301 [==============================] - 2s 6ms/step - loss: 563.8777 - mean_absolute_error: 509.6325 - val_loss: 475.9755 - val_mean_absolute_error: 417.8846\n",
      "Epoch 8/10\n",
      " 32/301 [==>...........................] - ETA: 1s - loss: 555.4068 - mean_absolute_error: 496.9668"
     ]
    },
    {
     "name": "stderr",
     "output_type": "stream",
     "text": [
      "/usr/local/lib/python3.11/dist-packages/keras/src/engine/training.py:3103: UserWarning: You are saving your model as an HDF5 file via `model.save()`. This file format is considered legacy. We recommend using instead the native Keras format, e.g. `model.save('my_model.keras')`.\n",
      "  saving_api.save_model(\n"
     ]
    },
    {
     "name": "stdout",
     "output_type": "stream",
     "text": [
      "301/301 [==============================] - 1s 4ms/step - loss: 561.1382 - mean_absolute_error: 499.4689 - val_loss: 471.4433 - val_mean_absolute_error: 406.1117\n",
      "Epoch 9/10\n",
      " 50/301 [===>..........................] - ETA: 0s - loss: 561.8024 - mean_absolute_error: 495.8454"
     ]
    },
    {
     "name": "stderr",
     "output_type": "stream",
     "text": [
      "/usr/local/lib/python3.11/dist-packages/keras/src/engine/training.py:3103: UserWarning: You are saving your model as an HDF5 file via `model.save()`. This file format is considered legacy. We recommend using instead the native Keras format, e.g. `model.save('my_model.keras')`.\n",
      "  saving_api.save_model(\n"
     ]
    },
    {
     "name": "stdout",
     "output_type": "stream",
     "text": [
      "301/301 [==============================] - 1s 4ms/step - loss: 561.3411 - mean_absolute_error: 492.0094 - val_loss: 476.9179 - val_mean_absolute_error: 403.7126\n",
      "Epoch 10/10\n",
      "301/301 [==============================] - 1s 4ms/step - loss: 568.0519 - mean_absolute_error: 490.5649 - val_loss: 496.5070 - val_mean_absolute_error: 414.5662\n",
      "188/188 [==============================] - 0s 2ms/step - loss: 486.8015 - mean_absolute_error: 404.8604\n",
      "Test loss: [486.8015441894531, 404.8604431152344]\n",
      "188/188 [==============================] - 0s 1ms/step\n"
     ]
    }
   ],
   "source": [
    "# Build the model using tf.keras.Sequential\n",
    "model_v3 = tf.keras.Sequential([\n",
    "    layers.Dense(64, input_dim=X_train_v2.shape[1], activation='relu', kernel_regularizer=l2(0.01)),\n",
    "    layers.Dropout(0.5),\n",
    "    layers.Dense(32, activation='relu', kernel_regularizer=l2(0.01)),\n",
    "    layers.Dropout(0.5),\n",
    "    layers.Dense(1)  # Output layer for regression\n",
    "])\n",
    "\n",
    "# Define hyperparameters for differential privacy\n",
    "l2_norm_clip = 1.0  # Clipping norm\n",
    "noise_multiplier = 1.1  # Noise multiplier\n",
    "num_microbatches = 1  # Number of microbatches\n",
    "\n",
    "# Create a DP-SGD optimizer\n",
    "optimizer = DPKerasSGDOptimizer(\n",
    "    l2_norm_clip=l2_norm_clip,\n",
    "    noise_multiplier=noise_multiplier,\n",
    "    num_microbatches=num_microbatches\n",
    ")\n",
    "\n",
    "# Compile the model with the DP-SGD optimizer\n",
    "model_v3.compile(optimizer=optimizer,\n",
    "                 loss='mean_absolute_error',  # Use MAE for regression\n",
    "                 metrics=['mean_absolute_error'])  # MAE as the metric\n",
    "\n",
    "# Define callbacks for early stopping and model_v3 checkpoint\n",
    "early_stop = EarlyStopping(monitor='val_loss', patience=5, restore_best_weights=True)\n",
    "model_v3_checkpoint = ModelCheckpoint('model_v3_dp.h5', monitor='val_loss', save_best_only=True)\n",
    "\n",
    "# Train the model_v3\n",
    "history_v3  = model_v3.fit(X_train_v2, y_train_v2, epochs=10, batch_size=64, validation_split=0.2, callbacks=[early_stop, model_v3_checkpoint])\n",
    "\n",
    "# Evaluate the model_v3\n",
    "loss_v3 = model_v3.evaluate(X_test_v2, y_test_v2)\n",
    "print(f'Test loss: {loss_v3}')\n",
    "\n",
    "# Make predictions_v3\n",
    "y_pred_v3 = model_v3.predict(X_test_v2)"
   ]
  },
  {
   "cell_type": "code",
   "execution_count": 18,
   "metadata": {
    "id": "bJpma4WPqBOM"
   },
   "outputs": [],
   "source": [
    "import matplotlib.pyplot as plt\n",
    "import pandas as pd\n",
    "import seaborn as sns\n"
   ]
  },
  {
   "cell_type": "code",
   "execution_count": 19,
   "metadata": {
    "colab": {
     "base_uri": "https://localhost:8080/",
     "height": 1000
    },
    "id": "LK4pBf_kpMKT",
    "outputId": "1bf59589-d5ee-4d62-dd24-6a8c9dca7df0"
   },
   "outputs": [
    {
     "name": "stdout",
     "output_type": "stream",
     "text": [
      "188/188 [==============================] - 1s 3ms/step - loss: 486.8015 - mean_absolute_error: 404.8604\n",
      "Test loss_v3: 404.8604431152344\n",
      "MSE: 415619.3606957802\n",
      "MAE: 404.86049746101475\n",
      "MAPE: 0.443542770632004\n",
      "R-squared: -4.411078903259095\n",
      "Adjusted R-squared: -4.700619090187871\n",
      "MBD: -185.54694194711132\n"
     ]
    },
    {
     "data": {
      "image/png": "[encoded data removed]",
      "text/plain": [
       "<Figure size 640x480 with 1 Axes>"
      ]
     },
     "metadata": {},
     "output_type": "display_data"
    },
    {
     "name": "stdout",
     "output_type": "stream",
     "text": [
      "\n",
      "Summary statistics for predictions:\n",
      "        predictions\n",
      "count   6006.000000\n",
      "mean     829.948242\n",
      "std      634.956970\n",
      "min      194.644272\n",
      "25%      533.819626\n",
      "50%      702.063110\n",
      "75%      917.398453\n",
      "max    14854.196289\n"
     ]
    },
    {
     "data": {
      "image/png": "[encoded data removed]",
      "text/plain": [
       "<Figure size 1000x600 with 1 Axes>"
      ]
     },
     "metadata": {},
     "output_type": "display_data"
    }
   ],
   "source": [
    "# Evaluate the model\n",
    "loss_v3 = model_v3.evaluate(X_test_v2, y_test_v2)[1]\n",
    "print(f'Test loss_v3: {loss_v3}')\n",
    "\n",
    "from sklearn.metrics import mean_squared_error, mean_absolute_percentage_error, r2_score\n",
    "\n",
    "# Ensure predictions_v3 and y_test_v2 are 1-dimensional arrays\n",
    "y_pred_v3 = y_pred_v3.flatten()\n",
    "y_test_v2 = y_test_v2\n",
    "\n",
    "# Calculate the metrics\n",
    "mse_3 = mean_squared_error(y_test_v2, y_pred_v3)\n",
    "mae_3 = np.mean(np.abs(y_pred_v3 - y_test_v2))\n",
    "mape_3 = mean_absolute_percentage_error(y_test_v2, y_pred_v3)\n",
    "r2_3 = r2_score(y_test_v2, y_pred_v3)\n",
    "adjusted_r2_3 = 1 - (1-r2_3)*(len(y_test_v2)-1)/(len(y_test_v2)-X_test_v2.shape[1]-1)\n",
    "mbd_3 = np.mean(y_pred_v3 - y_test_v2)\n",
    "\n",
    "# Print the metrics\n",
    "print(f'MSE: {mse_3}')\n",
    "print(f'MAE: {mae_3}')\n",
    "print(f'MAPE: {mape_3}')\n",
    "print(f'R-squared: {r2_3}')\n",
    "print(f'Adjusted R-squared: {adjusted_r2_3}')\n",
    "print(f'MBD: {mbd_3}')\n",
    "\n",
    "# Plot the training and validation loss_v2\n",
    "plt.plot(history_v3.history['loss'], label='train_loss_v3')\n",
    "plt.plot(history_v3.history['val_loss'], label='val_loss_v3')\n",
    "plt.xlabel('Epochs')\n",
    "plt.ylabel('Loss_v3')\n",
    "plt.title('Training and Validation Loss_v3')\n",
    "plt.legend()\n",
    "plt.show()\n",
    "\n",
    "# 3. Summary Statistics\n",
    "print(\"\\nSummary statistics for predictions:\")\n",
    "# Convert to a Pandas DataFrame\n",
    "predictions_v3_df = pd.DataFrame(y_pred_v3, columns=['predictions'])\n",
    "# Now you can use describe()\n",
    "print(predictions_v3_df.describe())\n",
    "\n",
    "plt.figure(figsize=(10, 6))\n",
    "sns.histplot(y_pred_v3, bins=10, kde=True)\n",
    "plt.title('Total Lift Predictions Distribution')\n",
    "plt.xlabel('Total lift')\n",
    "plt.ylabel('Frequency')\n",
    "plt.show()"
   ]
  },
  {
   "cell_type": "code",
   "execution_count": null,
   "metadata": {
    "id": "Mu1Zi_KUpMNF"
   },
   "outputs": [],
   "source": []
  },
  {
   "cell_type": "markdown",
   "metadata": {
    "id": "10DDktR2qNmB"
   },
   "source": [
    "### Compute the DP epsilon using TensorFlow privacy compute_dp_sgd_privacy."
   ]
  },
  {
   "cell_type": "code",
   "execution_count": 20,
   "metadata": {
    "colab": {
     "base_uri": "https://localhost:8080/"
    },
    "id": "UcR560SCqPTC",
    "outputId": "f5a9819d-8b33-4fe2-cf51-7f412f85885f"
   },
   "outputs": [
    {
     "name": "stderr",
     "output_type": "stream",
     "text": [
      "WARNING:absl:`compute_dp_sgd_privacy` is deprecated. It does not account for doubling of sensitivity with microbatching, and assumes Poisson subsampling, which is rarely used in practice. Please use `compute_dp_sgd_privacy_statement`, which provides appropriate context for the guarantee. To compute epsilon under different assumptions than those in `compute_dp_sgd_privacy_statement`, call the `dp_accounting` libraries directly.\n"
     ]
    },
    {
     "name": "stdout",
     "output_type": "stream",
     "text": [
      "DP-SGD with (epsilon, delta) = (1.2263414486109068, 1e-5)\n"
     ]
    }
   ],
   "source": [
    "from tensorflow_privacy.privacy.analysis import compute_dp_sgd_privacy_lib\n",
    "\n",
    "# Parameters for DP-SGD\n",
    "batch_size = 32\n",
    "num_epochs = 50\n",
    "num_train_samples = X_train_v2.shape[0]\n",
    "noise_multiplier = 1.1\n",
    "l2_norm_clip = 1.0\n",
    "\n",
    "# Compute DP-SGD privacy parameters\n",
    "epsilon, _ = compute_dp_sgd_privacy_lib.compute_dp_sgd_privacy(\n",
    "    n=num_train_samples,\n",
    "    batch_size=batch_size,\n",
    "    noise_multiplier=noise_multiplier,\n",
    "    epochs=num_epochs,\n",
    "    delta=1e-5\n",
    ")\n",
    "\n",
    "print(f\"DP-SGD with (epsilon, delta) = ({epsilon}, 1e-5)\")"
   ]
  },
  {
   "cell_type": "markdown",
   "metadata": {
    "id": "YnYeLIwrqY3M"
   },
   "source": [
    "### Compare and comment on the accuracy/metrics of the non-DP and DP models using dataset v2."
   ]
  },
  {
   "cell_type": "code",
   "execution_count": 22,
   "metadata": {
    "id": "eeXYiRh8rNJa"
   },
   "outputs": [],
   "source": [
    "# From previous notebook for non-DP\n",
    "loss_v2 = 71.05628967285156\n",
    "mse_2 = 13307.079262892292\n",
    "mae_2 = 61.17655838309945\n",
    "mape_2 = 0.07651405018869077\n",
    "r2_2 = 0.8267509585143247\n",
    "adjusted_r2_2 = 0.8174806150664069\n",
    "mbd_2 = -46.120207563305634"
   ]
  },
  {
   "cell_type": "code",
   "execution_count": 23,
   "metadata": {
    "colab": {
     "base_uri": "https://localhost:8080/"
    },
    "id": "iGwqj_ykqPzu",
    "outputId": "4066a5c2-511e-4abe-b98c-7009c5bb6b4d"
   },
   "outputs": [
    {
     "name": "stdout",
     "output_type": "stream",
     "text": [
      "Test loss: (71.06, 404.86)\n",
      "MSE: (13307.08, 415619.36)\n",
      "MAE: (61.18, 404.86)\n",
      "MAPE: (0.08, 0.44)\n",
      "R-squared: (0.83, -4.41)\n",
      "Adjusted R-squared: (0.82, -4.7)\n",
      "MBD: (-46.12, -185.55)\n"
     ]
    }
   ],
   "source": [
    "# Print the metrics\n",
    "print(f'Test loss: {round(loss_v2,2),round(loss_v3,2)}')\n",
    "print(f'MSE: {round(mse_2,2),round(mse_3,2)}')\n",
    "print(f'MAE: {round(mae_2,2),round(mae_3,2)}')\n",
    "print(f'MAPE: {round(mape_2,2),round(mape_3,2)}')\n",
    "print(f'R-squared: {round(r2_2,2),round(r2_3,2)}')\n",
    "print(f'Adjusted R-squared: {round(adjusted_r2_2,2),round(adjusted_r2_3,2)}')\n",
    "print(f'MBD: {round(mbd_2,2),round(mbd_3,2)}')"
   ]
  },
  {
   "cell_type": "markdown",
   "metadata": {
    "id": "djqMDp0hr5lm"
   },
   "source": [
    "### 📊 **Conclusion: Comparing Non-DP vs DP Model Performance**\n",
    "\n",
    "A **clear trade-off between accuracy and privacy**:\n",
    "\n",
    "---\n",
    "\n",
    "| Metric                 | Non-DP Model (`_v2`) | DP Model (`_v3`) |\n",
    "| ---------------------- | -------------------- | ---------------- |\n",
    "| **Test Loss (MAE)**    | 71.06                | 404.86           |\n",
    "| **MSE**                | 13,307.08            | 415,619.36       |\n",
    "| **MAE**                | 61.18                | 404.86           |\n",
    "| **MAPE**               | 8%                   | 44%              |\n",
    "| **R-squared**          | 0.83                 | -4.41            |\n",
    "| **Adjusted R-squared** | 0.82                 | -4.70            |\n",
    "| **MBD**                | -46.12               | -185.55          |\n",
    "\n",
    "---\n",
    "\n",
    "* **Non-DP Model** performed **very well**, with high R² (0.83) and low errors.\n",
    "* **DP Model** (with differential privacy) performed **much worse**:\n",
    "\n",
    "  * R² dropped **dramatically to -4.41**, meaning the model fit is worse than just predicting the mean.\n",
    "  * **MAE and MSE increased significantly**, showing a large drop in predictive accuracy.\n",
    "\n",
    "---\n",
    "\n",
    "### 🧾 Interpretation\n",
    "\n",
    "| Insight                         | Explanation                                                                                                                                                             |\n",
    "| ------------------------------- | ----------------------------------------------------------------------------------------------------------------------------------------------------------------------- |\n",
    "| 📉 **Accuracy drop**            | Differential privacy **adds noise**, which reduces how well the model fits the data. This is expected.                                                                  |\n",
    "| 🔐 **Privacy gain**             | Your DP model offers an **ε = 1.23**, a reasonably strong privacy guarantee. Lower ε = stronger privacy.                                                                |\n",
    "| ⚖️ **Privacy–utility tradeoff** | You've hit the classic tradeoff: **more privacy → less accuracy**. You may need to adjust **noise\\_multiplier**, **epochs**, or **model complexity** to balance better. |\n",
    "\n",
    "---\n",
    "\n",
    "* Can try tuning:\n",
    "\n",
    "  * **Lower `noise_multiplier`** (e.g., 0.8 instead of 1.1)\n",
    "  * **More epochs** or **larger model**\n",
    "  * Use **Adam** optimizer with DP instead of SGD (via `DPKerasAdamOptimizer`)\n",
    "* Or use **privacy-preserving training** only when required by compliance\n"
   ]
  }
 ],
 "metadata": {
  "colab": {
   "provenance": []
  },
  "kernelspec": {
   "display_name": "Python 3 (ipykernel)",
   "language": "python",
   "name": "python3"
  },
  "language_info": {
   "codemirror_mode": {
    "name": "ipython",
    "version": 3
   },
   "file_extension": ".py",
   "mimetype": "text/x-python",
   "name": "python",
   "nbconvert_exporter": "python",
   "pygments_lexer": "ipython3",
   "version": "3.12.7"
  }
 },
 "nbformat": 4,
 "nbformat_minor": 4
}
