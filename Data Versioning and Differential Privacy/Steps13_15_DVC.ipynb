{
 "cells": [
  {
   "cell_type": "code",
   "execution_count": null,
   "metadata": {
    "id": "BAQJTRwXpGjZ"
   },
   "outputs": [],
   "source": [
    "# I used ChatGTP 3.5 and 4 for assistance"
   ]
  },
  {
   "cell_type": "code",
   "execution_count": 1,
   "metadata": {
    "colab": {
     "base_uri": "https://localhost:8080/"
    },
    "id": "YAvMds8kX4PE",
    "outputId": "4257677d-7c04-442f-a535-602ba0859c7e"
   },
   "outputs": [
    {
     "name": "stdout",
     "output_type": "stream",
     "text": [
      "Collecting git+https://github.com/tensorflow/privacy.git@master\n",
      "  Cloning https://github.com/tensorflow/privacy.git (to revision master) to /tmp/pip-req-build-j1mgi4_z\n",
      "  Running command git clone --filter=blob:none --quiet https://github.com/tensorflow/privacy.git /tmp/pip-req-build-j1mgi4_z\n",
      "  Resolved https://github.com/tensorflow/privacy.git to commit f27d79d505e3734ec38df688666d48f025132b92\n",
      "  Preparing metadata (setup.py) ... \u001b[?25l\u001b[?25hdone\n",
      "Requirement already satisfied: absl-py==1.*,>=1.0 in /usr/local/lib/python3.11/dist-packages (from tensorflow_privacy==0.9.0) (1.4.0)\n",
      "Requirement already satisfied: dm-tree==0.1.8 in /usr/local/lib/python3.11/dist-packages (from tensorflow_privacy==0.9.0) (0.1.8)\n",
      "Requirement already satisfied: dp-accounting==0.4.4 in /usr/local/lib/python3.11/dist-packages (from tensorflow_privacy==0.9.0) (0.4.4)\n",
      "Requirement already satisfied: numpy~=1.21 in /usr/local/lib/python3.11/dist-packages (from tensorflow_privacy==0.9.0) (1.26.4)\n",
      "Requirement already satisfied: packaging~=22.0 in /usr/local/lib/python3.11/dist-packages (from tensorflow_privacy==0.9.0) (22.0)\n",
      "Requirement already satisfied: scikit-learn==1.*,>=1.0 in /usr/local/lib/python3.11/dist-packages (from tensorflow_privacy==0.9.0) (1.6.1)\n",
      "Requirement already satisfied: scipy~=1.9 in /usr/local/lib/python3.11/dist-packages (from tensorflow_privacy==0.9.0) (1.15.3)\n",
      "Requirement already satisfied: tensorflow<=2.15.0,>=2.4.0 in /usr/local/lib/python3.11/dist-packages (from tensorflow_privacy==0.9.0) (2.15.0)\n",
      "Requirement already satisfied: tensorflow-probability~=0.22.0 in /usr/local/lib/python3.11/dist-packages (from tensorflow_privacy==0.9.0) (0.22.1)\n",
      "Requirement already satisfied: attrs>=22 in /usr/local/lib/python3.11/dist-packages (from dp-accounting==0.4.4->tensorflow_privacy==0.9.0) (25.3.0)\n",
      "Requirement already satisfied: mpmath~=1.2 in /usr/local/lib/python3.11/dist-packages (from dp-accounting==0.4.4->tensorflow_privacy==0.9.0) (1.3.0)\n",
      "Requirement already satisfied: joblib>=1.2.0 in /usr/local/lib/python3.11/dist-packages (from scikit-learn==1.*,>=1.0->tensorflow_privacy==0.9.0) (1.5.1)\n",
      "Requirement already satisfied: threadpoolctl>=3.1.0 in /usr/local/lib/python3.11/dist-packages (from scikit-learn==1.*,>=1.0->tensorflow_privacy==0.9.0) (3.6.0)\n",
      "Requirement already satisfied: astunparse>=1.6.0 in /usr/local/lib/python3.11/dist-packages (from tensorflow<=2.15.0,>=2.4.0->tensorflow_privacy==0.9.0) (1.6.3)\n",
      "Requirement already satisfied: flatbuffers>=23.5.26 in /usr/local/lib/python3.11/dist-packages (from tensorflow<=2.15.0,>=2.4.0->tensorflow_privacy==0.9.0) (25.2.10)\n",
      "Requirement already satisfied: gast!=0.5.0,!=0.5.1,!=0.5.2,>=0.2.1 in /usr/local/lib/python3.11/dist-packages (from tensorflow<=2.15.0,>=2.4.0->tensorflow_privacy==0.9.0) (0.6.0)\n",
      "Requirement already satisfied: google-pasta>=0.1.1 in /usr/local/lib/python3.11/dist-packages (from tensorflow<=2.15.0,>=2.4.0->tensorflow_privacy==0.9.0) (0.2.0)\n",
      "Requirement already satisfied: h5py>=2.9.0 in /usr/local/lib/python3.11/dist-packages (from tensorflow<=2.15.0,>=2.4.0->tensorflow_privacy==0.9.0) (3.14.0)\n",
      "Requirement already satisfied: libclang>=13.0.0 in /usr/local/lib/python3.11/dist-packages (from tensorflow<=2.15.0,>=2.4.0->tensorflow_privacy==0.9.0) (18.1.1)\n",
      "Requirement already satisfied: ml-dtypes~=0.2.0 in /usr/local/lib/python3.11/dist-packages (from tensorflow<=2.15.0,>=2.4.0->tensorflow_privacy==0.9.0) (0.2.0)\n",
      "Requirement already satisfied: opt-einsum>=2.3.2 in /usr/local/lib/python3.11/dist-packages (from tensorflow<=2.15.0,>=2.4.0->tensorflow_privacy==0.9.0) (3.4.0)\n",
      "Requirement already satisfied: protobuf!=4.21.0,!=4.21.1,!=4.21.2,!=4.21.3,!=4.21.4,!=4.21.5,<5.0.0dev,>=3.20.3 in /usr/local/lib/python3.11/dist-packages (from tensorflow<=2.15.0,>=2.4.0->tensorflow_privacy==0.9.0) (4.25.8)\n",
      "Requirement already satisfied: setuptools in /usr/local/lib/python3.11/dist-packages (from tensorflow<=2.15.0,>=2.4.0->tensorflow_privacy==0.9.0) (75.2.0)\n",
      "Requirement already satisfied: six>=1.12.0 in /usr/local/lib/python3.11/dist-packages (from tensorflow<=2.15.0,>=2.4.0->tensorflow_privacy==0.9.0) (1.17.0)\n",
      "Requirement already satisfied: termcolor>=1.1.0 in /usr/local/lib/python3.11/dist-packages (from tensorflow<=2.15.0,>=2.4.0->tensorflow_privacy==0.9.0) (3.1.0)\n",
      "Requirement already satisfied: typing-extensions>=3.6.6 in /usr/local/lib/python3.11/dist-packages (from tensorflow<=2.15.0,>=2.4.0->tensorflow_privacy==0.9.0) (4.14.0)\n",
      "Requirement already satisfied: wrapt<1.15,>=1.11.0 in /usr/local/lib/python3.11/dist-packages (from tensorflow<=2.15.0,>=2.4.0->tensorflow_privacy==0.9.0) (1.14.1)\n",
      "Requirement already satisfied: tensorflow-io-gcs-filesystem>=0.23.1 in /usr/local/lib/python3.11/dist-packages (from tensorflow<=2.15.0,>=2.4.0->tensorflow_privacy==0.9.0) (0.37.1)\n",
      "Requirement already satisfied: grpcio<2.0,>=1.24.3 in /usr/local/lib/python3.11/dist-packages (from tensorflow<=2.15.0,>=2.4.0->tensorflow_privacy==0.9.0) (1.73.0)\n",
      "Requirement already satisfied: tensorboard<2.16,>=2.15 in /usr/local/lib/python3.11/dist-packages (from tensorflow<=2.15.0,>=2.4.0->tensorflow_privacy==0.9.0) (2.15.2)\n",
      "Requirement already satisfied: tensorflow-estimator<2.16,>=2.15.0 in /usr/local/lib/python3.11/dist-packages (from tensorflow<=2.15.0,>=2.4.0->tensorflow_privacy==0.9.0) (2.15.0)\n",
      "Requirement already satisfied: keras<2.16,>=2.15.0 in /usr/local/lib/python3.11/dist-packages (from tensorflow<=2.15.0,>=2.4.0->tensorflow_privacy==0.9.0) (2.15.0)\n",
      "Requirement already satisfied: decorator in /usr/local/lib/python3.11/dist-packages (from tensorflow-probability~=0.22.0->tensorflow_privacy==0.9.0) (4.4.2)\n",
      "Requirement already satisfied: cloudpickle>=1.3 in /usr/local/lib/python3.11/dist-packages (from tensorflow-probability~=0.22.0->tensorflow_privacy==0.9.0) (3.1.1)\n",
      "Requirement already satisfied: wheel<1.0,>=0.23.0 in /usr/local/lib/python3.11/dist-packages (from astunparse>=1.6.0->tensorflow<=2.15.0,>=2.4.0->tensorflow_privacy==0.9.0) (0.45.1)\n",
      "Requirement already satisfied: google-auth<3,>=1.6.3 in /usr/local/lib/python3.11/dist-packages (from tensorboard<2.16,>=2.15->tensorflow<=2.15.0,>=2.4.0->tensorflow_privacy==0.9.0) (2.38.0)\n",
      "Requirement already satisfied: google-auth-oauthlib<2,>=0.5 in /usr/local/lib/python3.11/dist-packages (from tensorboard<2.16,>=2.15->tensorflow<=2.15.0,>=2.4.0->tensorflow_privacy==0.9.0) (1.2.2)\n",
      "Requirement already satisfied: markdown>=2.6.8 in /usr/local/lib/python3.11/dist-packages (from tensorboard<2.16,>=2.15->tensorflow<=2.15.0,>=2.4.0->tensorflow_privacy==0.9.0) (3.8.2)\n",
      "Requirement already satisfied: requests<3,>=2.21.0 in /usr/local/lib/python3.11/dist-packages (from tensorboard<2.16,>=2.15->tensorflow<=2.15.0,>=2.4.0->tensorflow_privacy==0.9.0) (2.32.3)\n",
      "Requirement already satisfied: tensorboard-data-server<0.8.0,>=0.7.0 in /usr/local/lib/python3.11/dist-packages (from tensorboard<2.16,>=2.15->tensorflow<=2.15.0,>=2.4.0->tensorflow_privacy==0.9.0) (0.7.2)\n",
      "Requirement already satisfied: werkzeug>=1.0.1 in /usr/local/lib/python3.11/dist-packages (from tensorboard<2.16,>=2.15->tensorflow<=2.15.0,>=2.4.0->tensorflow_privacy==0.9.0) (3.1.3)\n",
      "Requirement already satisfied: cachetools<6.0,>=2.0.0 in /usr/local/lib/python3.11/dist-packages (from google-auth<3,>=1.6.3->tensorboard<2.16,>=2.15->tensorflow<=2.15.0,>=2.4.0->tensorflow_privacy==0.9.0) (5.5.2)\n",
      "Requirement already satisfied: pyasn1-modules>=0.2.1 in /usr/local/lib/python3.11/dist-packages (from google-auth<3,>=1.6.3->tensorboard<2.16,>=2.15->tensorflow<=2.15.0,>=2.4.0->tensorflow_privacy==0.9.0) (0.4.2)\n",
      "Requirement already satisfied: rsa<5,>=3.1.4 in /usr/local/lib/python3.11/dist-packages (from google-auth<3,>=1.6.3->tensorboard<2.16,>=2.15->tensorflow<=2.15.0,>=2.4.0->tensorflow_privacy==0.9.0) (4.9.1)\n",
      "Requirement already satisfied: requests-oauthlib>=0.7.0 in /usr/local/lib/python3.11/dist-packages (from google-auth-oauthlib<2,>=0.5->tensorboard<2.16,>=2.15->tensorflow<=2.15.0,>=2.4.0->tensorflow_privacy==0.9.0) (2.0.0)\n",
      "Requirement already satisfied: charset-normalizer<4,>=2 in /usr/local/lib/python3.11/dist-packages (from requests<3,>=2.21.0->tensorboard<2.16,>=2.15->tensorflow<=2.15.0,>=2.4.0->tensorflow_privacy==0.9.0) (3.4.2)\n",
      "Requirement already satisfied: idna<4,>=2.5 in /usr/local/lib/python3.11/dist-packages (from requests<3,>=2.21.0->tensorboard<2.16,>=2.15->tensorflow<=2.15.0,>=2.4.0->tensorflow_privacy==0.9.0) (3.10)\n",
      "Requirement already satisfied: urllib3<3,>=1.21.1 in /usr/local/lib/python3.11/dist-packages (from requests<3,>=2.21.0->tensorboard<2.16,>=2.15->tensorflow<=2.15.0,>=2.4.0->tensorflow_privacy==0.9.0) (2.4.0)\n",
      "Requirement already satisfied: certifi>=2017.4.17 in /usr/local/lib/python3.11/dist-packages (from requests<3,>=2.21.0->tensorboard<2.16,>=2.15->tensorflow<=2.15.0,>=2.4.0->tensorflow_privacy==0.9.0) (2025.6.15)\n",
      "Requirement already satisfied: MarkupSafe>=2.1.1 in /usr/local/lib/python3.11/dist-packages (from werkzeug>=1.0.1->tensorboard<2.16,>=2.15->tensorflow<=2.15.0,>=2.4.0->tensorflow_privacy==0.9.0) (3.0.2)\n",
      "Requirement already satisfied: pyasn1<0.7.0,>=0.6.1 in /usr/local/lib/python3.11/dist-packages (from pyasn1-modules>=0.2.1->google-auth<3,>=1.6.3->tensorboard<2.16,>=2.15->tensorflow<=2.15.0,>=2.4.0->tensorflow_privacy==0.9.0) (0.6.1)\n",
      "Requirement already satisfied: oauthlib>=3.0.0 in /usr/local/lib/python3.11/dist-packages (from requests-oauthlib>=0.7.0->google-auth-oauthlib<2,>=0.5->tensorboard<2.16,>=2.15->tensorflow<=2.15.0,>=2.4.0->tensorflow_privacy==0.9.0) (3.3.1)\n"
     ]
    }
   ],
   "source": [
    "!pip install git+https://github.com/tensorflow/privacy.git@master"
   ]
  },
  {
   "cell_type": "code",
   "execution_count": 2,
   "metadata": {
    "colab": {
     "base_uri": "https://localhost:8080/"
    },
    "id": "O1pYEM-gX7Ia",
    "outputId": "5918e697-ea5b-4d9f-99fb-372c514b1a08"
   },
   "outputs": [
    {
     "name": "stdout",
     "output_type": "stream",
     "text": [
      "2.15.0\n"
     ]
    }
   ],
   "source": [
    "import tensorflow as tf\n",
    "print(tf.__version__)"
   ]
  },
  {
   "cell_type": "code",
   "execution_count": 3,
   "metadata": {
    "colab": {
     "base_uri": "https://localhost:8080/"
    },
    "id": "QSrLnwrLX7Ff",
    "outputId": "63c5850f-dedf-474f-d273-5f352b433421"
   },
   "outputs": [
    {
     "name": "stdout",
     "output_type": "stream",
     "text": [
      "Collecting tensorflow-privacy==0.8.12\n",
      "  Downloading tensorflow_privacy-0.8.12-py3-none-any.whl.metadata (962 bytes)\n",
      "Downloading tensorflow_privacy-0.8.12-py3-none-any.whl (405 kB)\n",
      "\u001b[2K   \u001b[90m━━━━━━━━━━━━━━━━━━━━━━━━━━━━━━━━━━━━━━━━\u001b[0m \u001b[32m405.5/405.5 kB\u001b[0m \u001b[31m7.0 MB/s\u001b[0m eta \u001b[36m0:00:00\u001b[0m\n",
      "\u001b[?25hInstalling collected packages: tensorflow-privacy\n",
      "  Attempting uninstall: tensorflow-privacy\n",
      "    Found existing installation: tensorflow_privacy 0.9.0\n",
      "    Uninstalling tensorflow_privacy-0.9.0:\n",
      "      Successfully uninstalled tensorflow_privacy-0.9.0\n",
      "Successfully installed tensorflow-privacy-0.8.12\n"
     ]
    }
   ],
   "source": [
    "!pip install tensorflow-privacy==0.8.12 --no-deps"
   ]
  },
  {
   "cell_type": "code",
   "execution_count": 4,
   "metadata": {
    "id": "JkpgDQJxX7C6"
   },
   "outputs": [],
   "source": [
    "from tensorflow_privacy.privacy.optimizers.dp_optimizer_keras import DPKerasSGDOptimizer"
   ]
  },
  {
   "cell_type": "code",
   "execution_count": 5,
   "metadata": {
    "id": "RS8bXLGDYzGU"
   },
   "outputs": [],
   "source": [
    "from tensorflow.keras import layers"
   ]
  },
  {
   "cell_type": "code",
   "execution_count": 6,
   "metadata": {
    "colab": {
     "base_uri": "https://localhost:8080/"
    },
    "id": "k82P_5nmbJfD",
    "outputId": "4eea6f2e-1b4d-47f2-fe25-ba47caf2876b"
   },
   "outputs": [
    {
     "name": "stdout",
     "output_type": "stream",
     "text": [
      "Mounted at /content/drive\n"
     ]
    }
   ],
   "source": [
    "from google.colab import drive\n",
    "drive.mount('/content/drive')"
   ]
  },
  {
   "cell_type": "code",
   "execution_count": 8,
   "metadata": {
    "colab": {
     "base_uri": "https://localhost:8080/"
    },
    "id": "LEKmMiVcbuXz",
    "outputId": "618d3bf5-88b1-4890-a06e-ad20451b7297"
   },
   "outputs": [
    {
     "name": "stdout",
     "output_type": "stream",
     "text": [
      "Collecting dvc[gdrive]\n",
      "  Downloading dvc-3.60.1-py3-none-any.whl.metadata (17 kB)\n",
      "Requirement already satisfied: attrs>=22.2.0 in /usr/local/lib/python3.11/dist-packages (from dvc[gdrive]) (25.3.0)\n",
      "Collecting celery (from dvc[gdrive])\n",
      "  Downloading celery-5.5.3-py3-none-any.whl.metadata (22 kB)\n",
      "Collecting colorama>=0.3.9 (from dvc[gdrive])\n",
      "  Downloading colorama-0.4.6-py2.py3-none-any.whl.metadata (17 kB)\n",
      "Collecting configobj>=5.0.9 (from dvc[gdrive])\n",
      "  Downloading configobj-5.0.9-py2.py3-none-any.whl.metadata (3.2 kB)\n",
      "Requirement already satisfied: distro>=1.3 in /usr/local/lib/python3.11/dist-packages (from dvc[gdrive]) (1.9.0)\n",
      "Collecting dpath<3,>=2.1.0 (from dvc[gdrive])\n",
      "  Downloading dpath-2.2.0-py3-none-any.whl.metadata (15 kB)\n",
      "Collecting dulwich (from dvc[gdrive])\n",
      "  Downloading dulwich-0.23.0-cp311-cp311-manylinux_2_28_x86_64.whl.metadata (5.0 kB)\n",
      "Collecting dvc-data<3.17,>=3.16.2 (from dvc[gdrive])\n",
      "  Downloading dvc_data-3.16.10-py3-none-any.whl.metadata (5.0 kB)\n",
      "Collecting dvc-http>=2.29.0 (from dvc[gdrive])\n",
      "  Downloading dvc_http-2.32.0-py3-none-any.whl.metadata (1.3 kB)\n",
      "Collecting dvc-objects (from dvc[gdrive])\n",
      "  Downloading dvc_objects-5.1.1-py3-none-any.whl.metadata (3.8 kB)\n",
      "Collecting dvc-render<2,>=1.0.1 (from dvc[gdrive])\n",
      "  Downloading dvc_render-1.0.2-py3-none-any.whl.metadata (5.4 kB)\n",
      "Collecting dvc-studio-client<1,>=0.21 (from dvc[gdrive])\n",
      "  Downloading dvc_studio_client-0.21.0-py3-none-any.whl.metadata (4.3 kB)\n",
      "Collecting dvc-task<1,>=0.3.0 (from dvc[gdrive])\n",
      "  Downloading dvc_task-0.40.2-py3-none-any.whl.metadata (10.0 kB)\n",
      "Collecting flatten_dict<1,>=0.4.1 (from dvc[gdrive])\n",
      "  Downloading flatten_dict-0.4.2-py2.py3-none-any.whl.metadata (9.2 kB)\n",
      "Collecting flufl.lock<9,>=8.1.0 (from dvc[gdrive])\n",
      "  Downloading flufl_lock-8.2.0-py3-none-any.whl.metadata (3.3 kB)\n",
      "Requirement already satisfied: fsspec>=2024.2.0 in /usr/local/lib/python3.11/dist-packages (from dvc[gdrive]) (2025.3.2)\n",
      "Collecting funcy>=1.14 (from dvc[gdrive])\n",
      "  Downloading funcy-2.0-py2.py3-none-any.whl.metadata (5.9 kB)\n",
      "Collecting grandalf<1,>=0.7 (from dvc[gdrive])\n",
      "  Downloading grandalf-0.8-py3-none-any.whl.metadata (1.7 kB)\n",
      "Collecting gto<2,>=1.6.0 (from dvc[gdrive])\n",
      "  Downloading gto-1.7.2-py3-none-any.whl.metadata (4.7 kB)\n",
      "Collecting hydra-core>=1.1 (from dvc[gdrive])\n",
      "  Downloading hydra_core-1.3.2-py3-none-any.whl.metadata (5.5 kB)\n",
      "Collecting iterative-telemetry>=0.0.7 (from dvc[gdrive])\n",
      "  Downloading iterative_telemetry-0.0.10-py3-none-any.whl.metadata (4.1 kB)\n",
      "Collecting kombu (from dvc[gdrive])\n",
      "  Downloading kombu-5.5.4-py3-none-any.whl.metadata (3.5 kB)\n",
      "Requirement already satisfied: networkx>=2.5 in /usr/local/lib/python3.11/dist-packages (from dvc[gdrive]) (3.5)\n",
      "Requirement already satisfied: omegaconf in /usr/local/lib/python3.11/dist-packages (from dvc[gdrive]) (2.3.0)\n",
      "Requirement already satisfied: packaging>=19 in /usr/local/lib/python3.11/dist-packages (from dvc[gdrive]) (22.0)\n",
      "Collecting pathspec>=0.10.3 (from dvc[gdrive])\n",
      "  Downloading pathspec-0.12.1-py3-none-any.whl.metadata (21 kB)\n",
      "Requirement already satisfied: platformdirs<5,>=3.1.1 in /usr/local/lib/python3.11/dist-packages (from dvc[gdrive]) (4.3.8)\n",
      "Requirement already satisfied: psutil>=5.8 in /usr/local/lib/python3.11/dist-packages (from dvc[gdrive]) (5.9.5)\n",
      "Requirement already satisfied: pydot>=1.2.4 in /usr/local/lib/python3.11/dist-packages (from dvc[gdrive]) (3.0.4)\n",
      "Collecting pygtrie>=2.3.2 (from dvc[gdrive])\n",
      "  Downloading pygtrie-2.5.0-py3-none-any.whl.metadata (7.5 kB)\n",
      "Requirement already satisfied: pyparsing>=2.4.7 in /usr/local/lib/python3.11/dist-packages (from dvc[gdrive]) (3.2.3)\n",
      "Requirement already satisfied: requests>=2.22 in /usr/local/lib/python3.11/dist-packages (from dvc[gdrive]) (2.32.3)\n",
      "Requirement already satisfied: rich>=12 in /usr/local/lib/python3.11/dist-packages (from dvc[gdrive]) (13.9.4)\n",
      "Collecting ruamel.yaml>=0.17.11 (from dvc[gdrive])\n",
      "  Downloading ruamel.yaml-0.18.14-py3-none-any.whl.metadata (24 kB)\n",
      "Collecting scmrepo<4,>=3.3.8 (from dvc[gdrive])\n",
      "  Downloading scmrepo-3.3.11-py3-none-any.whl.metadata (4.8 kB)\n",
      "Collecting shortuuid>=0.5 (from dvc[gdrive])\n",
      "  Downloading shortuuid-1.0.13-py3-none-any.whl.metadata (5.8 kB)\n",
      "Collecting shtab<2,>=1.3.4 (from dvc[gdrive])\n",
      "  Downloading shtab-1.7.2-py3-none-any.whl.metadata (7.4 kB)\n",
      "Requirement already satisfied: tabulate>=0.8.7 in /usr/local/lib/python3.11/dist-packages (from dvc[gdrive]) (0.9.0)\n",
      "Requirement already satisfied: tomlkit>=0.11.1 in /usr/local/lib/python3.11/dist-packages (from dvc[gdrive]) (0.13.3)\n",
      "Requirement already satisfied: tqdm<5,>=4.63.1 in /usr/local/lib/python3.11/dist-packages (from dvc[gdrive]) (4.67.1)\n",
      "Collecting voluptuous>=0.11.7 (from dvc[gdrive])\n",
      "  Downloading voluptuous-0.15.2-py3-none-any.whl.metadata (20 kB)\n",
      "Collecting zc.lockfile>=1.2.1 (from dvc[gdrive])\n",
      "  Downloading zc.lockfile-3.0.post1-py3-none-any.whl.metadata (6.2 kB)\n",
      "Collecting dvc-gdrive<4,>=3 (from dvc[gdrive])\n",
      "  Downloading dvc_gdrive-3.0.1-py3-none-any.whl.metadata (2.1 kB)\n",
      "Collecting dictdiffer>=0.8.1 (from dvc-data<3.17,>=3.16.2->dvc[gdrive])\n",
      "  Downloading dictdiffer-0.9.0-py2.py3-none-any.whl.metadata (4.8 kB)\n",
      "Collecting diskcache>=5.2.1 (from dvc-data<3.17,>=3.16.2->dvc[gdrive])\n",
      "  Downloading diskcache-5.6.3-py3-none-any.whl.metadata (20 kB)\n",
      "Collecting sqltrie<1,>=0.11.0 (from dvc-data<3.17,>=3.16.2->dvc[gdrive])\n",
      "  Downloading sqltrie-0.11.2-py3-none-any.whl.metadata (3.3 kB)\n",
      "Requirement already satisfied: orjson<4,>=3 in /usr/local/lib/python3.11/dist-packages (from dvc-data<3.17,>=3.16.2->dvc[gdrive]) (3.10.18)\n",
      "Requirement already satisfied: pydrive2>=1.19.0 in /usr/local/lib/python3.11/dist-packages (from pydrive2[fsspec]>=1.19.0->dvc-gdrive<4,>=3->dvc[gdrive]) (1.21.3)\n",
      "Collecting aiohttp-retry>=2.5.0 (from dvc-http>=2.29.0->dvc[gdrive])\n",
      "  Downloading aiohttp_retry-2.9.1-py3-none-any.whl.metadata (8.8 kB)\n",
      "Collecting billiard<5.0,>=4.2.1 (from celery->dvc[gdrive])\n",
      "  Downloading billiard-4.2.1-py3-none-any.whl.metadata (4.4 kB)\n",
      "Collecting vine<6.0,>=5.1.0 (from celery->dvc[gdrive])\n",
      "  Downloading vine-5.1.0-py3-none-any.whl.metadata (2.7 kB)\n",
      "Requirement already satisfied: click<9.0,>=8.1.2 in /usr/local/lib/python3.11/dist-packages (from celery->dvc[gdrive]) (8.2.1)\n",
      "Collecting click-didyoumean>=0.3.0 (from celery->dvc[gdrive])\n",
      "  Downloading click_didyoumean-0.3.1-py3-none-any.whl.metadata (3.9 kB)\n",
      "Collecting click-repl>=0.2.0 (from celery->dvc[gdrive])\n",
      "  Downloading click_repl-0.3.0-py3-none-any.whl.metadata (3.6 kB)\n",
      "Collecting click-plugins>=1.1.1 (from celery->dvc[gdrive])\n",
      "  Downloading click_plugins-1.1.1.2-py2.py3-none-any.whl.metadata (6.5 kB)\n",
      "Requirement already satisfied: python-dateutil>=2.8.2 in /usr/local/lib/python3.11/dist-packages (from celery->dvc[gdrive]) (2.9.0.post0)\n",
      "Requirement already satisfied: six<2.0,>=1.12 in /usr/local/lib/python3.11/dist-packages (from flatten_dict<1,>=0.4.1->dvc[gdrive]) (1.17.0)\n",
      "Requirement already satisfied: atpublic in /usr/local/lib/python3.11/dist-packages (from flufl.lock<9,>=8.1.0->dvc[gdrive]) (5.1)\n",
      "Requirement already satisfied: entrypoints in /usr/local/lib/python3.11/dist-packages (from gto<2,>=1.6.0->dvc[gdrive]) (0.4)\n",
      "Requirement already satisfied: pydantic!=2.0.0,<3,>=1.9.0 in /usr/local/lib/python3.11/dist-packages (from gto<2,>=1.6.0->dvc[gdrive]) (2.11.7)\n",
      "Collecting semver>=2.13.0 (from gto<2,>=1.6.0->dvc[gdrive])\n",
      "  Downloading semver-3.0.4-py3-none-any.whl.metadata (6.8 kB)\n",
      "Requirement already satisfied: typer>=0.4.1 in /usr/local/lib/python3.11/dist-packages (from gto<2,>=1.6.0->dvc[gdrive]) (0.16.0)\n",
      "Requirement already satisfied: antlr4-python3-runtime==4.9.* in /usr/local/lib/python3.11/dist-packages (from hydra-core>=1.1->dvc[gdrive]) (4.9.3)\n",
      "Collecting appdirs (from iterative-telemetry>=0.0.7->dvc[gdrive])\n",
      "  Downloading appdirs-1.4.4-py2.py3-none-any.whl.metadata (9.0 kB)\n",
      "Requirement already satisfied: filelock in /usr/local/lib/python3.11/dist-packages (from iterative-telemetry>=0.0.7->dvc[gdrive]) (3.18.0)\n",
      "Collecting amqp<6.0.0,>=5.1.1 (from kombu->dvc[gdrive])\n",
      "  Downloading amqp-5.3.1-py3-none-any.whl.metadata (8.9 kB)\n",
      "Requirement already satisfied: tzdata>=2025.2 in /usr/local/lib/python3.11/dist-packages (from kombu->dvc[gdrive]) (2025.2)\n",
      "Requirement already satisfied: PyYAML>=5.1.0 in /usr/local/lib/python3.11/dist-packages (from omegaconf->dvc[gdrive]) (6.0.2)\n",
      "Requirement already satisfied: charset-normalizer<4,>=2 in /usr/local/lib/python3.11/dist-packages (from requests>=2.22->dvc[gdrive]) (3.4.2)\n",
      "Requirement already satisfied: idna<4,>=2.5 in /usr/local/lib/python3.11/dist-packages (from requests>=2.22->dvc[gdrive]) (3.10)\n",
      "Requirement already satisfied: urllib3<3,>=1.21.1 in /usr/local/lib/python3.11/dist-packages (from requests>=2.22->dvc[gdrive]) (2.4.0)\n",
      "Requirement already satisfied: certifi>=2017.4.17 in /usr/local/lib/python3.11/dist-packages (from requests>=2.22->dvc[gdrive]) (2025.6.15)\n",
      "Requirement already satisfied: markdown-it-py>=2.2.0 in /usr/local/lib/python3.11/dist-packages (from rich>=12->dvc[gdrive]) (3.0.0)\n",
      "Requirement already satisfied: pygments<3.0.0,>=2.13.0 in /usr/local/lib/python3.11/dist-packages (from rich>=12->dvc[gdrive]) (2.19.2)\n",
      "Collecting ruamel.yaml.clib>=0.2.7 (from ruamel.yaml>=0.17.11->dvc[gdrive])\n",
      "  Downloading ruamel.yaml.clib-0.2.12-cp311-cp311-manylinux_2_17_x86_64.manylinux2014_x86_64.whl.metadata (2.7 kB)\n",
      "Requirement already satisfied: gitpython>3 in /usr/local/lib/python3.11/dist-packages (from scmrepo<4,>=3.3.8->dvc[gdrive]) (3.1.44)\n",
      "Requirement already satisfied: pygit2>=1.14.0 in /usr/local/lib/python3.11/dist-packages (from scmrepo<4,>=3.3.8->dvc[gdrive]) (1.18.0)\n",
      "Collecting asyncssh<3,>=2.13.1 (from scmrepo<4,>=3.3.8->dvc[gdrive])\n",
      "  Downloading asyncssh-2.21.0-py3-none-any.whl.metadata (9.9 kB)\n",
      "Requirement already satisfied: setuptools in /usr/local/lib/python3.11/dist-packages (from zc.lockfile>=1.2.1->dvc[gdrive]) (75.2.0)\n",
      "Requirement already satisfied: aiohttp in /usr/local/lib/python3.11/dist-packages (from aiohttp-retry>=2.5.0->dvc-http>=2.29.0->dvc[gdrive]) (3.11.15)\n",
      "Requirement already satisfied: cryptography>=39.0 in /usr/local/lib/python3.11/dist-packages (from asyncssh<3,>=2.13.1->scmrepo<4,>=3.3.8->dvc[gdrive]) (43.0.3)\n",
      "Requirement already satisfied: typing_extensions>=4.0.0 in /usr/local/lib/python3.11/dist-packages (from asyncssh<3,>=2.13.1->scmrepo<4,>=3.3.8->dvc[gdrive]) (4.14.0)\n",
      "Requirement already satisfied: prompt-toolkit>=3.0.36 in /usr/local/lib/python3.11/dist-packages (from click-repl>=0.2.0->celery->dvc[gdrive]) (3.0.51)\n",
      "Requirement already satisfied: gitdb<5,>=4.0.1 in /usr/local/lib/python3.11/dist-packages (from gitpython>3->scmrepo<4,>=3.3.8->dvc[gdrive]) (4.0.12)\n",
      "Requirement already satisfied: mdurl~=0.1 in /usr/local/lib/python3.11/dist-packages (from markdown-it-py>=2.2.0->rich>=12->dvc[gdrive]) (0.1.2)\n",
      "Requirement already satisfied: annotated-types>=0.6.0 in /usr/local/lib/python3.11/dist-packages (from pydantic!=2.0.0,<3,>=1.9.0->gto<2,>=1.6.0->dvc[gdrive]) (0.7.0)\n",
      "Requirement already satisfied: pydantic-core==2.33.2 in /usr/local/lib/python3.11/dist-packages (from pydantic!=2.0.0,<3,>=1.9.0->gto<2,>=1.6.0->dvc[gdrive]) (2.33.2)\n",
      "Requirement already satisfied: typing-inspection>=0.4.0 in /usr/local/lib/python3.11/dist-packages (from pydantic!=2.0.0,<3,>=1.9.0->gto<2,>=1.6.0->dvc[gdrive]) (0.4.1)\n",
      "Requirement already satisfied: google-api-python-client>=1.12.5 in /usr/local/lib/python3.11/dist-packages (from pydrive2>=1.19.0->pydrive2[fsspec]>=1.19.0->dvc-gdrive<4,>=3->dvc[gdrive]) (2.173.0)\n",
      "Requirement already satisfied: oauth2client>=4.0.0 in /usr/local/lib/python3.11/dist-packages (from pydrive2>=1.19.0->pydrive2[fsspec]>=1.19.0->dvc-gdrive<4,>=3->dvc[gdrive]) (4.1.3)\n",
      "Requirement already satisfied: pyOpenSSL<=24.2.1,>=19.1.0 in /usr/local/lib/python3.11/dist-packages (from pydrive2>=1.19.0->pydrive2[fsspec]>=1.19.0->dvc-gdrive<4,>=3->dvc[gdrive]) (24.2.1)\n",
      "Requirement already satisfied: cffi>=1.17.0 in /usr/local/lib/python3.11/dist-packages (from pygit2>=1.14.0->scmrepo<4,>=3.3.8->dvc[gdrive]) (1.17.1)\n",
      "Requirement already satisfied: shellingham>=1.3.0 in /usr/local/lib/python3.11/dist-packages (from typer>=0.4.1->gto<2,>=1.6.0->dvc[gdrive]) (1.5.4)\n",
      "Requirement already satisfied: aiohappyeyeballs>=2.3.0 in /usr/local/lib/python3.11/dist-packages (from aiohttp->aiohttp-retry>=2.5.0->dvc-http>=2.29.0->dvc[gdrive]) (2.6.1)\n",
      "Requirement already satisfied: aiosignal>=1.1.2 in /usr/local/lib/python3.11/dist-packages (from aiohttp->aiohttp-retry>=2.5.0->dvc-http>=2.29.0->dvc[gdrive]) (1.3.2)\n",
      "Requirement already satisfied: frozenlist>=1.1.1 in /usr/local/lib/python3.11/dist-packages (from aiohttp->aiohttp-retry>=2.5.0->dvc-http>=2.29.0->dvc[gdrive]) (1.7.0)\n",
      "Requirement already satisfied: multidict<7.0,>=4.5 in /usr/local/lib/python3.11/dist-packages (from aiohttp->aiohttp-retry>=2.5.0->dvc-http>=2.29.0->dvc[gdrive]) (6.4.4)\n",
      "Requirement already satisfied: propcache>=0.2.0 in /usr/local/lib/python3.11/dist-packages (from aiohttp->aiohttp-retry>=2.5.0->dvc-http>=2.29.0->dvc[gdrive]) (0.3.2)\n",
      "Requirement already satisfied: yarl<2.0,>=1.17.0 in /usr/local/lib/python3.11/dist-packages (from aiohttp->aiohttp-retry>=2.5.0->dvc-http>=2.29.0->dvc[gdrive]) (1.20.1)\n",
      "Requirement already satisfied: pycparser in /usr/local/lib/python3.11/dist-packages (from cffi>=1.17.0->pygit2>=1.14.0->scmrepo<4,>=3.3.8->dvc[gdrive]) (2.22)\n",
      "Requirement already satisfied: smmap<6,>=3.0.1 in /usr/local/lib/python3.11/dist-packages (from gitdb<5,>=4.0.1->gitpython>3->scmrepo<4,>=3.3.8->dvc[gdrive]) (5.0.2)\n",
      "Requirement already satisfied: httplib2<1.0.0,>=0.19.0 in /usr/local/lib/python3.11/dist-packages (from google-api-python-client>=1.12.5->pydrive2>=1.19.0->pydrive2[fsspec]>=1.19.0->dvc-gdrive<4,>=3->dvc[gdrive]) (0.22.0)\n",
      "Requirement already satisfied: google-auth!=2.24.0,!=2.25.0,<3.0.0,>=1.32.0 in /usr/local/lib/python3.11/dist-packages (from google-api-python-client>=1.12.5->pydrive2>=1.19.0->pydrive2[fsspec]>=1.19.0->dvc-gdrive<4,>=3->dvc[gdrive]) (2.38.0)\n",
      "Requirement already satisfied: google-auth-httplib2<1.0.0,>=0.2.0 in /usr/local/lib/python3.11/dist-packages (from google-api-python-client>=1.12.5->pydrive2>=1.19.0->pydrive2[fsspec]>=1.19.0->dvc-gdrive<4,>=3->dvc[gdrive]) (0.2.0)\n",
      "Requirement already satisfied: google-api-core!=2.0.*,!=2.1.*,!=2.2.*,!=2.3.0,<3.0.0,>=1.31.5 in /usr/local/lib/python3.11/dist-packages (from google-api-python-client>=1.12.5->pydrive2>=1.19.0->pydrive2[fsspec]>=1.19.0->dvc-gdrive<4,>=3->dvc[gdrive]) (2.25.1)\n",
      "Requirement already satisfied: uritemplate<5,>=3.0.1 in /usr/local/lib/python3.11/dist-packages (from google-api-python-client>=1.12.5->pydrive2>=1.19.0->pydrive2[fsspec]>=1.19.0->dvc-gdrive<4,>=3->dvc[gdrive]) (4.2.0)\n",
      "Requirement already satisfied: pyasn1>=0.1.7 in /usr/local/lib/python3.11/dist-packages (from oauth2client>=4.0.0->pydrive2>=1.19.0->pydrive2[fsspec]>=1.19.0->dvc-gdrive<4,>=3->dvc[gdrive]) (0.6.1)\n",
      "Requirement already satisfied: pyasn1-modules>=0.0.5 in /usr/local/lib/python3.11/dist-packages (from oauth2client>=4.0.0->pydrive2>=1.19.0->pydrive2[fsspec]>=1.19.0->dvc-gdrive<4,>=3->dvc[gdrive]) (0.4.2)\n",
      "Requirement already satisfied: rsa>=3.1.4 in /usr/local/lib/python3.11/dist-packages (from oauth2client>=4.0.0->pydrive2>=1.19.0->pydrive2[fsspec]>=1.19.0->dvc-gdrive<4,>=3->dvc[gdrive]) (4.9.1)\n",
      "Requirement already satisfied: wcwidth in /usr/local/lib/python3.11/dist-packages (from prompt-toolkit>=3.0.36->click-repl>=0.2.0->celery->dvc[gdrive]) (0.2.13)\n",
      "Requirement already satisfied: googleapis-common-protos<2.0.0,>=1.56.2 in /usr/local/lib/python3.11/dist-packages (from google-api-core!=2.0.*,!=2.1.*,!=2.2.*,!=2.3.0,<3.0.0,>=1.31.5->google-api-python-client>=1.12.5->pydrive2>=1.19.0->pydrive2[fsspec]>=1.19.0->dvc-gdrive<4,>=3->dvc[gdrive]) (1.70.0)\n",
      "Requirement already satisfied: protobuf!=3.20.0,!=3.20.1,!=4.21.0,!=4.21.1,!=4.21.2,!=4.21.3,!=4.21.4,!=4.21.5,<7.0.0,>=3.19.5 in /usr/local/lib/python3.11/dist-packages (from google-api-core!=2.0.*,!=2.1.*,!=2.2.*,!=2.3.0,<3.0.0,>=1.31.5->google-api-python-client>=1.12.5->pydrive2>=1.19.0->pydrive2[fsspec]>=1.19.0->dvc-gdrive<4,>=3->dvc[gdrive]) (4.25.8)\n",
      "Requirement already satisfied: proto-plus<2.0.0,>=1.22.3 in /usr/local/lib/python3.11/dist-packages (from google-api-core!=2.0.*,!=2.1.*,!=2.2.*,!=2.3.0,<3.0.0,>=1.31.5->google-api-python-client>=1.12.5->pydrive2>=1.19.0->pydrive2[fsspec]>=1.19.0->dvc-gdrive<4,>=3->dvc[gdrive]) (1.26.1)\n",
      "Requirement already satisfied: cachetools<6.0,>=2.0.0 in /usr/local/lib/python3.11/dist-packages (from google-auth!=2.24.0,!=2.25.0,<3.0.0,>=1.32.0->google-api-python-client>=1.12.5->pydrive2>=1.19.0->pydrive2[fsspec]>=1.19.0->dvc-gdrive<4,>=3->dvc[gdrive]) (5.5.2)\n",
      "Downloading colorama-0.4.6-py2.py3-none-any.whl (25 kB)\n",
      "Downloading configobj-5.0.9-py2.py3-none-any.whl (35 kB)\n",
      "Downloading dpath-2.2.0-py3-none-any.whl (17 kB)\n",
      "Downloading dvc_data-3.16.10-py3-none-any.whl (77 kB)\n",
      "\u001b[2K   \u001b[90m━━━━━━━━━━━━━━━━━━━━━━━━━━━━━━━━━━━━━━━━\u001b[0m \u001b[32m77.3/77.3 kB\u001b[0m \u001b[31m5.3 MB/s\u001b[0m eta \u001b[36m0:00:00\u001b[0m\n",
      "\u001b[?25hDownloading dvc_gdrive-3.0.1-py3-none-any.whl (11 kB)\n",
      "Downloading dvc_http-2.32.0-py3-none-any.whl (12 kB)\n",
      "Downloading dvc_objects-5.1.1-py3-none-any.whl (33 kB)\n",
      "Downloading dvc_render-1.0.2-py3-none-any.whl (22 kB)\n",
      "Downloading dvc_studio_client-0.21.0-py3-none-any.whl (16 kB)\n",
      "Downloading dvc_task-0.40.2-py3-none-any.whl (21 kB)\n",
      "Downloading celery-5.5.3-py3-none-any.whl (438 kB)\n",
      "\u001b[2K   \u001b[90m━━━━━━━━━━━━━━━━━━━━━━━━━━━━━━━━━━━━━━━━\u001b[0m \u001b[32m438.8/438.8 kB\u001b[0m \u001b[31m17.8 MB/s\u001b[0m eta \u001b[36m0:00:00\u001b[0m\n",
      "\u001b[?25hDownloading flatten_dict-0.4.2-py2.py3-none-any.whl (9.7 kB)\n",
      "Downloading flufl_lock-8.2.0-py3-none-any.whl (11 kB)\n",
      "Downloading funcy-2.0-py2.py3-none-any.whl (30 kB)\n",
      "Downloading grandalf-0.8-py3-none-any.whl (41 kB)\n",
      "\u001b[2K   \u001b[90m━━━━━━━━━━━━━━━━━━━━━━━━━━━━━━━━━━━━━━━━\u001b[0m \u001b[32m41.8/41.8 kB\u001b[0m \u001b[31m2.6 MB/s\u001b[0m eta \u001b[36m0:00:00\u001b[0m\n",
      "\u001b[?25hDownloading gto-1.7.2-py3-none-any.whl (45 kB)\n",
      "\u001b[2K   \u001b[90m━━━━━━━━━━━━━━━━━━━━━━━━━━━━━━━━━━━━━━━━\u001b[0m \u001b[32m45.2/45.2 kB\u001b[0m \u001b[31m3.0 MB/s\u001b[0m eta \u001b[36m0:00:00\u001b[0m\n",
      "\u001b[?25hDownloading hydra_core-1.3.2-py3-none-any.whl (154 kB)\n",
      "\u001b[2K   \u001b[90m━━━━━━━━━━━━━━━━━━━━━━━━━━━━━━━━━━━━━━━━\u001b[0m \u001b[32m154.5/154.5 kB\u001b[0m \u001b[31m10.9 MB/s\u001b[0m eta \u001b[36m0:00:00\u001b[0m\n",
      "\u001b[?25hDownloading iterative_telemetry-0.0.10-py3-none-any.whl (10 kB)\n",
      "Downloading kombu-5.5.4-py3-none-any.whl (210 kB)\n",
      "\u001b[2K   \u001b[90m━━━━━━━━━━━━━━━━━━━━━━━━━━━━━━━━━━━━━━━━\u001b[0m \u001b[32m210.0/210.0 kB\u001b[0m \u001b[31m15.0 MB/s\u001b[0m eta \u001b[36m0:00:00\u001b[0m\n",
      "\u001b[?25hDownloading vine-5.1.0-py3-none-any.whl (9.6 kB)\n",
      "Downloading pathspec-0.12.1-py3-none-any.whl (31 kB)\n",
      "Downloading pygtrie-2.5.0-py3-none-any.whl (25 kB)\n",
      "Downloading ruamel.yaml-0.18.14-py3-none-any.whl (118 kB)\n",
      "\u001b[2K   \u001b[90m━━━━━━━━━━━━━━━━━━━━━━━━━━━━━━━━━━━━━━━━\u001b[0m \u001b[32m118.6/118.6 kB\u001b[0m \u001b[31m7.1 MB/s\u001b[0m eta \u001b[36m0:00:00\u001b[0m\n",
      "\u001b[?25hDownloading scmrepo-3.3.11-py3-none-any.whl (73 kB)\n",
      "\u001b[2K   \u001b[90m━━━━━━━━━━━━━━━━━━━━━━━━━━━━━━━━━━━━━━━━\u001b[0m \u001b[32m73.1/73.1 kB\u001b[0m \u001b[31m4.9 MB/s\u001b[0m eta \u001b[36m0:00:00\u001b[0m\n",
      "\u001b[?25hDownloading dulwich-0.23.0-cp311-cp311-manylinux_2_28_x86_64.whl (1.1 MB)\n",
      "\u001b[2K   \u001b[90m━━━━━━━━━━━━━━━━━━━━━━━━━━━━━━━━━━━━━━━━\u001b[0m \u001b[32m1.1/1.1 MB\u001b[0m \u001b[31m35.7 MB/s\u001b[0m eta \u001b[36m0:00:00\u001b[0m\n",
      "\u001b[?25hDownloading shortuuid-1.0.13-py3-none-any.whl (10 kB)\n",
      "Downloading shtab-1.7.2-py3-none-any.whl (14 kB)\n",
      "Downloading voluptuous-0.15.2-py3-none-any.whl (31 kB)\n",
      "Downloading zc.lockfile-3.0.post1-py3-none-any.whl (9.8 kB)\n",
      "Downloading dvc-3.60.1-py3-none-any.whl (458 kB)\n",
      "\u001b[2K   \u001b[90m━━━━━━━━━━━━━━━━━━━━━━━━━━━━━━━━━━━━━━━━\u001b[0m \u001b[32m458.5/458.5 kB\u001b[0m \u001b[31m27.5 MB/s\u001b[0m eta \u001b[36m0:00:00\u001b[0m\n",
      "\u001b[?25hDownloading aiohttp_retry-2.9.1-py3-none-any.whl (10.0 kB)\n",
      "Downloading amqp-5.3.1-py3-none-any.whl (50 kB)\n",
      "\u001b[2K   \u001b[90m━━━━━━━━━━━━━━━━━━━━━━━━━━━━━━━━━━━━━━━━\u001b[0m \u001b[32m50.9/50.9 kB\u001b[0m \u001b[31m3.3 MB/s\u001b[0m eta \u001b[36m0:00:00\u001b[0m\n",
      "\u001b[?25hDownloading asyncssh-2.21.0-py3-none-any.whl (374 kB)\n",
      "\u001b[2K   \u001b[90m━━━━━━━━━━━━━━━━━━━━━━━━━━━━━━━━━━━━━━━━\u001b[0m \u001b[32m374.9/374.9 kB\u001b[0m \u001b[31m20.3 MB/s\u001b[0m eta \u001b[36m0:00:00\u001b[0m\n",
      "\u001b[?25hDownloading billiard-4.2.1-py3-none-any.whl (86 kB)\n",
      "\u001b[2K   \u001b[90m━━━━━━━━━━━━━━━━━━━━━━━━━━━━━━━━━━━━━━━━\u001b[0m \u001b[32m86.8/86.8 kB\u001b[0m \u001b[31m6.1 MB/s\u001b[0m eta \u001b[36m0:00:00\u001b[0m\n",
      "\u001b[?25hDownloading click_didyoumean-0.3.1-py3-none-any.whl (3.6 kB)\n",
      "Downloading click_plugins-1.1.1.2-py2.py3-none-any.whl (11 kB)\n",
      "Downloading click_repl-0.3.0-py3-none-any.whl (10 kB)\n",
      "Downloading dictdiffer-0.9.0-py2.py3-none-any.whl (16 kB)\n",
      "Downloading diskcache-5.6.3-py3-none-any.whl (45 kB)\n",
      "\u001b[2K   \u001b[90m━━━━━━━━━━━━━━━━━━━━━━━━━━━━━━━━━━━━━━━━\u001b[0m \u001b[32m45.5/45.5 kB\u001b[0m \u001b[31m2.9 MB/s\u001b[0m eta \u001b[36m0:00:00\u001b[0m\n",
      "\u001b[?25hDownloading appdirs-1.4.4-py2.py3-none-any.whl (9.6 kB)\n",
      "Downloading ruamel.yaml.clib-0.2.12-cp311-cp311-manylinux_2_17_x86_64.manylinux2014_x86_64.whl (739 kB)\n",
      "\u001b[2K   \u001b[90m━━━━━━━━━━━━━━━━━━━━━━━━━━━━━━━━━━━━━━━━\u001b[0m \u001b[32m739.1/739.1 kB\u001b[0m \u001b[31m36.9 MB/s\u001b[0m eta \u001b[36m0:00:00\u001b[0m\n",
      "\u001b[?25hDownloading semver-3.0.4-py3-none-any.whl (17 kB)\n",
      "Downloading sqltrie-0.11.2-py3-none-any.whl (17 kB)\n",
      "Installing collected packages: pygtrie, funcy, dictdiffer, appdirs, zc.lockfile, voluptuous, vine, sqltrie, shtab, shortuuid, semver, ruamel.yaml.clib, pathspec, grandalf, flufl.lock, flatten_dict, dvc-render, dvc-objects, dulwich, dpath, diskcache, configobj, colorama, click-plugins, click-didyoumean, billiard, ruamel.yaml, iterative-telemetry, hydra-core, dvc-studio-client, dvc-data, click-repl, amqp, kombu, asyncssh, aiohttp-retry, scmrepo, dvc-http, celery, gto, dvc-task, dvc, dvc-gdrive\n",
      "Successfully installed aiohttp-retry-2.9.1 amqp-5.3.1 appdirs-1.4.4 asyncssh-2.21.0 billiard-4.2.1 celery-5.5.3 click-didyoumean-0.3.1 click-plugins-1.1.1.2 click-repl-0.3.0 colorama-0.4.6 configobj-5.0.9 dictdiffer-0.9.0 diskcache-5.6.3 dpath-2.2.0 dulwich-0.23.0 dvc-3.60.1 dvc-data-3.16.10 dvc-gdrive-3.0.1 dvc-http-2.32.0 dvc-objects-5.1.1 dvc-render-1.0.2 dvc-studio-client-0.21.0 dvc-task-0.40.2 flatten_dict-0.4.2 flufl.lock-8.2.0 funcy-2.0 grandalf-0.8 gto-1.7.2 hydra-core-1.3.2 iterative-telemetry-0.0.10 kombu-5.5.4 pathspec-0.12.1 pygtrie-2.5.0 ruamel.yaml-0.18.14 ruamel.yaml.clib-0.2.12 scmrepo-3.3.11 semver-3.0.4 shortuuid-1.0.13 shtab-1.7.2 sqltrie-0.11.2 vine-5.1.0 voluptuous-0.15.2 zc.lockfile-3.0.post1\n"
     ]
    }
   ],
   "source": [
    "# Install DVC and Google Drive support\n",
    "!pip install dvc[gdrive]"
   ]
  },
  {
   "cell_type": "code",
   "execution_count": 9,
   "metadata": {
    "colab": {
     "base_uri": "https://localhost:8080/"
    },
    "id": "olAZ68YQbKPx",
    "outputId": "7a01c8a0-6258-4d93-f2e7-749450bf297a"
   },
   "outputs": [
    {
     "name": "stdout",
     "output_type": "stream",
     "text": [
      "/content/drive/MyDrive/ML_OPS\n",
      "Collecting          |3.00 [00:00, 54.1entry/s]\n",
      "Fetching\n",
      "!\u001b[A\n",
      "  0% |          |0/? [00:00<?,    ?files/s]\u001b[A\n",
      " 50% 1/2 [00:01<00:01,  1.96s/files{'info': ''}]\u001b[A\n",
      "100% 2/2 [00:02<00:00,  1.01files/s{'info': ''}]\u001b[A\n",
      "Fetching\n",
      "Building workspace index          |3.00 [00:01, 1.53entry/s]\n",
      "Comparing indexes          |4.00 [00:00, 1.49kentry/s]\n",
      "Applying changes          |0.00 [00:00,     ?file/s]\n",
      "Everything is up to date.\n",
      "\u001b[0m"
     ]
    }
   ],
   "source": [
    "# Load and preprocess data_v2.csv\n",
    "\n",
    "import pandas as pd\n",
    "import numpy as np\n",
    "from sklearn.model_selection import train_test_split\n",
    "from sklearn.preprocessing import StandardScaler\n",
    "\n",
    "%cd /content/drive/MyDrive/ML_OPS/\n",
    "!dvc pull"
   ]
  },
  {
   "cell_type": "code",
   "execution_count": 18,
   "metadata": {
    "colab": {
     "base_uri": "https://localhost:8080/"
    },
    "id": "xs0KhqKpbKM9",
    "outputId": "eb9b418b-77de-4e7e-9eba-b6996c55f52d"
   },
   "outputs": [
    {
     "data": {
      "text/plain": [
       "(30029, 14)"
      ]
     },
     "execution_count": 18,
     "metadata": {},
     "output_type": "execute_result"
    }
   ],
   "source": [
    "df = pd.read_csv(\"data_v2.csv\")\n",
    "df.shape"
   ]
  },
  {
   "cell_type": "code",
   "execution_count": 41,
   "metadata": {
    "id": "YQqzfE0ei1YZ"
   },
   "outputs": [],
   "source": [
    "import pandas as pd\n",
    "import numpy as np\n",
    "import matplotlib.pyplot as plt\n",
    "import seaborn as sns\n",
    "\n",
    "from sklearn.model_selection import train_test_split\n",
    "from sklearn.metrics import mean_squared_error, mean_absolute_percentage_error, r2_score\n",
    "from tensorflow.keras import layers\n",
    "from tensorflow.keras.callbacks import EarlyStopping, ModelCheckpoint\n",
    "from tensorflow.keras.regularizers import l2\n",
    "import tensorflow as tf"
   ]
  },
  {
   "cell_type": "code",
   "execution_count": 42,
   "metadata": {
    "id": "IYCZinlfi1T0"
   },
   "outputs": [],
   "source": [
    "# Feature engineering\n",
    "df[\"total_lift\"] = df[\"deadlift\"] + df[\"candj\"] + df[\"snatch\"] + df[\"backsq\"]\n",
    "X = df.drop(columns=[\"total_lift\"]).select_dtypes(include=\"number\").dropna()\n",
    "y = df[\"total_lift\"].loc[X.index]\n",
    "\n",
    "# Train-test split + scaling\n",
    "from sklearn.preprocessing import StandardScaler\n",
    "X_train, X_test, y_train, y_test = train_test_split(X, y, test_size=0.2, random_state=42)\n",
    "\n",
    "scaler = StandardScaler()\n",
    "X_train_scaled = scaler.fit_transform(X_train)\n",
    "X_test_scaled = scaler.transform(X_test)"
   ]
  },
  {
   "cell_type": "code",
   "execution_count": 49,
   "metadata": {
    "colab": {
     "base_uri": "https://localhost:8080/"
    },
    "id": "RL1jmw7ii1DN",
    "outputId": "1355b851-5392-45c8-bac1-b74d360ae2aa"
   },
   "outputs": [
    {
     "name": "stdout",
     "output_type": "stream",
     "text": [
      "188/188 [==============================] - 0s 2ms/step\n"
     ]
    }
   ],
   "source": [
    "# Train Non-DP Model\n",
    "# Non-DP model with NO L2\n",
    "model_nodp = tf.keras.Sequential([\n",
    "    layers.Dense(64, activation='relu', input_shape=(X_train_scaled.shape[1],)),\n",
    "    layers.Dropout(0.5),\n",
    "    layers.Dense(32, activation='relu'),\n",
    "    layers.Dropout(0.5),\n",
    "    layers.Dense(1)\n",
    "])\n",
    "\n",
    "model_nodp.compile(optimizer='adam', loss='mse', metrics=['mae'])\n",
    "\n",
    "early_stop = EarlyStopping(monitor='val_loss', patience=5, restore_best_weights=True)\n",
    "checkpoint = ModelCheckpoint('model_nodp.h5', monitor='val_loss', save_best_only=True)\n",
    "\n",
    "history_nodp = model_nodp.fit(X_train_scaled, y_train, batch_size=64, epochs=30, verbose=0)\n",
    "\n",
    "y_pred_nodp = model_nodp.predict(X_test_scaled).flatten()"
   ]
  },
  {
   "cell_type": "code",
   "execution_count": 52,
   "metadata": {
    "colab": {
     "base_uri": "https://localhost:8080/"
    },
    "id": "O9htbOF7i1AZ",
    "outputId": "929c029c-b5f8-4a38-923b-5c6c87c931c6"
   },
   "outputs": [
    {
     "name": "stdout",
     "output_type": "stream",
     "text": [
      "188/188 [==============================] - 0s 1ms/step\n"
     ]
    }
   ],
   "source": [
    "# Train DP Model\n",
    "\n",
    "from tensorflow_privacy.privacy.optimizers.dp_optimizer_keras import DPKerasSGDOptimizer\n",
    "\n",
    "dp_model = tf.keras.Sequential([\n",
    "    tf.keras.layers.Dense(64, activation='relu', input_shape=(X_train_scaled.shape[1],)),\n",
    "    tf.keras.layers.Dropout(0.5),\n",
    "    tf.keras.layers.Dense(32, activation='relu'),\n",
    "    tf.keras.layers.Dropout(0.5),\n",
    "    tf.keras.layers.Dense(1)\n",
    "])\n",
    "\n",
    "dp_optimizer = DPKerasSGDOptimizer(\n",
    "    l2_norm_clip=1.0,\n",
    "    noise_multiplier=5.0,\n",
    "    num_microbatches=64,\n",
    "    learning_rate=0.15\n",
    ")\n",
    "\n",
    "dp_model.compile(\n",
    "    optimizer=dp_optimizer,\n",
    "    loss=tf.keras.losses.MeanSquaredError(reduction=tf.keras.losses.Reduction.NONE),\n",
    "    metrics=['mse']\n",
    ")\n",
    "\n",
    "train_dataset = tf.data.Dataset.from_tensor_slices((X_train_scaled, y_train))\n",
    "train_dataset = train_dataset.shuffle(1024).batch(64, drop_remainder=True)\n",
    "\n",
    "history_dp = dp_model.fit(train_dataset, epochs=30, verbose=0)\n",
    "\n",
    "y_pred_dp = dp_model.predict(X_test_scaled).flatten()"
   ]
  },
  {
   "cell_type": "code",
   "execution_count": 53,
   "metadata": {
    "colab": {
     "base_uri": "https://localhost:8080/"
    },
    "id": "_HeCU59ui09s",
    "outputId": "0de0e4e5-d892-4ae2-ea3b-1adcb8f64eb5"
   },
   "outputs": [
    {
     "name": "stdout",
     "output_type": "stream",
     "text": [
      "\n",
      "📊 Non-DP Model:\n",
      "MAE: 61.7313074892535\n",
      "MSE: 3979.1989000424483\n",
      "MAPE: 0.06579326288142374\n",
      "R2: 0.9481935606083278\n",
      "Adjusted R2: 0.9481330996087043\n",
      "MBD: -61.60608693801519\n",
      "\n",
      "🔐 DP Model:\n",
      "MAE: 98.88870163548204\n",
      "MSE: 11690.89842298688\n",
      "MAPE: 0.12337290792854369\n",
      "R2: 0.8477925241238369\n",
      "Adjusted R2: 0.8476148895237814\n",
      "MBD: -90.73006456739061\n"
     ]
    },
    {
     "data": {
      "text/plain": [
       "(98.88870163548204, 11690.89842298688, 0.8477925241238369)"
      ]
     },
     "execution_count": 53,
     "metadata": {},
     "output_type": "execute_result"
    }
   ],
   "source": [
    "# Evaluate Both Models\n",
    "def evaluate(y_true, y_pred, X_test):\n",
    "    mse = mean_squared_error(y_true, y_pred)\n",
    "    mae = np.mean(np.abs(y_pred - y_true))\n",
    "    mape = mean_absolute_percentage_error(y_true, y_pred)\n",
    "    r2 = r2_score(y_true, y_pred)\n",
    "    adj_r2 = 1 - (1-r2)*(len(y_true)-1)/(len(y_true)-X_test.shape[1]-1)\n",
    "    mbd = np.mean(y_pred - y_true)\n",
    "\n",
    "    print(f\"MAE: {mae}\")\n",
    "    print(f\"MSE: {mse}\")\n",
    "    print(f\"MAPE: {mape}\")\n",
    "    print(f\"R2: {r2}\")\n",
    "    print(f\"Adjusted R2: {adj_r2}\")\n",
    "    print(f\"MBD: {mbd}\")\n",
    "    return mae, mse, r2\n",
    "\n",
    "print(\"\\n📊 Non-DP Model:\")\n",
    "evaluate(y_test, y_pred_nodp, X_test_scaled)\n",
    "\n",
    "print(\"\\n🔐 DP Model:\")\n",
    "evaluate(y_test, y_pred_dp, X_test_scaled)"
   ]
  },
  {
   "cell_type": "code",
   "execution_count": 54,
   "metadata": {
    "colab": {
     "base_uri": "https://localhost:8080/"
    },
    "id": "C8rOluoqi06-",
    "outputId": "538fc0db-fd9b-4498-e18d-1c26891d9daa"
   },
   "outputs": [
    {
     "name": "stderr",
     "output_type": "stream",
     "text": [
      "WARNING:absl:`compute_dp_sgd_privacy` is deprecated. It does not account for doubling of sensitivity with microbatching, and assumes Poisson subsampling, which is rarely used in practice. Please use `compute_dp_sgd_privacy_statement`, which provides appropriate context for the guarantee. To compute epsilon under different assumptions than those in `compute_dp_sgd_privacy_statement`, call the `dp_accounting` libraries directly.\n"
     ]
    },
    {
     "name": "stdout",
     "output_type": "stream",
     "text": [
      "\n",
      "🔐 DP-SGD Privacy Guarantee: (ε, δ) = (1.3774644037710095, 1e-5)\n"
     ]
    }
   ],
   "source": [
    "# Compute DP (ε, δ)\n",
    "from tensorflow_privacy.privacy.analysis import compute_dp_sgd_privacy_lib\n",
    "\n",
    "epsilon, _ = compute_dp_sgd_privacy_lib.compute_dp_sgd_privacy(\n",
    "    n=X_train_scaled.shape[0],\n",
    "    batch_size=batch_size,\n",
    "    noise_multiplier=1.1,\n",
    "    epochs=30,\n",
    "    delta=1e-5\n",
    ")\n",
    "\n",
    "print(f\"\\n🔐 DP-SGD Privacy Guarantee: (ε, δ) = ({epsilon}, 1e-5)\")"
   ]
  },
  {
   "cell_type": "markdown",
   "metadata": {
    "id": "PhzldP3wn6fr"
   },
   "source": [
    "**Conclusion:**\n",
    "\n",
    "As expected, the **DP model performs worse** than the Non-DP model:\n",
    "\n",
    "* 📉 **Higher MAE & MSE**: Indicates more prediction error due to DP noise.\n",
    "* 📉 **Lower R² (0.85 vs 0.95)**: DP model explains less variance.\n",
    "* 🔐 This confirms that **differential privacy degrades model performance**, which is the tradeoff for stronger privacy.\n"
   ]
  },
  {
   "cell_type": "code",
   "execution_count": null,
   "metadata": {
    "id": "rJtfD48gi04a"
   },
   "outputs": [],
   "source": []
  },
  {
   "cell_type": "code",
   "execution_count": null,
   "metadata": {
    "id": "ymx61AhrcqQ7"
   },
   "outputs": [],
   "source": []
  }
 ],
 "metadata": {
  "colab": {
   "provenance": []
  },
  "kernelspec": {
   "display_name": "Python 3 (ipykernel)",
   "language": "python",
   "name": "python3"
  },
  "language_info": {
   "codemirror_mode": {
    "name": "ipython",
    "version": 3
   },
   "file_extension": ".py",
   "mimetype": "text/x-python",
   "name": "python",
   "nbconvert_exporter": "python",
   "pygments_lexer": "ipython3",
   "version": "3.12.7"
  }
 },
 "nbformat": 4,
 "nbformat_minor": 4
}
