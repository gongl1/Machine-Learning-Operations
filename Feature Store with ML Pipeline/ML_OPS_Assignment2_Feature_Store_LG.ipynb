{
 "cells": [
  {
   "cell_type": "markdown",
   "metadata": {
    "application/vnd.databricks.v1+cell": {
     "cellMetadata": {},
     "inputWidgets": {},
     "nuid": "95211534-bb65-4061-b892-e7d8c8dc9924",
     "showTitle": false,
     "tableResultSettingsMap": {},
     "title": ""
    }
   },
   "source": [
    "This project is to design Feature Store with a ML Pipeline.\n",
    "1. Use athletes.csv\n",
    "2. Setup a ML pipeline in any MLOps platform of your choice.\n",
    "3. Use a feature store with the ML Pipeline.\n",
    "4. Load your data and create features with different version.\n",
    "5. Run experiments with the ML pipeline and feature store\n",
    "1. Create 2 different versions of features\n",
    "2. Train an algorithm with the 2 feature versions (do not use AutoML to select the algorithms)\n",
    "3. Train same algorithm with 2 different set of hyperparameters and 2 feature versions (so 4 combinations)\n",
    "6. Compare the results of the different experiments both quantitatively (model metrics) and qualitatively (model plots).\n",
    "7. Compare the carbon emissions for the different experiments."
   ]
  },
  {
   "cell_type": "markdown",
   "metadata": {
    "application/vnd.databricks.v1+cell": {
     "cellMetadata": {},
     "inputWidgets": {},
     "nuid": "6db49243-735a-42aa-8e62-1180f17e634b",
     "showTitle": false,
     "tableResultSettingsMap": {},
     "title": ""
    }
   },
   "source": [
    "I used ChatGTP 4o to help me understand key concepts and debug codes."
   ]
  },
  {
   "cell_type": "markdown",
   "metadata": {
    "application/vnd.databricks.v1+cell": {
     "cellMetadata": {},
     "inputWidgets": {},
     "nuid": "21453b75-5503-461c-8f6b-1ceaacf03c15",
     "showTitle": false,
     "tableResultSettingsMap": {},
     "title": ""
    }
   },
   "source": [
    "### Load Data"
   ]
  },
  {
   "cell_type": "code",
   "execution_count": 0,
   "metadata": {
    "application/vnd.databricks.v1+cell": {
     "cellMetadata": {
      "byteLimit": 2048000,
      "rowLimit": 10000
     },
     "inputWidgets": {},
     "nuid": "86ddf2dd-9eca-46a4-afc8-891345b94e42",
     "showTitle": false,
     "tableResultSettingsMap": {},
     "title": ""
    }
   },
   "outputs": [
    {
     "output_type": "display_data",
     "data": {
      "text/html": [
       "<style scoped>\n",
       "  .table-result-container {\n",
       "    max-height: 300px;\n",
       "    overflow: auto;\n",
       "  }\n",
       "  table, th, td {\n",
       "    border: 1px solid black;\n",
       "    border-collapse: collapse;\n",
       "  }\n",
       "  th, td {\n",
       "    padding: 5px;\n",
       "  }\n",
       "  th {\n",
       "    text-align: left;\n",
       "  }\n",
       "</style><div class='table-result-container'><table class='table-result'><thead style='background-color: white'><tr><th>athlete_id</th><th>name</th><th>region</th><th>team</th><th>affiliate</th><th>gender</th><th>age</th><th>height</th><th>weight</th><th>fran</th><th>helen</th><th>grace</th><th>filthy50</th><th>fgonebad</th><th>run400</th><th>run5k</th><th>candj</th><th>snatch</th><th>deadlift</th><th>backsq</th><th>pullups</th><th>eat</th><th>train</th><th>background</th><th>experience</th><th>schedule</th><th>howlong</th></tr></thead><tbody><tr><td>2554.0</td><td>Pj Ablang</td><td>South West</td><td>Double Edge</td><td>Double Edge CrossFit</td><td>Male</td><td>24.0</td><td>70.0</td><td>166.0</td><td>null</td><td>null</td><td>null</td><td>null</td><td>null</td><td>null</td><td>null</td><td>220.0</td><td>null</td><td>400.0</td><td>305.0</td><td>null</td><td>null</td><td>I workout mostly at a CrossFit Affiliate|I have a coach who determines my programming|I record my workouts|</td><td>I played youth or high school level sports|I regularly play recreational sports|</td><td>I began CrossFit with a coach (e.g. at an affiliate)|I have attended one or more specialty courses|I have had a life changing experience due to CrossFit|</td><td>I do multiple workouts in a day 2x a week|</td><td>4+ years|</td></tr><tr><td>3517.0</td><td>Derek Abdella</td><td>null</td><td>null</td><td>null</td><td>Male</td><td>42.0</td><td>70.0</td><td>190.0</td><td>null</td><td>null</td><td>null</td><td>null</td><td>0.0</td><td>null</td><td>null</td><td>null</td><td>null</td><td>null</td><td>null</td><td>null</td><td>null</td><td>I have a coach who determines my programming|I record my workouts|</td><td>I played youth or high school level sports|</td><td>I began CrossFit with a coach (e.g. at an affiliate)|I have attended one or more specialty courses|I have had a life changing experience due to CrossFit|</td><td>I do multiple workouts in a day 2x a week|</td><td>4+ years|</td></tr><tr><td>4691.0</td><td>null</td><td>null</td><td>null</td><td>null</td><td>null</td><td>null</td><td>null</td><td>null</td><td>null</td><td>null</td><td>null</td><td>null</td><td>null</td><td>null</td><td>null</td><td>null</td><td>null</td><td>null</td><td>null</td><td>null</td><td>null</td><td>null</td><td>null</td><td>null</td><td>null</td><td>null</td></tr><tr><td>5164.0</td><td>Abo Brandon</td><td>Southern California</td><td>LAX CrossFit</td><td>LAX CrossFit</td><td>Male</td><td>40.0</td><td>67.0</td><td>null</td><td>211.0</td><td>645.0</td><td>300.0</td><td>null</td><td>196.0</td><td>null</td><td>null</td><td>245.0</td><td>200.0</td><td>375.0</td><td>325.0</td><td>25.0</td><td>I eat 1-3 full cheat meals per week|</td><td>I workout mostly at a CrossFit Affiliate|I have a coach who determines my programming|I record my workouts|</td><td>I played youth or high school level sports|</td><td>I began CrossFit by trying it alone (without a coach)|I began CrossFit with a coach (e.g. at an affiliate)|I have completed the CrossFit Level 1 certificate course|I have attended one or more specialty courses|I have had a life changing experience due to CrossFit|I train other people|</td><td>I usually only do 1 workout a day|</td><td>4+ years|</td></tr><tr><td>5286.0</td><td>Bryce Abbey</td><td>null</td><td>null</td><td>null</td><td>Male</td><td>32.0</td><td>65.0</td><td>149.0</td><td>206.0</td><td>465.0</td><td>null</td><td>1053.0</td><td>null</td><td>null</td><td>1081.0</td><td>205.0</td><td>150.0</td><td>null</td><td>325.0</td><td>50.0</td><td>I eat quality foods but don't measure the amount|</td><td>I workout mostly at a CrossFit Affiliate|I incorporate CrossFit.com workouts|I write my own programming|I record my workouts|</td><td>I played college sports|</td><td>I began CrossFit by trying it alone (without a coach)|I have completed the CrossFit Level 1 certificate course|I train other people|</td><td>I usually only do 1 workout a day|I strictly schedule my rest days|</td><td>1-2 years|</td></tr><tr><td>6491.0</td><td>Jason Abney</td><td>null</td><td>null</td><td>null</td><td>Male</td><td>37.0</td><td>73.0</td><td>230.0</td><td>null</td><td>null</td><td>null</td><td>null</td><td>null</td><td>null</td><td>null</td><td>265.0</td><td>200.0</td><td>435.0</td><td>414.0</td><td>null</td><td>I eat strict Paleo|</td><td>I workout mostly at a CrossFit Affiliate|I record my workouts|</td><td>I played youth or high school level sports|</td><td>I began CrossFit by trying it alone (without a coach)|I have completed the CrossFit Level 1 certificate course|I have had a life changing experience due to CrossFit|I train other people|</td><td>I usually only do 1 workout a day|I typically rest 4 or more days per month|</td><td>4+ years|</td></tr><tr><td>6610.0</td><td>Anthony Abeel</td><td>South Central</td><td>Get Lifted</td><td>Get Lifted CrossFit</td><td>Male</td><td>21.0</td><td>72.0</td><td>175.0</td><td>null</td><td>null</td><td>null</td><td>null</td><td>0.0</td><td>null</td><td>null</td><td>0.0</td><td>0.0</td><td>0.0</td><td>0.0</td><td>0.0</td><td>I eat quality foods but don't measure the amount|I eat 1-3 full cheat meals per week|</td><td>I workout mostly at a CrossFit Affiliate|I have a coach who determines my programming|</td><td>I have no athletic background besides CrossFit|</td><td>I began CrossFit with a coach (e.g. at an affiliate)|I have completed the CrossFit Level 1 certificate course|I have had a life changing experience due to CrossFit|I train other people|</td><td>I do multiple workouts in a day 3+ times a week|I typically rest fewer than 4 days per month|</td><td>2-4 years|</td></tr><tr><td>7268.0</td><td>null</td><td>null</td><td>null</td><td>null</td><td>null</td><td>null</td><td>null</td><td>null</td><td>null</td><td>null</td><td>null</td><td>null</td><td>null</td><td>null</td><td>null</td><td>null</td><td>null</td><td>null</td><td>null</td><td>null</td><td>null</td><td>null</td><td>null</td><td>null</td><td>null</td><td>null</td></tr><tr><td>7463.0</td><td>Tye Abell</td><td>null</td><td>null</td><td>null</td><td>Male</td><td>30.0</td><td>72.0</td><td>175.0</td><td>null</td><td>null</td><td>null</td><td>null</td><td>0.0</td><td>null</td><td>null</td><td>0.0</td><td>0.0</td><td>0.0</td><td>0.0</td><td>0.0</td><td>null</td><td>null</td><td>null</td><td>null</td><td>null</td><td>null</td></tr><tr><td>8242.0</td><td>Ryan Achilles</td><td>null</td><td>null</td><td>null</td><td>Male</td><td>40.0</td><td>68.0</td><td>177.0</td><td>205.0</td><td>614.0</td><td>null</td><td>1647.0</td><td>332.0</td><td>null</td><td>1361.0</td><td>225.0</td><td>185.0</td><td>365.0</td><td>365.0</td><td>null</td><td>I eat quality foods but don't measure the amount|</td><td>I workout mostly at a CrossFit Affiliate|I record my workouts|</td><td>I played youth or high school level sports|I played college sports|</td><td>I began CrossFit by trying it alone (without a coach)|</td><td>I usually only do 1 workout a day|I typically rest 4 or more days per month|</td><td>2-4 years|</td></tr></tbody></table></div>"
      ]
     },
     "metadata": {
      "application/vnd.databricks.v1+output": {
       "addedWidgets": {},
       "aggData": [],
       "aggError": "",
       "aggOverflow": false,
       "aggSchema": [],
       "aggSeriesLimitReached": false,
       "aggType": "",
       "arguments": {},
       "columnCustomDisplayInfos": {},
       "data": [
        [
         2554.0,
         "Pj Ablang",
         "South West",
         "Double Edge",
         "Double Edge CrossFit",
         "Male",
         24.0,
         70.0,
         166.0,
         null,
         null,
         null,
         null,
         null,
         null,
         null,
         220.0,
         null,
         400.0,
         305.0,
         null,
         null,
         "I workout mostly at a CrossFit Affiliate|I have a coach who determines my programming|I record my workouts|",
         "I played youth or high school level sports|I regularly play recreational sports|",
         "I began CrossFit with a coach (e.g. at an affiliate)|I have attended one or more specialty courses|I have had a life changing experience due to CrossFit|",
         "I do multiple workouts in a day 2x a week|",
         "4+ years|"
        ],
        [
         3517.0,
         "Derek Abdella",
         null,
         null,
         null,
         "Male",
         42.0,
         70.0,
         190.0,
         null,
         null,
         null,
         null,
         0.0,
         null,
         null,
         null,
         null,
         null,
         null,
         null,
         null,
         "I have a coach who determines my programming|I record my workouts|",
         "I played youth or high school level sports|",
         "I began CrossFit with a coach (e.g. at an affiliate)|I have attended one or more specialty courses|I have had a life changing experience due to CrossFit|",
         "I do multiple workouts in a day 2x a week|",
         "4+ years|"
        ],
        [
         4691.0,
         null,
         null,
         null,
         null,
         null,
         null,
         null,
         null,
         null,
         null,
         null,
         null,
         null,
         null,
         null,
         null,
         null,
         null,
         null,
         null,
         null,
         null,
         null,
         null,
         null,
         null
        ],
        [
         5164.0,
         "Abo Brandon",
         "Southern California",
         "LAX CrossFit",
         "LAX CrossFit",
         "Male",
         40.0,
         67.0,
         null,
         211.0,
         645.0,
         300.0,
         null,
         196.0,
         null,
         null,
         245.0,
         200.0,
         375.0,
         325.0,
         25.0,
         "I eat 1-3 full cheat meals per week|",
         "I workout mostly at a CrossFit Affiliate|I have a coach who determines my programming|I record my workouts|",
         "I played youth or high school level sports|",
         "I began CrossFit by trying it alone (without a coach)|I began CrossFit with a coach (e.g. at an affiliate)|I have completed the CrossFit Level 1 certificate course|I have attended one or more specialty courses|I have had a life changing experience due to CrossFit|I train other people|",
         "I usually only do 1 workout a day|",
         "4+ years|"
        ],
        [
         5286.0,
         "Bryce Abbey",
         null,
         null,
         null,
         "Male",
         32.0,
         65.0,
         149.0,
         206.0,
         465.0,
         null,
         1053.0,
         null,
         null,
         1081.0,
         205.0,
         150.0,
         null,
         325.0,
         50.0,
         "I eat quality foods but don't measure the amount|",
         "I workout mostly at a CrossFit Affiliate|I incorporate CrossFit.com workouts|I write my own programming|I record my workouts|",
         "I played college sports|",
         "I began CrossFit by trying it alone (without a coach)|I have completed the CrossFit Level 1 certificate course|I train other people|",
         "I usually only do 1 workout a day|I strictly schedule my rest days|",
         "1-2 years|"
        ],
        [
         6491.0,
         "Jason Abney",
         null,
         null,
         null,
         "Male",
         37.0,
         73.0,
         230.0,
         null,
         null,
         null,
         null,
         null,
         null,
         null,
         265.0,
         200.0,
         435.0,
         414.0,
         null,
         "I eat strict Paleo|",
         "I workout mostly at a CrossFit Affiliate|I record my workouts|",
         "I played youth or high school level sports|",
         "I began CrossFit by trying it alone (without a coach)|I have completed the CrossFit Level 1 certificate course|I have had a life changing experience due to CrossFit|I train other people|",
         "I usually only do 1 workout a day|I typically rest 4 or more days per month|",
         "4+ years|"
        ],
        [
         6610.0,
         "Anthony Abeel",
         "South Central",
         "Get Lifted",
         "Get Lifted CrossFit",
         "Male",
         21.0,
         72.0,
         175.0,
         null,
         null,
         null,
         null,
         0.0,
         null,
         null,
         0.0,
         0.0,
         0.0,
         0.0,
         0.0,
         "I eat quality foods but don't measure the amount|I eat 1-3 full cheat meals per week|",
         "I workout mostly at a CrossFit Affiliate|I have a coach who determines my programming|",
         "I have no athletic background besides CrossFit|",
         "I began CrossFit with a coach (e.g. at an affiliate)|I have completed the CrossFit Level 1 certificate course|I have had a life changing experience due to CrossFit|I train other people|",
         "I do multiple workouts in a day 3+ times a week|I typically rest fewer than 4 days per month|",
         "2-4 years|"
        ],
        [
         7268.0,
         null,
         null,
         null,
         null,
         null,
         null,
         null,
         null,
         null,
         null,
         null,
         null,
         null,
         null,
         null,
         null,
         null,
         null,
         null,
         null,
         null,
         null,
         null,
         null,
         null,
         null
        ],
        [
         7463.0,
         "Tye Abell",
         null,
         null,
         null,
         "Male",
         30.0,
         72.0,
         175.0,
         null,
         null,
         null,
         null,
         0.0,
         null,
         null,
         0.0,
         0.0,
         0.0,
         0.0,
         0.0,
         null,
         null,
         null,
         null,
         null,
         null
        ],
        [
         8242.0,
         "Ryan Achilles",
         null,
         null,
         null,
         "Male",
         40.0,
         68.0,
         177.0,
         205.0,
         614.0,
         null,
         1647.0,
         332.0,
         null,
         1361.0,
         225.0,
         185.0,
         365.0,
         365.0,
         null,
         "I eat quality foods but don't measure the amount|",
         "I workout mostly at a CrossFit Affiliate|I record my workouts|",
         "I played youth or high school level sports|I played college sports|",
         "I began CrossFit by trying it alone (without a coach)|",
         "I usually only do 1 workout a day|I typically rest 4 or more days per month|",
         "2-4 years|"
        ]
       ],
       "datasetInfos": [],
       "dbfsResultPath": null,
       "isJsonSchema": true,
       "metadata": {},
       "overflow": false,
       "plotOptions": {
        "customPlotOptions": {},
        "displayType": "table",
        "pivotAggregation": null,
        "pivotColumns": null,
        "xColumns": null,
        "yColumns": null
       },
       "removedWidgets": [],
       "schema": [
        {
         "metadata": "{}",
         "name": "athlete_id",
         "type": "\"double\""
        },
        {
         "metadata": "{}",
         "name": "name",
         "type": "\"string\""
        },
        {
         "metadata": "{}",
         "name": "region",
         "type": "\"string\""
        },
        {
         "metadata": "{}",
         "name": "team",
         "type": "\"string\""
        },
        {
         "metadata": "{}",
         "name": "affiliate",
         "type": "\"string\""
        },
        {
         "metadata": "{}",
         "name": "gender",
         "type": "\"string\""
        },
        {
         "metadata": "{}",
         "name": "age",
         "type": "\"double\""
        },
        {
         "metadata": "{}",
         "name": "height",
         "type": "\"double\""
        },
        {
         "metadata": "{}",
         "name": "weight",
         "type": "\"double\""
        },
        {
         "metadata": "{}",
         "name": "fran",
         "type": "\"double\""
        },
        {
         "metadata": "{}",
         "name": "helen",
         "type": "\"double\""
        },
        {
         "metadata": "{}",
         "name": "grace",
         "type": "\"double\""
        },
        {
         "metadata": "{}",
         "name": "filthy50",
         "type": "\"double\""
        },
        {
         "metadata": "{}",
         "name": "fgonebad",
         "type": "\"double\""
        },
        {
         "metadata": "{}",
         "name": "run400",
         "type": "\"double\""
        },
        {
         "metadata": "{}",
         "name": "run5k",
         "type": "\"double\""
        },
        {
         "metadata": "{}",
         "name": "candj",
         "type": "\"double\""
        },
        {
         "metadata": "{}",
         "name": "snatch",
         "type": "\"double\""
        },
        {
         "metadata": "{}",
         "name": "deadlift",
         "type": "\"double\""
        },
        {
         "metadata": "{}",
         "name": "backsq",
         "type": "\"double\""
        },
        {
         "metadata": "{}",
         "name": "pullups",
         "type": "\"double\""
        },
        {
         "metadata": "{}",
         "name": "eat",
         "type": "\"string\""
        },
        {
         "metadata": "{}",
         "name": "train",
         "type": "\"string\""
        },
        {
         "metadata": "{}",
         "name": "background",
         "type": "\"string\""
        },
        {
         "metadata": "{}",
         "name": "experience",
         "type": "\"string\""
        },
        {
         "metadata": "{}",
         "name": "schedule",
         "type": "\"string\""
        },
        {
         "metadata": "{}",
         "name": "howlong",
         "type": "\"string\""
        }
       ],
       "type": "table"
      }
     },
     "output_type": "display_data"
    }
   ],
   "source": [
    "# Load the Delta table into a Spark DataFrame\n",
    "athletes_df = spark.table(\"workspace.default.athletes\")\n",
    "\n",
    "# Preview the data\n",
    "athletes_df.limit(10).display()"
   ]
  },
  {
   "cell_type": "markdown",
   "metadata": {
    "application/vnd.databricks.v1+cell": {
     "cellMetadata": {},
     "inputWidgets": {},
     "nuid": "73ad8283-f585-4fdd-9a85-73e3ff8aa35f",
     "showTitle": false,
     "tableResultSettingsMap": {},
     "title": ""
    }
   },
   "source": [
    "### Data Cleaning"
   ]
  },
  {
   "cell_type": "code",
   "execution_count": 0,
   "metadata": {
    "application/vnd.databricks.v1+cell": {
     "cellMetadata": {
      "byteLimit": 2048000,
      "rowLimit": 10000
     },
     "inputWidgets": {},
     "nuid": "76e5c0f7-21e6-45d4-8e68-014635d9afc1",
     "showTitle": false,
     "tableResultSettingsMap": {},
     "title": ""
    }
   },
   "outputs": [
    {
     "output_type": "display_data",
     "data": {
      "text/html": [
       "<style scoped>\n",
       "  .table-result-container {\n",
       "    max-height: 300px;\n",
       "    overflow: auto;\n",
       "  }\n",
       "  table, th, td {\n",
       "    border: 1px solid black;\n",
       "    border-collapse: collapse;\n",
       "  }\n",
       "  th, td {\n",
       "    padding: 5px;\n",
       "  }\n",
       "  th {\n",
       "    text-align: left;\n",
       "  }\n",
       "</style><div class='table-result-container'><table class='table-result'><thead style='background-color: white'><tr><th>athlete_id</th><th>name</th><th>region</th><th>team</th><th>affiliate</th><th>gender</th><th>age</th><th>height</th><th>weight</th><th>fran</th><th>helen</th><th>grace</th><th>filthy50</th><th>fgonebad</th><th>run400</th><th>run5k</th><th>pullups</th><th>eat</th><th>train</th><th>background</th><th>experience</th><th>schedule</th><th>howlong</th><th>total_lift</th></tr></thead><tbody><tr><td>21269.0</td><td>Erik Acevedo</td><td>Southern California</td><td>CrossFit Training Yard</td><td>CrossFit Training Yard</td><td>Male</td><td>30.0</td><td>71.0</td><td>200.0</td><td>243.0</td><td>null</td><td>164.0</td><td>null</td><td>298.0</td><td>null</td><td>1584.0</td><td>35.0</td><td>I eat whatever is convenient|</td><td>I workout mostly at a CrossFit Affiliate|I incorporate CrossFit.com workouts|</td><td>I played youth or high school level sports|I played college sports|I regularly play recreational sports|</td><td>I began CrossFit by trying it alone (without a coach)|I have had a life changing experience due to CrossFit|</td><td>I do multiple workouts in a day 1x a week|I typically rest 4 or more days per month|</td><td>1-2 years|</td><td>1110.0</td></tr><tr><td>21685.0</td><td>Richard Ablett</td><td>Africa</td><td>Cape CrossFit Wolfpack</td><td>Cape CrossFit</td><td>Male</td><td>28.0</td><td>70.0</td><td>176.0</td><td>720.0</td><td>680.0</td><td>null</td><td>null</td><td>280.0</td><td>null</td><td>null</td><td>27.0</td><td>I eat 1-3 full cheat meals per week|</td><td>I workout mostly at a CrossFit Affiliate|</td><td>I have no athletic background besides CrossFit|</td><td>I began CrossFit with a coach (e.g. at an affiliate)|I have had a life changing experience due to CrossFit|</td><td>I do multiple workouts in a day 1x a week|</td><td>2-4 years|</td><td>910.0</td></tr><tr><td>25464.0</td><td>Joe Abruzzo</td><td>North East</td><td>CrossFit Rapture</td><td>CrossFit Rapture</td><td>Male</td><td>35.0</td><td>68.0</td><td>225.0</td><td>215.0</td><td>null</td><td>112.0</td><td>1594.0</td><td>317.0</td><td>null</td><td>null</td><td>24.0</td><td>I eat quality foods but don't measure the amount|</td><td>I workout mostly at a CrossFit Affiliate|I record my workouts|</td><td>I played youth or high school level sports|</td><td>I began CrossFit with a coach (e.g. at an affiliate)|</td><td>I typically rest 4 or more days per month|</td><td>2-4 years|</td><td>1335.0</td></tr><tr><td>43767.0</td><td>Brigham Abbott</td><td>North Central</td><td>RNCF</td><td>River North CrossFit</td><td>Male</td><td>36.0</td><td>71.0</td><td>199.0</td><td>284.0</td><td>523.0</td><td>154.0</td><td>null</td><td>379.0</td><td>null</td><td>null</td><td>33.0</td><td>I eat quality foods but don't measure the amount|</td><td>I workout mostly at a CrossFit Affiliate|I have a coach who determines my programming|I record my workouts|</td><td>I played youth or high school level sports|I played college sports|</td><td>I began CrossFit with a coach (e.g. at an affiliate)|I have completed the CrossFit Level 1 certificate course|I have had a life changing experience due to CrossFit|I train other people|</td><td>I do multiple workouts in a day 3+ times a week|I strictly schedule my rest days|I typically rest 4 or more days per month|</td><td>1-2 years|</td><td>1354.0</td></tr><tr><td>55504.0</td><td>Jason Ackerman</td><td>North East</td><td>Crossfit Soulshine</td><td>CrossFit Soulshine</td><td>Male</td><td>36.0</td><td>64.0</td><td>155.0</td><td>174.0</td><td>null</td><td>null</td><td>null</td><td>null</td><td>null</td><td>null</td><td>50.0</td><td>I eat strict Paleo|</td><td>I workout mostly at home, work, or a traditional gym|I incorporate CrossFit.com workouts|I record my workouts|</td><td>I played youth or high school level sports|I played college sports|I regularly play recreational sports|</td><td>I began CrossFit by trying it alone (without a coach)|I have completed the CrossFit Level 1 certificate course|I have attended one or more specialty courses|I have had a life changing experience due to CrossFit|I train other people|</td><td>I do multiple workouts in a day 2x a week|I strictly schedule my rest days|I typically rest 4 or more days per month|</td><td>4+ years|</td><td>1225.0</td></tr><tr><td>71305.0</td><td>Jerad Abbott</td><td>North Central</td><td>Koda CrossFit</td><td>Koda CrossFit</td><td>Male</td><td>29.0</td><td>69.0</td><td>190.0</td><td>151.0</td><td>null</td><td>null</td><td>null</td><td>null</td><td>null</td><td>null</td><td>null</td><td>I eat quality foods but don't measure the amount|I eat 1-3 full cheat meals per week|</td><td>I workout mostly at a CrossFit Affiliate|I have a coach who determines my programming|</td><td>I played college sports|I regularly play recreational sports|</td><td>I began CrossFit with a coach (e.g. at an affiliate)|I have had a life changing experience due to CrossFit|</td><td>I do multiple workouts in a day 3+ times a week|</td><td>6-12 months|</td><td>1440.0</td></tr><tr><td>2414.0</td><td>Bill Adams</td><td>South East</td><td>First Coast CrossFit</td><td>First Coast CrossFit</td><td>Male</td><td>44.0</td><td>69.0</td><td>168.0</td><td>175.0</td><td>615.0</td><td>171.0</td><td>null</td><td>null</td><td>85.0</td><td>1470.0</td><td>34.0</td><td>I eat quality foods but don't measure the amount|</td><td>I workout mostly at a CrossFit Affiliate|</td><td>I played youth or high school level sports|</td><td>I began CrossFit with a coach (e.g. at an affiliate)|</td><td>I usually only do 1 workout a day|I typically rest 4 or more days per month|</td><td>4+ years|</td><td>1270.0</td></tr><tr><td>2720.0</td><td>Justin Adams</td><td>South Central</td><td>Woodward CrossFit</td><td>Woodward CrossFit</td><td>Male</td><td>24.0</td><td>68.0</td><td>180.0</td><td>126.0</td><td>449.0</td><td>86.0</td><td>988.0</td><td>425.0</td><td>58.0</td><td>1302.0</td><td>80.0</td><td>I eat quality foods but don't measure the amount|</td><td>I workout mostly at a CrossFit Affiliate|I have a coach who determines my programming|I record my workouts|</td><td>I played youth or high school level sports|</td><td>I began CrossFit with a coach (e.g. at an affiliate)|I have completed the CrossFit Level 1 certificate course|I train other people|</td><td>I do multiple workouts in a day 3+ times a week|I strictly schedule my rest days|I typically rest 4 or more days per month|</td><td>2-4 years|</td><td>1435.0</td></tr><tr><td>2818.0</td><td>Andy Adams</td><td>South Central</td><td>null</td><td>Brenham CrossFit</td><td>Male</td><td>26.0</td><td>70.0</td><td>197.0</td><td>207.0</td><td>451.0</td><td>null</td><td>null</td><td>null</td><td>null</td><td>1305.0</td><td>30.0</td><td>I eat quality foods but don't measure the amount|</td><td>I workout mostly at a CrossFit Affiliate|I have a coach who determines my programming|</td><td>I played youth or high school level sports|</td><td>I began CrossFit by trying it alone (without a coach)|I have completed the CrossFit Level 1 certificate course|I have had a life changing experience due to CrossFit|I train other people|</td><td>I usually only do 1 workout a day|</td><td>4+ years|</td><td>1500.0</td></tr><tr><td>6922.0</td><td>Daniel Adamson</td><td>South West</td><td>CrossFit The Point</td><td>CrossFit The Point</td><td>Male</td><td>31.0</td><td>67.0</td><td>150.0</td><td>244.0</td><td>486.0</td><td>294.0</td><td>1217.0</td><td>330.0</td><td>63.0</td><td>1268.0</td><td>42.0</td><td>I eat quality foods but don't measure the amount|</td><td>I workout mostly at a CrossFit Affiliate|I incorporate CrossFit.com workouts|I write my own programming|I record my workouts|</td><td>I played college sports|</td><td>I began CrossFit by trying it alone (without a coach)|I have completed the CrossFit Level 1 certificate course|I have attended one or more specialty courses|I have had a life changing experience due to CrossFit|I train other people|</td><td>I usually only do 1 workout a day|I do multiple workouts in a day 3+ times a week|I typically rest 4 or more days per month|</td><td>2-4 years|</td><td>1145.0</td></tr></tbody></table></div>"
      ]
     },
     "metadata": {
      "application/vnd.databricks.v1+output": {
       "addedWidgets": {},
       "aggData": [],
       "aggError": "",
       "aggOverflow": false,
       "aggSchema": [],
       "aggSeriesLimitReached": false,
       "aggType": "",
       "arguments": {},
       "columnCustomDisplayInfos": {},
       "data": [
        [
         21269.0,
         "Erik Acevedo",
         "Southern California",
         "CrossFit Training Yard",
         "CrossFit Training Yard",
         "Male",
         30.0,
         71.0,
         200.0,
         243.0,
         null,
         164.0,
         null,
         298.0,
         null,
         1584.0,
         35.0,
         "I eat whatever is convenient|",
         "I workout mostly at a CrossFit Affiliate|I incorporate CrossFit.com workouts|",
         "I played youth or high school level sports|I played college sports|I regularly play recreational sports|",
         "I began CrossFit by trying it alone (without a coach)|I have had a life changing experience due to CrossFit|",
         "I do multiple workouts in a day 1x a week|I typically rest 4 or more days per month|",
         "1-2 years|",
         1110.0
        ],
        [
         21685.0,
         "Richard Ablett",
         "Africa",
         "Cape CrossFit Wolfpack",
         "Cape CrossFit",
         "Male",
         28.0,
         70.0,
         176.0,
         720.0,
         680.0,
         null,
         null,
         280.0,
         null,
         null,
         27.0,
         "I eat 1-3 full cheat meals per week|",
         "I workout mostly at a CrossFit Affiliate|",
         "I have no athletic background besides CrossFit|",
         "I began CrossFit with a coach (e.g. at an affiliate)|I have had a life changing experience due to CrossFit|",
         "I do multiple workouts in a day 1x a week|",
         "2-4 years|",
         910.0
        ],
        [
         25464.0,
         "Joe Abruzzo",
         "North East",
         "CrossFit Rapture",
         "CrossFit Rapture",
         "Male",
         35.0,
         68.0,
         225.0,
         215.0,
         null,
         112.0,
         1594.0,
         317.0,
         null,
         null,
         24.0,
         "I eat quality foods but don't measure the amount|",
         "I workout mostly at a CrossFit Affiliate|I record my workouts|",
         "I played youth or high school level sports|",
         "I began CrossFit with a coach (e.g. at an affiliate)|",
         "I typically rest 4 or more days per month|",
         "2-4 years|",
         1335.0
        ],
        [
         43767.0,
         "Brigham Abbott",
         "North Central",
         "RNCF",
         "River North CrossFit",
         "Male",
         36.0,
         71.0,
         199.0,
         284.0,
         523.0,
         154.0,
         null,
         379.0,
         null,
         null,
         33.0,
         "I eat quality foods but don't measure the amount|",
         "I workout mostly at a CrossFit Affiliate|I have a coach who determines my programming|I record my workouts|",
         "I played youth or high school level sports|I played college sports|",
         "I began CrossFit with a coach (e.g. at an affiliate)|I have completed the CrossFit Level 1 certificate course|I have had a life changing experience due to CrossFit|I train other people|",
         "I do multiple workouts in a day 3+ times a week|I strictly schedule my rest days|I typically rest 4 or more days per month|",
         "1-2 years|",
         1354.0
        ],
        [
         55504.0,
         "Jason Ackerman",
         "North East",
         "Crossfit Soulshine",
         "CrossFit Soulshine",
         "Male",
         36.0,
         64.0,
         155.0,
         174.0,
         null,
         null,
         null,
         null,
         null,
         null,
         50.0,
         "I eat strict Paleo|",
         "I workout mostly at home, work, or a traditional gym|I incorporate CrossFit.com workouts|I record my workouts|",
         "I played youth or high school level sports|I played college sports|I regularly play recreational sports|",
         "I began CrossFit by trying it alone (without a coach)|I have completed the CrossFit Level 1 certificate course|I have attended one or more specialty courses|I have had a life changing experience due to CrossFit|I train other people|",
         "I do multiple workouts in a day 2x a week|I strictly schedule my rest days|I typically rest 4 or more days per month|",
         "4+ years|",
         1225.0
        ],
        [
         71305.0,
         "Jerad Abbott",
         "North Central",
         "Koda CrossFit",
         "Koda CrossFit",
         "Male",
         29.0,
         69.0,
         190.0,
         151.0,
         null,
         null,
         null,
         null,
         null,
         null,
         null,
         "I eat quality foods but don't measure the amount|I eat 1-3 full cheat meals per week|",
         "I workout mostly at a CrossFit Affiliate|I have a coach who determines my programming|",
         "I played college sports|I regularly play recreational sports|",
         "I began CrossFit with a coach (e.g. at an affiliate)|I have had a life changing experience due to CrossFit|",
         "I do multiple workouts in a day 3+ times a week|",
         "6-12 months|",
         1440.0
        ],
        [
         2414.0,
         "Bill Adams",
         "South East",
         "First Coast CrossFit",
         "First Coast CrossFit",
         "Male",
         44.0,
         69.0,
         168.0,
         175.0,
         615.0,
         171.0,
         null,
         null,
         85.0,
         1470.0,
         34.0,
         "I eat quality foods but don't measure the amount|",
         "I workout mostly at a CrossFit Affiliate|",
         "I played youth or high school level sports|",
         "I began CrossFit with a coach (e.g. at an affiliate)|",
         "I usually only do 1 workout a day|I typically rest 4 or more days per month|",
         "4+ years|",
         1270.0
        ],
        [
         2720.0,
         "Justin Adams",
         "South Central",
         "Woodward CrossFit",
         "Woodward CrossFit",
         "Male",
         24.0,
         68.0,
         180.0,
         126.0,
         449.0,
         86.0,
         988.0,
         425.0,
         58.0,
         1302.0,
         80.0,
         "I eat quality foods but don't measure the amount|",
         "I workout mostly at a CrossFit Affiliate|I have a coach who determines my programming|I record my workouts|",
         "I played youth or high school level sports|",
         "I began CrossFit with a coach (e.g. at an affiliate)|I have completed the CrossFit Level 1 certificate course|I train other people|",
         "I do multiple workouts in a day 3+ times a week|I strictly schedule my rest days|I typically rest 4 or more days per month|",
         "2-4 years|",
         1435.0
        ],
        [
         2818.0,
         "Andy Adams",
         "South Central",
         null,
         "Brenham CrossFit",
         "Male",
         26.0,
         70.0,
         197.0,
         207.0,
         451.0,
         null,
         null,
         null,
         null,
         1305.0,
         30.0,
         "I eat quality foods but don't measure the amount|",
         "I workout mostly at a CrossFit Affiliate|I have a coach who determines my programming|",
         "I played youth or high school level sports|",
         "I began CrossFit by trying it alone (without a coach)|I have completed the CrossFit Level 1 certificate course|I have had a life changing experience due to CrossFit|I train other people|",
         "I usually only do 1 workout a day|",
         "4+ years|",
         1500.0
        ],
        [
         6922.0,
         "Daniel Adamson",
         "South West",
         "CrossFit The Point",
         "CrossFit The Point",
         "Male",
         31.0,
         67.0,
         150.0,
         244.0,
         486.0,
         294.0,
         1217.0,
         330.0,
         63.0,
         1268.0,
         42.0,
         "I eat quality foods but don't measure the amount|",
         "I workout mostly at a CrossFit Affiliate|I incorporate CrossFit.com workouts|I write my own programming|I record my workouts|",
         "I played college sports|",
         "I began CrossFit by trying it alone (without a coach)|I have completed the CrossFit Level 1 certificate course|I have attended one or more specialty courses|I have had a life changing experience due to CrossFit|I train other people|",
         "I usually only do 1 workout a day|I do multiple workouts in a day 3+ times a week|I typically rest 4 or more days per month|",
         "2-4 years|",
         1145.0
        ]
       ],
       "datasetInfos": [],
       "dbfsResultPath": null,
       "isJsonSchema": true,
       "metadata": {},
       "overflow": false,
       "plotOptions": {
        "customPlotOptions": {},
        "displayType": "table",
        "pivotAggregation": null,
        "pivotColumns": null,
        "xColumns": null,
        "yColumns": null
       },
       "removedWidgets": [],
       "schema": [
        {
         "metadata": "{}",
         "name": "athlete_id",
         "type": "\"double\""
        },
        {
         "metadata": "{}",
         "name": "name",
         "type": "\"string\""
        },
        {
         "metadata": "{}",
         "name": "region",
         "type": "\"string\""
        },
        {
         "metadata": "{}",
         "name": "team",
         "type": "\"string\""
        },
        {
         "metadata": "{}",
         "name": "affiliate",
         "type": "\"string\""
        },
        {
         "metadata": "{}",
         "name": "gender",
         "type": "\"string\""
        },
        {
         "metadata": "{}",
         "name": "age",
         "type": "\"double\""
        },
        {
         "metadata": "{}",
         "name": "height",
         "type": "\"double\""
        },
        {
         "metadata": "{}",
         "name": "weight",
         "type": "\"double\""
        },
        {
         "metadata": "{}",
         "name": "fran",
         "type": "\"double\""
        },
        {
         "metadata": "{}",
         "name": "helen",
         "type": "\"double\""
        },
        {
         "metadata": "{}",
         "name": "grace",
         "type": "\"double\""
        },
        {
         "metadata": "{}",
         "name": "filthy50",
         "type": "\"double\""
        },
        {
         "metadata": "{}",
         "name": "fgonebad",
         "type": "\"double\""
        },
        {
         "metadata": "{}",
         "name": "run400",
         "type": "\"double\""
        },
        {
         "metadata": "{}",
         "name": "run5k",
         "type": "\"double\""
        },
        {
         "metadata": "{}",
         "name": "pullups",
         "type": "\"double\""
        },
        {
         "metadata": "{}",
         "name": "eat",
         "type": "\"string\""
        },
        {
         "metadata": "{}",
         "name": "train",
         "type": "\"string\""
        },
        {
         "metadata": "{}",
         "name": "background",
         "type": "\"string\""
        },
        {
         "metadata": "{}",
         "name": "experience",
         "type": "\"string\""
        },
        {
         "metadata": "{}",
         "name": "schedule",
         "type": "\"string\""
        },
        {
         "metadata": "{}",
         "name": "howlong",
         "type": "\"string\""
        },
        {
         "metadata": "{}",
         "name": "total_lift",
         "type": "\"double\""
        }
       ],
       "type": "table"
      }
     },
     "output_type": "display_data"
    }
   ],
   "source": [
    "from pyspark.sql.functions import col, when\n",
    "import numpy as np\n",
    "\n",
    "# Step 1: Drop rows with nulls in required columns\n",
    "required_cols = ['region', 'age', 'weight', 'height', 'howlong', 'gender', 'eat', \n",
    "                 'train', 'background', 'experience', 'schedule', \n",
    "                 'deadlift', 'candj', 'snatch', 'backsq']\n",
    "\n",
    "athletes_df = athletes_df.dropna(subset=required_cols)\n",
    "\n",
    "# Step 2: Remove outliers and filter values\n",
    "athletes_df = athletes_df.filter(col('weight') < 1500)\n",
    "athletes_df = athletes_df.filter(col('gender') != '--')\n",
    "athletes_df = athletes_df.filter(col('age') >= 18)\n",
    "athletes_df = athletes_df.filter((col('height') < 96) & (col('height') > 48))\n",
    "\n",
    "# Special logic for deadlift by gender\n",
    "athletes_df = athletes_df.filter(\n",
    "    ((col('deadlift') > 0) & (col('deadlift') <= 1105)) & \n",
    "    ~((col('gender') == 'Female') & (col('deadlift') > 636))\n",
    ")\n",
    "\n",
    "athletes_df = athletes_df.filter((col('candj') > 0) & (col('candj') <= 395))\n",
    "athletes_df = athletes_df.filter((col('snatch') > 0) & (col('snatch') <= 496))\n",
    "athletes_df = athletes_df.filter((col('backsq') > 0) & (col('backsq') <= 1069))\n",
    "\n",
    "# Step 3: Compute total_lift\n",
    "athletes_df = athletes_df.withColumn(\"total_lift\", \n",
    "    col(\"candj\") + col(\"snatch\") + col(\"deadlift\") + col(\"backsq\")\n",
    ")\n",
    "\n",
    "# Drop individual lift columns\n",
    "athletes_df = athletes_df.drop(\"candj\", \"snatch\", \"deadlift\", \"backsq\")\n",
    "\n",
    "# Step 4: Clean survey data - handle 'Decline to answer|' values\n",
    "athletes_df = athletes_df.replace(\"Decline to answer|\", None)\n",
    "\n",
    "# Drop rows with nulls in survey fields\n",
    "survey_cols = ['background', 'experience', 'schedule', 'howlong', 'eat']\n",
    "athletes_df = athletes_df.dropna(subset=survey_cols)\n",
    "\n",
    "# Display cleaned data\n",
    "athletes_df.limit(10).display()"
   ]
  },
  {
   "cell_type": "markdown",
   "metadata": {
    "application/vnd.databricks.v1+cell": {
     "cellMetadata": {},
     "inputWidgets": {},
     "nuid": "c75e7c01-6cc9-48f4-a97f-8104d28ae929",
     "showTitle": false,
     "tableResultSettingsMap": {},
     "title": ""
    }
   },
   "source": [
    "### Drop columns with >30% missing values"
   ]
  },
  {
   "cell_type": "code",
   "execution_count": 0,
   "metadata": {
    "application/vnd.databricks.v1+cell": {
     "cellMetadata": {
      "byteLimit": 2048000,
      "rowLimit": 10000
     },
     "inputWidgets": {},
     "nuid": "b4f4507d-a6e7-414c-9823-1226093a55e9",
     "showTitle": false,
     "tableResultSettingsMap": {},
     "title": ""
    }
   },
   "outputs": [],
   "source": [
    "from pyspark.sql.functions import col, when, count\n",
    "\n",
    "# Count total rows\n",
    "total_rows = athletes_df.count()\n",
    "threshold = total_rows * 0.7\n",
    "\n",
    "# Count nulls per column\n",
    "null_counts = athletes_df.select([\n",
    "    count(when(col(c).isNull(), c)).alias(c) for c in athletes_df.columns\n",
    "]).collect()[0].asDict()\n",
    "\n",
    "# Keep columns with ≤30% nulls\n",
    "cols_to_keep = [c for c in null_counts if null_counts[c] <= (total_rows - threshold)]\n",
    "athletes_df = athletes_df.select(cols_to_keep)"
   ]
  },
  {
   "cell_type": "markdown",
   "metadata": {
    "application/vnd.databricks.v1+cell": {
     "cellMetadata": {},
     "inputWidgets": {},
     "nuid": "b93f4cd2-c596-4633-838e-f21e1df8680b",
     "showTitle": false,
     "tableResultSettingsMap": {},
     "title": ""
    }
   },
   "source": [
    "### Impute missing values"
   ]
  },
  {
   "cell_type": "code",
   "execution_count": 0,
   "metadata": {
    "application/vnd.databricks.v1+cell": {
     "cellMetadata": {
      "byteLimit": 2048000,
      "rowLimit": 10000
     },
     "inputWidgets": {},
     "nuid": "c7895794-25a8-4861-a34b-faf8883a76a1",
     "showTitle": false,
     "tableResultSettingsMap": {},
     "title": ""
    }
   },
   "outputs": [],
   "source": [
    "from pyspark.sql.functions import col, mean, desc\n",
    "from pyspark.sql.types import StringType, NumericType\n",
    "\n",
    "# Identify numeric and categorical columns\n",
    "numeric_cols = [f.name for f in athletes_df.schema.fields if isinstance(f.dataType, NumericType)]\n",
    "categorical_cols = [f.name for f in athletes_df.schema.fields if isinstance(f.dataType, StringType)]\n",
    "\n",
    "# ✅ Impute numeric columns with mean (manual method, no MLlib)\n",
    "for col_name in numeric_cols:\n",
    "    mean_val = athletes_df.select(mean(col(col_name))).first()[0]\n",
    "    if mean_val is not None:\n",
    "        athletes_df = athletes_df.fillna({col_name: mean_val})\n",
    "\n",
    "# ✅ Impute categorical columns with mode (most frequent value)\n",
    "for col_name in categorical_cols:\n",
    "    mode_val = athletes_df.groupBy(col_name).count().orderBy(desc(\"count\")).first()[0]\n",
    "    if mode_val is not None:\n",
    "        athletes_df = athletes_df.fillna({col_name: mode_val})"
   ]
  },
  {
   "cell_type": "code",
   "execution_count": 0,
   "metadata": {
    "application/vnd.databricks.v1+cell": {
     "cellMetadata": {
      "byteLimit": 2048000,
      "rowLimit": 10000
     },
     "inputWidgets": {},
     "nuid": "45ff4a18-47e3-4be4-9e11-8f602a27d41a",
     "showTitle": false,
     "tableResultSettingsMap": {},
     "title": ""
    }
   },
   "outputs": [
    {
     "output_type": "display_data",
     "data": {
      "text/html": [
       "<style scoped>\n",
       "  .table-result-container {\n",
       "    max-height: 300px;\n",
       "    overflow: auto;\n",
       "  }\n",
       "  table, th, td {\n",
       "    border: 1px solid black;\n",
       "    border-collapse: collapse;\n",
       "  }\n",
       "  th, td {\n",
       "    padding: 5px;\n",
       "  }\n",
       "  th {\n",
       "    text-align: left;\n",
       "  }\n",
       "</style><div class='table-result-container'><table class='table-result'><thead style='background-color: white'><tr><th>athlete_id</th><th>name</th><th>region</th><th>affiliate</th><th>gender</th><th>age</th><th>height</th><th>weight</th><th>eat</th><th>train</th><th>background</th><th>experience</th><th>schedule</th><th>howlong</th><th>total_lift</th></tr></thead><tbody><tr><td>21269.0</td><td>Erik Acevedo</td><td>Southern California</td><td>CrossFit Training Yard</td><td>Male</td><td>30.0</td><td>71.0</td><td>200.0</td><td>I eat whatever is convenient|</td><td>I workout mostly at a CrossFit Affiliate|I incorporate CrossFit.com workouts|</td><td>I played youth or high school level sports|I played college sports|I regularly play recreational sports|</td><td>I began CrossFit by trying it alone (without a coach)|I have had a life changing experience due to CrossFit|</td><td>I do multiple workouts in a day 1x a week|I typically rest 4 or more days per month|</td><td>1-2 years|</td><td>1110.0</td></tr><tr><td>21685.0</td><td>Richard Ablett</td><td>Africa</td><td>Cape CrossFit</td><td>Male</td><td>28.0</td><td>70.0</td><td>176.0</td><td>I eat 1-3 full cheat meals per week|</td><td>I workout mostly at a CrossFit Affiliate|</td><td>I have no athletic background besides CrossFit|</td><td>I began CrossFit with a coach (e.g. at an affiliate)|I have had a life changing experience due to CrossFit|</td><td>I do multiple workouts in a day 1x a week|</td><td>2-4 years|</td><td>910.0</td></tr><tr><td>25464.0</td><td>Joe Abruzzo</td><td>North East</td><td>CrossFit Rapture</td><td>Male</td><td>35.0</td><td>68.0</td><td>225.0</td><td>I eat quality foods but don't measure the amount|</td><td>I workout mostly at a CrossFit Affiliate|I record my workouts|</td><td>I played youth or high school level sports|</td><td>I began CrossFit with a coach (e.g. at an affiliate)|</td><td>I typically rest 4 or more days per month|</td><td>2-4 years|</td><td>1335.0</td></tr><tr><td>43767.0</td><td>Brigham Abbott</td><td>North Central</td><td>River North CrossFit</td><td>Male</td><td>36.0</td><td>71.0</td><td>199.0</td><td>I eat quality foods but don't measure the amount|</td><td>I workout mostly at a CrossFit Affiliate|I have a coach who determines my programming|I record my workouts|</td><td>I played youth or high school level sports|I played college sports|</td><td>I began CrossFit with a coach (e.g. at an affiliate)|I have completed the CrossFit Level 1 certificate course|I have had a life changing experience due to CrossFit|I train other people|</td><td>I do multiple workouts in a day 3+ times a week|I strictly schedule my rest days|I typically rest 4 or more days per month|</td><td>1-2 years|</td><td>1354.0</td></tr><tr><td>55504.0</td><td>Jason Ackerman</td><td>North East</td><td>CrossFit Soulshine</td><td>Male</td><td>36.0</td><td>64.0</td><td>155.0</td><td>I eat strict Paleo|</td><td>I workout mostly at home, work, or a traditional gym|I incorporate CrossFit.com workouts|I record my workouts|</td><td>I played youth or high school level sports|I played college sports|I regularly play recreational sports|</td><td>I began CrossFit by trying it alone (without a coach)|I have completed the CrossFit Level 1 certificate course|I have attended one or more specialty courses|I have had a life changing experience due to CrossFit|I train other people|</td><td>I do multiple workouts in a day 2x a week|I strictly schedule my rest days|I typically rest 4 or more days per month|</td><td>4+ years|</td><td>1225.0</td></tr><tr><td>71305.0</td><td>Jerad Abbott</td><td>North Central</td><td>Koda CrossFit</td><td>Male</td><td>29.0</td><td>69.0</td><td>190.0</td><td>I eat quality foods but don't measure the amount|I eat 1-3 full cheat meals per week|</td><td>I workout mostly at a CrossFit Affiliate|I have a coach who determines my programming|</td><td>I played college sports|I regularly play recreational sports|</td><td>I began CrossFit with a coach (e.g. at an affiliate)|I have had a life changing experience due to CrossFit|</td><td>I do multiple workouts in a day 3+ times a week|</td><td>6-12 months|</td><td>1440.0</td></tr><tr><td>2414.0</td><td>Bill Adams</td><td>South East</td><td>First Coast CrossFit</td><td>Male</td><td>44.0</td><td>69.0</td><td>168.0</td><td>I eat quality foods but don't measure the amount|</td><td>I workout mostly at a CrossFit Affiliate|</td><td>I played youth or high school level sports|</td><td>I began CrossFit with a coach (e.g. at an affiliate)|</td><td>I usually only do 1 workout a day|I typically rest 4 or more days per month|</td><td>4+ years|</td><td>1270.0</td></tr><tr><td>2720.0</td><td>Justin Adams</td><td>South Central</td><td>Woodward CrossFit</td><td>Male</td><td>24.0</td><td>68.0</td><td>180.0</td><td>I eat quality foods but don't measure the amount|</td><td>I workout mostly at a CrossFit Affiliate|I have a coach who determines my programming|I record my workouts|</td><td>I played youth or high school level sports|</td><td>I began CrossFit with a coach (e.g. at an affiliate)|I have completed the CrossFit Level 1 certificate course|I train other people|</td><td>I do multiple workouts in a day 3+ times a week|I strictly schedule my rest days|I typically rest 4 or more days per month|</td><td>2-4 years|</td><td>1435.0</td></tr><tr><td>2818.0</td><td>Andy Adams</td><td>South Central</td><td>Brenham CrossFit</td><td>Male</td><td>26.0</td><td>70.0</td><td>197.0</td><td>I eat quality foods but don't measure the amount|</td><td>I workout mostly at a CrossFit Affiliate|I have a coach who determines my programming|</td><td>I played youth or high school level sports|</td><td>I began CrossFit by trying it alone (without a coach)|I have completed the CrossFit Level 1 certificate course|I have had a life changing experience due to CrossFit|I train other people|</td><td>I usually only do 1 workout a day|</td><td>4+ years|</td><td>1500.0</td></tr><tr><td>6922.0</td><td>Daniel Adamson</td><td>South West</td><td>CrossFit The Point</td><td>Male</td><td>31.0</td><td>67.0</td><td>150.0</td><td>I eat quality foods but don't measure the amount|</td><td>I workout mostly at a CrossFit Affiliate|I incorporate CrossFit.com workouts|I write my own programming|I record my workouts|</td><td>I played college sports|</td><td>I began CrossFit by trying it alone (without a coach)|I have completed the CrossFit Level 1 certificate course|I have attended one or more specialty courses|I have had a life changing experience due to CrossFit|I train other people|</td><td>I usually only do 1 workout a day|I do multiple workouts in a day 3+ times a week|I typically rest 4 or more days per month|</td><td>2-4 years|</td><td>1145.0</td></tr></tbody></table></div>"
      ]
     },
     "metadata": {
      "application/vnd.databricks.v1+output": {
       "addedWidgets": {},
       "aggData": [],
       "aggError": "",
       "aggOverflow": false,
       "aggSchema": [],
       "aggSeriesLimitReached": false,
       "aggType": "",
       "arguments": {},
       "columnCustomDisplayInfos": {},
       "data": [
        [
         21269.0,
         "Erik Acevedo",
         "Southern California",
         "CrossFit Training Yard",
         "Male",
         30.0,
         71.0,
         200.0,
         "I eat whatever is convenient|",
         "I workout mostly at a CrossFit Affiliate|I incorporate CrossFit.com workouts|",
         "I played youth or high school level sports|I played college sports|I regularly play recreational sports|",
         "I began CrossFit by trying it alone (without a coach)|I have had a life changing experience due to CrossFit|",
         "I do multiple workouts in a day 1x a week|I typically rest 4 or more days per month|",
         "1-2 years|",
         1110.0
        ],
        [
         21685.0,
         "Richard Ablett",
         "Africa",
         "Cape CrossFit",
         "Male",
         28.0,
         70.0,
         176.0,
         "I eat 1-3 full cheat meals per week|",
         "I workout mostly at a CrossFit Affiliate|",
         "I have no athletic background besides CrossFit|",
         "I began CrossFit with a coach (e.g. at an affiliate)|I have had a life changing experience due to CrossFit|",
         "I do multiple workouts in a day 1x a week|",
         "2-4 years|",
         910.0
        ],
        [
         25464.0,
         "Joe Abruzzo",
         "North East",
         "CrossFit Rapture",
         "Male",
         35.0,
         68.0,
         225.0,
         "I eat quality foods but don't measure the amount|",
         "I workout mostly at a CrossFit Affiliate|I record my workouts|",
         "I played youth or high school level sports|",
         "I began CrossFit with a coach (e.g. at an affiliate)|",
         "I typically rest 4 or more days per month|",
         "2-4 years|",
         1335.0
        ],
        [
         43767.0,
         "Brigham Abbott",
         "North Central",
         "River North CrossFit",
         "Male",
         36.0,
         71.0,
         199.0,
         "I eat quality foods but don't measure the amount|",
         "I workout mostly at a CrossFit Affiliate|I have a coach who determines my programming|I record my workouts|",
         "I played youth or high school level sports|I played college sports|",
         "I began CrossFit with a coach (e.g. at an affiliate)|I have completed the CrossFit Level 1 certificate course|I have had a life changing experience due to CrossFit|I train other people|",
         "I do multiple workouts in a day 3+ times a week|I strictly schedule my rest days|I typically rest 4 or more days per month|",
         "1-2 years|",
         1354.0
        ],
        [
         55504.0,
         "Jason Ackerman",
         "North East",
         "CrossFit Soulshine",
         "Male",
         36.0,
         64.0,
         155.0,
         "I eat strict Paleo|",
         "I workout mostly at home, work, or a traditional gym|I incorporate CrossFit.com workouts|I record my workouts|",
         "I played youth or high school level sports|I played college sports|I regularly play recreational sports|",
         "I began CrossFit by trying it alone (without a coach)|I have completed the CrossFit Level 1 certificate course|I have attended one or more specialty courses|I have had a life changing experience due to CrossFit|I train other people|",
         "I do multiple workouts in a day 2x a week|I strictly schedule my rest days|I typically rest 4 or more days per month|",
         "4+ years|",
         1225.0
        ],
        [
         71305.0,
         "Jerad Abbott",
         "North Central",
         "Koda CrossFit",
         "Male",
         29.0,
         69.0,
         190.0,
         "I eat quality foods but don't measure the amount|I eat 1-3 full cheat meals per week|",
         "I workout mostly at a CrossFit Affiliate|I have a coach who determines my programming|",
         "I played college sports|I regularly play recreational sports|",
         "I began CrossFit with a coach (e.g. at an affiliate)|I have had a life changing experience due to CrossFit|",
         "I do multiple workouts in a day 3+ times a week|",
         "6-12 months|",
         1440.0
        ],
        [
         2414.0,
         "Bill Adams",
         "South East",
         "First Coast CrossFit",
         "Male",
         44.0,
         69.0,
         168.0,
         "I eat quality foods but don't measure the amount|",
         "I workout mostly at a CrossFit Affiliate|",
         "I played youth or high school level sports|",
         "I began CrossFit with a coach (e.g. at an affiliate)|",
         "I usually only do 1 workout a day|I typically rest 4 or more days per month|",
         "4+ years|",
         1270.0
        ],
        [
         2720.0,
         "Justin Adams",
         "South Central",
         "Woodward CrossFit",
         "Male",
         24.0,
         68.0,
         180.0,
         "I eat quality foods but don't measure the amount|",
         "I workout mostly at a CrossFit Affiliate|I have a coach who determines my programming|I record my workouts|",
         "I played youth or high school level sports|",
         "I began CrossFit with a coach (e.g. at an affiliate)|I have completed the CrossFit Level 1 certificate course|I train other people|",
         "I do multiple workouts in a day 3+ times a week|I strictly schedule my rest days|I typically rest 4 or more days per month|",
         "2-4 years|",
         1435.0
        ],
        [
         2818.0,
         "Andy Adams",
         "South Central",
         "Brenham CrossFit",
         "Male",
         26.0,
         70.0,
         197.0,
         "I eat quality foods but don't measure the amount|",
         "I workout mostly at a CrossFit Affiliate|I have a coach who determines my programming|",
         "I played youth or high school level sports|",
         "I began CrossFit by trying it alone (without a coach)|I have completed the CrossFit Level 1 certificate course|I have had a life changing experience due to CrossFit|I train other people|",
         "I usually only do 1 workout a day|",
         "4+ years|",
         1500.0
        ],
        [
         6922.0,
         "Daniel Adamson",
         "South West",
         "CrossFit The Point",
         "Male",
         31.0,
         67.0,
         150.0,
         "I eat quality foods but don't measure the amount|",
         "I workout mostly at a CrossFit Affiliate|I incorporate CrossFit.com workouts|I write my own programming|I record my workouts|",
         "I played college sports|",
         "I began CrossFit by trying it alone (without a coach)|I have completed the CrossFit Level 1 certificate course|I have attended one or more specialty courses|I have had a life changing experience due to CrossFit|I train other people|",
         "I usually only do 1 workout a day|I do multiple workouts in a day 3+ times a week|I typically rest 4 or more days per month|",
         "2-4 years|",
         1145.0
        ]
       ],
       "datasetInfos": [],
       "dbfsResultPath": null,
       "isJsonSchema": true,
       "metadata": {},
       "overflow": false,
       "plotOptions": {
        "customPlotOptions": {},
        "displayType": "table",
        "pivotAggregation": null,
        "pivotColumns": null,
        "xColumns": null,
        "yColumns": null
       },
       "removedWidgets": [],
       "schema": [
        {
         "metadata": "{}",
         "name": "athlete_id",
         "type": "\"double\""
        },
        {
         "metadata": "{}",
         "name": "name",
         "type": "\"string\""
        },
        {
         "metadata": "{}",
         "name": "region",
         "type": "\"string\""
        },
        {
         "metadata": "{}",
         "name": "affiliate",
         "type": "\"string\""
        },
        {
         "metadata": "{}",
         "name": "gender",
         "type": "\"string\""
        },
        {
         "metadata": "{}",
         "name": "age",
         "type": "\"double\""
        },
        {
         "metadata": "{}",
         "name": "height",
         "type": "\"double\""
        },
        {
         "metadata": "{}",
         "name": "weight",
         "type": "\"double\""
        },
        {
         "metadata": "{}",
         "name": "eat",
         "type": "\"string\""
        },
        {
         "metadata": "{}",
         "name": "train",
         "type": "\"string\""
        },
        {
         "metadata": "{}",
         "name": "background",
         "type": "\"string\""
        },
        {
         "metadata": "{}",
         "name": "experience",
         "type": "\"string\""
        },
        {
         "metadata": "{}",
         "name": "schedule",
         "type": "\"string\""
        },
        {
         "metadata": "{}",
         "name": "howlong",
         "type": "\"string\""
        },
        {
         "metadata": "{}",
         "name": "total_lift",
         "type": "\"double\""
        }
       ],
       "type": "table"
      }
     },
     "output_type": "display_data"
    }
   ],
   "source": [
    "athletes_df.limit(10).display()"
   ]
  },
  {
   "cell_type": "markdown",
   "metadata": {
    "application/vnd.databricks.v1+cell": {
     "cellMetadata": {},
     "inputWidgets": {},
     "nuid": "9f6cef99-e443-4a9c-b20e-4ce4357a61ac",
     "showTitle": false,
     "tableResultSettingsMap": {},
     "title": ""
    }
   },
   "source": [
    "### Simplify categorical columns with UDFs"
   ]
  },
  {
   "cell_type": "code",
   "execution_count": 0,
   "metadata": {
    "application/vnd.databricks.v1+cell": {
     "cellMetadata": {
      "byteLimit": 2048000,
      "rowLimit": 10000
     },
     "inputWidgets": {},
     "nuid": "8dcb46d7-ece9-4866-a7d9-7238a1d8b34b",
     "showTitle": false,
     "tableResultSettingsMap": {},
     "title": ""
    }
   },
   "outputs": [],
   "source": [
    "from pyspark.sql.functions import udf\n",
    "from pyspark.sql.types import StringType\n",
    "\n",
    "# UDF: simplify_background\n",
    "@udf(StringType())\n",
    "def simplify_background(x):\n",
    "    if x is None:\n",
    "        return 'Unknown'\n",
    "    x = x.lower()\n",
    "    if 'no athletic background' in x:\n",
    "        return 'No athletic background'\n",
    "    elif 'college' in x:\n",
    "        return 'College sports'\n",
    "    elif 'professional' in x:\n",
    "        return 'Professional sports'\n",
    "    elif 'youth or high school' in x:\n",
    "        return 'Youth/High school sports'\n",
    "    else:\n",
    "        return 'Other'\n",
    "\n",
    "# UDF: simplify_schedule\n",
    "@udf(StringType())\n",
    "def simplify_schedule(x):\n",
    "    if x is None:\n",
    "        return 'Unknown'\n",
    "    x = x.lower()\n",
    "    if 'multiple workouts' in x and '3+' in x:\n",
    "        return 'High frequency'\n",
    "    elif 'multiple workouts' in x:\n",
    "        return 'Medium frequency'\n",
    "    elif 'only do 1 workout' in x:\n",
    "        return 'Low frequency'\n",
    "    elif 'rest 4 or more days' in x:\n",
    "        return 'Regular rest'\n",
    "    elif 'rest fewer than 4 days' in x:\n",
    "        return 'Minimal rest'\n",
    "    else:\n",
    "        return 'Other'\n",
    "\n",
    "# UDF: simplify_experience\n",
    "@udf(StringType())\n",
    "def simplify_experience(x):\n",
    "    if x is None:\n",
    "        return 'Unknown'\n",
    "    x = x.lower()\n",
    "    if 'with a coach' in x:\n",
    "        return 'Started with coach'\n",
    "    elif 'alone' in x:\n",
    "        return 'Started alone'\n",
    "    else:\n",
    "        return 'Other'\n",
    "\n",
    "# Apply UDFs to clean categorical fields\n",
    "athletes_df = athletes_df.withColumn(\"background\", simplify_background(\"background\"))\n",
    "athletes_df = athletes_df.withColumn(\"schedule\", simplify_schedule(\"schedule\"))\n",
    "athletes_df = athletes_df.withColumn(\"experience\", simplify_experience(\"experience\"))"
   ]
  },
  {
   "cell_type": "code",
   "execution_count": 0,
   "metadata": {
    "application/vnd.databricks.v1+cell": {
     "cellMetadata": {
      "byteLimit": 2048000,
      "rowLimit": 10000
     },
     "inputWidgets": {},
     "nuid": "f33f6d1c-4e88-4934-982d-eb6ee44d304f",
     "showTitle": false,
     "tableResultSettingsMap": {},
     "title": ""
    }
   },
   "outputs": [],
   "source": [
    "# Apply UDFs to clean categorical fields\n",
    "athletes_df = athletes_df.withColumn(\"background\", simplify_background(\"background\"))\n",
    "athletes_df = athletes_df.withColumn(\"schedule\", simplify_schedule(\"schedule\"))\n",
    "athletes_df = athletes_df.withColumn(\"experience\", simplify_experience(\"experience\"))"
   ]
  },
  {
   "cell_type": "code",
   "execution_count": 0,
   "metadata": {
    "application/vnd.databricks.v1+cell": {
     "cellMetadata": {
      "byteLimit": 2048000,
      "rowLimit": 10000
     },
     "inputWidgets": {},
     "nuid": "d8657baa-3c48-403f-ad1e-c79dbdff22e5",
     "showTitle": false,
     "tableResultSettingsMap": {},
     "title": ""
    }
   },
   "outputs": [
    {
     "output_type": "display_data",
     "data": {
      "text/html": [
       "<style scoped>\n",
       "  .table-result-container {\n",
       "    max-height: 300px;\n",
       "    overflow: auto;\n",
       "  }\n",
       "  table, th, td {\n",
       "    border: 1px solid black;\n",
       "    border-collapse: collapse;\n",
       "  }\n",
       "  th, td {\n",
       "    padding: 5px;\n",
       "  }\n",
       "  th {\n",
       "    text-align: left;\n",
       "  }\n",
       "</style><div class='table-result-container'><table class='table-result'><thead style='background-color: white'><tr><th>background</th><th>count</th></tr></thead><tbody><tr><td>Other</td><td>16867</td></tr><tr><td>College sports</td><td>8225</td></tr><tr><td>No athletic background</td><td>4228</td></tr><tr><td>Professional sports</td><td>695</td></tr></tbody></table></div>"
      ]
     },
     "metadata": {
      "application/vnd.databricks.v1+output": {
       "addedWidgets": {},
       "aggData": [],
       "aggError": "",
       "aggOverflow": false,
       "aggSchema": [],
       "aggSeriesLimitReached": false,
       "aggType": "",
       "arguments": {},
       "columnCustomDisplayInfos": {},
       "data": [
        [
         "Other",
         16867
        ],
        [
         "College sports",
         8225
        ],
        [
         "No athletic background",
         4228
        ],
        [
         "Professional sports",
         695
        ]
       ],
       "datasetInfos": [],
       "dbfsResultPath": null,
       "isJsonSchema": true,
       "metadata": {},
       "overflow": false,
       "plotOptions": {
        "customPlotOptions": {},
        "displayType": "table",
        "pivotAggregation": null,
        "pivotColumns": null,
        "xColumns": null,
        "yColumns": null
       },
       "removedWidgets": [],
       "schema": [
        {
         "metadata": "{}",
         "name": "background",
         "type": "\"string\""
        },
        {
         "metadata": "{}",
         "name": "count",
         "type": "\"long\""
        }
       ],
       "type": "table"
      }
     },
     "output_type": "display_data"
    },
    {
     "output_type": "display_data",
     "data": {
      "text/html": [
       "<style scoped>\n",
       "  .table-result-container {\n",
       "    max-height: 300px;\n",
       "    overflow: auto;\n",
       "  }\n",
       "  table, th, td {\n",
       "    border: 1px solid black;\n",
       "    border-collapse: collapse;\n",
       "  }\n",
       "  th, td {\n",
       "    padding: 5px;\n",
       "  }\n",
       "  th {\n",
       "    text-align: left;\n",
       "  }\n",
       "</style><div class='table-result-container'><table class='table-result'><thead style='background-color: white'><tr><th>schedule</th><th>count</th></tr></thead><tbody><tr><td>Other</td><td>30015</td></tr></tbody></table></div>"
      ]
     },
     "metadata": {
      "application/vnd.databricks.v1+output": {
       "addedWidgets": {},
       "aggData": [],
       "aggError": "",
       "aggOverflow": false,
       "aggSchema": [],
       "aggSeriesLimitReached": false,
       "aggType": "",
       "arguments": {},
       "columnCustomDisplayInfos": {},
       "data": [
        [
         "Other",
         30015
        ]
       ],
       "datasetInfos": [],
       "dbfsResultPath": null,
       "isJsonSchema": true,
       "metadata": {},
       "overflow": false,
       "plotOptions": {
        "customPlotOptions": {},
        "displayType": "table",
        "pivotAggregation": null,
        "pivotColumns": null,
        "xColumns": null,
        "yColumns": null
       },
       "removedWidgets": [],
       "schema": [
        {
         "metadata": "{}",
         "name": "schedule",
         "type": "\"string\""
        },
        {
         "metadata": "{}",
         "name": "count",
         "type": "\"long\""
        }
       ],
       "type": "table"
      }
     },
     "output_type": "display_data"
    },
    {
     "output_type": "display_data",
     "data": {
      "text/html": [
       "<style scoped>\n",
       "  .table-result-container {\n",
       "    max-height: 300px;\n",
       "    overflow: auto;\n",
       "  }\n",
       "  table, th, td {\n",
       "    border: 1px solid black;\n",
       "    border-collapse: collapse;\n",
       "  }\n",
       "  th, td {\n",
       "    padding: 5px;\n",
       "  }\n",
       "  th {\n",
       "    text-align: left;\n",
       "  }\n",
       "</style><div class='table-result-container'><table class='table-result'><thead style='background-color: white'><tr><th>experience</th><th>count</th></tr></thead><tbody><tr><td>Other</td><td>23598</td></tr><tr><td>Started alone</td><td>6417</td></tr></tbody></table></div>"
      ]
     },
     "metadata": {
      "application/vnd.databricks.v1+output": {
       "addedWidgets": {},
       "aggData": [],
       "aggError": "",
       "aggOverflow": false,
       "aggSchema": [],
       "aggSeriesLimitReached": false,
       "aggType": "",
       "arguments": {},
       "columnCustomDisplayInfos": {},
       "data": [
        [
         "Other",
         23598
        ],
        [
         "Started alone",
         6417
        ]
       ],
       "datasetInfos": [],
       "dbfsResultPath": null,
       "isJsonSchema": true,
       "metadata": {},
       "overflow": false,
       "plotOptions": {
        "customPlotOptions": {},
        "displayType": "table",
        "pivotAggregation": null,
        "pivotColumns": null,
        "xColumns": null,
        "yColumns": null
       },
       "removedWidgets": [],
       "schema": [
        {
         "metadata": "{}",
         "name": "experience",
         "type": "\"string\""
        },
        {
         "metadata": "{}",
         "name": "count",
         "type": "\"long\""
        }
       ],
       "type": "table"
      }
     },
     "output_type": "display_data"
    }
   ],
   "source": [
    "# Print value counts (distributions)\n",
    "\n",
    "athletes_df.groupBy(\"background\").count().orderBy(\"count\", ascending=False).display()\n",
    "athletes_df.groupBy(\"schedule\").count().orderBy(\"count\", ascending=False).display()\n",
    "athletes_df.groupBy(\"experience\").count().orderBy(\"count\", ascending=False).display()"
   ]
  },
  {
   "cell_type": "code",
   "execution_count": 0,
   "metadata": {
    "application/vnd.databricks.v1+cell": {
     "cellMetadata": {
      "byteLimit": 2048000,
      "rowLimit": 10000
     },
     "inputWidgets": {},
     "nuid": "9f48b049-1c45-478b-a621-ab58737572f8",
     "showTitle": false,
     "tableResultSettingsMap": {},
     "title": ""
    }
   },
   "outputs": [
    {
     "output_type": "display_data",
     "data": {
      "text/html": [
       "<style scoped>\n",
       "  .table-result-container {\n",
       "    max-height: 300px;\n",
       "    overflow: auto;\n",
       "  }\n",
       "  table, th, td {\n",
       "    border: 1px solid black;\n",
       "    border-collapse: collapse;\n",
       "  }\n",
       "  th, td {\n",
       "    padding: 5px;\n",
       "  }\n",
       "  th {\n",
       "    text-align: left;\n",
       "  }\n",
       "</style><div class='table-result-container'><table class='table-result'><thead style='background-color: white'><tr><th>athlete_id</th><th>name</th><th>region</th><th>affiliate</th><th>gender</th><th>age</th><th>height</th><th>weight</th><th>eat</th><th>train</th><th>background</th><th>howlong</th><th>total_lift</th></tr></thead><tbody><tr><td>21269.0</td><td>Erik Acevedo</td><td>Southern California</td><td>CrossFit Training Yard</td><td>Male</td><td>30.0</td><td>71.0</td><td>200.0</td><td>I eat whatever is convenient|</td><td>I workout mostly at a CrossFit Affiliate|I incorporate CrossFit.com workouts|</td><td>College sports</td><td>1-2 years|</td><td>1110.0</td></tr><tr><td>21685.0</td><td>Richard Ablett</td><td>Africa</td><td>Cape CrossFit</td><td>Male</td><td>28.0</td><td>70.0</td><td>176.0</td><td>I eat 1-3 full cheat meals per week|</td><td>I workout mostly at a CrossFit Affiliate|</td><td>No athletic background</td><td>2-4 years|</td><td>910.0</td></tr><tr><td>25464.0</td><td>Joe Abruzzo</td><td>North East</td><td>CrossFit Rapture</td><td>Male</td><td>35.0</td><td>68.0</td><td>225.0</td><td>I eat quality foods but don't measure the amount|</td><td>I workout mostly at a CrossFit Affiliate|I record my workouts|</td><td>Other</td><td>2-4 years|</td><td>1335.0</td></tr><tr><td>43767.0</td><td>Brigham Abbott</td><td>North Central</td><td>River North CrossFit</td><td>Male</td><td>36.0</td><td>71.0</td><td>199.0</td><td>I eat quality foods but don't measure the amount|</td><td>I workout mostly at a CrossFit Affiliate|I have a coach who determines my programming|I record my workouts|</td><td>College sports</td><td>1-2 years|</td><td>1354.0</td></tr><tr><td>55504.0</td><td>Jason Ackerman</td><td>North East</td><td>CrossFit Soulshine</td><td>Male</td><td>36.0</td><td>64.0</td><td>155.0</td><td>I eat strict Paleo|</td><td>I workout mostly at home, work, or a traditional gym|I incorporate CrossFit.com workouts|I record my workouts|</td><td>College sports</td><td>4+ years|</td><td>1225.0</td></tr><tr><td>71305.0</td><td>Jerad Abbott</td><td>North Central</td><td>Koda CrossFit</td><td>Male</td><td>29.0</td><td>69.0</td><td>190.0</td><td>I eat quality foods but don't measure the amount|I eat 1-3 full cheat meals per week|</td><td>I workout mostly at a CrossFit Affiliate|I have a coach who determines my programming|</td><td>College sports</td><td>6-12 months|</td><td>1440.0</td></tr><tr><td>2414.0</td><td>Bill Adams</td><td>South East</td><td>First Coast CrossFit</td><td>Male</td><td>44.0</td><td>69.0</td><td>168.0</td><td>I eat quality foods but don't measure the amount|</td><td>I workout mostly at a CrossFit Affiliate|</td><td>Other</td><td>4+ years|</td><td>1270.0</td></tr><tr><td>2720.0</td><td>Justin Adams</td><td>South Central</td><td>Woodward CrossFit</td><td>Male</td><td>24.0</td><td>68.0</td><td>180.0</td><td>I eat quality foods but don't measure the amount|</td><td>I workout mostly at a CrossFit Affiliate|I have a coach who determines my programming|I record my workouts|</td><td>Other</td><td>2-4 years|</td><td>1435.0</td></tr><tr><td>2818.0</td><td>Andy Adams</td><td>South Central</td><td>Brenham CrossFit</td><td>Male</td><td>26.0</td><td>70.0</td><td>197.0</td><td>I eat quality foods but don't measure the amount|</td><td>I workout mostly at a CrossFit Affiliate|I have a coach who determines my programming|</td><td>Other</td><td>4+ years|</td><td>1500.0</td></tr><tr><td>6922.0</td><td>Daniel Adamson</td><td>South West</td><td>CrossFit The Point</td><td>Male</td><td>31.0</td><td>67.0</td><td>150.0</td><td>I eat quality foods but don't measure the amount|</td><td>I workout mostly at a CrossFit Affiliate|I incorporate CrossFit.com workouts|I write my own programming|I record my workouts|</td><td>College sports</td><td>2-4 years|</td><td>1145.0</td></tr></tbody></table></div>"
      ]
     },
     "metadata": {
      "application/vnd.databricks.v1+output": {
       "addedWidgets": {},
       "aggData": [],
       "aggError": "",
       "aggOverflow": false,
       "aggSchema": [],
       "aggSeriesLimitReached": false,
       "aggType": "",
       "arguments": {},
       "columnCustomDisplayInfos": {},
       "data": [
        [
         21269.0,
         "Erik Acevedo",
         "Southern California",
         "CrossFit Training Yard",
         "Male",
         30.0,
         71.0,
         200.0,
         "I eat whatever is convenient|",
         "I workout mostly at a CrossFit Affiliate|I incorporate CrossFit.com workouts|",
         "College sports",
         "1-2 years|",
         1110.0
        ],
        [
         21685.0,
         "Richard Ablett",
         "Africa",
         "Cape CrossFit",
         "Male",
         28.0,
         70.0,
         176.0,
         "I eat 1-3 full cheat meals per week|",
         "I workout mostly at a CrossFit Affiliate|",
         "No athletic background",
         "2-4 years|",
         910.0
        ],
        [
         25464.0,
         "Joe Abruzzo",
         "North East",
         "CrossFit Rapture",
         "Male",
         35.0,
         68.0,
         225.0,
         "I eat quality foods but don't measure the amount|",
         "I workout mostly at a CrossFit Affiliate|I record my workouts|",
         "Other",
         "2-4 years|",
         1335.0
        ],
        [
         43767.0,
         "Brigham Abbott",
         "North Central",
         "River North CrossFit",
         "Male",
         36.0,
         71.0,
         199.0,
         "I eat quality foods but don't measure the amount|",
         "I workout mostly at a CrossFit Affiliate|I have a coach who determines my programming|I record my workouts|",
         "College sports",
         "1-2 years|",
         1354.0
        ],
        [
         55504.0,
         "Jason Ackerman",
         "North East",
         "CrossFit Soulshine",
         "Male",
         36.0,
         64.0,
         155.0,
         "I eat strict Paleo|",
         "I workout mostly at home, work, or a traditional gym|I incorporate CrossFit.com workouts|I record my workouts|",
         "College sports",
         "4+ years|",
         1225.0
        ],
        [
         71305.0,
         "Jerad Abbott",
         "North Central",
         "Koda CrossFit",
         "Male",
         29.0,
         69.0,
         190.0,
         "I eat quality foods but don't measure the amount|I eat 1-3 full cheat meals per week|",
         "I workout mostly at a CrossFit Affiliate|I have a coach who determines my programming|",
         "College sports",
         "6-12 months|",
         1440.0
        ],
        [
         2414.0,
         "Bill Adams",
         "South East",
         "First Coast CrossFit",
         "Male",
         44.0,
         69.0,
         168.0,
         "I eat quality foods but don't measure the amount|",
         "I workout mostly at a CrossFit Affiliate|",
         "Other",
         "4+ years|",
         1270.0
        ],
        [
         2720.0,
         "Justin Adams",
         "South Central",
         "Woodward CrossFit",
         "Male",
         24.0,
         68.0,
         180.0,
         "I eat quality foods but don't measure the amount|",
         "I workout mostly at a CrossFit Affiliate|I have a coach who determines my programming|I record my workouts|",
         "Other",
         "2-4 years|",
         1435.0
        ],
        [
         2818.0,
         "Andy Adams",
         "South Central",
         "Brenham CrossFit",
         "Male",
         26.0,
         70.0,
         197.0,
         "I eat quality foods but don't measure the amount|",
         "I workout mostly at a CrossFit Affiliate|I have a coach who determines my programming|",
         "Other",
         "4+ years|",
         1500.0
        ],
        [
         6922.0,
         "Daniel Adamson",
         "South West",
         "CrossFit The Point",
         "Male",
         31.0,
         67.0,
         150.0,
         "I eat quality foods but don't measure the amount|",
         "I workout mostly at a CrossFit Affiliate|I incorporate CrossFit.com workouts|I write my own programming|I record my workouts|",
         "College sports",
         "2-4 years|",
         1145.0
        ]
       ],
       "datasetInfos": [],
       "dbfsResultPath": null,
       "isJsonSchema": true,
       "metadata": {},
       "overflow": false,
       "plotOptions": {
        "customPlotOptions": {},
        "displayType": "table",
        "pivotAggregation": null,
        "pivotColumns": null,
        "xColumns": null,
        "yColumns": null
       },
       "removedWidgets": [],
       "schema": [
        {
         "metadata": "{}",
         "name": "athlete_id",
         "type": "\"double\""
        },
        {
         "metadata": "{}",
         "name": "name",
         "type": "\"string\""
        },
        {
         "metadata": "{}",
         "name": "region",
         "type": "\"string\""
        },
        {
         "metadata": "{}",
         "name": "affiliate",
         "type": "\"string\""
        },
        {
         "metadata": "{}",
         "name": "gender",
         "type": "\"string\""
        },
        {
         "metadata": "{}",
         "name": "age",
         "type": "\"double\""
        },
        {
         "metadata": "{}",
         "name": "height",
         "type": "\"double\""
        },
        {
         "metadata": "{}",
         "name": "weight",
         "type": "\"double\""
        },
        {
         "metadata": "{}",
         "name": "eat",
         "type": "\"string\""
        },
        {
         "metadata": "{}",
         "name": "train",
         "type": "\"string\""
        },
        {
         "metadata": "{}",
         "name": "background",
         "type": "\"string\""
        },
        {
         "metadata": "{}",
         "name": "howlong",
         "type": "\"string\""
        },
        {
         "metadata": "{}",
         "name": "total_lift",
         "type": "\"double\""
        }
       ],
       "type": "table"
      }
     },
     "output_type": "display_data"
    }
   ],
   "source": [
    "athletes_df = athletes_df.drop(\"schedule\", \"experience\")\n",
    "athletes_df.limit(10).display()"
   ]
  },
  {
   "cell_type": "code",
   "execution_count": 0,
   "metadata": {
    "application/vnd.databricks.v1+cell": {
     "cellMetadata": {
      "byteLimit": 2048000,
      "rowLimit": 10000
     },
     "inputWidgets": {},
     "nuid": "38ef4180-39ec-4552-9d33-58b5a421aed8",
     "showTitle": false,
     "tableResultSettingsMap": {},
     "title": ""
    }
   },
   "outputs": [
    {
     "output_type": "stream",
     "name": "stdout",
     "output_type": "stream",
     "text": [
      "Rows: 30015, Columns: 13\n"
     ]
    }
   ],
   "source": [
    "print(f\"Rows: {athletes_df.count()}, Columns: {len(athletes_df.columns)}\")"
   ]
  },
  {
   "cell_type": "code",
   "execution_count": 0,
   "metadata": {
    "application/vnd.databricks.v1+cell": {
     "cellMetadata": {
      "byteLimit": 2048000,
      "rowLimit": 10000
     },
     "inputWidgets": {},
     "nuid": "ee5b78fb-3b51-4fc0-9e34-e6cf958322bd",
     "showTitle": false,
     "tableResultSettingsMap": {},
     "title": ""
    }
   },
   "outputs": [
    {
     "output_type": "stream",
     "name": "stdout",
     "output_type": "stream",
     "text": [
      "root\n |-- athlete_id: double (nullable = true)\n |-- name: string (nullable = true)\n |-- region: string (nullable = true)\n |-- affiliate: string (nullable = true)\n |-- gender: string (nullable = true)\n |-- age: double (nullable = true)\n |-- height: double (nullable = true)\n |-- weight: double (nullable = true)\n |-- eat: string (nullable = true)\n |-- train: string (nullable = true)\n |-- background: string (nullable = true)\n |-- howlong: string (nullable = true)\n |-- total_lift: double (nullable = true)\n\n"
     ]
    }
   ],
   "source": [
    "athletes_df.printSchema()"
   ]
  },
  {
   "cell_type": "markdown",
   "metadata": {
    "application/vnd.databricks.v1+cell": {
     "cellMetadata": {},
     "inputWidgets": {},
     "nuid": "e22f503d-9ba3-42cf-b94f-5cb9e0b7e6fc",
     "showTitle": false,
     "tableResultSettingsMap": {},
     "title": ""
    }
   },
   "source": [
    "### Save as Delta Table"
   ]
  },
  {
   "cell_type": "code",
   "execution_count": 0,
   "metadata": {
    "application/vnd.databricks.v1+cell": {
     "cellMetadata": {
      "byteLimit": 2048000,
      "rowLimit": 10000
     },
     "inputWidgets": {},
     "nuid": "da1a0de5-b141-4f1e-87b4-a88a80077c64",
     "showTitle": false,
     "tableResultSettingsMap": {},
     "title": ""
    }
   },
   "outputs": [],
   "source": [
    "# Save to a managed Delta table\n",
    "athletes_df.write.mode(\"overwrite\").saveAsTable(\"workspace.default.athletes_cleaned\")"
   ]
  },
  {
   "cell_type": "code",
   "execution_count": 0,
   "metadata": {
    "application/vnd.databricks.v1+cell": {
     "cellMetadata": {
      "byteLimit": 2048000,
      "rowLimit": 10000
     },
     "inputWidgets": {},
     "nuid": "3fb7f640-1cab-4f66-ac77-385ced61cd17",
     "showTitle": false,
     "tableResultSettingsMap": {},
     "title": ""
    }
   },
   "outputs": [],
   "source": [
    "# Reload table\n",
    "athletes_df = spark.table(\"workspace.default.athletes_cleaned\")"
   ]
  },
  {
   "cell_type": "markdown",
   "metadata": {
    "application/vnd.databricks.v1+cell": {
     "cellMetadata": {},
     "inputWidgets": {},
     "nuid": "91325a2d-77b6-4c93-898a-b172474af8da",
     "showTitle": false,
     "tableResultSettingsMap": {},
     "title": ""
    }
   },
   "source": [
    "### Import and initialize Feature Store client"
   ]
  },
  {
   "cell_type": "code",
   "execution_count": 0,
   "metadata": {
    "application/vnd.databricks.v1+cell": {
     "cellMetadata": {
      "byteLimit": 2048000,
      "rowLimit": 10000
     },
     "inputWidgets": {},
     "nuid": "8bdda3c9-3995-4ad8-9e40-fb7ee617d7e8",
     "showTitle": false,
     "tableResultSettingsMap": {},
     "title": ""
    }
   },
   "outputs": [
    {
     "output_type": "stream",
     "name": "stdout",
     "output_type": "stream",
     "text": [
      "Collecting databricks-feature-store\n  Downloading databricks_feature_store-0.17.0-py3-none-any.whl.metadata (3.4 kB)\nCollecting databricks-feature-engineering>=0.2.0 (from databricks-feature-store)\n  Downloading databricks_feature_engineering-0.12.1-py3-none-any.whl.metadata (4.3 kB)\nCollecting mlflow-skinny<4,>=2.16.0 (from mlflow-skinny[databricks]<4,>=2.16.0->databricks-feature-engineering>=0.2.0->databricks-feature-store)\n  Downloading mlflow_skinny-3.1.1-py3-none-any.whl.metadata (30 kB)\nRequirement already satisfied: pyyaml<7,>=6 in /databricks/python3/lib/python3.11/site-packages (from databricks-feature-engineering>=0.2.0->databricks-feature-store) (6.0)\nRequirement already satisfied: boto3<2,>=1.16.7 in /databricks/python3/lib/python3.11/site-packages (from databricks-feature-engineering>=0.2.0->databricks-feature-store) (1.34.39)\nCollecting dbl-tempo<1,>=0.1.26 (from databricks-feature-engineering>=0.2.0->databricks-feature-store)\n  Downloading dbl_tempo-0.1.29-py3-none-any.whl.metadata (11 kB)\nCollecting azure-cosmos==4.3.1 (from databricks-feature-engineering>=0.2.0->databricks-feature-store)\n  Downloading azure_cosmos-4.3.1-py3-none-any.whl.metadata (52 kB)\nRequirement already satisfied: numpy<3,>=1.19.2 in /databricks/python3/lib/python3.11/site-packages (from databricks-feature-engineering>=0.2.0->databricks-feature-store) (1.23.5)\nRequirement already satisfied: protobuf<6,>=3.12.0 in /databricks/python3/lib/python3.11/site-packages (from databricks-feature-engineering>=0.2.0->databricks-feature-store) (5.29.3)\nCollecting flask<3,>=1.1.2 (from databricks-feature-engineering>=0.2.0->databricks-feature-store)\n  Downloading flask-2.3.3-py3-none-any.whl.metadata (3.6 kB)\nRequirement already satisfied: sqlparse<1,>=0.4.0 in /databricks/python3/lib/python3.11/site-packages (from databricks-feature-engineering>=0.2.0->databricks-feature-store) (0.5.1)\nRequirement already satisfied: azure-core<2.0.0,>=1.23.0 in /databricks/python3/lib/python3.11/site-packages (from azure-cosmos==4.3.1->databricks-feature-engineering>=0.2.0->databricks-feature-store) (1.32.0)\nRequirement already satisfied: botocore<1.35.0,>=1.34.39 in /databricks/python3/lib/python3.11/site-packages (from boto3<2,>=1.16.7->databricks-feature-engineering>=0.2.0->databricks-feature-store) (1.34.39)\nRequirement already satisfied: jmespath<2.0.0,>=0.7.1 in /databricks/python3/lib/python3.11/site-packages (from boto3<2,>=1.16.7->databricks-feature-engineering>=0.2.0->databricks-feature-store) (0.10.0)\nRequirement already satisfied: s3transfer<0.11.0,>=0.10.0 in /databricks/python3/lib/python3.11/site-packages (from boto3<2,>=1.16.7->databricks-feature-engineering>=0.2.0->databricks-feature-store) (0.10.3)\nCollecting Werkzeug>=2.3.7 (from flask<3,>=1.1.2->databricks-feature-engineering>=0.2.0->databricks-feature-store)\n  Downloading werkzeug-3.1.3-py3-none-any.whl.metadata (3.7 kB)\nCollecting Jinja2>=3.1.2 (from flask<3,>=1.1.2->databricks-feature-engineering>=0.2.0->databricks-feature-store)\n  Downloading jinja2-3.1.6-py3-none-any.whl.metadata (2.9 kB)\nCollecting itsdangerous>=2.1.2 (from flask<3,>=1.1.2->databricks-feature-engineering>=0.2.0->databricks-feature-store)\n  Downloading itsdangerous-2.2.0-py3-none-any.whl.metadata (1.9 kB)\nCollecting click>=8.1.3 (from flask<3,>=1.1.2->databricks-feature-engineering>=0.2.0->databricks-feature-store)\n  Downloading click-8.2.1-py3-none-any.whl.metadata (2.5 kB)\nCollecting blinker>=1.6.2 (from flask<3,>=1.1.2->databricks-feature-engineering>=0.2.0->databricks-feature-store)\n  Downloading blinker-1.9.0-py3-none-any.whl.metadata (1.6 kB)\nRequirement already satisfied: cachetools<7,>=5.0.0 in /databricks/python3/lib/python3.11/site-packages (from mlflow-skinny<4,>=2.16.0->mlflow-skinny[databricks]<4,>=2.16.0->databricks-feature-engineering>=0.2.0->databricks-feature-store) (5.5.0)\nRequirement already satisfied: cloudpickle<4 in /databricks/python3/lib/python3.11/site-packages (from mlflow-skinny<4,>=2.16.0->mlflow-skinny[databricks]<4,>=2.16.0->databricks-feature-engineering>=0.2.0->databricks-feature-store) (3.0.0)\nRequirement already satisfied: databricks-sdk<1,>=0.20.0 in /databricks/python3/lib/python3.11/site-packages (from mlflow-skinny<4,>=2.16.0->mlflow-skinny[databricks]<4,>=2.16.0->databricks-feature-engineering>=0.2.0->databricks-feature-store) (0.40.0)\nCollecting fastapi<1 (from mlflow-skinny<4,>=2.16.0->mlflow-skinny[databricks]<4,>=2.16.0->databricks-feature-engineering>=0.2.0->databricks-feature-store)\n  Downloading fastapi-0.116.1-py3-none-any.whl.metadata (28 kB)\nRequirement already satisfied: gitpython<4,>=3.1.9 in /databricks/python3/lib/python3.11/site-packages (from mlflow-skinny<4,>=2.16.0->mlflow-skinny[databricks]<4,>=2.16.0->databricks-feature-engineering>=0.2.0->databricks-feature-store) (3.1.43)\nRequirement already satisfied: importlib_metadata!=4.7.0,<9,>=3.7.0 in /databricks/python3/lib/python3.11/site-packages (from mlflow-skinny<4,>=2.16.0->mlflow-skinny[databricks]<4,>=2.16.0->databricks-feature-engineering>=0.2.0->databricks-feature-store) (6.0.0)\nCollecting opentelemetry-api<3,>=1.9.0 (from mlflow-skinny<4,>=2.16.0->mlflow-skinny[databricks]<4,>=2.16.0->databricks-feature-engineering>=0.2.0->databricks-feature-store)\n  Downloading opentelemetry_api-1.35.0-py3-none-any.whl.metadata (1.5 kB)\nCollecting opentelemetry-sdk<3,>=1.9.0 (from mlflow-skinny<4,>=2.16.0->mlflow-skinny[databricks]<4,>=2.16.0->databricks-feature-engineering>=0.2.0->databricks-feature-store)\n  Downloading opentelemetry_sdk-1.35.0-py3-none-any.whl.metadata (1.5 kB)\nRequirement already satisfied: packaging<26 in /databricks/python3/lib/python3.11/site-packages (from mlflow-skinny<4,>=2.16.0->mlflow-skinny[databricks]<4,>=2.16.0->databricks-feature-engineering>=0.2.0->databricks-feature-store) (23.2)\nCollecting pydantic<3,>=1.10.8 (from mlflow-skinny<4,>=2.16.0->mlflow-skinny[databricks]<4,>=2.16.0->databricks-feature-engineering>=0.2.0->databricks-feature-store)\n  Downloading pydantic-2.11.7-py3-none-any.whl.metadata (67 kB)\nRequirement already satisfied: requests<3,>=2.17.3 in /databricks/python3/lib/python3.11/site-packages (from mlflow-skinny<4,>=2.16.0->mlflow-skinny[databricks]<4,>=2.16.0->databricks-feature-engineering>=0.2.0->databricks-feature-store) (2.31.0)\nRequirement already satisfied: typing-extensions<5,>=4.0.0 in /databricks/python3/lib/python3.11/site-packages (from mlflow-skinny<4,>=2.16.0->mlflow-skinny[databricks]<4,>=2.16.0->databricks-feature-engineering>=0.2.0->databricks-feature-store) (4.10.0)\nCollecting uvicorn<1 (from mlflow-skinny<4,>=2.16.0->mlflow-skinny[databricks]<4,>=2.16.0->databricks-feature-engineering>=0.2.0->databricks-feature-store)\n  Downloading uvicorn-0.35.0-py3-none-any.whl.metadata (6.5 kB)\nRequirement already satisfied: azure-storage-file-datalake>12 in /databricks/python3/lib/python3.11/site-packages (from mlflow-skinny[databricks]<4,>=2.16.0->databricks-feature-engineering>=0.2.0->databricks-feature-store) (12.14.0)\nRequirement already satisfied: google-cloud-storage>=1.30.0 in /databricks/python3/lib/python3.11/site-packages (from mlflow-skinny[databricks]<4,>=2.16.0->databricks-feature-engineering>=0.2.0->databricks-feature-store) (2.18.2)\nCollecting databricks-agents<2.0,>=1.0.0 (from mlflow-skinny[databricks]<4,>=2.16.0->databricks-feature-engineering>=0.2.0->databricks-feature-store)\n  Downloading databricks_agents-1.1.0-py3-none-any.whl.metadata (3.5 kB)\nRequirement already satisfied: six>=1.11.0 in /usr/lib/python3/dist-packages (from azure-core<2.0.0,>=1.23.0->azure-cosmos==4.3.1->databricks-feature-engineering>=0.2.0->databricks-feature-store) (1.16.0)\nRequirement already satisfied: azure-storage-blob<13.0.0,>=12.19.0 in /databricks/python3/lib/python3.11/site-packages (from azure-storage-file-datalake>12->mlflow-skinny[databricks]<4,>=2.16.0->databricks-feature-engineering>=0.2.0->databricks-feature-store) (12.19.1)\nRequirement already satisfied: isodate>=0.6.1 in /databricks/python3/lib/python3.11/site-packages (from azure-storage-file-datalake>12->mlflow-skinny[databricks]<4,>=2.16.0->databricks-feature-engineering>=0.2.0->databricks-feature-store) (0.7.2)\nRequirement already satisfied: python-dateutil<3.0.0,>=2.1 in /databricks/python3/lib/python3.11/site-packages (from botocore<1.35.0,>=1.34.39->boto3<2,>=1.16.7->databricks-feature-engineering>=0.2.0->databricks-feature-store) (2.8.2)\nRequirement already satisfied: urllib3<2.1,>=1.25.4 in /databricks/python3/lib/python3.11/site-packages (from botocore<1.35.0,>=1.34.39->boto3<2,>=1.16.7->databricks-feature-engineering>=0.2.0->databricks-feature-store) (1.26.16)\nRequirement already satisfied: databricks-connect in /databricks/python3/lib/python3.11/site-packages (from databricks-agents<2.0,>=1.0.0->mlflow-skinny[databricks]<4,>=2.16.0->databricks-feature-engineering>=0.2.0->databricks-feature-store) (15.4.5)\nCollecting dataclasses-json (from databricks-agents<2.0,>=1.0.0->mlflow-skinny[databricks]<4,>=2.16.0->databricks-feature-engineering>=0.2.0->databricks-feature-store)\n  Downloading dataclasses_json-0.6.7-py3-none-any.whl.metadata (25 kB)\nCollecting databricks-sdk<1,>=0.20.0 (from mlflow-skinny<4,>=2.16.0->mlflow-skinny[databricks]<4,>=2.16.0->databricks-feature-engineering>=0.2.0->databricks-feature-store)\n  Downloading databricks_sdk-0.55.0-py3-none-any.whl.metadata (39 kB)\nCollecting mlflow<4.0.0,>=3.1.0 (from mlflow[databricks]<4.0.0,>=3.1.0->databricks-agents<2.0,>=1.0.0->mlflow-skinny[databricks]<4,>=2.16.0->databricks-feature-engineering>=0.2.0->databricks-feature-store)\n  Downloading mlflow-3.1.1-py3-none-any.whl.metadata (29 kB)\nCollecting tenacity>=8.5 (from databricks-agents<2.0,>=1.0.0->mlflow-skinny[databricks]<4,>=2.16.0->databricks-feature-engineering>=0.2.0->databricks-feature-store)\n  Downloading tenacity-9.1.2-py3-none-any.whl.metadata (1.2 kB)\nCollecting tiktoken>=0.8.0 (from databricks-agents<2.0,>=1.0.0->mlflow-skinny[databricks]<4,>=2.16.0->databricks-feature-engineering>=0.2.0->databricks-feature-store)\n  Downloading tiktoken-0.9.0-cp311-cp311-manylinux_2_17_aarch64.manylinux2014_aarch64.whl.metadata (6.7 kB)\nCollecting tqdm (from databricks-agents<2.0,>=1.0.0->mlflow-skinny[databricks]<4,>=2.16.0->databricks-feature-engineering>=0.2.0->databricks-feature-store)\n  Downloading tqdm-4.67.1-py3-none-any.whl.metadata (57 kB)\nCollecting urllib3<2.1,>=1.25.4 (from botocore<1.35.0,>=1.34.39->boto3<2,>=1.16.7->databricks-feature-engineering>=0.2.0->databricks-feature-store)\n  Downloading urllib3-2.0.7-py3-none-any.whl.metadata (6.6 kB)\nRequirement already satisfied: google-auth~=2.0 in /databricks/python3/lib/python3.11/site-packages (from databricks-sdk<1,>=0.20.0->mlflow-skinny<4,>=2.16.0->mlflow-skinny[databricks]<4,>=2.16.0->databricks-feature-engineering>=0.2.0->databricks-feature-store) (2.35.0)\nCollecting starlette<0.48.0,>=0.40.0 (from fastapi<1->mlflow-skinny<4,>=2.16.0->mlflow-skinny[databricks]<4,>=2.16.0->databricks-feature-engineering>=0.2.0->databricks-feature-store)\n  Downloading starlette-0.47.1-py3-none-any.whl.metadata (6.2 kB)\nRequirement already satisfied: gitdb<5,>=4.0.1 in /databricks/python3/lib/python3.11/site-packages (from gitpython<4,>=3.1.9->mlflow-skinny<4,>=2.16.0->mlflow-skinny[databricks]<4,>=2.16.0->databricks-feature-engineering>=0.2.0->databricks-feature-store) (4.0.11)\nRequirement already satisfied: google-api-core<3.0.0dev,>=2.15.0 in /databricks/python3/lib/python3.11/site-packages (from google-cloud-storage>=1.30.0->mlflow-skinny[databricks]<4,>=2.16.0->databricks-feature-engineering>=0.2.0->databricks-feature-store) (2.18.0)\nRequirement already satisfied: google-cloud-core<3.0dev,>=2.3.0 in /databricks/python3/lib/python3.11/site-packages (from google-cloud-storage>=1.30.0->mlflow-skinny[databricks]<4,>=2.16.0->databricks-feature-engineering>=0.2.0->databricks-feature-store) (2.4.1)\nRequirement already satisfied: google-resumable-media>=2.7.2 in /databricks/python3/lib/python3.11/site-packages (from google-cloud-storage>=1.30.0->mlflow-skinny[databricks]<4,>=2.16.0->databricks-feature-engineering>=0.2.0->databricks-feature-store) (2.7.2)\nRequirement already satisfied: google-crc32c<2.0dev,>=1.0 in /databricks/python3/lib/python3.11/site-packages (from google-cloud-storage>=1.30.0->mlflow-skinny[databricks]<4,>=2.16.0->databricks-feature-engineering>=0.2.0->databricks-feature-store) (1.6.0)\nRequirement already satisfied: zipp>=0.5 in /databricks/python3/lib/python3.11/site-packages (from importlib_metadata!=4.7.0,<9,>=3.7.0->mlflow-skinny<4,>=2.16.0->mlflow-skinny[databricks]<4,>=2.16.0->databricks-feature-engineering>=0.2.0->databricks-feature-store) (3.11.0)\nCollecting MarkupSafe>=2.0 (from Jinja2>=3.1.2->flask<3,>=1.1.2->databricks-feature-engineering>=0.2.0->databricks-feature-store)\n  Downloading MarkupSafe-3.0.2-cp311-cp311-manylinux_2_17_aarch64.manylinux2014_aarch64.whl.metadata (4.0 kB)\nCollecting opentelemetry-semantic-conventions==0.56b0 (from opentelemetry-sdk<3,>=1.9.0->mlflow-skinny<4,>=2.16.0->mlflow-skinny[databricks]<4,>=2.16.0->databricks-feature-engineering>=0.2.0->databricks-feature-store)\n  Downloading opentelemetry_semantic_conventions-0.56b0-py3-none-any.whl.metadata (2.4 kB)\nCollecting annotated-types>=0.6.0 (from pydantic<3,>=1.10.8->mlflow-skinny<4,>=2.16.0->mlflow-skinny[databricks]<4,>=2.16.0->databricks-feature-engineering>=0.2.0->databricks-feature-store)\n  Downloading annotated_types-0.7.0-py3-none-any.whl.metadata (15 kB)\nCollecting pydantic-core==2.33.2 (from pydantic<3,>=1.10.8->mlflow-skinny<4,>=2.16.0->mlflow-skinny[databricks]<4,>=2.16.0->databricks-feature-engineering>=0.2.0->databricks-feature-store)\n  Downloading pydantic_core-2.33.2-cp311-cp311-manylinux_2_17_aarch64.manylinux2014_aarch64.whl.metadata (6.8 kB)\nCollecting typing-extensions<5,>=4.0.0 (from mlflow-skinny<4,>=2.16.0->mlflow-skinny[databricks]<4,>=2.16.0->databricks-feature-engineering>=0.2.0->databricks-feature-store)\n  Downloading typing_extensions-4.14.1-py3-none-any.whl.metadata (3.0 kB)\nCollecting typing-inspection>=0.4.0 (from pydantic<3,>=1.10.8->mlflow-skinny<4,>=2.16.0->mlflow-skinny[databricks]<4,>=2.16.0->databricks-feature-engineering>=0.2.0->databricks-feature-store)\n  Downloading typing_inspection-0.4.1-py3-none-any.whl.metadata (2.6 kB)\nRequirement already satisfied: charset-normalizer<4,>=2 in /databricks/python3/lib/python3.11/site-packages (from requests<3,>=2.17.3->mlflow-skinny<4,>=2.16.0->mlflow-skinny[databricks]<4,>=2.16.0->databricks-feature-engineering>=0.2.0->databricks-feature-store) (2.0.4)\nRequirement already satisfied: idna<4,>=2.5 in /databricks/python3/lib/python3.11/site-packages (from requests<3,>=2.17.3->mlflow-skinny<4,>=2.16.0->mlflow-skinny[databricks]<4,>=2.16.0->databricks-feature-engineering>=0.2.0->databricks-feature-store) (3.4)\nRequirement already satisfied: certifi>=2017.4.17 in /databricks/python3/lib/python3.11/site-packages (from requests<3,>=2.17.3->mlflow-skinny<4,>=2.16.0->mlflow-skinny[databricks]<4,>=2.16.0->databricks-feature-engineering>=0.2.0->databricks-feature-store) (2023.7.22)\nCollecting h11>=0.8 (from uvicorn<1->mlflow-skinny<4,>=2.16.0->mlflow-skinny[databricks]<4,>=2.16.0->databricks-feature-engineering>=0.2.0->databricks-feature-store)\n  Downloading h11-0.16.0-py3-none-any.whl.metadata (8.3 kB)\nRequirement already satisfied: cryptography>=2.1.4 in /databricks/python3/lib/python3.11/site-packages (from azure-storage-blob<13.0.0,>=12.19.0->azure-storage-file-datalake>12->mlflow-skinny[databricks]<4,>=2.16.0->databricks-feature-engineering>=0.2.0->databricks-feature-store) (41.0.3)\nRequirement already satisfied: smmap<6,>=3.0.1 in /databricks/python3/lib/python3.11/site-packages (from gitdb<5,>=4.0.1->gitpython<4,>=3.1.9->mlflow-skinny<4,>=2.16.0->mlflow-skinny[databricks]<4,>=2.16.0->databricks-feature-engineering>=0.2.0->databricks-feature-store) (5.0.1)\nRequirement already satisfied: googleapis-common-protos<2.0.dev0,>=1.56.2 in /databricks/python3/lib/python3.11/site-packages (from google-api-core<3.0.0dev,>=2.15.0->google-cloud-storage>=1.30.0->mlflow-skinny[databricks]<4,>=2.16.0->databricks-feature-engineering>=0.2.0->databricks-feature-store) (1.65.0)\nCollecting protobuf<6,>=3.12.0 (from databricks-feature-engineering>=0.2.0->databricks-feature-store)\n  Downloading protobuf-4.25.8-cp37-abi3-manylinux2014_aarch64.whl.metadata (541 bytes)\nRequirement already satisfied: proto-plus<2.0.0dev,>=1.22.3 in /databricks/python3/lib/python3.11/site-packages (from google-api-core<3.0.0dev,>=2.15.0->google-cloud-storage>=1.30.0->mlflow-skinny[databricks]<4,>=2.16.0->databricks-feature-engineering>=0.2.0->databricks-feature-store) (1.25.0)\nRequirement already satisfied: pyasn1-modules>=0.2.1 in /databricks/python3/lib/python3.11/site-packages (from google-auth~=2.0->databricks-sdk<1,>=0.20.0->mlflow-skinny<4,>=2.16.0->mlflow-skinny[databricks]<4,>=2.16.0->databricks-feature-engineering>=0.2.0->databricks-feature-store) (0.2.8)\nRequirement already satisfied: rsa<5,>=3.1.4 in /databricks/python3/lib/python3.11/site-packages (from google-auth~=2.0->databricks-sdk<1,>=0.20.0->mlflow-skinny<4,>=2.16.0->mlflow-skinny[databricks]<4,>=2.16.0->databricks-feature-engineering>=0.2.0->databricks-feature-store) (4.9)\nCollecting alembic!=1.10.0,<2 (from mlflow<4.0.0,>=3.1.0->mlflow[databricks]<4.0.0,>=3.1.0->databricks-agents<2.0,>=1.0.0->mlflow-skinny[databricks]<4,>=2.16.0->databricks-feature-engineering>=0.2.0->databricks-feature-store)\n  Downloading alembic-1.16.4-py3-none-any.whl.metadata (7.3 kB)\nCollecting docker<8,>=4.0.0 (from mlflow<4.0.0,>=3.1.0->mlflow[databricks]<4.0.0,>=3.1.0->databricks-agents<2.0,>=1.0.0->mlflow-skinny[databricks]<4,>=2.16.0->databricks-feature-engineering>=0.2.0->databricks-feature-store)\n  Downloading docker-7.1.0-py3-none-any.whl.metadata (3.8 kB)\nCollecting graphene<4 (from mlflow<4.0.0,>=3.1.0->mlflow[databricks]<4.0.0,>=3.1.0->databricks-agents<2.0,>=1.0.0->mlflow-skinny[databricks]<4,>=2.16.0->databricks-feature-engineering>=0.2.0->databricks-feature-store)\n  Downloading graphene-3.4.3-py2.py3-none-any.whl.metadata (6.9 kB)\nCollecting gunicorn<24 (from mlflow<4.0.0,>=3.1.0->mlflow[databricks]<4.0.0,>=3.1.0->databricks-agents<2.0,>=1.0.0->mlflow-skinny[databricks]<4,>=2.16.0->databricks-feature-engineering>=0.2.0->databricks-feature-store)\n  Downloading gunicorn-23.0.0-py3-none-any.whl.metadata (4.4 kB)\nRequirement already satisfied: matplotlib<4 in /databricks/python3/lib/python3.11/site-packages (from mlflow<4.0.0,>=3.1.0->mlflow[databricks]<4.0.0,>=3.1.0->databricks-agents<2.0,>=1.0.0->mlflow-skinny[databricks]<4,>=2.16.0->databricks-feature-engineering>=0.2.0->databricks-feature-store) (3.7.2)\nRequirement already satisfied: pandas<3 in /databricks/python3/lib/python3.11/site-packages (from mlflow<4.0.0,>=3.1.0->mlflow[databricks]<4.0.0,>=3.1.0->databricks-agents<2.0,>=1.0.0->mlflow-skinny[databricks]<4,>=2.16.0->databricks-feature-engineering>=0.2.0->databricks-feature-store) (1.5.3)\nRequirement already satisfied: pyarrow<21,>=4.0.0 in /databricks/python3/lib/python3.11/site-packages (from mlflow<4.0.0,>=3.1.0->mlflow[databricks]<4.0.0,>=3.1.0->databricks-agents<2.0,>=1.0.0->mlflow-skinny[databricks]<4,>=2.16.0->databricks-feature-engineering>=0.2.0->databricks-feature-store) (14.0.1)\nRequirement already satisfied: scikit-learn<2 in /databricks/python3/lib/python3.11/site-packages (from mlflow<4.0.0,>=3.1.0->mlflow[databricks]<4.0.0,>=3.1.0->databricks-agents<2.0,>=1.0.0->mlflow-skinny[databricks]<4,>=2.16.0->databricks-feature-engineering>=0.2.0->databricks-feature-store) (1.3.0)\nRequirement already satisfied: scipy<2 in /databricks/python3/lib/python3.11/site-packages (from mlflow<4.0.0,>=3.1.0->mlflow[databricks]<4.0.0,>=3.1.0->databricks-agents<2.0,>=1.0.0->mlflow-skinny[databricks]<4,>=2.16.0->databricks-feature-engineering>=0.2.0->databricks-feature-store) (1.11.1)\nCollecting sqlalchemy<3,>=1.4.0 (from mlflow<4.0.0,>=3.1.0->mlflow[databricks]<4.0.0,>=3.1.0->databricks-agents<2.0,>=1.0.0->mlflow-skinny[databricks]<4,>=2.16.0->databricks-feature-engineering>=0.2.0->databricks-feature-store)\n  Downloading sqlalchemy-2.0.41-cp311-cp311-manylinux_2_17_aarch64.manylinux2014_aarch64.whl.metadata (9.6 kB)\nCollecting anyio<5,>=3.6.2 (from starlette<0.48.0,>=0.40.0->fastapi<1->mlflow-skinny<4,>=2.16.0->mlflow-skinny[databricks]<4,>=2.16.0->databricks-feature-engineering>=0.2.0->databricks-feature-store)\n  Downloading anyio-4.9.0-py3-none-any.whl.metadata (4.7 kB)\nCollecting regex>=2022.1.18 (from tiktoken>=0.8.0->databricks-agents<2.0,>=1.0.0->mlflow-skinny[databricks]<4,>=2.16.0->databricks-feature-engineering>=0.2.0->databricks-feature-store)\n  Downloading regex-2024.11.6-cp311-cp311-manylinux_2_17_aarch64.manylinux2014_aarch64.whl.metadata (40 kB)\nRequirement already satisfied: grpcio-status>=1.59.3 in /databricks/python3/lib/python3.11/site-packages (from databricks-connect->databricks-agents<2.0,>=1.0.0->mlflow-skinny[databricks]<4,>=2.16.0->databricks-feature-engineering>=0.2.0->databricks-feature-store) (1.69.0)\nRequirement already satisfied: grpcio>=1.59.3 in /databricks/python3/lib/python3.11/site-packages (from databricks-connect->databricks-agents<2.0,>=1.0.0->mlflow-skinny[databricks]<4,>=2.16.0->databricks-feature-engineering>=0.2.0->databricks-feature-store) (1.69.0)\nRequirement already satisfied: py4j==0.10.9.7 in /databricks/python3/lib/python3.11/site-packages (from databricks-connect->databricks-agents<2.0,>=1.0.0->mlflow-skinny[databricks]<4,>=2.16.0->databricks-feature-engineering>=0.2.0->databricks-feature-store) (0.10.9.7)\nRequirement already satisfied: setuptools>=68.0.0 in /databricks/python3/lib/python3.11/site-packages (from databricks-connect->databricks-agents<2.0,>=1.0.0->mlflow-skinny[databricks]<4,>=2.16.0->databricks-feature-engineering>=0.2.0->databricks-feature-store) (75.1.0)\nCollecting marshmallow<4.0.0,>=3.18.0 (from dataclasses-json->databricks-agents<2.0,>=1.0.0->mlflow-skinny[databricks]<4,>=2.16.0->databricks-feature-engineering>=0.2.0->databricks-feature-store)\n  Downloading marshmallow-3.26.1-py3-none-any.whl.metadata (7.3 kB)\nCollecting typing-inspect<1,>=0.4.0 (from dataclasses-json->databricks-agents<2.0,>=1.0.0->mlflow-skinny[databricks]<4,>=2.16.0->databricks-feature-engineering>=0.2.0->databricks-feature-store)\n  Downloading typing_inspect-0.9.0-py3-none-any.whl.metadata (1.5 kB)\nCollecting Mako (from alembic!=1.10.0,<2->mlflow<4.0.0,>=3.1.0->mlflow[databricks]<4.0.0,>=3.1.0->databricks-agents<2.0,>=1.0.0->mlflow-skinny[databricks]<4,>=2.16.0->databricks-feature-engineering>=0.2.0->databricks-feature-store)\n  Downloading mako-1.3.10-py3-none-any.whl.metadata (2.9 kB)\nCollecting sniffio>=1.1 (from anyio<5,>=3.6.2->starlette<0.48.0,>=0.40.0->fastapi<1->mlflow-skinny<4,>=2.16.0->mlflow-skinny[databricks]<4,>=2.16.0->databricks-feature-engineering>=0.2.0->databricks-feature-store)\n  Downloading sniffio-1.3.1-py3-none-any.whl.metadata (3.9 kB)\nRequirement already satisfied: cffi>=1.12 in /databricks/python3/lib/python3.11/site-packages (from cryptography>=2.1.4->azure-storage-blob<13.0.0,>=12.19.0->azure-storage-file-datalake>12->mlflow-skinny[databricks]<4,>=2.16.0->databricks-feature-engineering>=0.2.0->databricks-feature-store) (1.15.1)\nCollecting graphql-core<3.3,>=3.1 (from graphene<4->mlflow<4.0.0,>=3.1.0->mlflow[databricks]<4.0.0,>=3.1.0->databricks-agents<2.0,>=1.0.0->mlflow-skinny[databricks]<4,>=2.16.0->databricks-feature-engineering>=0.2.0->databricks-feature-store)\n  Downloading graphql_core-3.2.6-py3-none-any.whl.metadata (11 kB)\nCollecting graphql-relay<3.3,>=3.1 (from graphene<4->mlflow<4.0.0,>=3.1.0->mlflow[databricks]<4.0.0,>=3.1.0->databricks-agents<2.0,>=1.0.0->mlflow-skinny[databricks]<4,>=2.16.0->databricks-feature-engineering>=0.2.0->databricks-feature-store)\n  Downloading graphql_relay-3.2.0-py3-none-any.whl.metadata (12 kB)\nINFO: pip is looking at multiple versions of grpcio-status to determine which version is compatible with other requirements. This could take a while.\nCollecting grpcio-status>=1.59.3 (from databricks-connect->databricks-agents<2.0,>=1.0.0->mlflow-skinny[databricks]<4,>=2.16.0->databricks-feature-engineering>=0.2.0->databricks-feature-store)\n  Downloading grpcio_status-1.73.1-py3-none-any.whl.metadata (1.1 kB)\n  Downloading grpcio_status-1.73.0-py3-none-any.whl.metadata (1.1 kB)\n  Downloading grpcio_status-1.72.2-py3-none-any.whl.metadata (1.1 kB)\n  Downloading grpcio_status-1.72.1-py3-none-any.whl.metadata (1.1 kB)\n  Downloading grpcio_status-1.71.2-py3-none-any.whl.metadata (1.1 kB)\n  Downloading grpcio_status-1.71.0-py3-none-any.whl.metadata (1.1 kB)\n  Downloading grpcio_status-1.70.0-py3-none-any.whl.metadata (1.1 kB)\nINFO: pip is still looking at multiple versions of grpcio-status to determine which version is compatible with other requirements. This could take a while.\n  Downloading grpcio_status-1.68.1-py3-none-any.whl.metadata (1.1 kB)\n  Downloading grpcio_status-1.68.0-py3-none-any.whl.metadata (1.1 kB)\n  Downloading grpcio_status-1.67.1-py3-none-any.whl.metadata (1.1 kB)\n  Downloading grpcio_status-1.67.0-py3-none-any.whl.metadata (1.1 kB)\n  Downloading grpcio_status-1.66.2-py3-none-any.whl.metadata (1.1 kB)\nINFO: This is taking longer than usual. You might need to provide the dependency resolver with stricter constraints to reduce runtime. See https://pip.pypa.io/warnings/backtracking for guidance. If you want to abort this run, press Ctrl + C.\n  Downloading grpcio_status-1.66.1-py3-none-any.whl.metadata (1.1 kB)\n  Downloading grpcio_status-1.66.0-py3-none-any.whl.metadata (1.1 kB)\n  Downloading grpcio_status-1.65.5-py3-none-any.whl.metadata (1.1 kB)\n  Downloading grpcio_status-1.65.4-py3-none-any.whl.metadata (1.1 kB)\n  Downloading grpcio_status-1.65.2-py3-none-any.whl.metadata (1.1 kB)\n  Downloading grpcio_status-1.65.1-py3-none-any.whl.metadata (1.1 kB)\n  Downloading grpcio_status-1.64.3-py3-none-any.whl.metadata (1.1 kB)\n  Downloading grpcio_status-1.64.1-py3-none-any.whl.metadata (1.1 kB)\n  Downloading grpcio_status-1.64.0-py3-none-any.whl.metadata (1.1 kB)\n  Downloading grpcio_status-1.63.2-py3-none-any.whl.metadata (1.1 kB)\n  Downloading grpcio_status-1.63.0-py3-none-any.whl.metadata (1.1 kB)\n  Downloading grpcio_status-1.62.3-py3-none-any.whl.metadata (1.3 kB)\nRequirement already satisfied: contourpy>=1.0.1 in /databricks/python3/lib/python3.11/site-packages (from matplotlib<4->mlflow<4.0.0,>=3.1.0->mlflow[databricks]<4.0.0,>=3.1.0->databricks-agents<2.0,>=1.0.0->mlflow-skinny[databricks]<4,>=2.16.0->databricks-feature-engineering>=0.2.0->databricks-feature-store) (1.0.5)\nRequirement already satisfied: cycler>=0.10 in /databricks/python3/lib/python3.11/site-packages (from matplotlib<4->mlflow<4.0.0,>=3.1.0->mlflow[databricks]<4.0.0,>=3.1.0->databricks-agents<2.0,>=1.0.0->mlflow-skinny[databricks]<4,>=2.16.0->databricks-feature-engineering>=0.2.0->databricks-feature-store) (0.11.0)\nRequirement already satisfied: fonttools>=4.22.0 in /databricks/python3/lib/python3.11/site-packages (from matplotlib<4->mlflow<4.0.0,>=3.1.0->mlflow[databricks]<4.0.0,>=3.1.0->databricks-agents<2.0,>=1.0.0->mlflow-skinny[databricks]<4,>=2.16.0->databricks-feature-engineering>=0.2.0->databricks-feature-store) (4.25.0)\nRequirement already satisfied: kiwisolver>=1.0.1 in /databricks/python3/lib/python3.11/site-packages (from matplotlib<4->mlflow<4.0.0,>=3.1.0->mlflow[databricks]<4.0.0,>=3.1.0->databricks-agents<2.0,>=1.0.0->mlflow-skinny[databricks]<4,>=2.16.0->databricks-feature-engineering>=0.2.0->databricks-feature-store) (1.4.4)\nRequirement already satisfied: pillow>=6.2.0 in /databricks/python3/lib/python3.11/site-packages (from matplotlib<4->mlflow<4.0.0,>=3.1.0->mlflow[databricks]<4.0.0,>=3.1.0->databricks-agents<2.0,>=1.0.0->mlflow-skinny[databricks]<4,>=2.16.0->databricks-feature-engineering>=0.2.0->databricks-feature-store) (10.3.0)\nRequirement already satisfied: pyparsing<3.1,>=2.3.1 in /databricks/python3/lib/python3.11/site-packages (from matplotlib<4->mlflow<4.0.0,>=3.1.0->mlflow[databricks]<4.0.0,>=3.1.0->databricks-agents<2.0,>=1.0.0->mlflow-skinny[databricks]<4,>=2.16.0->databricks-feature-engineering>=0.2.0->databricks-feature-store) (3.0.9)\nRequirement already satisfied: pytz>=2020.1 in /databricks/python3/lib/python3.11/site-packages (from pandas<3->mlflow<4.0.0,>=3.1.0->mlflow[databricks]<4.0.0,>=3.1.0->databricks-agents<2.0,>=1.0.0->mlflow-skinny[databricks]<4,>=2.16.0->databricks-feature-engineering>=0.2.0->databricks-feature-store) (2022.7)\nRequirement already satisfied: pyasn1<0.5.0,>=0.4.6 in /databricks/python3/lib/python3.11/site-packages (from pyasn1-modules>=0.2.1->google-auth~=2.0->databricks-sdk<1,>=0.20.0->mlflow-skinny<4,>=2.16.0->mlflow-skinny[databricks]<4,>=2.16.0->databricks-feature-engineering>=0.2.0->databricks-feature-store) (0.4.8)\nRequirement already satisfied: joblib>=1.1.1 in /databricks/python3/lib/python3.11/site-packages (from scikit-learn<2->mlflow<4.0.0,>=3.1.0->mlflow[databricks]<4.0.0,>=3.1.0->databricks-agents<2.0,>=1.0.0->mlflow-skinny[databricks]<4,>=2.16.0->databricks-feature-engineering>=0.2.0->databricks-feature-store) (1.2.0)\nRequirement already satisfied: threadpoolctl>=2.0.0 in /databricks/python3/lib/python3.11/site-packages (from scikit-learn<2->mlflow<4.0.0,>=3.1.0->mlflow[databricks]<4.0.0,>=3.1.0->databricks-agents<2.0,>=1.0.0->mlflow-skinny[databricks]<4,>=2.16.0->databricks-feature-engineering>=0.2.0->databricks-feature-store) (2.2.0)\nCollecting greenlet>=1 (from sqlalchemy<3,>=1.4.0->mlflow<4.0.0,>=3.1.0->mlflow[databricks]<4.0.0,>=3.1.0->databricks-agents<2.0,>=1.0.0->mlflow-skinny[databricks]<4,>=2.16.0->databricks-feature-engineering>=0.2.0->databricks-feature-store)\n  Downloading greenlet-3.2.3-cp311-cp311-manylinux2014_aarch64.manylinux_2_17_aarch64.whl.metadata (4.1 kB)\nRequirement already satisfied: mypy-extensions>=0.3.0 in /databricks/python3/lib/python3.11/site-packages (from typing-inspect<1,>=0.4.0->dataclasses-json->databricks-agents<2.0,>=1.0.0->mlflow-skinny[databricks]<4,>=2.16.0->databricks-feature-engineering>=0.2.0->databricks-feature-store) (0.4.3)\nRequirement already satisfied: pycparser in /databricks/python3/lib/python3.11/site-packages (from cffi>=1.12->cryptography>=2.1.4->azure-storage-blob<13.0.0,>=12.19.0->azure-storage-file-datalake>12->mlflow-skinny[databricks]<4,>=2.16.0->databricks-feature-engineering>=0.2.0->databricks-feature-store) (2.21)\nDownloading databricks_feature_store-0.17.0-py3-none-any.whl (4.2 kB)\nDownloading databricks_feature_engineering-0.12.1-py3-none-any.whl (278 kB)\nDownloading azure_cosmos-4.3.1-py3-none-any.whl (222 kB)\nDownloading dbl_tempo-0.1.29-py3-none-any.whl (41 kB)\nDownloading flask-2.3.3-py3-none-any.whl (96 kB)\nDownloading mlflow_skinny-3.1.1-py3-none-any.whl (1.9 MB)\n\u001B[?25l   \u001B[90m━━━━━━━━━━━━━━━━━━━━━━━━━━━━━━━━━━━━━━━━\u001B[0m \u001B[32m0.0/1.9 MB\u001B[0m \u001B[31m?\u001B[0m eta \u001B[36m-:--:--\u001B[0m\n\u001B[2K   \u001B[90m━━━━━━━━━━━━━━━━━━━━━━━━━━━━━━━━━━━━━━━━\u001B[0m \u001B[32m1.9/1.9 MB\u001B[0m \u001B[31m51.5 MB/s\u001B[0m eta \u001B[36m0:00:00\u001B[0m\n\u001B[?25hDownloading blinker-1.9.0-py3-none-any.whl (8.5 kB)\nDownloading click-8.2.1-py3-none-any.whl (102 kB)\nDownloading databricks_agents-1.1.0-py3-none-any.whl (189 kB)\nDownloading databricks_sdk-0.55.0-py3-none-any.whl (722 kB)\n\u001B[?25l   \u001B[90m━━━━━━━━━━━━━━━━━━━━━━━━━━━━━━━━━━━━━━━━\u001B[0m \u001B[32m0.0/722.9 kB\u001B[0m \u001B[31m?\u001B[0m eta \u001B[36m-:--:--\u001B[0m\n\u001B[2K   \u001B[90m━━━━━━━━━━━━━━━━━━━━━━━━━━━━━━━━━━━━━━━━\u001B[0m \u001B[32m722.9/722.9 kB\u001B[0m \u001B[31m39.3 MB/s\u001B[0m eta \u001B[36m0:00:00\u001B[0m\n\u001B[?25hDownloading fastapi-0.116.1-py3-none-any.whl (95 kB)\nDownloading itsdangerous-2.2.0-py3-none-any.whl (16 kB)\nDownloading jinja2-3.1.6-py3-none-any.whl (134 kB)\nDownloading opentelemetry_api-1.35.0-py3-none-any.whl (65 kB)\nDownloading opentelemetry_sdk-1.35.0-py3-none-any.whl (119 kB)\nDownloading opentelemetry_semantic_conventions-0.56b0-py3-none-any.whl (201 kB)\nDownloading pydantic-2.11.7-py3-none-any.whl (444 kB)\nDownloading pydantic_core-2.33.2-cp311-cp311-manylinux_2_17_aarch64.manylinux2014_aarch64.whl (1.9 MB)\n\u001B[?25l   \u001B[90m━━━━━━━━━━━━━━━━━━━━━━━━━━━━━━━━━━━━━━━━\u001B[0m \u001B[32m0.0/1.9 MB\u001B[0m \u001B[31m?\u001B[0m eta \u001B[36m-:--:--\u001B[0m\n\u001B[2K   \u001B[90m━━━━━━━━━━━━━━━━━━━━━━━━━━━━━━━━━━━━━━━━\u001B[0m \u001B[32m1.9/1.9 MB\u001B[0m \u001B[31m71.9 MB/s\u001B[0m eta \u001B[36m0:00:00\u001B[0m\n\u001B[?25hDownloading typing_extensions-4.14.1-py3-none-any.whl (43 kB)\nDownloading uvicorn-0.35.0-py3-none-any.whl (66 kB)\nDownloading werkzeug-3.1.3-py3-none-any.whl (224 kB)\nDownloading annotated_types-0.7.0-py3-none-any.whl (13 kB)\nDownloading protobuf-4.25.8-cp37-abi3-manylinux2014_aarch64.whl (294 kB)\nDownloading h11-0.16.0-py3-none-any.whl (37 kB)\nDownloading MarkupSafe-3.0.2-cp311-cp311-manylinux_2_17_aarch64.manylinux2014_aarch64.whl (23 kB)\nDownloading mlflow-3.1.1-py3-none-any.whl (24.7 MB)\n\u001B[?25l   \u001B[90m━━━━━━━━━━━━━━━━━━━━━━━━━━━━━━━━━━━━━━━━\u001B[0m \u001B[32m0.0/24.7 MB\u001B[0m \u001B[31m?\u001B[0m eta \u001B[36m-:--:--\u001B[0m\n\u001B[2K   \u001B[90m━━━━━━━━━━━━━━━━━━━━━━━━━━━━━━━━━━━━━━━━\u001B[0m \u001B[32m24.7/24.7 MB\u001B[0m \u001B[31m173.2 MB/s\u001B[0m eta \u001B[36m0:00:00\u001B[0m\n\u001B[?25hDownloading starlette-0.47.1-py3-none-any.whl (72 kB)\nDownloading tenacity-9.1.2-py3-none-any.whl (28 kB)\nDownloading tiktoken-0.9.0-cp311-cp311-manylinux_2_17_aarch64.manylinux2014_aarch64.whl (1.1 MB)\n\u001B[?25l   \u001B[90m━━━━━━━━━━━━━━━━━━━━━━━━━━━━━━━━━━━━━━━━\u001B[0m \u001B[32m0.0/1.1 MB\u001B[0m \u001B[31m?\u001B[0m eta \u001B[36m-:--:--\u001B[0m\n\u001B[2K   \u001B[90m━━━━━━━━━━━━━━━━━━━━━━━━━━━━━━━━━━━━━━━━\u001B[0m \u001B[32m1.1/1.1 MB\u001B[0m \u001B[31m111.9 MB/s\u001B[0m eta \u001B[36m0:00:00\u001B[0m\n\u001B[?25hDownloading typing_inspection-0.4.1-py3-none-any.whl (14 kB)\nDownloading urllib3-2.0.7-py3-none-any.whl (124 kB)\nDownloading dataclasses_json-0.6.7-py3-none-any.whl (28 kB)\nDownloading tqdm-4.67.1-py3-none-any.whl (78 kB)\nDownloading alembic-1.16.4-py3-none-any.whl (247 kB)\nDownloading anyio-4.9.0-py3-none-any.whl (100 kB)\nDownloading docker-7.1.0-py3-none-any.whl (147 kB)\nDownloading graphene-3.4.3-py2.py3-none-any.whl (114 kB)\nDownloading grpcio_status-1.62.3-py3-none-any.whl (14 kB)\nDownloading gunicorn-23.0.0-py3-none-any.whl (85 kB)\nDownloading marshmallow-3.26.1-py3-none-any.whl (50 kB)\nDownloading regex-2024.11.6-cp311-cp311-manylinux_2_17_aarch64.manylinux2014_aarch64.whl (792 kB)\n\u001B[?25l   \u001B[90m━━━━━━━━━━━━━━━━━━━━━━━━━━━━━━━━━━━━━━━━\u001B[0m \u001B[32m0.0/792.1 kB\u001B[0m \u001B[31m?\u001B[0m eta \u001B[36m-:--:--\u001B[0m\n\u001B[2K   \u001B[90m━━━━━━━━━━━━━━━━━━━━━━━━━━━━━━━━━━━━━━━━\u001B[0m \u001B[32m792.1/792.1 kB\u001B[0m \u001B[31m74.6 MB/s\u001B[0m eta \u001B[36m0:00:00\u001B[0m\n\u001B[?25hDownloading sqlalchemy-2.0.41-cp311-cp311-manylinux_2_17_aarch64.manylinux2014_aarch64.whl (3.3 MB)\n\u001B[?25l   \u001B[90m━━━━━━━━━━━━━━━━━━━━━━━━━━━━━━━━━━━━━━━━\u001B[0m \u001B[32m0.0/3.3 MB\u001B[0m \u001B[31m?\u001B[0m eta \u001B[36m-:--:--\u001B[0m\n\u001B[2K   \u001B[90m━━━━━━━━━━━━━━━━━━━━━━━━━━━━━━━━━━━━━━━━\u001B[0m \u001B[32m3.3/3.3 MB\u001B[0m \u001B[31m143.5 MB/s\u001B[0m eta \u001B[36m0:00:00\u001B[0m\n\u001B[?25hDownloading typing_inspect-0.9.0-py3-none-any.whl (8.8 kB)\nDownloading graphql_core-3.2.6-py3-none-any.whl (203 kB)\nDownloading graphql_relay-3.2.0-py3-none-any.whl (16 kB)\nDownloading greenlet-3.2.3-cp311-cp311-manylinux2014_aarch64.manylinux_2_17_aarch64.whl (630 kB)\n\u001B[?25l   \u001B[90m━━━━━━━━━━━━━━━━━━━━━━━━━━━━━━━━━━━━━━━━\u001B[0m \u001B[32m0.0/630.4 kB\u001B[0m \u001B[31m?\u001B[0m eta \u001B[36m-:--:--\u001B[0m\n\u001B[2K   \u001B[90m━━━━━━━━━━━━━━━━━━━━━━━━━━━━━━━━━━━━━━━━\u001B[0m \u001B[32m630.4/630.4 kB\u001B[0m \u001B[31m43.9 MB/s\u001B[0m eta \u001B[36m0:00:00\u001B[0m\n\u001B[?25hDownloading sniffio-1.3.1-py3-none-any.whl (10 kB)\nDownloading mako-1.3.10-py3-none-any.whl (78 kB)\nInstalling collected packages: dbl-tempo, urllib3, typing-extensions, tqdm, tenacity, sniffio, regex, protobuf, marshmallow, MarkupSafe, itsdangerous, h11, gunicorn, greenlet, graphql-core, click, blinker, annotated-types, Werkzeug, uvicorn, typing-inspection, typing-inspect, sqlalchemy, pydantic-core, opentelemetry-api, Mako, Jinja2, graphql-relay, anyio, tiktoken, starlette, pydantic, opentelemetry-semantic-conventions, grpcio-status, graphene, flask, docker, dataclasses-json, databricks-sdk, alembic, opentelemetry-sdk, fastapi, azure-cosmos, mlflow-skinny, mlflow, databricks-agents, databricks-feature-engineering, databricks-feature-store\n  Attempting uninstall: urllib3\n    Found existing installation: urllib3 1.26.16\n    Not uninstalling urllib3 at /databricks/python3/lib/python3.11/site-packages, outside environment /local_disk0/.ephemeral_nfs/envs/pythonEnv-e19f1c5b-5876-466c-a06e-46e9c83cc49b\n    Can't uninstall 'urllib3'. No files were found to uninstall.\n  Attempting uninstall: typing-extensions\n    Found existing installation: typing_extensions 4.10.0\n    Not uninstalling typing-extensions at /databricks/python3/lib/python3.11/site-packages, outside environment /local_disk0/.ephemeral_nfs/envs/pythonEnv-e19f1c5b-5876-466c-a06e-46e9c83cc49b\n    Can't uninstall 'typing_extensions'. No files were found to uninstall.\n  Attempting uninstall: tenacity\n    Found existing installation: tenacity 8.2.2\n    Not uninstalling tenacity at /databricks/python3/lib/python3.11/site-packages, outside environment /local_disk0/.ephemeral_nfs/envs/pythonEnv-e19f1c5b-5876-466c-a06e-46e9c83cc49b\n    Can't uninstall 'tenacity'. No files were found to uninstall.\n  Attempting uninstall: protobuf\n    Found existing installation: protobuf 5.29.3\n    Not uninstalling protobuf at /databricks/python3/lib/python3.11/site-packages, outside environment /local_disk0/.ephemeral_nfs/envs/pythonEnv-e19f1c5b-5876-466c-a06e-46e9c83cc49b\n    Can't uninstall 'protobuf'. No files were found to uninstall.\n  Attempting uninstall: click\n    Found existing installation: click 8.0.4\n    Not uninstalling click at /databricks/python3/lib/python3.11/site-packages, outside environment /local_disk0/.ephemeral_nfs/envs/pythonEnv-e19f1c5b-5876-466c-a06e-46e9c83cc49b\n    Can't uninstall 'click'. No files were found to uninstall.\n  Attempting uninstall: blinker\n    Found existing installation: blinker 1.4\n    Not uninstalling blinker at /usr/lib/python3/dist-packages, outside environment /local_disk0/.ephemeral_nfs/envs/pythonEnv-e19f1c5b-5876-466c-a06e-46e9c83cc49b\n    Can't uninstall 'blinker'. No files were found to uninstall.\n  Attempting uninstall: pydantic\n    Found existing installation: pydantic 1.10.6\n    Not uninstalling pydantic at /databricks/python3/lib/python3.11/site-packages, outside environment /local_disk0/.ephemeral_nfs/envs/pythonEnv-e19f1c5b-5876-466c-a06e-46e9c83cc49b\n    Can't uninstall 'pydantic'. No files were found to uninstall.\n  Attempting uninstall: grpcio-status\n    Found existing installation: grpcio-status 1.69.0\n    Not uninstalling grpcio-status at /databricks/python3/lib/python3.11/site-packages, outside environment /local_disk0/.ephemeral_nfs/envs/pythonEnv-e19f1c5b-5876-466c-a06e-46e9c83cc49b\n    Can't uninstall 'grpcio-status'. No files were found to uninstall.\n  Attempting uninstall: databricks-sdk\n    Found existing installation: databricks-sdk 0.40.0\n    Not uninstalling databricks-sdk at /databricks/python3/lib/python3.11/site-packages, outside environment /local_disk0/.ephemeral_nfs/envs/pythonEnv-e19f1c5b-5876-466c-a06e-46e9c83cc49b\n    Can't uninstall 'databricks-sdk'. No files were found to uninstall.\n  Attempting uninstall: mlflow-skinny\n    Found existing installation: mlflow-skinny 2.11.4\n    Not uninstalling mlflow-skinny at /databricks/python3/lib/python3.11/site-packages, outside environment /local_disk0/.ephemeral_nfs/envs/pythonEnv-e19f1c5b-5876-466c-a06e-46e9c83cc49b\n    Can't uninstall 'mlflow-skinny'. No files were found to uninstall.\nSuccessfully installed Jinja2-3.1.6 Mako-1.3.10 MarkupSafe-3.0.2 Werkzeug-3.1.3 alembic-1.16.4 annotated-types-0.7.0 anyio-4.9.0 azure-cosmos-4.3.1 blinker-1.9.0 click-8.2.1 databricks-agents-1.1.0 databricks-feature-engineering-0.12.1 databricks-feature-store-0.17.0 databricks-sdk-0.55.0 dataclasses-json-0.6.7 dbl-tempo-0.1.29 docker-7.1.0 fastapi-0.116.1 flask-2.3.3 graphene-3.4.3 graphql-core-3.2.6 graphql-relay-3.2.0 greenlet-3.2.3 grpcio-status-1.62.3 gunicorn-23.0.0 h11-0.16.0 itsdangerous-2.2.0 marshmallow-3.26.1 mlflow-3.1.1 mlflow-skinny-3.1.1 opentelemetry-api-1.35.0 opentelemetry-sdk-1.35.0 opentelemetry-semantic-conventions-0.56b0 protobuf-4.25.8 pydantic-2.11.7 pydantic-core-2.33.2 regex-2024.11.6 sniffio-1.3.1 sqlalchemy-2.0.41 starlette-0.47.1 tenacity-9.1.2 tiktoken-0.9.0 tqdm-4.67.1 typing-extensions-4.14.1 typing-inspect-0.9.0 typing-inspection-0.4.1 urllib3-2.0.7 uvicorn-0.35.0\n\u001B[43mNote: you may need to restart the kernel using %restart_python or dbutils.library.restartPython() to use updated packages.\u001B[0m\n"
     ]
    }
   ],
   "source": [
    "%pip install databricks-feature-store"
   ]
  },
  {
   "cell_type": "code",
   "execution_count": 0,
   "metadata": {
    "application/vnd.databricks.v1+cell": {
     "cellMetadata": {
      "byteLimit": 2048000,
      "rowLimit": 10000
     },
     "inputWidgets": {},
     "nuid": "260346b4-88c4-4aa5-b008-17e29c91e944",
     "showTitle": false,
     "tableResultSettingsMap": {},
     "title": ""
    }
   },
   "outputs": [],
   "source": [
    "dbutils.library.restartPython()"
   ]
  },
  {
   "cell_type": "code",
   "execution_count": 0,
   "metadata": {
    "application/vnd.databricks.v1+cell": {
     "cellMetadata": {
      "byteLimit": 2048000,
      "rowLimit": 10000
     },
     "inputWidgets": {},
     "nuid": "12bab1f7-9f80-4a2a-b0d3-0389e377026f",
     "showTitle": false,
     "tableResultSettingsMap": {},
     "title": ""
    }
   },
   "outputs": [],
   "source": [
    "from databricks.feature_store import FeatureStoreClient\n",
    "fs = FeatureStoreClient()"
   ]
  },
  {
   "cell_type": "markdown",
   "metadata": {
    "application/vnd.databricks.v1+cell": {
     "cellMetadata": {},
     "inputWidgets": {},
     "nuid": "467c596f-e33a-401e-8832-1f0c40fc457d",
     "showTitle": false,
     "tableResultSettingsMap": {},
     "title": ""
    }
   },
   "source": [
    "### Create and Register Feature Version 1"
   ]
  },
  {
   "cell_type": "code",
   "execution_count": 0,
   "metadata": {
    "application/vnd.databricks.v1+cell": {
     "cellMetadata": {
      "byteLimit": 2048000,
      "rowLimit": 10000
     },
     "inputWidgets": {},
     "nuid": "7e848d3e-e564-4732-ac09-3da6464360a0",
     "showTitle": false,
     "tableResultSettingsMap": {},
     "title": ""
    }
   },
   "outputs": [
    {
     "output_type": "execute_result",
     "data": {
      "text/plain": [
       "DataFrame[]"
      ]
     },
     "execution_count": 2,
     "metadata": {},
     "output_type": "execute_result"
    }
   ],
   "source": [
    "# Create a new schema for feature_store\n",
    "\n",
    "spark.sql(\"CREATE SCHEMA IF NOT EXISTS workspace.feature_store\")"
   ]
  },
  {
   "cell_type": "code",
   "execution_count": 0,
   "metadata": {
    "application/vnd.databricks.v1+cell": {
     "cellMetadata": {
      "byteLimit": 2048000,
      "rowLimit": 10000
     },
     "inputWidgets": {},
     "nuid": "634ef7e6-7b1f-4077-a19e-cd5087b72c43",
     "showTitle": false,
     "tableResultSettingsMap": {},
     "title": ""
    }
   },
   "outputs": [
    {
     "output_type": "execute_result",
     "data": {
      "text/plain": [
       "<FeatureTable: name='workspace.feature_store.athletes_features_v1', table_id='31ed76c8-291b-4d73-8852-c26796c544fe', description='Feature version 1: basic physical attributes', primary_keys=['athlete_id'], partition_columns=[], features=['athlete_id', 'age', 'height', 'weight'], creation_timestamp=1752343455119, online_stores=[], notebook_producers=[], job_producers=[], table_data_sources=[], path_data_sources=[], custom_data_sources=[], timestamp_keys=[], tags={}>"
      ]
     },
     "execution_count": 7,
     "metadata": {},
     "output_type": "execute_result"
    }
   ],
   "source": [
    "# Feature V1: ['age', 'height', 'weight']\n",
    "features_v1_df = athletes_df.select(\"athlete_id\", \"age\", \"height\", \"weight\")\n",
    "\n",
    "# Register in Feature Store\n",
    "fs.create_table(\n",
    "    name=\"feature_store.athletes_features_v1\",\n",
    "    primary_keys=[\"athlete_id\"],\n",
    "    df=features_v1_df,\n",
    "    description=\"Feature version 1: basic physical attributes\"\n",
    ")"
   ]
  },
  {
   "cell_type": "markdown",
   "metadata": {
    "application/vnd.databricks.v1+cell": {
     "cellMetadata": {},
     "inputWidgets": {},
     "nuid": "cb9f0f9d-96e9-4871-92bf-3cde07627977",
     "showTitle": false,
     "tableResultSettingsMap": {},
     "title": ""
    }
   },
   "source": [
    "### Create and Register Feature Version 2\n"
   ]
  },
  {
   "cell_type": "code",
   "execution_count": 0,
   "metadata": {
    "application/vnd.databricks.v1+cell": {
     "cellMetadata": {
      "byteLimit": 2048000,
      "rowLimit": 10000
     },
     "inputWidgets": {},
     "nuid": "e871f676-a615-4c2d-91c7-fe8dbfa903bb",
     "showTitle": false,
     "tableResultSettingsMap": {},
     "title": ""
    }
   },
   "outputs": [
    {
     "output_type": "execute_result",
     "data": {
      "text/plain": [
       "<FeatureTable: name='workspace.feature_store.athletes_features_v2', table_id='f7eac6d0-7072-4047-8b35-cc745cb62acc', description='Feature version 2: demographic and background attributes', primary_keys=['athlete_id'], partition_columns=[], features=['athlete_id', 'region', 'gender', 'background', 'howlong'], creation_timestamp=1752350172698, online_stores=[], notebook_producers=[], job_producers=[], table_data_sources=[], path_data_sources=[], custom_data_sources=[], timestamp_keys=[], tags={}>"
      ]
     },
     "execution_count": 8,
     "metadata": {},
     "output_type": "execute_result"
    }
   ],
   "source": [
    "# Select version 2 features\n",
    "features_v2_df = athletes_df.select(\"athlete_id\", \"region\", \"gender\", \"background\", \"howlong\")\n",
    "\n",
    "# Register in Feature Store\n",
    "fs.create_table(\n",
    "    name=\"workspace.feature_store.athletes_features_v2\",\n",
    "    primary_keys=[\"athlete_id\"],\n",
    "    df=features_v2_df,\n",
    "    description=\"Feature version 2: demographic and background attributes\"\n",
    ")"
   ]
  },
  {
   "cell_type": "markdown",
   "metadata": {
    "application/vnd.databricks.v1+cell": {
     "cellMetadata": {},
     "inputWidgets": {},
     "nuid": "422af15e-9f99-4946-a7a8-9310e3d16c74",
     "showTitle": false,
     "tableResultSettingsMap": {},
     "title": ""
    }
   },
   "source": [
    "### Create Label DataFrame (total_lift)"
   ]
  },
  {
   "cell_type": "code",
   "execution_count": 0,
   "metadata": {
    "application/vnd.databricks.v1+cell": {
     "cellMetadata": {
      "byteLimit": 2048000,
      "rowLimit": 10000
     },
     "inputWidgets": {},
     "nuid": "f432e08e-9eab-438b-8607-5b3c6e099de0",
     "showTitle": false,
     "tableResultSettingsMap": {},
     "title": ""
    }
   },
   "outputs": [],
   "source": [
    "label_df = athletes_df.select(\"athlete_id\", \"total_lift\")"
   ]
  },
  {
   "cell_type": "markdown",
   "metadata": {
    "application/vnd.databricks.v1+cell": {
     "cellMetadata": {},
     "inputWidgets": {},
     "nuid": "84ed9dfd-0d9a-44c8-881d-9f040419dbb4",
     "showTitle": false,
     "tableResultSettingsMap": {},
     "title": ""
    }
   },
   "source": [
    "### Create Training Set for Feature V1"
   ]
  },
  {
   "cell_type": "code",
   "execution_count": 0,
   "metadata": {
    "application/vnd.databricks.v1+cell": {
     "cellMetadata": {
      "byteLimit": 2048000,
      "rowLimit": 10000
     },
     "inputWidgets": {},
     "nuid": "402f452d-d790-4407-ae95-9cf798155277",
     "showTitle": false,
     "tableResultSettingsMap": {},
     "title": ""
    }
   },
   "outputs": [],
   "source": [
    "from databricks.feature_store import FeatureLookup"
   ]
  },
  {
   "cell_type": "code",
   "execution_count": 0,
   "metadata": {
    "application/vnd.databricks.v1+cell": {
     "cellMetadata": {
      "byteLimit": 2048000,
      "rowLimit": 10000
     },
     "inputWidgets": {},
     "nuid": "9caee707-3318-4359-a6fd-f5fd1d6e772f",
     "showTitle": false,
     "tableResultSettingsMap": {},
     "title": ""
    }
   },
   "outputs": [],
   "source": [
    "# Create Training Set V1\n",
    "training_set_v1 = fs.create_training_set(\n",
    "    df=label_df,\n",
    "    feature_lookups=[\n",
    "        FeatureLookup(\n",
    "            table_name=\"workspace.feature_store.athletes_features_v1\",\n",
    "            lookup_key=\"athlete_id\"\n",
    "        )\n",
    "    ],\n",
    "    label=\"total_lift\",\n",
    "    output_mode=\"spark\"\n",
    ")\n",
    "train_df_v1 = training_set_v1.load_df()"
   ]
  },
  {
   "cell_type": "code",
   "execution_count": 0,
   "metadata": {
    "application/vnd.databricks.v1+cell": {
     "cellMetadata": {
      "byteLimit": 2048000,
      "rowLimit": 10000
     },
     "inputWidgets": {},
     "nuid": "7151e664-0d1b-4b94-af56-499db34b820d",
     "showTitle": false,
     "tableResultSettingsMap": {},
     "title": ""
    }
   },
   "outputs": [
    {
     "output_type": "stream",
     "name": "stdout",
     "output_type": "stream",
     "text": [
      "root\n |-- athlete_id: double (nullable = true)\n |-- age: double (nullable = true)\n |-- height: double (nullable = true)\n |-- weight: double (nullable = true)\n |-- total_lift: double (nullable = true)\n\n"
     ]
    }
   ],
   "source": [
    "train_df_v1.printSchema()"
   ]
  },
  {
   "cell_type": "markdown",
   "metadata": {
    "application/vnd.databricks.v1+cell": {
     "cellMetadata": {},
     "inputWidgets": {},
     "nuid": "7dddc5be-61fe-4b92-81a3-5f3bd6ce59a8",
     "showTitle": false,
     "tableResultSettingsMap": {},
     "title": ""
    }
   },
   "source": [
    "### Create Training Set for Feature V2"
   ]
  },
  {
   "cell_type": "code",
   "execution_count": 0,
   "metadata": {
    "application/vnd.databricks.v1+cell": {
     "cellMetadata": {
      "byteLimit": 2048000,
      "rowLimit": 10000
     },
     "inputWidgets": {},
     "nuid": "65f60d9a-f1db-4dcd-b665-1210970326fa",
     "showTitle": false,
     "tableResultSettingsMap": {},
     "title": ""
    }
   },
   "outputs": [],
   "source": [
    "# Create Training Set V2\n",
    "training_set_v2 = fs.create_training_set(\n",
    "    df=label_df,\n",
    "    feature_lookups=[\n",
    "        FeatureLookup(\n",
    "            table_name=\"workspace.feature_store.athletes_features_v2\",\n",
    "            lookup_key=\"athlete_id\"\n",
    "        )\n",
    "    ],\n",
    "    label=\"total_lift\",\n",
    "    output_mode=\"spark\"\n",
    ")\n",
    "train_df_v2 = training_set_v2.load_df()"
   ]
  },
  {
   "cell_type": "code",
   "execution_count": 0,
   "metadata": {
    "application/vnd.databricks.v1+cell": {
     "cellMetadata": {
      "byteLimit": 2048000,
      "rowLimit": 10000
     },
     "inputWidgets": {},
     "nuid": "77c2846b-d36d-435e-8064-1e0db2c56979",
     "showTitle": false,
     "tableResultSettingsMap": {},
     "title": ""
    }
   },
   "outputs": [
    {
     "output_type": "stream",
     "name": "stdout",
     "output_type": "stream",
     "text": [
      "root\n |-- athlete_id: double (nullable = true)\n |-- region: string (nullable = true)\n |-- gender: string (nullable = true)\n |-- background: string (nullable = true)\n |-- howlong: string (nullable = true)\n |-- total_lift: double (nullable = true)\n\n"
     ]
    }
   ],
   "source": [
    "train_df_v2.printSchema()"
   ]
  },
  {
   "cell_type": "code",
   "execution_count": 0,
   "metadata": {
    "application/vnd.databricks.v1+cell": {
     "cellMetadata": {
      "byteLimit": 2048000,
      "rowLimit": 10000
     },
     "inputWidgets": {},
     "nuid": "0541d54a-562e-4dd7-9253-232121a6b901",
     "showTitle": false,
     "tableResultSettingsMap": {},
     "title": ""
    }
   },
   "outputs": [],
   "source": [
    "# Encode Categorical Columns in train_df_v2\n",
    "\n",
    "# My dataset is small enough, convert it to pandas and use sklearn.preprocessing.LabelEncoder\n",
    "\n",
    "# Convert to pandas\n",
    "train_df_v2_pd = train_df_v2.toPandas()\n",
    "\n",
    "from sklearn.preprocessing import LabelEncoder\n",
    "\n",
    "for col in [\"region\", \"gender\", \"background\", \"howlong\"]:\n",
    "    le = LabelEncoder()\n",
    "    train_df_v2_pd[col + \"_idx\"] = le.fit_transform(train_df_v2_pd[col])"
   ]
  },
  {
   "cell_type": "code",
   "execution_count": 0,
   "metadata": {
    "application/vnd.databricks.v1+cell": {
     "cellMetadata": {
      "byteLimit": 2048000,
      "rowLimit": 10000
     },
     "inputWidgets": {},
     "nuid": "b47944de-6be5-4c5a-97e8-9574c00db918",
     "showTitle": false,
     "tableResultSettingsMap": {},
     "title": ""
    }
   },
   "outputs": [],
   "source": [
    "# Then convert back to Spark\n",
    "\n",
    "train_df_v2 = spark.createDataFrame(train_df_v2_pd)"
   ]
  },
  {
   "cell_type": "code",
   "execution_count": 0,
   "metadata": {
    "application/vnd.databricks.v1+cell": {
     "cellMetadata": {
      "byteLimit": 2048000,
      "rowLimit": 10000
     },
     "inputWidgets": {},
     "nuid": "472d7d60-c571-45aa-b78b-42b525b2fb90",
     "showTitle": false,
     "tableResultSettingsMap": {},
     "title": ""
    }
   },
   "outputs": [
    {
     "output_type": "display_data",
     "data": {
      "text/html": [
       "<style scoped>\n",
       "  .table-result-container {\n",
       "    max-height: 300px;\n",
       "    overflow: auto;\n",
       "  }\n",
       "  table, th, td {\n",
       "    border: 1px solid black;\n",
       "    border-collapse: collapse;\n",
       "  }\n",
       "  th, td {\n",
       "    padding: 5px;\n",
       "  }\n",
       "  th {\n",
       "    text-align: left;\n",
       "  }\n",
       "</style><div class='table-result-container'><table class='table-result'><thead style='background-color: white'><tr><th>athlete_id</th><th>region</th><th>gender</th><th>background</th><th>howlong</th><th>total_lift</th><th>region_idx</th><th>gender_idx</th><th>background_idx</th><th>howlong_idx</th></tr></thead><tbody><tr><td>21269.0</td><td>Southern California</td><td>Male</td><td>College sports</td><td>1-2 years|</td><td>1110.0</td><td>16</td><td>1</td><td>0</td><td>0</td></tr><tr><td>21685.0</td><td>Africa</td><td>Male</td><td>No athletic background</td><td>2-4 years|</td><td>910.0</td><td>0</td><td>1</td><td>1</td><td>4</td></tr><tr><td>25464.0</td><td>North East</td><td>Male</td><td>Other</td><td>2-4 years|</td><td>1335.0</td><td>10</td><td>1</td><td>2</td><td>4</td></tr><tr><td>43767.0</td><td>North Central</td><td>Male</td><td>College sports</td><td>1-2 years|</td><td>1354.0</td><td>9</td><td>1</td><td>0</td><td>0</td></tr><tr><td>55504.0</td><td>North East</td><td>Male</td><td>College sports</td><td>4+ years|</td><td>1225.0</td><td>10</td><td>1</td><td>0</td><td>7</td></tr><tr><td>71305.0</td><td>North Central</td><td>Male</td><td>College sports</td><td>6-12 months|</td><td>1440.0</td><td>9</td><td>1</td><td>0</td><td>8</td></tr><tr><td>2414.0</td><td>South East</td><td>Male</td><td>Other</td><td>4+ years|</td><td>1270.0</td><td>14</td><td>1</td><td>2</td><td>7</td></tr><tr><td>2720.0</td><td>South Central</td><td>Male</td><td>Other</td><td>2-4 years|</td><td>1435.0</td><td>13</td><td>1</td><td>2</td><td>4</td></tr><tr><td>2818.0</td><td>South Central</td><td>Male</td><td>Other</td><td>4+ years|</td><td>1500.0</td><td>13</td><td>1</td><td>2</td><td>7</td></tr><tr><td>6922.0</td><td>South West</td><td>Male</td><td>College sports</td><td>2-4 years|</td><td>1145.0</td><td>15</td><td>1</td><td>0</td><td>4</td></tr></tbody></table></div>"
      ]
     },
     "metadata": {
      "application/vnd.databricks.v1+output": {
       "addedWidgets": {},
       "aggData": [],
       "aggError": "",
       "aggOverflow": false,
       "aggSchema": [],
       "aggSeriesLimitReached": false,
       "aggType": "",
       "arguments": {},
       "columnCustomDisplayInfos": {},
       "data": [
        [
         21269.0,
         "Southern California",
         "Male",
         "College sports",
         "1-2 years|",
         1110.0,
         16,
         1,
         0,
         0
        ],
        [
         21685.0,
         "Africa",
         "Male",
         "No athletic background",
         "2-4 years|",
         910.0,
         0,
         1,
         1,
         4
        ],
        [
         25464.0,
         "North East",
         "Male",
         "Other",
         "2-4 years|",
         1335.0,
         10,
         1,
         2,
         4
        ],
        [
         43767.0,
         "North Central",
         "Male",
         "College sports",
         "1-2 years|",
         1354.0,
         9,
         1,
         0,
         0
        ],
        [
         55504.0,
         "North East",
         "Male",
         "College sports",
         "4+ years|",
         1225.0,
         10,
         1,
         0,
         7
        ],
        [
         71305.0,
         "North Central",
         "Male",
         "College sports",
         "6-12 months|",
         1440.0,
         9,
         1,
         0,
         8
        ],
        [
         2414.0,
         "South East",
         "Male",
         "Other",
         "4+ years|",
         1270.0,
         14,
         1,
         2,
         7
        ],
        [
         2720.0,
         "South Central",
         "Male",
         "Other",
         "2-4 years|",
         1435.0,
         13,
         1,
         2,
         4
        ],
        [
         2818.0,
         "South Central",
         "Male",
         "Other",
         "4+ years|",
         1500.0,
         13,
         1,
         2,
         7
        ],
        [
         6922.0,
         "South West",
         "Male",
         "College sports",
         "2-4 years|",
         1145.0,
         15,
         1,
         0,
         4
        ]
       ],
       "datasetInfos": [],
       "dbfsResultPath": null,
       "isJsonSchema": true,
       "metadata": {},
       "overflow": false,
       "plotOptions": {
        "customPlotOptions": {},
        "displayType": "table",
        "pivotAggregation": null,
        "pivotColumns": null,
        "xColumns": null,
        "yColumns": null
       },
       "removedWidgets": [],
       "schema": [
        {
         "metadata": "{}",
         "name": "athlete_id",
         "type": "\"double\""
        },
        {
         "metadata": "{}",
         "name": "region",
         "type": "\"string\""
        },
        {
         "metadata": "{}",
         "name": "gender",
         "type": "\"string\""
        },
        {
         "metadata": "{}",
         "name": "background",
         "type": "\"string\""
        },
        {
         "metadata": "{}",
         "name": "howlong",
         "type": "\"string\""
        },
        {
         "metadata": "{}",
         "name": "total_lift",
         "type": "\"double\""
        },
        {
         "metadata": "{}",
         "name": "region_idx",
         "type": "\"long\""
        },
        {
         "metadata": "{}",
         "name": "gender_idx",
         "type": "\"long\""
        },
        {
         "metadata": "{}",
         "name": "background_idx",
         "type": "\"long\""
        },
        {
         "metadata": "{}",
         "name": "howlong_idx",
         "type": "\"long\""
        }
       ],
       "type": "table"
      }
     },
     "output_type": "display_data"
    }
   ],
   "source": [
    "train_df_v2.limit(10).display()"
   ]
  },
  {
   "cell_type": "markdown",
   "metadata": {
    "application/vnd.databricks.v1+cell": {
     "cellMetadata": {},
     "inputWidgets": {},
     "nuid": "668b97e6-04a9-452e-9ca5-d4cf4e389de4",
     "showTitle": false,
     "tableResultSettingsMap": {},
     "title": ""
    }
   },
   "source": [
    "### Train a model with both feature versions (without AutoML)\n",
    "\n",
    "I will use RandomForestRegressor manually — not AutoML — and train:\n",
    "\n",
    "Feature V1 (['age', 'height', 'weight'])\n",
    "\n",
    "Feature V2 (['region_idx', 'gender_idx', 'background_idx', 'howlong_idx'])\n",
    "\n",
    "I will repeat each with 2 hyperparameter sets."
   ]
  },
  {
   "cell_type": "markdown",
   "metadata": {
    "application/vnd.databricks.v1+cell": {
     "cellMetadata": {},
     "inputWidgets": {},
     "nuid": "dbd9f636-a3ab-41ec-b496-21ffab9c6a46",
     "showTitle": false,
     "tableResultSettingsMap": {},
     "title": ""
    }
   },
   "source": [
    "I am in a restricted Databricks runtime (e.g., Free, Serverless, or non-ML Runtime), where RandomForestRegressor from Spark ML is not allowed. Since I already used pandas to encode features for V2, switching to scikit-learn is the most practical solution."
   ]
  },
  {
   "cell_type": "code",
   "execution_count": 0,
   "metadata": {
    "application/vnd.databricks.v1+cell": {
     "cellMetadata": {
      "byteLimit": 2048000,
      "rowLimit": 10000
     },
     "inputWidgets": {},
     "nuid": "bcac2426-3d5f-4403-b98f-cac2cdedf152",
     "showTitle": false,
     "tableResultSettingsMap": {},
     "title": ""
    }
   },
   "outputs": [],
   "source": [
    "# Convert both training sets to pandas\n",
    "\n",
    "train_df_v1_pd = train_df_v1.select(\"age\", \"height\", \"weight\", \"total_lift\").toPandas()\n",
    "train_df_v2_pd = train_df_v2.select(\n",
    "    \"region_idx\", \"gender_idx\", \"background_idx\", \"howlong_idx\", \"total_lift\"\n",
    ").toPandas()"
   ]
  },
  {
   "cell_type": "markdown",
   "metadata": {
    "application/vnd.databricks.v1+cell": {
     "cellMetadata": {},
     "inputWidgets": {},
     "nuid": "2c69979c-0aeb-4949-8019-b08a0386f011",
     "showTitle": false,
     "tableResultSettingsMap": {},
     "title": ""
    }
   },
   "source": [
    "The function `train_sklearn_model()`:\n",
    "\n",
    "* Trains a **Random Forest Regressor** using **scikit-learn**\n",
    "* Splits the input Spark DataFrame (`df`) into training and test sets\n",
    "* Logs:\n",
    "\n",
    "  * Model parameters (`max_depth`, `n_estimators`, `features`)\n",
    "  * Metrics (`RMSE`, `R²`)\n",
    "  * The trained model\n",
    "* Uses **MLflow** for full experiment tracking in Databricks\n",
    "* Returns the trained model and predictions \n"
   ]
  },
  {
   "cell_type": "code",
   "execution_count": 0,
   "metadata": {
    "application/vnd.databricks.v1+cell": {
     "cellMetadata": {
      "byteLimit": 2048000,
      "rowLimit": 10000
     },
     "inputWidgets": {},
     "nuid": "bdc10929-d635-434f-9c37-4bfdf3960195",
     "showTitle": false,
     "tableResultSettingsMap": {},
     "title": ""
    }
   },
   "outputs": [],
   "source": [
    "#  Define reusable training function (with sklearn + MLflow)\n",
    "\n",
    "from sklearn.ensemble import RandomForestRegressor\n",
    "from sklearn.metrics import mean_squared_error, r2_score\n",
    "from sklearn.model_selection import train_test_split\n",
    "import mlflow\n",
    "import mlflow.sklearn\n",
    "\n",
    "def train_sklearn_model(df, features, label, max_depth, n_estimators, run_name):\n",
    "    X = df[features]\n",
    "    y = df[label]\n",
    "    X_train, X_test, y_train, y_test = train_test_split(X, y, random_state=42, test_size=0.2)\n",
    "\n",
    "    with mlflow.start_run(run_name=run_name):\n",
    "        model = RandomForestRegressor(max_depth=max_depth, n_estimators=n_estimators, random_state=42)\n",
    "        model.fit(X_train, y_train)\n",
    "        preds = model.predict(X_test)\n",
    "\n",
    "        rmse = mean_squared_error(y_test, preds, squared=False)\n",
    "        r2 = r2_score(y_test, preds)\n",
    "\n",
    "        mlflow.log_params({\n",
    "            \"features\": features,\n",
    "            \"max_depth\": max_depth,\n",
    "            \"n_estimators\": n_estimators\n",
    "        })\n",
    "        mlflow.log_metrics({\n",
    "            \"rmse\": rmse,\n",
    "            \"r2\": r2\n",
    "        })\n",
    "        mlflow.sklearn.log_model(model, \"rf-model\")\n",
    "\n",
    "        print(f\"Run {run_name}: RMSE={rmse:.2f}, R2={r2:.2f}\")\n",
    "\n",
    "        return {\n",
    "            \"Run Name\": run_name,\n",
    "            \"Feature Set\": \"V1\" if features == features_v1 else \"V2\",\n",
    "            \"maxDepth\": max_depth,\n",
    "            \"numTrees\": n_estimators,\n",
    "            \"RMSE\": rmse,\n",
    "            \"R2\": r2,\n",
    "            \"y_test\": y_test,\n",
    "            \"preds\": preds\n",
    "        }"
   ]
  },
  {
   "cell_type": "code",
   "execution_count": 0,
   "metadata": {
    "application/vnd.databricks.v1+cell": {
     "cellMetadata": {
      "byteLimit": 2048000,
      "rowLimit": 10000
     },
     "inputWidgets": {},
     "nuid": "7570451c-77f1-4de1-bcc2-6d5fa2845d61",
     "showTitle": false,
     "tableResultSettingsMap": {},
     "title": ""
    }
   },
   "outputs": [
    {
     "output_type": "stream",
     "name": "stderr",
     "output_type": "stream",
     "text": [
      "2025/07/13 16:02:37 WARNING mlflow.models.model: `artifact_path` is deprecated. Please use `name` instead.\n\uD83D\uDD17 View Logged Model at: https://dbc-930867b3-553d.cloud.databricks.com/ml/experiments/224962478098570/models/m-646a7c9df31d42b48002029775ef3c2f?o=1640771898437172\n\u001B[31m2025/07/13 16:02:40 WARNING mlflow.models.model: Model logged without a signature and input example. Please set `input_example` parameter when logging the model to auto infer the model signature.\u001B[0m\n"
     ]
    },
    {
     "output_type": "stream",
     "name": "stdout",
     "output_type": "stream",
     "text": [
      "Run V1_HP1: RMSE=188.07, R2=0.53\n"
     ]
    },
    {
     "output_type": "stream",
     "name": "stderr",
     "output_type": "stream",
     "text": [
      "2025/07/13 16:02:43 WARNING mlflow.models.model: `artifact_path` is deprecated. Please use `name` instead.\n\uD83D\uDD17 View Logged Model at: https://dbc-930867b3-553d.cloud.databricks.com/ml/experiments/224962478098570/models/m-86e397f89b07441f81a475a3b40a0016?o=1640771898437172\n\u001B[31m2025/07/13 16:02:46 WARNING mlflow.models.model: Model logged without a signature and input example. Please set `input_example` parameter when logging the model to auto infer the model signature.\u001B[0m\n"
     ]
    },
    {
     "output_type": "stream",
     "name": "stdout",
     "output_type": "stream",
     "text": [
      "Run V1_HP2: RMSE=185.57, R2=0.54\n"
     ]
    },
    {
     "output_type": "stream",
     "name": "stderr",
     "output_type": "stream",
     "text": [
      "2025/07/13 16:02:48 WARNING mlflow.models.model: `artifact_path` is deprecated. Please use `name` instead.\n\uD83D\uDD17 View Logged Model at: https://dbc-930867b3-553d.cloud.databricks.com/ml/experiments/224962478098570/models/m-28b888107661481085bfdb49f0f4e7af?o=1640771898437172\n\u001B[31m2025/07/13 16:02:50 WARNING mlflow.models.model: Model logged without a signature and input example. Please set `input_example` parameter when logging the model to auto infer the model signature.\u001B[0m\n"
     ]
    },
    {
     "output_type": "stream",
     "name": "stdout",
     "output_type": "stream",
     "text": [
      "Run V2_HP1: RMSE=179.08, R2=0.59\n"
     ]
    },
    {
     "output_type": "stream",
     "name": "stderr",
     "output_type": "stream",
     "text": [
      "2025/07/13 16:02:53 WARNING mlflow.models.model: `artifact_path` is deprecated. Please use `name` instead.\n\uD83D\uDD17 View Logged Model at: https://dbc-930867b3-553d.cloud.databricks.com/ml/experiments/224962478098570/models/m-d4aaf65a49ed4324b9a67fbd696d664c?o=1640771898437172\n\u001B[31m2025/07/13 16:02:56 WARNING mlflow.models.model: Model logged without a signature and input example. Please set `input_example` parameter when logging the model to auto infer the model signature.\u001B[0m\n"
     ]
    },
    {
     "output_type": "stream",
     "name": "stdout",
     "output_type": "stream",
     "text": [
      "Run V2_HP2: RMSE=178.85, R2=0.59\n"
     ]
    },
    {
     "output_type": "execute_result",
     "data": {
      "text/html": [
       "<div>\n",
       "<style scoped>\n",
       "    .dataframe tbody tr th:only-of-type {\n",
       "        vertical-align: middle;\n",
       "    }\n",
       "\n",
       "    .dataframe tbody tr th {\n",
       "        vertical-align: top;\n",
       "    }\n",
       "\n",
       "    .dataframe thead th {\n",
       "        text-align: right;\n",
       "    }\n",
       "</style>\n",
       "<table border=\"1\" class=\"dataframe\">\n",
       "  <thead>\n",
       "    <tr style=\"text-align: right;\">\n",
       "      <th></th>\n",
       "      <th>Run Name</th>\n",
       "      <th>Feature Set</th>\n",
       "      <th>maxDepth</th>\n",
       "      <th>numTrees</th>\n",
       "      <th>RMSE</th>\n",
       "      <th>R2</th>\n",
       "      <th>y_test</th>\n",
       "      <th>preds</th>\n",
       "    </tr>\n",
       "  </thead>\n",
       "  <tbody>\n",
       "    <tr>\n",
       "      <th>0</th>\n",
       "      <td>V1_HP1</td>\n",
       "      <td>V1</td>\n",
       "      <td>5</td>\n",
       "      <td>20</td>\n",
       "      <td>188.071606</td>\n",
       "      <td>0.527310</td>\n",
       "      <td>27655     490.0\n",
       "25760     940.0\n",
       "5068     1185....</td>\n",
       "      <td>[637.9022106695164, 1045.0214706723073, 1179.3...</td>\n",
       "    </tr>\n",
       "    <tr>\n",
       "      <th>1</th>\n",
       "      <td>V1_HP2</td>\n",
       "      <td>V1</td>\n",
       "      <td>10</td>\n",
       "      <td>50</td>\n",
       "      <td>185.565572</td>\n",
       "      <td>0.539823</td>\n",
       "      <td>27655     490.0\n",
       "25760     940.0\n",
       "5068     1185....</td>\n",
       "      <td>[656.4537427135635, 987.9542845700485, 1249.45...</td>\n",
       "    </tr>\n",
       "    <tr>\n",
       "      <th>2</th>\n",
       "      <td>V2_HP1</td>\n",
       "      <td>V2</td>\n",
       "      <td>5</td>\n",
       "      <td>20</td>\n",
       "      <td>179.075820</td>\n",
       "      <td>0.587720</td>\n",
       "      <td>27655     550.0\n",
       "25760     611.0\n",
       "5068     1255....</td>\n",
       "      <td>[615.3022967464735, 615.3022967464735, 1175.87...</td>\n",
       "    </tr>\n",
       "    <tr>\n",
       "      <th>3</th>\n",
       "      <td>V2_HP2</td>\n",
       "      <td>V2</td>\n",
       "      <td>10</td>\n",
       "      <td>50</td>\n",
       "      <td>178.845879</td>\n",
       "      <td>0.588778</td>\n",
       "      <td>27655     550.0\n",
       "25760     611.0\n",
       "5068     1255....</td>\n",
       "      <td>[656.7848962413841, 648.0528215621927, 1165.83...</td>\n",
       "    </tr>\n",
       "  </tbody>\n",
       "</table>\n",
       "</div>"
      ],
      "text/plain": [
       "  Run Name  ...                                              preds\n",
       "0   V1_HP1  ...  [637.9022106695164, 1045.0214706723073, 1179.3...\n",
       "1   V1_HP2  ...  [656.4537427135635, 987.9542845700485, 1249.45...\n",
       "2   V2_HP1  ...  [615.3022967464735, 615.3022967464735, 1175.87...\n",
       "3   V2_HP2  ...  [656.7848962413841, 648.0528215621927, 1165.83...\n",
       "\n",
       "[4 rows x 8 columns]"
      ]
     },
     "execution_count": 20,
     "metadata": {},
     "output_type": "execute_result"
    }
   ],
   "source": [
    "# Run 4 combinations\n",
    "\n",
    "# V1 features\n",
    "features_v1 = [\"age\", \"height\", \"weight\"]\n",
    "\n",
    "# V2 features\n",
    "features_v2 = [\"region_idx\", \"gender_idx\", \"background_idx\", \"howlong_idx\"]\n",
    "\n",
    "# Run 4 experiments\n",
    "results = []\n",
    "results.append(train_sklearn_model(train_df_v1_pd, features_v1, \"total_lift\", 5, 20, \"V1_HP1\"))\n",
    "results.append(train_sklearn_model(train_df_v1_pd, features_v1, \"total_lift\", 10, 50, \"V1_HP2\"))\n",
    "results.append(train_sklearn_model(train_df_v2_pd, features_v2, \"total_lift\", 5, 20, \"V2_HP1\"))\n",
    "results.append(train_sklearn_model(train_df_v2_pd, features_v2, \"total_lift\", 10, 50, \"V2_HP2\"))\n",
    "\n",
    "import pandas as pd\n",
    "results_df = pd.DataFrame(results)\n",
    "results_df"
   ]
  },
  {
   "cell_type": "markdown",
   "metadata": {
    "application/vnd.databricks.v1+cell": {
     "cellMetadata": {},
     "inputWidgets": {},
     "nuid": "e2175240-e932-4e75-820c-dc4146813e05",
     "showTitle": false,
     "tableResultSettingsMap": {},
     "title": ""
    }
   },
   "source": [
    "Summary: \n",
    "\n",
    "Feature set V2 outperformed V1 — better RMSE and R².\n",
    "\n",
    "Increasing depth/trees in V1 helped slightly; not much difference in V2, suggesting it saturated."
   ]
  },
  {
   "cell_type": "markdown",
   "metadata": {
    "application/vnd.databricks.v1+cell": {
     "cellMetadata": {},
     "inputWidgets": {},
     "nuid": "ff570dbf-c421-4c9b-831a-29ab97bcafe5",
     "showTitle": false,
     "tableResultSettingsMap": {},
     "title": ""
    }
   },
   "source": [
    "### Compare the results of the different experiments both quantitatively (model metrics) and qualitatively (model plots)"
   ]
  },
  {
   "cell_type": "code",
   "execution_count": 0,
   "metadata": {
    "application/vnd.databricks.v1+cell": {
     "cellMetadata": {
      "byteLimit": 2048000,
      "rowLimit": 10000
     },
     "inputWidgets": {},
     "nuid": "d77c81ae-bcfa-4ac3-ab86-41e1403ea8d4",
     "showTitle": false,
     "tableResultSettingsMap": {},
     "title": ""
    }
   },
   "outputs": [
    {
     "output_type": "display_data",
     "data": {
      "text/html": [
       "<style scoped>\n",
       "  .table-result-container {\n",
       "    max-height: 300px;\n",
       "    overflow: auto;\n",
       "  }\n",
       "  table, th, td {\n",
       "    border: 1px solid black;\n",
       "    border-collapse: collapse;\n",
       "  }\n",
       "  th, td {\n",
       "    padding: 5px;\n",
       "  }\n",
       "  th {\n",
       "    text-align: left;\n",
       "  }\n",
       "</style><div class='table-result-container'><table class='table-result'><thead style='background-color: white'><tr><th>Run Name</th><th>Feature Set</th><th>maxDepth</th><th>numTrees</th><th>RMSE</th><th>R2</th></tr></thead><tbody><tr><td>V1_HP1</td><td>V1</td><td>5</td><td>20</td><td>188.0716055595571</td><td>0.5273095146227538</td></tr><tr><td>V1_HP2</td><td>V1</td><td>10</td><td>50</td><td>185.56557197714378</td><td>0.5398226852232357</td></tr><tr><td>V2_HP1</td><td>V2</td><td>5</td><td>20</td><td>179.07581952158418</td><td>0.5877200845943056</td></tr><tr><td>V2_HP2</td><td>V2</td><td>10</td><td>50</td><td>178.84587874206252</td><td>0.5887781738644156</td></tr></tbody></table></div>"
      ]
     },
     "metadata": {
      "application/vnd.databricks.v1+output": {
       "addedWidgets": {},
       "aggData": [],
       "aggError": "",
       "aggOverflow": false,
       "aggSchema": [],
       "aggSeriesLimitReached": false,
       "aggType": "",
       "arguments": {},
       "columnCustomDisplayInfos": {},
       "data": [
        [
         "V1_HP1",
         "V1",
         5,
         20,
         188.0716055595571,
         0.5273095146227538
        ],
        [
         "V1_HP2",
         "V1",
         10,
         50,
         185.56557197714378,
         0.5398226852232357
        ],
        [
         "V2_HP1",
         "V2",
         5,
         20,
         179.07581952158418,
         0.5877200845943056
        ],
        [
         "V2_HP2",
         "V2",
         10,
         50,
         178.84587874206252,
         0.5887781738644156
        ]
       ],
       "datasetInfos": [],
       "dbfsResultPath": null,
       "isJsonSchema": true,
       "metadata": {},
       "overflow": false,
       "plotOptions": {
        "customPlotOptions": {},
        "displayType": "table",
        "pivotAggregation": null,
        "pivotColumns": null,
        "xColumns": null,
        "yColumns": null
       },
       "removedWidgets": [],
       "schema": [
        {
         "metadata": "{}",
         "name": "Run Name",
         "type": "\"string\""
        },
        {
         "metadata": "{}",
         "name": "Feature Set",
         "type": "\"string\""
        },
        {
         "metadata": "{}",
         "name": "maxDepth",
         "type": "\"long\""
        },
        {
         "metadata": "{}",
         "name": "numTrees",
         "type": "\"long\""
        },
        {
         "metadata": "{}",
         "name": "RMSE",
         "type": "\"double\""
        },
        {
         "metadata": "{}",
         "name": "R2",
         "type": "\"double\""
        }
       ],
       "type": "table"
      }
     },
     "output_type": "display_data"
    }
   ],
   "source": [
    "import pandas as pd\n",
    "\n",
    "results_df = pd.DataFrame([{k: v for k, v in r.items() if k in [\"Run Name\", \"Feature Set\", \"maxDepth\", \"numTrees\", \"RMSE\", \"R2\"]} for r in results])\n",
    "display(results_df)"
   ]
  },
  {
   "cell_type": "code",
   "execution_count": 0,
   "metadata": {
    "application/vnd.databricks.v1+cell": {
     "cellMetadata": {
      "byteLimit": 2048000,
      "rowLimit": 10000
     },
     "inputWidgets": {},
     "nuid": "ea34d8a1-240e-4fe9-b18e-b7bd49e72e83",
     "showTitle": false,
     "tableResultSettingsMap": {},
     "title": ""
    }
   },
   "outputs": [],
   "source": [
    "# Save and Log Plots\n",
    "\n",
    "import matplotlib.pyplot as plt\n",
    "import os\n",
    "import tempfile\n",
    "import mlflow\n",
    "from matplotlib.figure import Figure\n",
    "\n",
    "def save_and_log_plot(fig: Figure, artifact_name: str):\n",
    "    with tempfile.TemporaryDirectory() as tmpdir:\n",
    "        file_path = os.path.join(tmpdir, f\"{artifact_name}.png\")\n",
    "        fig.savefig(file_path)\n",
    "        mlflow.log_artifact(file_path, artifact_path=\"plots\")"
   ]
  },
  {
   "cell_type": "code",
   "execution_count": 0,
   "metadata": {
    "application/vnd.databricks.v1+cell": {
     "cellMetadata": {
      "byteLimit": 2048000,
      "rowLimit": 10000
     },
     "inputWidgets": {},
     "nuid": "5993a0ca-74f6-445c-b687-cdb9bef63fa2",
     "showTitle": false,
     "tableResultSettingsMap": {},
     "title": ""
    }
   },
   "outputs": [],
   "source": [
    "# I'll plot Predicted vs. Actual for each run to visualize performance.\n",
    "\n",
    "import matplotlib.pyplot as plt\n",
    "from matplotlib.figure import Figure\n",
    "import mlflow\n",
    "import tempfile\n",
    "import os\n",
    "\n",
    "def plot_predictions(y_true, y_pred, title):\n",
    "    fig, ax = plt.subplots(figsize=(5, 5))\n",
    "    ax.scatter(y_true, y_pred, alpha=0.5)\n",
    "    ax.plot([y_true.min(), y_true.max()], [y_true.min(), y_true.max()], 'r--')\n",
    "    ax.set_xlabel(\"True Total Lift\")\n",
    "    ax.set_ylabel(\"Predicted Total Lift\")\n",
    "    ax.set_title(title)\n",
    "    ax.grid(True)\n",
    "\n",
    "    # Log and display\n",
    "    save_and_log_plot(fig, artifact_name=title.replace(\" \", \"_\"))\n",
    "    plt.show()\n",
    "    plt.close(fig)"
   ]
  },
  {
   "cell_type": "code",
   "execution_count": 0,
   "metadata": {
    "application/vnd.databricks.v1+cell": {
     "cellMetadata": {
      "byteLimit": 2048000,
      "rowLimit": 10000
     },
     "inputWidgets": {},
     "nuid": "1716709e-2bc6-42bb-b2ee-59224280807f",
     "showTitle": false,
     "tableResultSettingsMap": {},
     "title": ""
    }
   },
   "outputs": [
    {
     "output_type": "display_data",
     "data": {
      "image/png": "[encoded data removed]",
      "text/plain": [
       "<Figure size 500x500 with 1 Axes>"
      ]
     },
     "metadata": {},
     "output_type": "display_data"
    },
    {
     "output_type": "display_data",
     "data": {
      "image/png": "[encoded data removed]",
      "text/plain": [
       "<Figure size 500x500 with 1 Axes>"
      ]
     },
     "metadata": {},
     "output_type": "display_data"
    },
    {
     "output_type": "display_data",
     "data": {
      "image/png": "[encoded data removed]",
      "text/plain": [
       "<Figure size 500x500 with 1 Axes>"
      ]
     },
     "metadata": {},
     "output_type": "display_data"
    },
    {
     "output_type": "display_data",
     "data": {
      "image/png": "[encoded data removed]",
      "text/plain": [
       "<Figure size 500x500 with 1 Axes>"
      ]
     },
     "metadata": {},
     "output_type": "display_data"
    }
   ],
   "source": [
    "for r in results:\n",
    "    plot_predictions(r[\"y_test\"], r[\"preds\"], f\"{r['Run Name']}: Predicted vs True\")"
   ]
  },
  {
   "cell_type": "code",
   "execution_count": 0,
   "metadata": {
    "application/vnd.databricks.v1+cell": {
     "cellMetadata": {
      "byteLimit": 2048000,
      "rowLimit": 10000
     },
     "inputWidgets": {},
     "nuid": "b45b8d44-8545-4b50-bc34-03a5bdca597c",
     "showTitle": false,
     "tableResultSettingsMap": {},
     "title": ""
    }
   },
   "outputs": [
    {
     "output_type": "display_data",
     "data": {
      "image/png": "[encoded data removed]",
      "text/plain": [
       "<Figure size 640x480 with 1 Axes>"
      ]
     },
     "metadata": {},
     "output_type": "display_data"
    },
    {
     "output_type": "display_data",
     "data": {
      "image/png": "[encoded data removed]",
      "text/plain": [
       "<Figure size 640x480 with 1 Axes>"
      ]
     },
     "metadata": {},
     "output_type": "display_data"
    }
   ],
   "source": [
    "# RMSE bar plot\n",
    "fig_rmse, ax_rmse = plt.subplots()\n",
    "results_df.plot(x=\"Run Name\", y=\"RMSE\", kind=\"bar\", legend=False, title=\"RMSE by Run\", ylabel=\"RMSE\", xlabel=\"Run\", ax=ax_rmse)\n",
    "ax_rmse.grid(axis='y')\n",
    "plt.tight_layout()\n",
    "plt.show()\n",
    "save_and_log_plot(fig_rmse, \"rmse_bar_plot\")\n",
    "plt.close(fig_rmse)\n",
    "\n",
    "# R2 bar plot\n",
    "fig_r2, ax_r2 = plt.subplots()\n",
    "results_df.plot(x=\"Run Name\", y=\"R2\", kind=\"bar\", legend=False, title=\"R² by Run\", ylabel=\"R²\", xlabel=\"Run\", ax=ax_r2)\n",
    "ax_r2.grid(axis='y')\n",
    "plt.tight_layout()\n",
    "plt.show()\n",
    "save_and_log_plot(fig_r2, \"r2_bar_plot\")\n",
    "plt.close(fig_r2)"
   ]
  },
  {
   "cell_type": "markdown",
   "metadata": {
    "application/vnd.databricks.v1+cell": {
     "cellMetadata": {},
     "inputWidgets": {},
     "nuid": "5b9f6b0c-3a85-46c7-9529-9b20ba87989a",
     "showTitle": false,
     "tableResultSettingsMap": {},
     "title": ""
    }
   },
   "source": [
    "### Compare the carbon emissions for the different experiments"
   ]
  },
  {
   "cell_type": "markdown",
   "metadata": {
    "application/vnd.databricks.v1+cell": {
     "cellMetadata": {},
     "inputWidgets": {},
     "nuid": "053fedcc-7b7b-404c-9697-8eb2a224b739",
     "showTitle": false,
     "tableResultSettingsMap": {},
     "title": ""
    }
   },
   "source": [
    "Compare the carbon emissions for four experiments in Databricks using CodeCarbon, a lightweight package for tracking the environmental impact of ML workloads."
   ]
  },
  {
   "cell_type": "code",
   "execution_count": 0,
   "metadata": {
    "application/vnd.databricks.v1+cell": {
     "cellMetadata": {
      "byteLimit": 2048000,
      "rowLimit": 10000
     },
     "inputWidgets": {},
     "nuid": "dc875119-b433-4f67-b2b5-a0aeb42dfaba",
     "showTitle": false,
     "tableResultSettingsMap": {},
     "title": ""
    }
   },
   "outputs": [
    {
     "output_type": "stream",
     "name": "stdout",
     "output_type": "stream",
     "text": [
      "Collecting codecarbon\n  Downloading codecarbon-3.0.2-py3-none-any.whl.metadata (9.1 kB)\nCollecting arrow (from codecarbon)\n  Downloading arrow-1.3.0-py3-none-any.whl.metadata (7.5 kB)\nRequirement already satisfied: click in /local_disk0/.ephemeral_nfs/envs/pythonEnv-e19f1c5b-5876-466c-a06e-46e9c83cc49b/lib/python3.11/site-packages (from codecarbon) (8.2.1)\nCollecting fief-client[cli] (from codecarbon)\n  Downloading fief_client-0.20.0-py3-none-any.whl.metadata (2.1 kB)\nRequirement already satisfied: pandas in /databricks/python3/lib/python3.11/site-packages (from codecarbon) (1.5.3)\nCollecting prometheus-client (from codecarbon)\n  Downloading prometheus_client-0.22.1-py3-none-any.whl.metadata (1.9 kB)\nCollecting psutil>=6.0.0 (from codecarbon)\n  Downloading psutil-7.0.0-cp36-abi3-manylinux_2_17_aarch64.manylinux2014_aarch64.whl.metadata (22 kB)\nCollecting py-cpuinfo (from codecarbon)\n  Downloading py_cpuinfo-9.0.0-py3-none-any.whl.metadata (794 bytes)\nRequirement already satisfied: pydantic in /local_disk0/.ephemeral_nfs/envs/pythonEnv-e19f1c5b-5876-466c-a06e-46e9c83cc49b/lib/python3.11/site-packages (from codecarbon) (2.11.7)\nCollecting pynvml (from codecarbon)\n  Downloading pynvml-12.0.0-py3-none-any.whl.metadata (5.4 kB)\nCollecting questionary (from codecarbon)\n  Downloading questionary-2.1.0-py3-none-any.whl.metadata (5.4 kB)\nCollecting rapidfuzz (from codecarbon)\n  Downloading rapidfuzz-3.13.0-cp311-cp311-manylinux_2_17_aarch64.manylinux2014_aarch64.whl.metadata (12 kB)\nRequirement already satisfied: requests in /databricks/python3/lib/python3.11/site-packages (from codecarbon) (2.31.0)\nCollecting rich (from codecarbon)\n  Downloading rich-14.0.0-py3-none-any.whl.metadata (18 kB)\nCollecting typer (from codecarbon)\n  Downloading typer-0.16.0-py3-none-any.whl.metadata (15 kB)\nRequirement already satisfied: python-dateutil>=2.7.0 in /databricks/python3/lib/python3.11/site-packages (from arrow->codecarbon) (2.8.2)\nCollecting types-python-dateutil>=2.8.10 (from arrow->codecarbon)\n  Downloading types_python_dateutil-2.9.0.20250708-py3-none-any.whl.metadata (1.9 kB)\nCollecting httpx<0.28.0,>=0.21.3 (from fief-client[cli]->codecarbon)\n  Downloading httpx-0.27.2-py3-none-any.whl.metadata (7.1 kB)\nCollecting jwcrypto<2.0.0,>=1.4 (from fief-client[cli]->codecarbon)\n  Downloading jwcrypto-1.5.6-py3-none-any.whl.metadata (3.1 kB)\nCollecting yaspin (from fief-client[cli]->codecarbon)\n  Downloading yaspin-3.1.0-py3-none-any.whl.metadata (14 kB)\nRequirement already satisfied: pytz>=2020.1 in /databricks/python3/lib/python3.11/site-packages (from pandas->codecarbon) (2022.7)\nRequirement already satisfied: numpy>=1.21.0 in /databricks/python3/lib/python3.11/site-packages (from pandas->codecarbon) (1.23.5)\nRequirement already satisfied: annotated-types>=0.6.0 in /local_disk0/.ephemeral_nfs/envs/pythonEnv-e19f1c5b-5876-466c-a06e-46e9c83cc49b/lib/python3.11/site-packages (from pydantic->codecarbon) (0.7.0)\nRequirement already satisfied: pydantic-core==2.33.2 in /local_disk0/.ephemeral_nfs/envs/pythonEnv-e19f1c5b-5876-466c-a06e-46e9c83cc49b/lib/python3.11/site-packages (from pydantic->codecarbon) (2.33.2)\nRequirement already satisfied: typing-extensions>=4.12.2 in /local_disk0/.ephemeral_nfs/envs/pythonEnv-e19f1c5b-5876-466c-a06e-46e9c83cc49b/lib/python3.11/site-packages (from pydantic->codecarbon) (4.14.1)\nRequirement already satisfied: typing-inspection>=0.4.0 in /local_disk0/.ephemeral_nfs/envs/pythonEnv-e19f1c5b-5876-466c-a06e-46e9c83cc49b/lib/python3.11/site-packages (from pydantic->codecarbon) (0.4.1)\nCollecting nvidia-ml-py<13.0.0a0,>=12.0.0 (from pynvml->codecarbon)\n  Downloading nvidia_ml_py-12.575.51-py3-none-any.whl.metadata (9.3 kB)\nRequirement already satisfied: prompt_toolkit<4.0,>=2.0 in /databricks/python3/lib/python3.11/site-packages (from questionary->codecarbon) (3.0.48)\nRequirement already satisfied: charset-normalizer<4,>=2 in /databricks/python3/lib/python3.11/site-packages (from requests->codecarbon) (2.0.4)\nRequirement already satisfied: idna<4,>=2.5 in /databricks/python3/lib/python3.11/site-packages (from requests->codecarbon) (3.4)\nRequirement already satisfied: urllib3<3,>=1.21.1 in /local_disk0/.ephemeral_nfs/envs/pythonEnv-e19f1c5b-5876-466c-a06e-46e9c83cc49b/lib/python3.11/site-packages (from requests->codecarbon) (2.0.7)\nRequirement already satisfied: certifi>=2017.4.17 in /databricks/python3/lib/python3.11/site-packages (from requests->codecarbon) (2023.7.22)\nCollecting markdown-it-py>=2.2.0 (from rich->codecarbon)\n  Downloading markdown_it_py-3.0.0-py3-none-any.whl.metadata (6.9 kB)\nRequirement already satisfied: pygments<3.0.0,>=2.13.0 in /databricks/python3/lib/python3.11/site-packages (from rich->codecarbon) (2.15.1)\nCollecting shellingham>=1.3.0 (from typer->codecarbon)\n  Downloading shellingham-1.5.4-py2.py3-none-any.whl.metadata (3.5 kB)\nRequirement already satisfied: anyio in /local_disk0/.ephemeral_nfs/envs/pythonEnv-e19f1c5b-5876-466c-a06e-46e9c83cc49b/lib/python3.11/site-packages (from httpx<0.28.0,>=0.21.3->fief-client[cli]->codecarbon) (4.9.0)\nCollecting httpcore==1.* (from httpx<0.28.0,>=0.21.3->fief-client[cli]->codecarbon)\n  Downloading httpcore-1.0.9-py3-none-any.whl.metadata (21 kB)\nRequirement already satisfied: sniffio in /local_disk0/.ephemeral_nfs/envs/pythonEnv-e19f1c5b-5876-466c-a06e-46e9c83cc49b/lib/python3.11/site-packages (from httpx<0.28.0,>=0.21.3->fief-client[cli]->codecarbon) (1.3.1)\nRequirement already satisfied: h11>=0.16 in /local_disk0/.ephemeral_nfs/envs/pythonEnv-e19f1c5b-5876-466c-a06e-46e9c83cc49b/lib/python3.11/site-packages (from httpcore==1.*->httpx<0.28.0,>=0.21.3->fief-client[cli]->codecarbon) (0.16.0)\nRequirement already satisfied: cryptography>=3.4 in /databricks/python3/lib/python3.11/site-packages (from jwcrypto<2.0.0,>=1.4->fief-client[cli]->codecarbon) (41.0.3)\nCollecting mdurl~=0.1 (from markdown-it-py>=2.2.0->rich->codecarbon)\n  Downloading mdurl-0.1.2-py3-none-any.whl.metadata (1.6 kB)\nRequirement already satisfied: wcwidth in /databricks/python3/lib/python3.11/site-packages (from prompt_toolkit<4.0,>=2.0->questionary->codecarbon) (0.2.5)\nRequirement already satisfied: six>=1.5 in /usr/lib/python3/dist-packages (from python-dateutil>=2.7.0->arrow->codecarbon) (1.16.0)\nCollecting termcolor<2.4.0,>=2.2.0 (from yaspin->fief-client[cli]->codecarbon)\n  Downloading termcolor-2.3.0-py3-none-any.whl.metadata (5.3 kB)\nRequirement already satisfied: cffi>=1.12 in /databricks/python3/lib/python3.11/site-packages (from cryptography>=3.4->jwcrypto<2.0.0,>=1.4->fief-client[cli]->codecarbon) (1.15.1)\nRequirement already satisfied: pycparser in /databricks/python3/lib/python3.11/site-packages (from cffi>=1.12->cryptography>=3.4->jwcrypto<2.0.0,>=1.4->fief-client[cli]->codecarbon) (2.21)\nDownloading codecarbon-3.0.2-py3-none-any.whl (610 kB)\n\u001B[?25l   \u001B[90m━━━━━━━━━━━━━━━━━━━━━━━━━━━━━━━━━━━━━━━━\u001B[0m \u001B[32m0.0/610.1 kB\u001B[0m \u001B[31m?\u001B[0m eta \u001B[36m-:--:--\u001B[0m\n\u001B[2K   \u001B[90m━━━━━━━━━━━━━━━━━━━━━━━━━━━━━━━━━━━━━━━━\u001B[0m \u001B[32m610.1/610.1 kB\u001B[0m \u001B[31m17.4 MB/s\u001B[0m eta \u001B[36m0:00:00\u001B[0m\n\u001B[?25hDownloading psutil-7.0.0-cp36-abi3-manylinux_2_17_aarch64.manylinux2014_aarch64.whl (279 kB)\nDownloading arrow-1.3.0-py3-none-any.whl (66 kB)\nDownloading prometheus_client-0.22.1-py3-none-any.whl (58 kB)\nDownloading py_cpuinfo-9.0.0-py3-none-any.whl (22 kB)\nDownloading pynvml-12.0.0-py3-none-any.whl (26 kB)\nDownloading questionary-2.1.0-py3-none-any.whl (36 kB)\nDownloading rapidfuzz-3.13.0-cp311-cp311-manylinux_2_17_aarch64.manylinux2014_aarch64.whl (1.4 MB)\n\u001B[?25l   \u001B[90m━━━━━━━━━━━━━━━━━━━━━━━━━━━━━━━━━━━━━━━━\u001B[0m \u001B[32m0.0/1.4 MB\u001B[0m \u001B[31m?\u001B[0m eta \u001B[36m-:--:--\u001B[0m\n\u001B[2K   \u001B[90m━━━━━━━━━━━━━━━━━━━━━━━━━━━━━━━━━━━━━━━━\u001B[0m \u001B[32m1.4/1.4 MB\u001B[0m \u001B[31m56.8 MB/s\u001B[0m eta \u001B[36m0:00:00\u001B[0m\n\u001B[?25hDownloading rich-14.0.0-py3-none-any.whl (243 kB)\nDownloading typer-0.16.0-py3-none-any.whl (46 kB)\nDownloading httpx-0.27.2-py3-none-any.whl (76 kB)\nDownloading httpcore-1.0.9-py3-none-any.whl (78 kB)\nDownloading jwcrypto-1.5.6-py3-none-any.whl (92 kB)\nDownloading markdown_it_py-3.0.0-py3-none-any.whl (87 kB)\nDownloading nvidia_ml_py-12.575.51-py3-none-any.whl (47 kB)\nDownloading shellingham-1.5.4-py2.py3-none-any.whl (9.8 kB)\nDownloading types_python_dateutil-2.9.0.20250708-py3-none-any.whl (17 kB)\nDownloading fief_client-0.20.0-py3-none-any.whl (20 kB)\nDownloading yaspin-3.1.0-py3-none-any.whl (18 kB)\nDownloading mdurl-0.1.2-py3-none-any.whl (10.0 kB)\nDownloading termcolor-2.3.0-py3-none-any.whl (6.9 kB)\nInstalling collected packages: py-cpuinfo, nvidia-ml-py, types-python-dateutil, termcolor, shellingham, rapidfuzz, pynvml, psutil, prometheus-client, mdurl, httpcore, yaspin, questionary, markdown-it-py, httpx, arrow, rich, jwcrypto, typer, fief-client, codecarbon\n  Attempting uninstall: psutil\n    Found existing installation: psutil 5.9.0\n    Not uninstalling psutil at /databricks/python3/lib/python3.11/site-packages, outside environment /local_disk0/.ephemeral_nfs/envs/pythonEnv-e19f1c5b-5876-466c-a06e-46e9c83cc49b\n    Can't uninstall 'psutil'. No files were found to uninstall.\nSuccessfully installed arrow-1.3.0 codecarbon-3.0.2 fief-client-0.20.0 httpcore-1.0.9 httpx-0.27.2 jwcrypto-1.5.6 markdown-it-py-3.0.0 mdurl-0.1.2 nvidia-ml-py-12.575.51 prometheus-client-0.22.1 psutil-7.0.0 py-cpuinfo-9.0.0 pynvml-12.0.0 questionary-2.1.0 rapidfuzz-3.13.0 rich-14.0.0 shellingham-1.5.4 termcolor-2.3.0 typer-0.16.0 types-python-dateutil-2.9.0.20250708 yaspin-3.1.0\n\u001B[43mNote: you may need to restart the kernel using %restart_python or dbutils.library.restartPython() to use updated packages.\u001B[0m\n"
     ]
    }
   ],
   "source": [
    "# Install CodeCarbon\n",
    "\n",
    "%pip install codecarbon\n"
   ]
  },
  {
   "cell_type": "code",
   "execution_count": 0,
   "metadata": {
    "application/vnd.databricks.v1+cell": {
     "cellMetadata": {
      "byteLimit": 2048000,
      "rowLimit": 10000
     },
     "inputWidgets": {},
     "nuid": "95db9630-00d2-4b34-941a-846ba16cb10f",
     "showTitle": false,
     "tableResultSettingsMap": {},
     "title": ""
    }
   },
   "outputs": [],
   "source": [
    "from codecarbon import EmissionsTracker"
   ]
  },
  {
   "cell_type": "code",
   "execution_count": 0,
   "metadata": {
    "application/vnd.databricks.v1+cell": {
     "cellMetadata": {
      "byteLimit": 2048000,
      "rowLimit": 10000
     },
     "inputWidgets": {},
     "nuid": "33e8309a-eb5f-475a-a046-46b25e0e5dc8",
     "showTitle": false,
     "tableResultSettingsMap": {},
     "title": ""
    }
   },
   "outputs": [
    {
     "output_type": "execute_result",
     "data": {
      "text/plain": [
       "'/local_disk0/.ephemeral_nfs/envs/pythonEnv-e19f1c5b-5876-466c-a06e-46e9c83cc49b/lib/python3.11/site-packages/codecarbon/__init__.py'"
      ]
     },
     "execution_count": 31,
     "metadata": {},
     "output_type": "execute_result"
    }
   ],
   "source": [
    "import codecarbon\n",
    "codecarbon.__file__"
   ]
  },
  {
   "cell_type": "markdown",
   "metadata": {
    "application/vnd.databricks.v1+cell": {
     "cellMetadata": {},
     "inputWidgets": {},
     "nuid": "636912ec-6403-4ba7-bcb1-8e1b820a10ea",
     "showTitle": false,
     "tableResultSettingsMap": {},
     "title": ""
    }
   },
   "source": [
    "my CodeCarbon path is:\n",
    "\n",
    "/local_disk0/.ephemeral_nfs/envs/pythonEnv-e19f1c5b-5876-466c-a06e-46e9c83cc49b/lib/python3.11/site-packages/codecarbon"
   ]
  },
  {
   "cell_type": "code",
   "execution_count": 0,
   "metadata": {
    "application/vnd.databricks.v1+cell": {
     "cellMetadata": {
      "byteLimit": 2048000,
      "rowLimit": 10000
     },
     "inputWidgets": {},
     "nuid": "f36bd2e1-cb40-4123-a7ed-a583ee4127df",
     "showTitle": false,
     "tableResultSettingsMap": {},
     "title": ""
    }
   },
   "outputs": [],
   "source": [
    "from codecarbon import EmissionsTracker\n",
    "from sklearn.ensemble import RandomForestRegressor\n",
    "from sklearn.metrics import mean_squared_error, r2_score\n",
    "import mlflow\n",
    "import mlflow.sklearn\n",
    "\n",
    "def train_with_emissions_tracking(X_train, X_test, y_train, y_test, features, max_depth, n_estimators, run_name):\n",
    "    # \uD83D\uDCA1 Prevent overlapping MLflow runs\n",
    "    if mlflow.active_run():\n",
    "        mlflow.end_run()\n",
    "\n",
    "    tracker = EmissionsTracker(project_name=run_name, output_dir=\"emissions\", output_file=f\"{run_name}_emissions.csv\")\n",
    "    tracker.start()\n",
    "\n",
    "    model = RandomForestRegressor(max_depth=max_depth, n_estimators=n_estimators, random_state=42)\n",
    "    model.fit(X_train, y_train)\n",
    "    preds = model.predict(X_test)\n",
    "\n",
    "    emissions = tracker.stop()\n",
    "\n",
    "    rmse = mean_squared_error(y_test, preds, squared=False)\n",
    "    r2 = r2_score(y_test, preds)\n",
    "\n",
    "    mlflow.start_run(run_name=run_name)\n",
    "    mlflow.log_params({\n",
    "        \"features\": features,\n",
    "        \"max_depth\": max_depth,\n",
    "        \"n_estimators\": n_estimators\n",
    "    })\n",
    "    mlflow.log_metrics({\n",
    "        \"rmse\": rmse,\n",
    "        \"r2\": r2,\n",
    "        \"emissions_kg\": emissions or 0\n",
    "    })\n",
    "    mlflow.sklearn.log_model(model, \"rf-model\")\n",
    "    mlflow.end_run()\n",
    "\n",
    "    print(f\"{run_name} → RMSE: {rmse:.2f}, R2: {r2:.2f}, Emissions: {emissions:.6f} kg CO2eq\")\n",
    "    return model, preds, emissions"
   ]
  },
  {
   "cell_type": "code",
   "execution_count": 0,
   "metadata": {
    "application/vnd.databricks.v1+cell": {
     "cellMetadata": {
      "byteLimit": 2048000,
      "rowLimit": 10000
     },
     "inputWidgets": {},
     "nuid": "e421ab5a-7c4d-4b98-b39a-7c33f4534fb8",
     "showTitle": false,
     "tableResultSettingsMap": {},
     "title": ""
    }
   },
   "outputs": [],
   "source": [
    "# Re-run All 4 Experiments with Emission Tracking\n",
    "\n",
    "from sklearn.model_selection import train_test_split\n",
    "\n",
    "# V1\n",
    "X1 = train_df_v1_pd[features_v1]\n",
    "y1 = train_df_v1_pd[\"total_lift\"]\n",
    "X1_train, X1_test, y1_train, y1_test = train_test_split(X1, y1, test_size=0.2, random_state=42)\n",
    "\n",
    "# V2\n",
    "X2 = train_df_v2_pd[features_v2]\n",
    "y2 = train_df_v2_pd[\"total_lift\"]\n",
    "X2_train, X2_test, y2_train, y2_test = train_test_split(X2, y2, test_size=0.2, random_state=42)"
   ]
  },
  {
   "cell_type": "code",
   "execution_count": 0,
   "metadata": {
    "application/vnd.databricks.v1+cell": {
     "cellMetadata": {
      "byteLimit": 2048000,
      "rowLimit": 10000
     },
     "inputWidgets": {},
     "nuid": "fab35857-3c4c-43cc-897e-ba2675ae8ae0",
     "showTitle": false,
     "tableResultSettingsMap": {},
     "title": ""
    }
   },
   "outputs": [
    {
     "output_type": "stream",
     "name": "stderr",
     "output_type": "stream",
     "text": [
      "[codecarbon WARNING @ 16:14:22] Multiple instances of codecarbon are allowed to run at the same time.\n[codecarbon WARNING @ 16:14:22] Error while trying to count physical CPUs: invalid literal for int() with base 10: '-'. Defaulting to 1.\n[codecarbon INFO @ 16:14:22] [setup] RAM Tracking...\n[codecarbon INFO @ 16:14:23] [setup] CPU Tracking...\n[codecarbon WARNING @ 16:14:23] We were unable to detect your CPU using the `cpuinfo` package. Resorting to a default power consumption.\n[codecarbon WARNING @ 16:14:23] No CPU tracking mode found. Falling back on estimation based on TDP for CPU. \n Linux OS detected: Please ensure RAPL files exist at /sys/class/powercap/intel-rapl/subsystem to measure CPU\n\n[codecarbon INFO @ 16:14:23] CPU Model on constant consumption mode: Unknown\n[codecarbon WARNING @ 16:14:23] No CPU tracking mode found. Falling back on CPU load mode.\n[codecarbon INFO @ 16:14:23] [setup] GPU Tracking...\n[codecarbon INFO @ 16:14:23] No GPU found.\n[codecarbon INFO @ 16:14:23] The below tracking methods have been set up:\n                RAM Tracking Method: RAM power estimation model\n                CPU Tracking Method: cpu_load\n                GPU Tracking Method: Unspecified\n            \n[codecarbon INFO @ 16:14:23] >>> Tracker's metadata:\n[codecarbon INFO @ 16:14:23]   Platform system: Linux-5.15.0-1072-aws-aarch64-with-glibc2.35\n[codecarbon INFO @ 16:14:23]   Python version: 3.11.10\n[codecarbon INFO @ 16:14:23]   CodeCarbon version: 3.0.2\n[codecarbon INFO @ 16:14:23]   Available RAM : 15.315 GB\n[codecarbon INFO @ 16:14:23]   CPU count: 2 thread(s) in 1 physical CPU(s)\n[codecarbon INFO @ 16:14:23]   CPU model: Unknown\n[codecarbon INFO @ 16:14:23]   GPU count: None\n[codecarbon INFO @ 16:14:23]   GPU model: None\n[codecarbon INFO @ 16:14:23] Emissions data (if any) will be saved to file /Workspace/Users/gongl@uchicago.edu/emissions/V1_HP1_EM_emissions.csv\n[codecarbon INFO @ 16:14:23] Energy consumed for RAM : 0.000001 kWh. RAM Power : 3.0 W\n[codecarbon INFO @ 16:14:24] Delta energy consumed for CPU with cpu_load : 0.000003 kWh, power : 17.169999999999998 W\n[codecarbon INFO @ 16:14:24] Energy consumed for All CPU : 0.000003 kWh\n[codecarbon INFO @ 16:14:24] 0.000004 kWh of electricity used since the beginning.\n2025/07/13 16:14:25 WARNING mlflow.models.model: `artifact_path` is deprecated. Please use `name` instead.\n\uD83D\uDD17 View Logged Model at: https://dbc-930867b3-553d.cloud.databricks.com/ml/experiments/224962478098570/models/m-54fec8f903cd4c5087145c1426a55b10?o=1640771898437172\n\u001B[31m2025/07/13 16:14:28 WARNING mlflow.models.model: Model logged without a signature and input example. Please set `input_example` parameter when logging the model to auto infer the model signature.\u001B[0m\n[codecarbon WARNING @ 16:14:29] Multiple instances of codecarbon are allowed to run at the same time.\n[codecarbon WARNING @ 16:14:29] Error while trying to count physical CPUs: invalid literal for int() with base 10: '-'. Defaulting to 1.\n[codecarbon INFO @ 16:14:29] [setup] RAM Tracking...\n[codecarbon INFO @ 16:14:29] [setup] CPU Tracking...\n[codecarbon WARNING @ 16:14:29] We were unable to detect your CPU using the `cpuinfo` package. Resorting to a default power consumption.\n[codecarbon WARNING @ 16:14:29] No CPU tracking mode found. Falling back on estimation based on TDP for CPU. \n Linux OS detected: Please ensure RAPL files exist at /sys/class/powercap/intel-rapl/subsystem to measure CPU\n\n[codecarbon INFO @ 16:14:29] CPU Model on constant consumption mode: Unknown\n[codecarbon WARNING @ 16:14:29] No CPU tracking mode found. Falling back on CPU load mode.\n[codecarbon INFO @ 16:14:29] [setup] GPU Tracking...\n[codecarbon INFO @ 16:14:29] No GPU found.\n[codecarbon INFO @ 16:14:29] The below tracking methods have been set up:\n                RAM Tracking Method: RAM power estimation model\n                CPU Tracking Method: cpu_load\n                GPU Tracking Method: Unspecified\n            \n[codecarbon INFO @ 16:14:29] >>> Tracker's metadata:\n[codecarbon INFO @ 16:14:29]   Platform system: Linux-5.15.0-1072-aws-aarch64-with-glibc2.35\n[codecarbon INFO @ 16:14:30]   Python version: 3.11.10\n[codecarbon INFO @ 16:14:30]   CodeCarbon version: 3.0.2\n[codecarbon INFO @ 16:14:30]   Available RAM : 15.315 GB\n[codecarbon INFO @ 16:14:30]   CPU count: 2 thread(s) in 1 physical CPU(s)\n[codecarbon INFO @ 16:14:30]   CPU model: Unknown\n[codecarbon INFO @ 16:14:30]   GPU count: None\n[codecarbon INFO @ 16:14:30]   GPU model: None\n"
     ]
    },
    {
     "output_type": "stream",
     "name": "stdout",
     "output_type": "stream",
     "text": [
      "V1_HP1_EM → RMSE: 188.07, R2: 0.53, Emissions: 0.000003 kg CO2eq\n"
     ]
    },
    {
     "output_type": "stream",
     "name": "stderr",
     "output_type": "stream",
     "text": [
      "[codecarbon INFO @ 16:14:30] Emissions data (if any) will be saved to file /Workspace/Users/gongl@uchicago.edu/emissions/V1_HP2_EM_emissions.csv\n[codecarbon INFO @ 16:14:31] Energy consumed for RAM : 0.000001 kWh. RAM Power : 3.0 W\n[codecarbon INFO @ 16:14:31] Delta energy consumed for CPU with cpu_load : 0.000009 kWh, power : 24.395 W\n[codecarbon INFO @ 16:14:31] Energy consumed for All CPU : 0.000009 kWh\n[codecarbon INFO @ 16:14:31] 0.000010 kWh of electricity used since the beginning.\n2025/07/13 16:14:32 WARNING mlflow.models.model: `artifact_path` is deprecated. Please use `name` instead.\n\uD83D\uDD17 View Logged Model at: https://dbc-930867b3-553d.cloud.databricks.com/ml/experiments/224962478098570/models/m-ba8ee5b73bbe4a1eba110df3adc4779f?o=1640771898437172\n\u001B[31m2025/07/13 16:14:35 WARNING mlflow.models.model: Model logged without a signature and input example. Please set `input_example` parameter when logging the model to auto infer the model signature.\u001B[0m\n[codecarbon WARNING @ 16:14:36] Multiple instances of codecarbon are allowed to run at the same time.\n[codecarbon WARNING @ 16:14:36] Error while trying to count physical CPUs: invalid literal for int() with base 10: '-'. Defaulting to 1.\n[codecarbon INFO @ 16:14:36] [setup] RAM Tracking...\n[codecarbon INFO @ 16:14:36] [setup] CPU Tracking...\n[codecarbon WARNING @ 16:14:36] We were unable to detect your CPU using the `cpuinfo` package. Resorting to a default power consumption.\n[codecarbon WARNING @ 16:14:36] No CPU tracking mode found. Falling back on estimation based on TDP for CPU. \n Linux OS detected: Please ensure RAPL files exist at /sys/class/powercap/intel-rapl/subsystem to measure CPU\n\n[codecarbon INFO @ 16:14:36] CPU Model on constant consumption mode: Unknown\n[codecarbon WARNING @ 16:14:36] No CPU tracking mode found. Falling back on CPU load mode.\n[codecarbon INFO @ 16:14:36] [setup] GPU Tracking...\n[codecarbon INFO @ 16:14:36] No GPU found.\n[codecarbon INFO @ 16:14:36] The below tracking methods have been set up:\n                RAM Tracking Method: RAM power estimation model\n                CPU Tracking Method: cpu_load\n                GPU Tracking Method: Unspecified\n            \n[codecarbon INFO @ 16:14:36] >>> Tracker's metadata:\n[codecarbon INFO @ 16:14:36]   Platform system: Linux-5.15.0-1072-aws-aarch64-with-glibc2.35\n[codecarbon INFO @ 16:14:36]   Python version: 3.11.10\n[codecarbon INFO @ 16:14:36]   CodeCarbon version: 3.0.2\n[codecarbon INFO @ 16:14:36]   Available RAM : 15.315 GB\n[codecarbon INFO @ 16:14:36]   CPU count: 2 thread(s) in 1 physical CPU(s)\n[codecarbon INFO @ 16:14:36]   CPU model: Unknown\n[codecarbon INFO @ 16:14:36]   GPU count: None\n[codecarbon INFO @ 16:14:36]   GPU model: None\n"
     ]
    },
    {
     "output_type": "stream",
     "name": "stdout",
     "output_type": "stream",
     "text": [
      "V1_HP2_EM → RMSE: 185.57, R2: 0.54, Emissions: 0.000007 kg CO2eq\n"
     ]
    },
    {
     "output_type": "stream",
     "name": "stderr",
     "output_type": "stream",
     "text": [
      "[codecarbon INFO @ 16:14:36] Emissions data (if any) will be saved to file /Workspace/Users/gongl@uchicago.edu/emissions/V2_HP1_EM_emissions.csv\n[codecarbon INFO @ 16:14:37] Energy consumed for RAM : 0.000001 kWh. RAM Power : 3.0 W\n[codecarbon INFO @ 16:14:38] Delta energy consumed for CPU with cpu_load : 0.000004 kWh, power : 21.930000000000007 W\n[codecarbon INFO @ 16:14:38] Energy consumed for All CPU : 0.000004 kWh\n[codecarbon INFO @ 16:14:38] 0.000004 kWh of electricity used since the beginning.\n2025/07/13 16:14:38 WARNING mlflow.models.model: `artifact_path` is deprecated. Please use `name` instead.\n\uD83D\uDD17 View Logged Model at: https://dbc-930867b3-553d.cloud.databricks.com/ml/experiments/224962478098570/models/m-5ad6c4bd79334258bec18eb76d81f3aa?o=1640771898437172\n\u001B[31m2025/07/13 16:14:41 WARNING mlflow.models.model: Model logged without a signature and input example. Please set `input_example` parameter when logging the model to auto infer the model signature.\u001B[0m\n[codecarbon WARNING @ 16:14:42] Multiple instances of codecarbon are allowed to run at the same time.\n[codecarbon WARNING @ 16:14:42] Error while trying to count physical CPUs: invalid literal for int() with base 10: '-'. Defaulting to 1.\n[codecarbon INFO @ 16:14:42] [setup] RAM Tracking...\n[codecarbon INFO @ 16:14:42] [setup] CPU Tracking...\n[codecarbon WARNING @ 16:14:42] We were unable to detect your CPU using the `cpuinfo` package. Resorting to a default power consumption.\n[codecarbon WARNING @ 16:14:42] No CPU tracking mode found. Falling back on estimation based on TDP for CPU. \n Linux OS detected: Please ensure RAPL files exist at /sys/class/powercap/intel-rapl/subsystem to measure CPU\n\n[codecarbon INFO @ 16:14:42] CPU Model on constant consumption mode: Unknown\n[codecarbon WARNING @ 16:14:42] No CPU tracking mode found. Falling back on CPU load mode.\n[codecarbon INFO @ 16:14:42] [setup] GPU Tracking...\n[codecarbon INFO @ 16:14:42] No GPU found.\n[codecarbon INFO @ 16:14:42] The below tracking methods have been set up:\n                RAM Tracking Method: RAM power estimation model\n                CPU Tracking Method: cpu_load\n                GPU Tracking Method: Unspecified\n            \n[codecarbon INFO @ 16:14:42] >>> Tracker's metadata:\n[codecarbon INFO @ 16:14:42]   Platform system: Linux-5.15.0-1072-aws-aarch64-with-glibc2.35\n[codecarbon INFO @ 16:14:42]   Python version: 3.11.10\n[codecarbon INFO @ 16:14:42]   CodeCarbon version: 3.0.2\n[codecarbon INFO @ 16:14:42]   Available RAM : 15.315 GB\n[codecarbon INFO @ 16:14:42]   CPU count: 2 thread(s) in 1 physical CPU(s)\n[codecarbon INFO @ 16:14:42]   CPU model: Unknown\n[codecarbon INFO @ 16:14:42]   GPU count: None\n[codecarbon INFO @ 16:14:42]   GPU model: None\n"
     ]
    },
    {
     "output_type": "stream",
     "name": "stdout",
     "output_type": "stream",
     "text": [
      "V2_HP1_EM → RMSE: 179.08, R2: 0.59, Emissions: 0.000003 kg CO2eq\n"
     ]
    },
    {
     "output_type": "stream",
     "name": "stderr",
     "output_type": "stream",
     "text": [
      "[codecarbon INFO @ 16:14:43] Emissions data (if any) will be saved to file /Workspace/Users/gongl@uchicago.edu/emissions/V2_HP2_EM_emissions.csv\n[codecarbon INFO @ 16:14:44] Energy consumed for RAM : 0.000001 kWh. RAM Power : 3.0 W\n[codecarbon INFO @ 16:14:44] Delta energy consumed for CPU with cpu_load : 0.000011 kWh, power : 35.02 W\n[codecarbon INFO @ 16:14:44] Energy consumed for All CPU : 0.000011 kWh\n[codecarbon INFO @ 16:14:44] 0.000012 kWh of electricity used since the beginning.\n2025/07/13 16:14:45 WARNING mlflow.models.model: `artifact_path` is deprecated. Please use `name` instead.\n\uD83D\uDD17 View Logged Model at: https://dbc-930867b3-553d.cloud.databricks.com/ml/experiments/224962478098570/models/m-7946f224187244e7ae37eacc0ac7b25e?o=1640771898437172\n\u001B[31m2025/07/13 16:14:48 WARNING mlflow.models.model: Model logged without a signature and input example. Please set `input_example` parameter when logging the model to auto infer the model signature.\u001B[0m\n"
     ]
    },
    {
     "output_type": "stream",
     "name": "stdout",
     "output_type": "stream",
     "text": [
      "V2_HP2_EM → RMSE: 178.85, R2: 0.59, Emissions: 0.000008 kg CO2eq\n"
     ]
    }
   ],
   "source": [
    "# Run 4 tracked trainings\n",
    "\n",
    "results_emissions = []\n",
    "\n",
    "# Run 4 experiments\n",
    "model_v1_hp1, preds_v1_hp1, e1 = train_with_emissions_tracking(X1_train, X1_test, y1_train, y1_test, features_v1, 5, 20, \"V1_HP1_EM\")\n",
    "results_emissions.append({\"Run Name\": \"V1_HP1\", \"Feature Set\": \"V1\", \"maxDepth\": 5, \"numTrees\": 20, \"Emissions (kg)\": e1})\n",
    "\n",
    "model_v1_hp2, preds_v1_hp2, e2 = train_with_emissions_tracking(X1_train, X1_test, y1_train, y1_test, features_v1, 10, 50, \"V1_HP2_EM\")\n",
    "results_emissions.append({\"Run Name\": \"V1_HP2\", \"Feature Set\": \"V1\", \"maxDepth\": 10, \"numTrees\": 50, \"Emissions (kg)\": e2})\n",
    "\n",
    "model_v2_hp1, preds_v2_hp1, e3 = train_with_emissions_tracking(X2_train, X2_test, y2_train, y2_test, features_v2, 5, 20, \"V2_HP1_EM\")\n",
    "results_emissions.append({\"Run Name\": \"V2_HP1\", \"Feature Set\": \"V2\", \"maxDepth\": 5, \"numTrees\": 20, \"Emissions (kg)\": e3})\n",
    "\n",
    "model_v2_hp2, preds_v2_hp2, e4 = train_with_emissions_tracking(X2_train, X2_test, y2_train, y2_test, features_v2, 10, 50, \"V2_HP2_EM\")\n",
    "results_emissions.append({\"Run Name\": \"V2_HP2\", \"Feature Set\": \"V2\", \"maxDepth\": 10, \"numTrees\": 50, \"Emissions (kg)\": e4})"
   ]
  },
  {
   "cell_type": "code",
   "execution_count": 0,
   "metadata": {
    "application/vnd.databricks.v1+cell": {
     "cellMetadata": {
      "byteLimit": 2048000,
      "rowLimit": 10000
     },
     "inputWidgets": {},
     "nuid": "c67ab250-a06a-468c-8d42-825f5e8b88f8",
     "showTitle": false,
     "tableResultSettingsMap": {},
     "title": ""
    }
   },
   "outputs": [
    {
     "output_type": "display_data",
     "data": {
      "text/html": [
       "<style scoped>\n",
       "  .table-result-container {\n",
       "    max-height: 300px;\n",
       "    overflow: auto;\n",
       "  }\n",
       "  table, th, td {\n",
       "    border: 1px solid black;\n",
       "    border-collapse: collapse;\n",
       "  }\n",
       "  th, td {\n",
       "    padding: 5px;\n",
       "  }\n",
       "  th {\n",
       "    text-align: left;\n",
       "  }\n",
       "</style><div class='table-result-container'><table class='table-result'><thead style='background-color: white'><tr><th>Run Name</th><th>Feature Set</th><th>maxDepth</th><th>numTrees</th><th>Emissions (kg)</th></tr></thead><tbody><tr><td>V1_HP1</td><td>V1</td><td>5</td><td>20</td><td>2.567269422173553E-6</td></tr><tr><td>V1_HP2</td><td>V1</td><td>10</td><td>50</td><td>6.886965580704039E-6</td></tr><tr><td>V2_HP1</td><td>V2</td><td>5</td><td>20</td><td>2.9064320210684558E-6</td></tr><tr><td>V2_HP2</td><td>V2</td><td>10</td><td>50</td><td>7.888878725876327E-6</td></tr></tbody></table></div>"
      ]
     },
     "metadata": {
      "application/vnd.databricks.v1+output": {
       "addedWidgets": {},
       "aggData": [],
       "aggError": "",
       "aggOverflow": false,
       "aggSchema": [],
       "aggSeriesLimitReached": false,
       "aggType": "",
       "arguments": {},
       "columnCustomDisplayInfos": {},
       "data": [
        [
         "V1_HP1",
         "V1",
         5,
         20,
         2.567269422173553E-6
        ],
        [
         "V1_HP2",
         "V1",
         10,
         50,
         6.886965580704039E-6
        ],
        [
         "V2_HP1",
         "V2",
         5,
         20,
         2.9064320210684558E-6
        ],
        [
         "V2_HP2",
         "V2",
         10,
         50,
         7.888878725876327E-6
        ]
       ],
       "datasetInfos": [],
       "dbfsResultPath": null,
       "isJsonSchema": true,
       "metadata": {},
       "overflow": false,
       "plotOptions": {
        "customPlotOptions": {},
        "displayType": "table",
        "pivotAggregation": null,
        "pivotColumns": null,
        "xColumns": null,
        "yColumns": null
       },
       "removedWidgets": [],
       "schema": [
        {
         "metadata": "{}",
         "name": "Run Name",
         "type": "\"string\""
        },
        {
         "metadata": "{}",
         "name": "Feature Set",
         "type": "\"string\""
        },
        {
         "metadata": "{}",
         "name": "maxDepth",
         "type": "\"long\""
        },
        {
         "metadata": "{}",
         "name": "numTrees",
         "type": "\"long\""
        },
        {
         "metadata": "{}",
         "name": "Emissions (kg)",
         "type": "\"double\""
        }
       ],
       "type": "table"
      }
     },
     "output_type": "display_data"
    }
   ],
   "source": [
    "import pandas as pd\n",
    "\n",
    "emissions_df = pd.DataFrame(results_emissions)\n",
    "display(emissions_df)"
   ]
  },
  {
   "cell_type": "markdown",
   "metadata": {
    "application/vnd.databricks.v1+cell": {
     "cellMetadata": {},
     "inputWidgets": {},
     "nuid": "14dcf23e-3e8d-48d4-a0ed-a32dde0fc35c",
     "showTitle": false,
     "tableResultSettingsMap": {},
     "title": ""
    }
   },
   "source": [
    "### Plot + Log Emissions Chart"
   ]
  },
  {
   "cell_type": "code",
   "execution_count": 0,
   "metadata": {
    "application/vnd.databricks.v1+cell": {
     "cellMetadata": {
      "byteLimit": 2048000,
      "rowLimit": 10000
     },
     "inputWidgets": {},
     "nuid": "abb09c74-815b-4173-bd1e-10743db3d6cd",
     "showTitle": false,
     "tableResultSettingsMap": {},
     "title": ""
    }
   },
   "outputs": [
    {
     "output_type": "display_data",
     "data": {
      "image/png": "[encoded data removed]",
      "text/plain": [
       "<Figure size 600x400 with 1 Axes>"
      ]
     },
     "metadata": {},
     "output_type": "display_data"
    }
   ],
   "source": [
    "import matplotlib.pyplot as plt\n",
    "import tempfile\n",
    "import os\n",
    "import mlflow\n",
    "from matplotlib.figure import Figure\n",
    "\n",
    "# Utility function to save and log plot to MLflow\n",
    "def save_and_log_plot(fig: Figure, artifact_name: str):\n",
    "    with tempfile.TemporaryDirectory() as tmpdir:\n",
    "        file_path = os.path.join(tmpdir, f\"{artifact_name}.png\")\n",
    "        fig.savefig(file_path)\n",
    "        mlflow.log_artifact(file_path, artifact_path=\"plots\")\n",
    "\n",
    "# Create and log emissions plot\n",
    "fig, ax = plt.subplots(figsize=(6, 4))\n",
    "emissions_df.plot(x=\"Run Name\", y=\"Emissions (kg)\", kind=\"bar\", title=\"CO₂ Emissions per Run\", legend=False, ax=ax)\n",
    "ax.set_ylabel(\"Emissions (kg CO₂eq)\")\n",
    "ax.set_xlabel(\"Run\")\n",
    "ax.grid(axis='y')\n",
    "\n",
    "# Save and log to MLflow\n",
    "save_and_log_plot(fig, artifact_name=\"emissions_per_run\")\n",
    "\n",
    "# Show in notebook\n",
    "plt.show()\n",
    "plt.close(fig)"
   ]
  },
  {
   "cell_type": "markdown",
   "metadata": {
    "application/vnd.databricks.v1+cell": {
     "cellMetadata": {},
     "inputWidgets": {},
     "nuid": "08d30979-594e-4e5a-a21f-2590d47aa6d9",
     "showTitle": false,
     "tableResultSettingsMap": {},
     "title": ""
    }
   },
   "source": [
    "Summary:\n",
    "\n",
    "* **V2\\_HP2** (Feature Set V2, Depth 10, 50 trees) had the **highest emissions**.\n",
    "* **V1\\_HP1** (Feature Set V1, Depth 5, 20 trees) had the **lowest emissions**.\n",
    "* Emissions **increase** with **model complexity** (higher `maxDepth` and `numTrees`).\n",
    "* Feature Set **V2** tends to use **slightly more energy** than V1 at the same hyperparameter settings.\n",
    "\n",
    "**Insight**: Simpler models (shallower trees, fewer estimators) are more energy-efficient.\n"
   ]
  },
  {
   "cell_type": "markdown",
   "metadata": {
    "application/vnd.databricks.v1+cell": {
     "cellMetadata": {},
     "inputWidgets": {},
     "nuid": "fb156dda-d710-4552-bcfc-b5bf1c7a7194",
     "showTitle": false,
     "tableResultSettingsMap": {},
     "title": ""
    }
   },
   "source": []
  }
 ],
 "metadata": {
  "application/vnd.databricks.v1+notebook": {
   "computePreferences": null,
   "dashboards": [],
   "environmentMetadata": {
    "base_environment": "",
    "environment_version": "2"
   },
   "inputWidgetPreferences": null,
   "language": "python",
   "notebookMetadata": {
    "pythonIndentUnit": 4
   },
   "notebookName": "ML_OPS_Assignment2_Feature_Store_LG",
   "widgets": {}
  },
  "language_info": {
   "name": "python"
  }
 },
 "nbformat": 4,
 "nbformat_minor": 0
}